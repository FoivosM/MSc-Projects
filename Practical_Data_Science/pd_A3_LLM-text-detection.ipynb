{
 "cells": [
  {
   "cell_type": "code",
   "execution_count": 1,
   "metadata": {},
   "outputs": [],
   "source": [
    "import pandas as pd\n",
    "import numpy as np\n",
    "import matplotlib.pyplot as plt\n",
    "import seaborn as sns\n",
    "sns.set_theme()\n",
    "import warnings\n",
    "from sklearn.metrics import jaccard_score\n",
    "\n",
    "# Suppress FutureWarnings temporarily\n",
    "warnings.simplefilter(\"ignore\", category=FutureWarning)"
   ]
  },
  {
   "cell_type": "code",
   "execution_count": 2,
   "metadata": {},
   "outputs": [],
   "source": [
    "# !pip install gensim\n",
    "import time\n",
    "from tqdm.notebook import tqdm\n",
    "import gensim\n",
    "from gensim.models import FastText \n",
    "import nltk; #nltk.download('punkt')\n",
    "from nltk.tokenize import sent_tokenize, word_tokenize\n",
    "from sklearn.model_selection import train_test_split\n",
    "from sklearn.feature_extraction.text import CountVectorizer, TfidfVectorizer\n",
    "from sklearn.metrics import *\n",
    "from sklearn.metrics import ConfusionMatrixDisplay\n"
   ]
  },
  {
   "cell_type": "code",
   "execution_count": 3,
   "metadata": {},
   "outputs": [],
   "source": [
    "# Models\n",
    "from sklearn.linear_model import LogisticRegression\n",
    "from sklearn.metrics import f1_score, accuracy_score\n",
    "from sklearn.ensemble import RandomForestClassifier\n",
    "from sklearn.linear_model import LogisticRegression, SGDClassifier\n",
    "from sklearn.naive_bayes import ComplementNB\n",
    "from sklearn.neighbors import KNeighborsClassifier, NearestCentroid\n",
    "from sklearn.svm import LinearSVC\n",
    "from sklearn.linear_model import RidgeClassifier\n",
    "from time import time\n",
    "import re\n",
    "import warnings"
   ]
  },
  {
   "cell_type": "code",
   "execution_count": 4,
   "metadata": {},
   "outputs": [],
   "source": [
    "trainDF = pd.read_csv('data/data_raw/train_essays.csv')\n",
    "testDF = pd.read_csv('data/data_raw/test_essays.csv')\n",
    "promptsDF = pd.read_csv('data/data_raw/train_prompts.csv')"
   ]
  },
  {
   "cell_type": "code",
   "execution_count": 5,
   "metadata": {},
   "outputs": [
    {
     "data": {
      "text/html": [
       "<div>\n",
       "<style scoped>\n",
       "    .dataframe tbody tr th:only-of-type {\n",
       "        vertical-align: middle;\n",
       "    }\n",
       "\n",
       "    .dataframe tbody tr th {\n",
       "        vertical-align: top;\n",
       "    }\n",
       "\n",
       "    .dataframe thead th {\n",
       "        text-align: right;\n",
       "    }\n",
       "</style>\n",
       "<table border=\"1\" class=\"dataframe\">\n",
       "  <thead>\n",
       "    <tr style=\"text-align: right;\">\n",
       "      <th></th>\n",
       "      <th>id</th>\n",
       "      <th>prompt_id</th>\n",
       "      <th>text</th>\n",
       "      <th>generated</th>\n",
       "    </tr>\n",
       "  </thead>\n",
       "  <tbody>\n",
       "    <tr>\n",
       "      <th>0</th>\n",
       "      <td>0059830c</td>\n",
       "      <td>0</td>\n",
       "      <td>Cars. Cars have been around since they became ...</td>\n",
       "      <td>0</td>\n",
       "    </tr>\n",
       "    <tr>\n",
       "      <th>1</th>\n",
       "      <td>005db917</td>\n",
       "      <td>0</td>\n",
       "      <td>Transportation is a large necessity in most co...</td>\n",
       "      <td>0</td>\n",
       "    </tr>\n",
       "    <tr>\n",
       "      <th>2</th>\n",
       "      <td>008f63e3</td>\n",
       "      <td>0</td>\n",
       "      <td>\"America's love affair with it's vehicles seem...</td>\n",
       "      <td>0</td>\n",
       "    </tr>\n",
       "    <tr>\n",
       "      <th>3</th>\n",
       "      <td>00940276</td>\n",
       "      <td>0</td>\n",
       "      <td>How often do you ride in a car? Do you drive a...</td>\n",
       "      <td>0</td>\n",
       "    </tr>\n",
       "    <tr>\n",
       "      <th>4</th>\n",
       "      <td>00c39458</td>\n",
       "      <td>0</td>\n",
       "      <td>Cars are a wonderful thing. They are perhaps o...</td>\n",
       "      <td>0</td>\n",
       "    </tr>\n",
       "  </tbody>\n",
       "</table>\n",
       "</div>"
      ],
      "text/plain": [
       "         id  prompt_id                                               text  \\\n",
       "0  0059830c          0  Cars. Cars have been around since they became ...   \n",
       "1  005db917          0  Transportation is a large necessity in most co...   \n",
       "2  008f63e3          0  \"America's love affair with it's vehicles seem...   \n",
       "3  00940276          0  How often do you ride in a car? Do you drive a...   \n",
       "4  00c39458          0  Cars are a wonderful thing. They are perhaps o...   \n",
       "\n",
       "   generated  \n",
       "0          0  \n",
       "1          0  \n",
       "2          0  \n",
       "3          0  \n",
       "4          0  "
      ]
     },
     "execution_count": 5,
     "metadata": {},
     "output_type": "execute_result"
    }
   ],
   "source": [
    "trainDF.head()"
   ]
  },
  {
   "cell_type": "code",
   "execution_count": 132,
   "metadata": {},
   "outputs": [
    {
     "data": {
      "image/png": "[encoded data removed]",
      "text/plain": [
       "<Figure size 600x300 with 1 Axes>"
      ]
     },
     "metadata": {},
     "output_type": "display_data"
    }
   ],
   "source": [
    "plt.style.use('seaborn-v0_8-muted')\n",
    "trainDF[trainDF.generated==0].text.str.split().apply(len).plot.box(figsize=(6,3), vert=False);\n",
    "plt.title(\"Word Count of student essays\");"
   ]
  },
  {
   "cell_type": "markdown",
   "metadata": {},
   "source": [
    "# Prompt LLMs for essays\n",
    "\n",
    "- Act as a high school student. Write an explanatory essay to inform fellow citizens about the advantages of limiting car usage. Here are sources for inspiration:\n",
    "- Act as a high school student. Write an explanatory essay to inform fellow citizens about the advantages of limiting car usage. Here is an example:\n",
    "- Act as a high school student. Write an explanatory essay to inform fellow citizens about the advantages of limiting car usage. Don't output titles or headers, dont use \" \".  Limit your responce to 300-800 words. \n",
    "- Act as a high school student.Discuss why it's a good idea to stick with the Electoral College or switch to a popular vote when choosing the U.S. President.Dont use titles.  dont use Sincerely, [Your Name][Your Address][City, State, ZIP Code][Email Address][Phone Number].\n",
    "- Write 300 words to your state senator in which you argue in favor of keeping the Electoral College or changing to election by popular vote for the president of the United States. Dont use titles.  dont use Sincerely, [Your Name][Your Address][City, State, ZIP Code][Email Address][Phone Number].\n",
    "- Write a letter to your state senator in which you argue in favor of keeping the Electoral College or changing to election by popular vote for the president of the United States. Use the information from the texts in your essay. Manage your time carefully so that you can read the passages; plan your response; write your response; and revise and edit your response. Be sure to include a claim; address counterclaims; use evidence from multiple sources; and avoid overly relying on one source. Your response should be in the form of a multiparagraph essay. Dont use titles.Here are the texts:\n",
    "- act as a high school student. write a significantly different letter than your last\n",
    "- write a short essay to explain your opinions on the matter. act as a student\n",
    "- act as a 6th grade student. write an essay using the intructions from your first prompt\n",
    "- adopt a random personality write a short essay on the matter\n",
    "- you are a little boy. write 3 paragraphs on the matter\n",
    "- act as a 12th grade student writing in your school's paper. Write an essay to convince your schoolmates that cities would be better off with fewer cars. Dont use titles\n",
    "- Your fellow classmates were not convinced. Write 3 paragraphs using different reasons\n",
    "- you are a 6th grader. your teacher wants you to write an essay as to why cities would be better with fewer cars. include no titles\n",
    "- think of different reasons\n",
    "- Write an explanatory essay to inform fellow citizens about the advantages of limiting car usage. Your essay must be based on ideas and information that can be found in the passage set. Manage your time carefully so that you can read the passages; plan your response; write your response; and revise and edit your response. Be sure to use evidence from multiple sources; and avoid overly relying on one source. Your response should be in the form of a multiparagraph essay. Dont print titles and paragraph titles. Here are the passage set:\n",
    "- act as a high school student. use the first prompt to write a different essay."
   ]
  },
  {
   "cell_type": "markdown",
   "metadata": {},
   "source": [
    "## Use student essays as examples for the prompts:"
   ]
  },
  {
   "cell_type": "code",
   "execution_count": 15,
   "metadata": {},
   "outputs": [
    {
     "data": {
      "text/html": [
       "<div>\n",
       "<style scoped>\n",
       "    .dataframe tbody tr th:only-of-type {\n",
       "        vertical-align: middle;\n",
       "    }\n",
       "\n",
       "    .dataframe tbody tr th {\n",
       "        vertical-align: top;\n",
       "    }\n",
       "\n",
       "    .dataframe thead th {\n",
       "        text-align: right;\n",
       "    }\n",
       "</style>\n",
       "<table border=\"1\" class=\"dataframe\">\n",
       "  <thead>\n",
       "    <tr style=\"text-align: right;\">\n",
       "      <th></th>\n",
       "      <th>prompt_id</th>\n",
       "      <th>prompt_name</th>\n",
       "      <th>instructions</th>\n",
       "      <th>source_text</th>\n",
       "    </tr>\n",
       "  </thead>\n",
       "  <tbody>\n",
       "    <tr>\n",
       "      <th>0</th>\n",
       "      <td>0</td>\n",
       "      <td>Car-free cities</td>\n",
       "      <td>Write an explanatory essay to inform fellow ci...</td>\n",
       "      <td># In German Suburb, Life Goes On Without Cars ...</td>\n",
       "    </tr>\n",
       "    <tr>\n",
       "      <th>1</th>\n",
       "      <td>1</td>\n",
       "      <td>Does the electoral college work?</td>\n",
       "      <td>Write a letter to your state senator in which ...</td>\n",
       "      <td># What Is the Electoral College? by the Office...</td>\n",
       "    </tr>\n",
       "  </tbody>\n",
       "</table>\n",
       "</div>"
      ],
      "text/plain": [
       "   prompt_id                       prompt_name  \\\n",
       "0          0                   Car-free cities   \n",
       "1          1  Does the electoral college work?   \n",
       "\n",
       "                                        instructions  \\\n",
       "0  Write an explanatory essay to inform fellow ci...   \n",
       "1  Write a letter to your state senator in which ...   \n",
       "\n",
       "                                         source_text  \n",
       "0  # In German Suburb, Life Goes On Without Cars ...  \n",
       "1  # What Is the Electoral College? by the Office...  "
      ]
     },
     "execution_count": 15,
     "metadata": {},
     "output_type": "execute_result"
    }
   ],
   "source": [
    "promptsDF.head()"
   ]
  },
  {
   "cell_type": "markdown",
   "metadata": {},
   "source": [
    "Keep the instructions to feed as prompts to the LLM"
   ]
  },
  {
   "cell_type": "code",
   "execution_count": 16,
   "metadata": {},
   "outputs": [],
   "source": [
    "# Strip the full prompt\n",
    "car_prompt_full = '.'.join(promptsDF[promptsDF.prompt_id==0].instructions.values[0].split('.')[:-2])\n",
    "college_prompt_full = '.'.join(promptsDF[promptsDF.prompt_id==1].instructions.values[0].split('.')[:-2])\n",
    "# print( car_prompt_full  )\n",
    "# print( college_prompt_full )"
   ]
  },
  {
   "cell_type": "code",
   "execution_count": 17,
   "metadata": {},
   "outputs": [
    {
     "name": "stdout",
     "output_type": "stream",
     "text": [
      "Write an explanatory essay to inform fellow citizens about the advantages of limiting car usage\n",
      "Write a letter to your state senator in which you argue in favor of keeping the Electoral College or changing to election by popular vote for the president of the United States\n"
     ]
    }
   ],
   "source": [
    "# Strip the minimal prompt\n",
    "car_prompt_mini = car_prompt_full.split('.')[0]\n",
    "college_prompt_mini = college_prompt_full.split('.')[0]\n",
    "print(car_prompt_mini )\n",
    "print(college_prompt_mini )"
   ]
  },
  {
   "cell_type": "markdown",
   "metadata": {},
   "source": [
    "## Strip the sources."
   ]
  },
  {
   "cell_type": "code",
   "execution_count": 18,
   "metadata": {},
   "outputs": [],
   "source": [
    "car_sources = promptsDF[promptsDF.prompt_id==0].source_text.values[0]\n",
    "college_sources = promptsDF[promptsDF.prompt_id==1].source_text.values[0]\n",
    "#car_sources"
   ]
  },
  {
   "cell_type": "code",
   "execution_count": 19,
   "metadata": {},
   "outputs": [],
   "source": [
    "#car_sources.split('#')[1:] # Giati to 1o element einai keno"
   ]
  },
  {
   "cell_type": "markdown",
   "metadata": {},
   "source": [
    "## Print one source for training"
   ]
  },
  {
   "cell_type": "code",
   "execution_count": 20,
   "metadata": {},
   "outputs": [],
   "source": [
    "# split the sources of each prompt for more variation\n",
    "import random,pprint\n",
    "# x=random.sample(car_sources.split('#'),2)\n",
    "x=random.choice(car_sources.split('#'))\n",
    "# print(x)"
   ]
  },
  {
   "cell_type": "markdown",
   "metadata": {},
   "source": [
    "# Plot the data"
   ]
  },
  {
   "cell_type": "code",
   "execution_count": 21,
   "metadata": {},
   "outputs": [
    {
     "data": {
      "text/html": [
       "<div>\n",
       "<style scoped>\n",
       "    .dataframe tbody tr th:only-of-type {\n",
       "        vertical-align: middle;\n",
       "    }\n",
       "\n",
       "    .dataframe tbody tr th {\n",
       "        vertical-align: top;\n",
       "    }\n",
       "\n",
       "    .dataframe thead th {\n",
       "        text-align: right;\n",
       "    }\n",
       "</style>\n",
       "<table border=\"1\" class=\"dataframe\">\n",
       "  <thead>\n",
       "    <tr style=\"text-align: right;\">\n",
       "      <th></th>\n",
       "      <th>id</th>\n",
       "      <th>prompt_id</th>\n",
       "      <th>text</th>\n",
       "      <th>generated</th>\n",
       "    </tr>\n",
       "  </thead>\n",
       "  <tbody>\n",
       "    <tr>\n",
       "      <th>0</th>\n",
       "      <td>0059830c</td>\n",
       "      <td>0</td>\n",
       "      <td>Cars. Cars have been around since they became ...</td>\n",
       "      <td>0</td>\n",
       "    </tr>\n",
       "    <tr>\n",
       "      <th>1</th>\n",
       "      <td>005db917</td>\n",
       "      <td>0</td>\n",
       "      <td>Transportation is a large necessity in most co...</td>\n",
       "      <td>0</td>\n",
       "    </tr>\n",
       "    <tr>\n",
       "      <th>2</th>\n",
       "      <td>008f63e3</td>\n",
       "      <td>0</td>\n",
       "      <td>\"America's love affair with it's vehicles seem...</td>\n",
       "      <td>0</td>\n",
       "    </tr>\n",
       "    <tr>\n",
       "      <th>3</th>\n",
       "      <td>00940276</td>\n",
       "      <td>0</td>\n",
       "      <td>How often do you ride in a car? Do you drive a...</td>\n",
       "      <td>0</td>\n",
       "    </tr>\n",
       "    <tr>\n",
       "      <th>4</th>\n",
       "      <td>00c39458</td>\n",
       "      <td>0</td>\n",
       "      <td>Cars are a wonderful thing. They are perhaps o...</td>\n",
       "      <td>0</td>\n",
       "    </tr>\n",
       "  </tbody>\n",
       "</table>\n",
       "</div>"
      ],
      "text/plain": [
       "         id  prompt_id                                               text  \\\n",
       "0  0059830c          0  Cars. Cars have been around since they became ...   \n",
       "1  005db917          0  Transportation is a large necessity in most co...   \n",
       "2  008f63e3          0  \"America's love affair with it's vehicles seem...   \n",
       "3  00940276          0  How often do you ride in a car? Do you drive a...   \n",
       "4  00c39458          0  Cars are a wonderful thing. They are perhaps o...   \n",
       "\n",
       "   generated  \n",
       "0          0  \n",
       "1          0  \n",
       "2          0  \n",
       "3          0  \n",
       "4          0  "
      ]
     },
     "execution_count": 21,
     "metadata": {},
     "output_type": "execute_result"
    }
   ],
   "source": [
    "trainDF.head()"
   ]
  },
  {
   "cell_type": "code",
   "execution_count": 23,
   "metadata": {},
   "outputs": [
    {
     "data": {
      "image/png": "[encoded data removed]",
      "text/plain": [
       "<Figure size 600x400 with 1 Axes>"
      ]
     },
     "metadata": {},
     "output_type": "display_data"
    }
   ],
   "source": [
    "plt.style.use('seaborn-v0_8-muted')\n",
    "ax = trainDF.generated.value_counts().plot.bar(rot=0, color=['royalblue','tomato'], figsize=(6,4))\n",
    "ax.set_xticklabels(['Student','Machine'])\n",
    "ax.set_title('Original Training set')\n",
    "ax.set_xlabel('Author')\n",
    "ax.set_ylabel('Number of essays');\n",
    "# Adding annotations\n",
    "for i, count in enumerate(trainDF.generated.value_counts()):\n",
    "    ax.text(i, count + 0.1, str(count), ha='center', va='bottom', fontsize=11)\n",
    "\n",
    "# Show the plot\n",
    "plt.savefig('original_data.svg')\n",
    "plt.show()"
   ]
  },
  {
   "cell_type": "markdown",
   "metadata": {},
   "source": [
    "# Import the augmentation set"
   ]
  },
  {
   "cell_type": "markdown",
   "metadata": {},
   "source": [
    "## Create the training set"
   ]
  },
  {
   "cell_type": "code",
   "execution_count": 65,
   "metadata": {},
   "outputs": [
    {
     "data": {
      "text/html": [
       "<div>\n",
       "<style scoped>\n",
       "    .dataframe tbody tr th:only-of-type {\n",
       "        vertical-align: middle;\n",
       "    }\n",
       "\n",
       "    .dataframe tbody tr th {\n",
       "        vertical-align: top;\n",
       "    }\n",
       "\n",
       "    .dataframe thead th {\n",
       "        text-align: right;\n",
       "    }\n",
       "</style>\n",
       "<table border=\"1\" class=\"dataframe\">\n",
       "  <thead>\n",
       "    <tr style=\"text-align: right;\">\n",
       "      <th></th>\n",
       "      <th>model</th>\n",
       "      <th>prompt</th>\n",
       "      <th>text</th>\n",
       "      <th>label</th>\n",
       "    </tr>\n",
       "  </thead>\n",
       "  <tbody>\n",
       "    <tr>\n",
       "      <th>0</th>\n",
       "      <td>0</td>\n",
       "      <td>0</td>\n",
       "      <td>In recent years, our society has been grapplin...</td>\n",
       "      <td>1</td>\n",
       "    </tr>\n",
       "    <tr>\n",
       "      <th>1</th>\n",
       "      <td>0</td>\n",
       "      <td>0</td>\n",
       "      <td>For most people, hopping in a car is the norm ...</td>\n",
       "      <td>1</td>\n",
       "    </tr>\n",
       "    <tr>\n",
       "      <th>2</th>\n",
       "      <td>0</td>\n",
       "      <td>0</td>\n",
       "      <td>In recent years, the issue of limiting car usa...</td>\n",
       "      <td>1</td>\n",
       "    </tr>\n",
       "    <tr>\n",
       "      <th>3</th>\n",
       "      <td>0</td>\n",
       "      <td>0</td>\n",
       "      <td>As high school students navigating our way thr...</td>\n",
       "      <td>1</td>\n",
       "    </tr>\n",
       "    <tr>\n",
       "      <th>4</th>\n",
       "      <td>0</td>\n",
       "      <td>0</td>\n",
       "      <td>Hey, fellow students! Let's dive into a topic ...</td>\n",
       "      <td>1</td>\n",
       "    </tr>\n",
       "    <tr>\n",
       "      <th>...</th>\n",
       "      <td>...</td>\n",
       "      <td>...</td>\n",
       "      <td>...</td>\n",
       "      <td>...</td>\n",
       "    </tr>\n",
       "    <tr>\n",
       "      <th>60</th>\n",
       "      <td>1</td>\n",
       "      <td>0</td>\n",
       "      <td>Hey everyone, let's stop relying on cars so m...</td>\n",
       "      <td>1</td>\n",
       "    </tr>\n",
       "    <tr>\n",
       "      <th>61</th>\n",
       "      <td>1</td>\n",
       "      <td>0</td>\n",
       "      <td>As responsible citizens, it is imperative that...</td>\n",
       "      <td>1</td>\n",
       "    </tr>\n",
       "    <tr>\n",
       "      <th>62</th>\n",
       "      <td>1</td>\n",
       "      <td>0</td>\n",
       "      <td>As an engaged and environmentally conscious co...</td>\n",
       "      <td>1</td>\n",
       "    </tr>\n",
       "    <tr>\n",
       "      <th>63</th>\n",
       "      <td>1</td>\n",
       "      <td>0</td>\n",
       "      <td>As a responsible community, we must collective...</td>\n",
       "      <td>1</td>\n",
       "    </tr>\n",
       "    <tr>\n",
       "      <th>64</th>\n",
       "      <td>1</td>\n",
       "      <td>0</td>\n",
       "      <td>Dear fellow citizens,  We are amidst a pivotal...</td>\n",
       "      <td>1</td>\n",
       "    </tr>\n",
       "  </tbody>\n",
       "</table>\n",
       "<p>65 rows × 4 columns</p>\n",
       "</div>"
      ],
      "text/plain": [
       "    model  prompt                                               text  label\n",
       "0       0       0  In recent years, our society has been grapplin...      1\n",
       "1       0       0  For most people, hopping in a car is the norm ...      1\n",
       "2       0       0  In recent years, the issue of limiting car usa...      1\n",
       "3       0       0  As high school students navigating our way thr...      1\n",
       "4       0       0  Hey, fellow students! Let's dive into a topic ...      1\n",
       "..    ...     ...                                                ...    ...\n",
       "60      1       0   Hey everyone, let's stop relying on cars so m...      1\n",
       "61      1       0  As responsible citizens, it is imperative that...      1\n",
       "62      1       0  As an engaged and environmentally conscious co...      1\n",
       "63      1       0  As a responsible community, we must collective...      1\n",
       "64      1       0  Dear fellow citizens,  We are amidst a pivotal...      1\n",
       "\n",
       "[65 rows x 4 columns]"
      ]
     },
     "execution_count": 65,
     "metadata": {},
     "output_type": "execute_result"
    }
   ],
   "source": [
    "# Load my AI text\n",
    "# model 0 = gpt3.5, model 1 = bard\n",
    "myLLM = pd.read_csv('augmentation.csv')\n",
    "myLLM['label'] = 1\n",
    "myLLM"
   ]
  },
  {
   "cell_type": "code",
   "execution_count": null,
   "metadata": {},
   "outputs": [],
   "source": [
    "# supplementary augmentation set\n",
    "# https://www.kaggle.com/datasets/thedrcat/daigt-proper-train-dataset/"
   ]
  },
  {
   "cell_type": "code",
   "execution_count": 66,
   "metadata": {},
   "outputs": [
    {
     "data": {
      "text/html": [
       "<div>\n",
       "<style scoped>\n",
       "    .dataframe tbody tr th:only-of-type {\n",
       "        vertical-align: middle;\n",
       "    }\n",
       "\n",
       "    .dataframe tbody tr th {\n",
       "        vertical-align: top;\n",
       "    }\n",
       "\n",
       "    .dataframe thead th {\n",
       "        text-align: right;\n",
       "    }\n",
       "</style>\n",
       "<table border=\"1\" class=\"dataframe\">\n",
       "  <thead>\n",
       "    <tr style=\"text-align: right;\">\n",
       "      <th></th>\n",
       "      <th>essay_id</th>\n",
       "      <th>text</th>\n",
       "      <th>label</th>\n",
       "      <th>source</th>\n",
       "      <th>prompt</th>\n",
       "      <th>fold</th>\n",
       "    </tr>\n",
       "  </thead>\n",
       "  <tbody>\n",
       "    <tr>\n",
       "      <th>4527</th>\n",
       "      <td>86ECF13FEDEF</td>\n",
       "      <td>First impressions can have an immense effect o...</td>\n",
       "      <td>1</td>\n",
       "      <td>chat_gpt_moth</td>\n",
       "      <td>Task: Research how first impressions can effec...</td>\n",
       "      <td>1</td>\n",
       "    </tr>\n",
       "    <tr>\n",
       "      <th>3162</th>\n",
       "      <td>B7FCFC6A7011</td>\n",
       "      <td>Sure, here's my essay response:\\n\\nAs an 8th g...</td>\n",
       "      <td>1</td>\n",
       "      <td>llama2_chat</td>\n",
       "      <td>Task:\\n1. Research pet daycares to learn more ...</td>\n",
       "      <td>9</td>\n",
       "    </tr>\n",
       "    <tr>\n",
       "      <th>34613</th>\n",
       "      <td>E9947D032E7B</td>\n",
       "      <td>Hey, I'm just a regular 8th grader, so bear wi...</td>\n",
       "      <td>1</td>\n",
       "      <td>llama2_chat</td>\n",
       "      <td>Task: Write an essay that discusses the greate...</td>\n",
       "      <td>7</td>\n",
       "    </tr>\n",
       "    <tr>\n",
       "      <th>38382</th>\n",
       "      <td>65EE45F7743C</td>\n",
       "      <td>Phones &amp; Driving\\n\\nTo begin with, today I am ...</td>\n",
       "      <td>0</td>\n",
       "      <td>persuade_corpus</td>\n",
       "      <td>NaN</td>\n",
       "      <td>4</td>\n",
       "    </tr>\n",
       "    <tr>\n",
       "      <th>38734</th>\n",
       "      <td>AC9801E7B7A1</td>\n",
       "      <td>Most students enjoy participating in extracurr...</td>\n",
       "      <td>0</td>\n",
       "      <td>persuade_corpus</td>\n",
       "      <td>NaN</td>\n",
       "      <td>9</td>\n",
       "    </tr>\n",
       "  </tbody>\n",
       "</table>\n",
       "</div>"
      ],
      "text/plain": [
       "           essay_id                                               text  label  \\\n",
       "4527   86ECF13FEDEF  First impressions can have an immense effect o...      1   \n",
       "3162   B7FCFC6A7011  Sure, here's my essay response:\\n\\nAs an 8th g...      1   \n",
       "34613  E9947D032E7B  Hey, I'm just a regular 8th grader, so bear wi...      1   \n",
       "38382  65EE45F7743C  Phones & Driving\\n\\nTo begin with, today I am ...      0   \n",
       "38734  AC9801E7B7A1  Most students enjoy participating in extracurr...      0   \n",
       "\n",
       "                source                                             prompt  \\\n",
       "4527     chat_gpt_moth  Task: Research how first impressions can effec...   \n",
       "3162       llama2_chat  Task:\\n1. Research pet daycares to learn more ...   \n",
       "34613      llama2_chat  Task: Write an essay that discusses the greate...   \n",
       "38382  persuade_corpus                                                NaN   \n",
       "38734  persuade_corpus                                                NaN   \n",
       "\n",
       "       fold  \n",
       "4527      1  \n",
       "3162      9  \n",
       "34613     7  \n",
       "38382     4  \n",
       "38734     9  "
      ]
     },
     "execution_count": 66,
     "metadata": {},
     "output_type": "execute_result"
    }
   ],
   "source": [
    "# Load the augmented training set (competition data + LLM generated)\n",
    "trainSet = pd.read_csv('data/data_raw/DAIGT Proper Train Dataset/train_drcat_04.csv')\n",
    "trainSet.sample(5)"
   ]
  },
  {
   "cell_type": "code",
   "execution_count": 67,
   "metadata": {},
   "outputs": [
    {
     "data": {
      "text/plain": [
       "1378"
      ]
     },
     "execution_count": 67,
     "metadata": {},
     "output_type": "execute_result"
    }
   ],
   "source": [
    "sum(trainDF.text.isin(trainSet.text)) # proof that all original essays are in the training set"
   ]
  },
  {
   "cell_type": "code",
   "execution_count": 68,
   "metadata": {},
   "outputs": [],
   "source": [
    "# Make my training set of 6K essays\n",
    "trainSet = pd.concat([\n",
    "    myLLM[['text','label']], # My AI text\n",
    "    trainSet[trainSet.source=='train_essays'][['text','label']], # The original student + LLM texts\n",
    "    trainSet[trainSet.source=='persuade_corpus'].sample(1625, random_state=42)[['text','label']], # The augmented student texts\n",
    "    trainSet[trainSet.label==1].sample(2933, random_state=42)[['text','label']] # The 3rd party LLM texts\n",
    "])"
   ]
  },
  {
   "cell_type": "code",
   "execution_count": 69,
   "metadata": {},
   "outputs": [
    {
     "name": "stdout",
     "output_type": "stream",
     "text": [
      "       text                                                               \n",
      "      count unique                                                top freq\n",
      "label                                                                     \n",
      "0      3000   3000  The electoral college is a symbol of mockery a...    1\n",
      "1      3001   3000  I strongly believe that the Electoral College ...    2\n",
      "       text                                                               \n",
      "      count unique                                                top freq\n",
      "label                                                                     \n",
      "0      3000   3000  The electoral college is a symbol of mockery a...    1\n",
      "1      3000   3000  In recent years, our society has been grapplin...    1\n"
     ]
    },
    {
     "data": {
      "text/html": [
       "<div>\n",
       "<style scoped>\n",
       "    .dataframe tbody tr th:only-of-type {\n",
       "        vertical-align: middle;\n",
       "    }\n",
       "\n",
       "    .dataframe tbody tr th {\n",
       "        vertical-align: top;\n",
       "    }\n",
       "\n",
       "    .dataframe thead th {\n",
       "        text-align: right;\n",
       "    }\n",
       "</style>\n",
       "<table border=\"1\" class=\"dataframe\">\n",
       "  <thead>\n",
       "    <tr style=\"text-align: right;\">\n",
       "      <th></th>\n",
       "      <th>text</th>\n",
       "      <th>label</th>\n",
       "      <th>author</th>\n",
       "    </tr>\n",
       "  </thead>\n",
       "  <tbody>\n",
       "    <tr>\n",
       "      <th>44124</th>\n",
       "      <td>Exploring Venus\\n\\nI wounder why Venus called ...</td>\n",
       "      <td>0</td>\n",
       "      <td>Student</td>\n",
       "    </tr>\n",
       "    <tr>\n",
       "      <th>42391</th>\n",
       "      <td>Since Henry Ford made the first Model T, peopl...</td>\n",
       "      <td>0</td>\n",
       "      <td>Student</td>\n",
       "    </tr>\n",
       "    <tr>\n",
       "      <th>24965</th>\n",
       "      <td>Cars may actually disappear from the modern wo...</td>\n",
       "      <td>0</td>\n",
       "      <td>Student</td>\n",
       "    </tr>\n",
       "    <tr>\n",
       "      <th>34457</th>\n",
       "      <td>The idea of extending school days to four day...</td>\n",
       "      <td>1</td>\n",
       "      <td>Machine</td>\n",
       "    </tr>\n",
       "    <tr>\n",
       "      <th>41279</th>\n",
       "      <td>Title: Exploring the Cultural and Historical W...</td>\n",
       "      <td>1</td>\n",
       "      <td>Machine</td>\n",
       "    </tr>\n",
       "  </tbody>\n",
       "</table>\n",
       "</div>"
      ],
      "text/plain": [
       "                                                    text  label   author\n",
       "44124  Exploring Venus\\n\\nI wounder why Venus called ...      0  Student\n",
       "42391  Since Henry Ford made the first Model T, peopl...      0  Student\n",
       "24965  Cars may actually disappear from the modern wo...      0  Student\n",
       "34457   The idea of extending school days to four day...      1  Machine\n",
       "41279  Title: Exploring the Cultural and Historical W...      1  Machine"
      ]
     },
     "execution_count": 69,
     "metadata": {},
     "output_type": "execute_result"
    }
   ],
   "source": [
    "print(trainSet.groupby('label').describe())\n",
    "trainSet.drop_duplicates(inplace=True)\n",
    "print(trainSet.groupby('label').describe())\n",
    "\n",
    "# Map values in 'binary_column' to 'student' and 'machine'\n",
    "trainSet['author'] = trainSet['label'].map({0: 'Student', 1: 'Machine'})\n",
    "trainSet.sample(5)"
   ]
  },
  {
   "cell_type": "code",
   "execution_count": 70,
   "metadata": {},
   "outputs": [
    {
     "data": {
      "image/png": "[encoded data removed]",
      "text/plain": [
       "<Figure size 600x300 with 1 Axes>"
      ]
     },
     "metadata": {},
     "output_type": "display_data"
    }
   ],
   "source": [
    "ax = trainSet.author.value_counts().plot.bar(rot=0, color=['royalblue','tomato'], figsize=(6,3));\n",
    "# ax.set_xticklabels(['Student','Machine'])\n",
    "ax.set_title('Training Set')\n",
    "ax.set_xlabel('Author')\n",
    "ax.set_ylabel('Number of essays');\n"
   ]
  },
  {
   "cell_type": "markdown",
   "metadata": {},
   "source": [
    "## Keep a portion of the augmentation set as validation set."
   ]
  },
  {
   "cell_type": "code",
   "execution_count": 85,
   "metadata": {},
   "outputs": [
    {
     "data": {
      "text/html": [
       "<div>\n",
       "<style scoped>\n",
       "    .dataframe tbody tr th:only-of-type {\n",
       "        vertical-align: middle;\n",
       "    }\n",
       "\n",
       "    .dataframe tbody tr th {\n",
       "        vertical-align: top;\n",
       "    }\n",
       "\n",
       "    .dataframe thead th {\n",
       "        text-align: right;\n",
       "    }\n",
       "</style>\n",
       "<table border=\"1\" class=\"dataframe\">\n",
       "  <thead>\n",
       "    <tr style=\"text-align: right;\">\n",
       "      <th></th>\n",
       "      <th>text</th>\n",
       "      <th>label</th>\n",
       "      <th>source</th>\n",
       "      <th>fold</th>\n",
       "      <th>author</th>\n",
       "    </tr>\n",
       "  </thead>\n",
       "  <tbody>\n",
       "    <tr>\n",
       "      <th>9778</th>\n",
       "      <td>Summer projects, one of the most boring things...</td>\n",
       "      <td>0</td>\n",
       "      <td>persuade_corpus</td>\n",
       "      <td>0</td>\n",
       "      <td>Student</td>\n",
       "    </tr>\n",
       "    <tr>\n",
       "      <th>24411</th>\n",
       "      <td>This would be good for students in many ways. ...</td>\n",
       "      <td>0</td>\n",
       "      <td>persuade_corpus</td>\n",
       "      <td>4</td>\n",
       "      <td>Student</td>\n",
       "    </tr>\n",
       "    <tr>\n",
       "      <th>29565</th>\n",
       "      <td>As an 8th-grade student, it is important to st...</td>\n",
       "      <td>1</td>\n",
       "      <td>llammistral7binstruct</td>\n",
       "      <td>1</td>\n",
       "      <td>Machine</td>\n",
       "    </tr>\n",
       "    <tr>\n",
       "      <th>5740</th>\n",
       "      <td>Ring!\\n\\nThe bell signals the end of school. Y...</td>\n",
       "      <td>0</td>\n",
       "      <td>persuade_corpus</td>\n",
       "      <td>1</td>\n",
       "      <td>Student</td>\n",
       "    </tr>\n",
       "    <tr>\n",
       "      <th>15118</th>\n",
       "      <td>Home school is a benefit that anybody could ha...</td>\n",
       "      <td>0</td>\n",
       "      <td>persuade_corpus</td>\n",
       "      <td>4</td>\n",
       "      <td>Student</td>\n",
       "    </tr>\n",
       "  </tbody>\n",
       "</table>\n",
       "</div>"
      ],
      "text/plain": [
       "                                                    text  label  \\\n",
       "9778   Summer projects, one of the most boring things...      0   \n",
       "24411  This would be good for students in many ways. ...      0   \n",
       "29565  As an 8th-grade student, it is important to st...      1   \n",
       "5740   Ring!\\n\\nThe bell signals the end of school. Y...      0   \n",
       "15118  Home school is a benefit that anybody could ha...      0   \n",
       "\n",
       "                      source  fold   author  \n",
       "9778         persuade_corpus     0  Student  \n",
       "24411        persuade_corpus     4  Student  \n",
       "29565  llammistral7binstruct     1  Machine  \n",
       "5740         persuade_corpus     1  Student  \n",
       "15118        persuade_corpus     4  Student  "
      ]
     },
     "execution_count": 85,
     "metadata": {},
     "output_type": "execute_result"
    }
   ],
   "source": [
    "validationSet = pd.read_csv('data/data_raw/DAIGT Proper Train Dataset/train_drcat_01.csv')\n",
    "validationSet['author'] = validationSet['label'].map({0: 'Student', 1: 'Machine'})\n",
    "validationSet.sample(5)"
   ]
  },
  {
   "cell_type": "code",
   "execution_count": 86,
   "metadata": {},
   "outputs": [
    {
     "data": {
      "text/plain": [
       "0"
      ]
     },
     "execution_count": 86,
     "metadata": {},
     "output_type": "execute_result"
    }
   ],
   "source": [
    "sum(trainDF.text.isin(validationSet.text)) # proof that the persuade_corpus is different from the students text of the competition."
   ]
  },
  {
   "cell_type": "code",
   "execution_count": 87,
   "metadata": {},
   "outputs": [
    {
     "data": {
      "text/html": [
       "<div>\n",
       "<style scoped>\n",
       "    .dataframe tbody tr th:only-of-type {\n",
       "        vertical-align: middle;\n",
       "    }\n",
       "\n",
       "    .dataframe tbody tr th {\n",
       "        vertical-align: top;\n",
       "    }\n",
       "\n",
       "    .dataframe thead th {\n",
       "        text-align: right;\n",
       "    }\n",
       "</style>\n",
       "<table border=\"1\" class=\"dataframe\">\n",
       "  <thead>\n",
       "    <tr style=\"text-align: right;\">\n",
       "      <th></th>\n",
       "      <th></th>\n",
       "      <th>text</th>\n",
       "      <th>fold</th>\n",
       "      <th>author</th>\n",
       "    </tr>\n",
       "    <tr>\n",
       "      <th>label</th>\n",
       "      <th>source</th>\n",
       "      <th></th>\n",
       "      <th></th>\n",
       "      <th></th>\n",
       "    </tr>\n",
       "  </thead>\n",
       "  <tbody>\n",
       "    <tr>\n",
       "      <th>0</th>\n",
       "      <th>persuade_corpus</th>\n",
       "      <td>25996</td>\n",
       "      <td>25996</td>\n",
       "      <td>25996</td>\n",
       "    </tr>\n",
       "    <tr>\n",
       "      <th rowspan=\"3\" valign=\"top\">1</th>\n",
       "      <th>chat_gpt_moth</th>\n",
       "      <td>2421</td>\n",
       "      <td>2421</td>\n",
       "      <td>2421</td>\n",
       "    </tr>\n",
       "    <tr>\n",
       "      <th>llama2_chat</th>\n",
       "      <td>2421</td>\n",
       "      <td>2421</td>\n",
       "      <td>2421</td>\n",
       "    </tr>\n",
       "    <tr>\n",
       "      <th>llammistral7binstruct</th>\n",
       "      <td>2421</td>\n",
       "      <td>2421</td>\n",
       "      <td>2421</td>\n",
       "    </tr>\n",
       "  </tbody>\n",
       "</table>\n",
       "</div>"
      ],
      "text/plain": [
       "                              text   fold  author\n",
       "label source                                     \n",
       "0     persuade_corpus        25996  25996   25996\n",
       "1     chat_gpt_moth           2421   2421    2421\n",
       "      llama2_chat             2421   2421    2421\n",
       "      llammistral7binstruct   2421   2421    2421"
      ]
     },
     "execution_count": 87,
     "metadata": {},
     "output_type": "execute_result"
    }
   ],
   "source": [
    "validationSet.groupby(['label','source']).count()"
   ]
  },
  {
   "cell_type": "code",
   "execution_count": 88,
   "metadata": {},
   "outputs": [
    {
     "data": {
      "image/png": "[encoded data removed]",
      "text/plain": [
       "<Figure size 600x300 with 1 Axes>"
      ]
     },
     "metadata": {},
     "output_type": "display_data"
    }
   ],
   "source": [
    "ax = validationSet.author.value_counts().plot.bar(rot=0, color=['royalblue','tomato'], figsize=(6,3))\n",
    "# ax.set_xticklabels(['Student','Machine'])\n",
    "ax.set_title('Augmentation Dataset 1')\n",
    "ax.set_xlabel('Author')\n",
    "ax.set_ylabel('Number of essays');"
   ]
  },
  {
   "cell_type": "code",
   "execution_count": 89,
   "metadata": {},
   "outputs": [
    {
     "data": {
      "text/html": [
       "<div>\n",
       "<style scoped>\n",
       "    .dataframe tbody tr th:only-of-type {\n",
       "        vertical-align: middle;\n",
       "    }\n",
       "\n",
       "    .dataframe tbody tr th {\n",
       "        vertical-align: top;\n",
       "    }\n",
       "\n",
       "    .dataframe thead th {\n",
       "        text-align: right;\n",
       "    }\n",
       "</style>\n",
       "<table border=\"1\" class=\"dataframe\">\n",
       "  <thead>\n",
       "    <tr style=\"text-align: right;\">\n",
       "      <th></th>\n",
       "      <th>text</th>\n",
       "      <th>label</th>\n",
       "      <th>author</th>\n",
       "    </tr>\n",
       "  </thead>\n",
       "  <tbody>\n",
       "    <tr>\n",
       "      <th>7865</th>\n",
       "      <td>The debate between lengthening the school day ...</td>\n",
       "      <td>1</td>\n",
       "      <td>Machine</td>\n",
       "    </tr>\n",
       "    <tr>\n",
       "      <th>2981</th>\n",
       "      <td>Some say students should get projects over the...</td>\n",
       "      <td>0</td>\n",
       "      <td>Student</td>\n",
       "    </tr>\n",
       "    <tr>\n",
       "      <th>29955</th>\n",
       "      <td>As an eighth-grade student, I believe that ext...</td>\n",
       "      <td>1</td>\n",
       "      <td>Machine</td>\n",
       "    </tr>\n",
       "    <tr>\n",
       "      <th>309</th>\n",
       "      <td>As an 8th grader, I have been thinking a lot a...</td>\n",
       "      <td>1</td>\n",
       "      <td>Machine</td>\n",
       "    </tr>\n",
       "    <tr>\n",
       "      <th>11049</th>\n",
       "      <td>that society's expectations and norms can limi...</td>\n",
       "      <td>1</td>\n",
       "      <td>Machine</td>\n",
       "    </tr>\n",
       "  </tbody>\n",
       "</table>\n",
       "</div>"
      ],
      "text/plain": [
       "                                                    text  label   author\n",
       "7865   The debate between lengthening the school day ...      1  Machine\n",
       "2981   Some say students should get projects over the...      0  Student\n",
       "29955  As an eighth-grade student, I believe that ext...      1  Machine\n",
       "309    As an 8th grader, I have been thinking a lot a...      1  Machine\n",
       "11049  that society's expectations and norms can limi...      1  Machine"
      ]
     },
     "execution_count": 89,
     "metadata": {},
     "output_type": "execute_result"
    }
   ],
   "source": [
    "validationSet = pd.concat([\n",
    "    validationSet[validationSet.label==0].sample(5000, random_state=42),\n",
    "    validationSet[validationSet.label!=0].sample(5000, random_state=42)\n",
    "])\n",
    "validationSet.drop(columns=['source','fold'], inplace = True)\n",
    "\n",
    "validationSet.sample(5)"
   ]
  },
  {
   "cell_type": "code",
   "execution_count": 91,
   "metadata": {},
   "outputs": [
    {
     "data": {
      "image/png": "[encoded data removed]",
      "text/plain": [
       "<Figure size 600x300 with 1 Axes>"
      ]
     },
     "metadata": {},
     "output_type": "display_data"
    }
   ],
   "source": [
    "ax = validationSet.author.value_counts().plot.bar(rot=0, color=['royalblue','tomato'], figsize=(6,3))\n",
    "# ax.set_xticklabels(['Student','Machine'])\n",
    "ax.set_title('Validation Set')\n",
    "ax.set_xlabel('Author')\n",
    "ax.set_ylabel('Number of essays');"
   ]
  },
  {
   "cell_type": "markdown",
   "metadata": {},
   "source": [
    "### A2] Build text classifiers on the augmented data, using cross-validation with appropriate classification evaluation metrics to assess them, and suggest the best performing one."
   ]
  },
  {
   "cell_type": "code",
   "execution_count": 93,
   "metadata": {},
   "outputs": [],
   "source": [
    "# def embed(text, model):\n",
    "#     words = word_tokenize(text)\n",
    "#     embeddings = [model.wv[w] for w in words]\n",
    "#     centroid = np.mean(embeddings, axis=0)\n",
    "#     return centroid"
   ]
  },
  {
   "cell_type": "code",
   "execution_count": 94,
   "metadata": {},
   "outputs": [],
   "source": [
    "def benchmark(model, vectorizer, model_name=None) :\n",
    "    results, predictions, gold = [], [], []\n",
    "    t0 = time()\n",
    "    for i in tqdm(range(5)): # 5-fold Cross Validation\n",
    "        X_train, X_test, y_train, y_test = train_test_split(\n",
    "            trainSet.text, trainSet.label, test_size=0.3, stratify=trainSet.label)\n",
    "        clf = model\n",
    "        X_train = vectorizer.fit_transform(X_train)\n",
    "        clf.fit(X_train,y_train)\n",
    "        predictions = clf.predict(vectorizer.transform(X_test))\n",
    "        # gold.append(y_test) \n",
    "        results.append( f1_score(y_test,\n",
    "                                predictions,\n",
    "                                zero_division=0,\n",
    "                                average='macro')) \n",
    "        \n",
    "    results_pd = pd.DataFrame(results)\n",
    "    test_time = time() - t0\n",
    "    print(f'Macro F1: {results_pd[0].mean():.2f} ± {results_pd[0].sem():.2f} time: {test_time:.2f}')\n",
    "    return results_pd[0].mean(), model_name, test_time, clf\n"
   ]
  },
  {
   "cell_type": "code",
   "execution_count": 95,
   "metadata": {},
   "outputs": [
    {
     "name": "stdout",
     "output_type": "stream",
     "text": [
      "================================================================================\n",
      "Logistic Regression\n"
     ]
    },
    {
     "data": {
      "application/vnd.jupyter.widget-view+json": {
       "model_id": "5be495c7e5f24222ba82830c9d0d813c",
       "version_major": 2,
       "version_minor": 0
      },
      "text/plain": [
       "  0%|          | 0/5 [00:00<?, ?it/s]"
      ]
     },
     "metadata": {},
     "output_type": "display_data"
    },
    {
     "name": "stdout",
     "output_type": "stream",
     "text": [
      "Macro F1: 0.98 ± 0.00 time: 11.68\n",
      "================================================================================\n",
      "Ridge Classifier\n"
     ]
    },
    {
     "data": {
      "application/vnd.jupyter.widget-view+json": {
       "model_id": "1c559c17e8694d018cdbc1380b4c84b5",
       "version_major": 2,
       "version_minor": 0
      },
      "text/plain": [
       "  0%|          | 0/5 [00:00<?, ?it/s]"
      ]
     },
     "metadata": {},
     "output_type": "display_data"
    },
    {
     "name": "stdout",
     "output_type": "stream",
     "text": [
      "Macro F1: 0.99 ± 0.00 time: 10.60\n",
      "================================================================================\n",
      "Linear SVC\n"
     ]
    },
    {
     "data": {
      "application/vnd.jupyter.widget-view+json": {
       "model_id": "bfd0c1db07cd43c8a625f06f243db912",
       "version_major": 2,
       "version_minor": 0
      },
      "text/plain": [
       "  0%|          | 0/5 [00:00<?, ?it/s]"
      ]
     },
     "metadata": {},
     "output_type": "display_data"
    },
    {
     "name": "stdout",
     "output_type": "stream",
     "text": [
      "Macro F1: 0.98 ± 0.00 time: 10.64\n",
      "================================================================================\n",
      "log-loss SGD\n"
     ]
    },
    {
     "data": {
      "application/vnd.jupyter.widget-view+json": {
       "model_id": "795dcfd99f7047dba0a6c9505bb3b0c2",
       "version_major": 2,
       "version_minor": 0
      },
      "text/plain": [
       "  0%|          | 0/5 [00:00<?, ?it/s]"
      ]
     },
     "metadata": {},
     "output_type": "display_data"
    },
    {
     "name": "stdout",
     "output_type": "stream",
     "text": [
      "Macro F1: 0.98 ± 0.00 time: 10.28\n",
      "================================================================================\n",
      "NearestCentroid\n"
     ]
    },
    {
     "data": {
      "application/vnd.jupyter.widget-view+json": {
       "model_id": "a00e1ec5e9344b1d8eeb8b067019ed23",
       "version_major": 2,
       "version_minor": 0
      },
      "text/plain": [
       "  0%|          | 0/5 [00:00<?, ?it/s]"
      ]
     },
     "metadata": {},
     "output_type": "display_data"
    },
    {
     "name": "stdout",
     "output_type": "stream",
     "text": [
      "Macro F1: 0.85 ± 0.00 time: 10.12\n",
      "================================================================================\n",
      "Complement naive Bayes\n"
     ]
    },
    {
     "data": {
      "application/vnd.jupyter.widget-view+json": {
       "model_id": "ab5a40c6fa584f779ba75e08bcbd28d2",
       "version_major": 2,
       "version_minor": 0
      },
      "text/plain": [
       "  0%|          | 0/5 [00:00<?, ?it/s]"
      ]
     },
     "metadata": {},
     "output_type": "display_data"
    },
    {
     "name": "stdout",
     "output_type": "stream",
     "text": [
      "Macro F1: 0.94 ± 0.00 time: 10.02\n"
     ]
    }
   ],
   "source": [
    "vectorizer = TfidfVectorizer()\n",
    "\n",
    "# Assess classifiers\n",
    "# Inspired by: https://scikit-learn.org/stable/auto_examples/text/plot_document_classification_20newsgroups.html#sphx-glr-auto-examples-text-plot-document-classification-20newsgroups-py\n",
    "results = []\n",
    "for clf, name in (\n",
    "    (LogisticRegression(max_iter=1000), \"Logistic Regression\"),\n",
    "    (RidgeClassifier(alpha=1.0, solver=\"sparse_cg\"), \"Ridge Classifier\"),\n",
    "    # (KNeighborsClassifier(n_neighbors=100), \"kNN\"), # Too slow too bad\n",
    "    #(RandomForestClassifier(), \"Random Forest\"), # Too slow too bad\n",
    "    # L2 penalty Linear SVC\n",
    "    (LinearSVC(C=0.1, dual=False, max_iter=1000), \"Linear SVC\"),\n",
    "    # L2 penalty Linear SGD\n",
    "    (\n",
    "        SGDClassifier(\n",
    "            loss=\"log_loss\", alpha=1e-4, n_iter_no_change=3, early_stopping=True\n",
    "        ),\n",
    "        \"log-loss SGD\",\n",
    "    ),\n",
    "    # NearestCentroid (aka Rocchio classifier)\n",
    "    (NearestCentroid(), \"NearestCentroid\"),\n",
    "    # Sparse naive Bayes classifier\n",
    "    (ComplementNB(alpha=0.1), \"Complement naive Bayes\"),\n",
    "):\n",
    "    print(\"=\" * 80)\n",
    "    print(name)\n",
    "    results.append(benchmark(clf, vectorizer, model_name = name))"
   ]
  },
  {
   "cell_type": "markdown",
   "metadata": {},
   "source": [
    "#### Results\n",
    "We choose the best classifier to be **Logistic Regression** because it is fast, efficient and has the ability to predict the probability that a given text is generated.\n",
    "#### Validation\n",
    "We now train a Logistic Regression Classifier on the entirety of the training set and then we will test it on the validation set."
   ]
  },
  {
   "cell_type": "code",
   "execution_count": 96,
   "metadata": {},
   "outputs": [
    {
     "name": "stdout",
     "output_type": "stream",
     "text": [
      "              precision    recall  f1-score   support\n",
      "\n",
      "           0       1.00      0.98      0.99      5000\n",
      "           1       0.98      1.00      0.99      5000\n",
      "\n",
      "    accuracy                           0.99     10000\n",
      "   macro avg       0.99      0.99      0.99     10000\n",
      "weighted avg       0.99      0.99      0.99     10000\n",
      "\n"
     ]
    }
   ],
   "source": [
    "vectorizer = TfidfVectorizer()\n",
    "X, y = vectorizer.fit_transform(trainSet.text), trainSet.label\n",
    "logistic = LogisticRegression(max_iter=1000).fit(X,y)\n",
    "y_pred = logistic.predict(vectorizer.transform(validationSet.text))\n",
    "print( classification_report(validationSet.label,\n",
    "                             y_pred,\n",
    "                             zero_division=0))"
   ]
  },
  {
   "cell_type": "code",
   "execution_count": 98,
   "metadata": {},
   "outputs": [
    {
     "data": {
      "image/png": "[encoded data removed]",
      "text/plain": [
       "<Figure size 400x400 with 1 Axes>"
      ]
     },
     "metadata": {},
     "output_type": "display_data"
    }
   ],
   "source": [
    "plt.style.use('default')\n",
    "fig, ax = plt.subplots(figsize=(4,4))\n",
    "ConfusionMatrixDisplay.from_predictions(validationSet.label,\n",
    "                                             y_pred,\n",
    "                                             colorbar=False,\n",
    "                                             ax=ax)\n",
    "ax.xaxis.set_ticklabels(['Student','Machine'])\n",
    "ax.yaxis.set_ticklabels(['Student','Machine'])\n",
    "_ = ax.set_title(\n",
    "    f\"Confusion Matrix for Logistic Regression\\non the validation documents\"\n",
    ")"
   ]
  },
  {
   "cell_type": "markdown",
   "metadata": {},
   "source": [
    "This model has a high Type1 error. Because it is worse to invalidate the hard work of a student by unjustly classifying it as ‘Generated’, we choose to balance the type1 and type2 errors by inflating the weight of the class 0."
   ]
  },
  {
   "cell_type": "code",
   "execution_count": 99,
   "metadata": {},
   "outputs": [
    {
     "name": "stdout",
     "output_type": "stream",
     "text": [
      "              precision    recall  f1-score   support\n",
      "\n",
      "           0       0.99      1.00      1.00      5000\n",
      "           1       1.00      0.99      1.00      5000\n",
      "\n",
      "    accuracy                           1.00     10000\n",
      "   macro avg       1.00      1.00      1.00     10000\n",
      "weighted avg       1.00      1.00      1.00     10000\n",
      "\n"
     ]
    }
   ],
   "source": [
    "vectorizer = TfidfVectorizer()\n",
    "X, y = vectorizer.fit_transform(trainSet.text), trainSet.label\n",
    "logistic = LogisticRegression(max_iter=1000,class_weight={0: 3}).fit(X,y)\n",
    "y_pred = logistic.predict(vectorizer.transform(validationSet.text))\n",
    "print( classification_report(validationSet.label,\n",
    "                             y_pred,\n",
    "                             zero_division=0))"
   ]
  },
  {
   "cell_type": "code",
   "execution_count": 100,
   "metadata": {},
   "outputs": [
    {
     "data": {
      "image/png": "[encoded data removed]",
      "text/plain": [
       "<Figure size 400x400 with 1 Axes>"
      ]
     },
     "metadata": {},
     "output_type": "display_data"
    }
   ],
   "source": [
    "fig, ax = plt.subplots(figsize=(4,4))\n",
    "ConfusionMatrixDisplay.from_predictions(validationSet.label,\n",
    "                                             y_pred,\n",
    "                                             colorbar=False,\n",
    "                                             ax=ax)\n",
    "ax.xaxis.set_ticklabels(['Student','Machine'])\n",
    "ax.yaxis.set_ticklabels(['Student','Machine'])\n",
    "_ = ax.set_title(\n",
    "    f\"Confusion Matrix for Logistic Regression\\non the validation documents\"\n",
    ")"
   ]
  },
  {
   "cell_type": "markdown",
   "metadata": {},
   "source": [
    "### A3]\n",
    "Compute two scores per generated text, one reflecting the maximum and the other the average\n",
    "similarity of that text with student essays."
   ]
  },
  {
   "cell_type": "code",
   "execution_count": 101,
   "metadata": {},
   "outputs": [
    {
     "name": "stderr",
     "output_type": "stream",
     "text": [
      "C:\\Users\\Foivos\\AppData\\Local\\Temp\\ipykernel_8964\\2261145566.py:4: SettingWithCopyWarning: \n",
      "A value is trying to be set on a copy of a slice from a DataFrame.\n",
      "Try using .loc[row_indexer,col_indexer] = value instead\n",
      "\n",
      "See the caveats in the documentation: https://pandas.pydata.org/pandas-docs/stable/user_guide/indexing.html#returning-a-view-versus-a-copy\n",
      "  essaysGen['text'] = essaysGen.text.apply(word_tokenize)\n",
      "C:\\Users\\Foivos\\AppData\\Local\\Temp\\ipykernel_8964\\2261145566.py:5: SettingWithCopyWarning: \n",
      "A value is trying to be set on a copy of a slice from a DataFrame.\n",
      "Try using .loc[row_indexer,col_indexer] = value instead\n",
      "\n",
      "See the caveats in the documentation: https://pandas.pydata.org/pandas-docs/stable/user_guide/indexing.html#returning-a-view-versus-a-copy\n",
      "  essaysSdn['text'] = essaysSdn.text.apply(word_tokenize)\n"
     ]
    }
   ],
   "source": [
    "essaysGen = trainSet[trainSet.label==1]\n",
    "essaysSdn = trainSet[trainSet.label==0]\n",
    "\n",
    "essaysGen['text'] = essaysGen.text.apply(word_tokenize)\n",
    "essaysSdn['text'] = essaysSdn.text.apply(word_tokenize)"
   ]
  },
  {
   "cell_type": "code",
   "execution_count": 102,
   "metadata": {},
   "outputs": [],
   "source": [
    "similarities = np.zeros((essaysGen.shape[0],3))"
   ]
  },
  {
   "cell_type": "code",
   "execution_count": 179,
   "metadata": {},
   "outputs": [
    {
     "data": {
      "text/plain": [
       "0.10625"
      ]
     },
     "execution_count": 179,
     "metadata": {},
     "output_type": "execute_result"
    }
   ],
   "source": [
    "# x = set( essaysGen.iloc[0,0] )\n",
    "# y = set( essaysSdn.iloc[0,0] )\n",
    "# jaccard(x,y)"
   ]
  },
  {
   "cell_type": "code",
   "execution_count": 103,
   "metadata": {},
   "outputs": [],
   "source": [
    "jaccard = lambda x,y: len(x.intersection(y))/len(x.union(y))\n",
    "for i, generated in enumerate( essaysGen.text ): \n",
    "    similarity = []\n",
    "    for original in essaysSdn.text:\n",
    "        similarity.append(jaccard(set( generated ),set( original )) )\n",
    "\n",
    "    similarities[i,1] = np.mean(similarity)\n",
    "    similarities[i,2] = np.max(similarity)"
   ]
  },
  {
   "cell_type": "code",
   "execution_count": 114,
   "metadata": {},
   "outputs": [],
   "source": [
    "similarities[:,0] = essaysGen.index\n"
   ]
  },
  {
   "cell_type": "code",
   "execution_count": 115,
   "metadata": {},
   "outputs": [
    {
     "data": {
      "text/html": [
       "<div>\n",
       "<style scoped>\n",
       "    .dataframe tbody tr th:only-of-type {\n",
       "        vertical-align: middle;\n",
       "    }\n",
       "\n",
       "    .dataframe tbody tr th {\n",
       "        vertical-align: top;\n",
       "    }\n",
       "\n",
       "    .dataframe thead th {\n",
       "        text-align: right;\n",
       "    }\n",
       "</style>\n",
       "<table border=\"1\" class=\"dataframe\">\n",
       "  <thead>\n",
       "    <tr style=\"text-align: right;\">\n",
       "      <th></th>\n",
       "      <th>mean</th>\n",
       "      <th>max</th>\n",
       "    </tr>\n",
       "  </thead>\n",
       "  <tbody>\n",
       "    <tr>\n",
       "      <th>0</th>\n",
       "      <td>0.12</td>\n",
       "      <td>0.19</td>\n",
       "    </tr>\n",
       "    <tr>\n",
       "      <th>1</th>\n",
       "      <td>0.12</td>\n",
       "      <td>0.27</td>\n",
       "    </tr>\n",
       "    <tr>\n",
       "      <th>2</th>\n",
       "      <td>0.11</td>\n",
       "      <td>0.20</td>\n",
       "    </tr>\n",
       "    <tr>\n",
       "      <th>3</th>\n",
       "      <td>0.11</td>\n",
       "      <td>0.19</td>\n",
       "    </tr>\n",
       "    <tr>\n",
       "      <th>4</th>\n",
       "      <td>0.15</td>\n",
       "      <td>0.23</td>\n",
       "    </tr>\n",
       "  </tbody>\n",
       "</table>\n",
       "</div>"
      ],
      "text/plain": [
       "   mean   max\n",
       "0  0.12  0.19\n",
       "1  0.12  0.27\n",
       "2  0.11  0.20\n",
       "3  0.11  0.19\n",
       "4  0.15  0.23"
      ]
     },
     "execution_count": 115,
     "metadata": {},
     "output_type": "execute_result"
    }
   ],
   "source": [
    "similaritiesDF = pd.DataFrame({'mean':similarities[:,1], 'max':similarities[:,2]}, index=similarities[:,0].astype(int) )\n",
    "similaritiesDF = similaritiesDF.round(2)\n",
    "similaritiesDF.head()"
   ]
  },
  {
   "cell_type": "markdown",
   "metadata": {},
   "source": [
    "### A4]\n",
    "- Study the correlation between the similarity scores and the prediction probability of your best\n",
    "classifier for the generated texts;\n",
    "- compute the prediction probability per text, by training the selected\n",
    "classifier on all except from that text, which is used as a test instance (a.k.a. the leave-one-out cross-\n",
    "validation setting)."
   ]
  },
  {
   "cell_type": "code",
   "execution_count": 241,
   "metadata": {},
   "outputs": [
    {
     "data": {
      "text/html": [
       "<div>\n",
       "<style scoped>\n",
       "    .dataframe tbody tr th:only-of-type {\n",
       "        vertical-align: middle;\n",
       "    }\n",
       "\n",
       "    .dataframe tbody tr th {\n",
       "        vertical-align: top;\n",
       "    }\n",
       "\n",
       "    .dataframe thead th {\n",
       "        text-align: right;\n",
       "    }\n",
       "</style>\n",
       "<table border=\"1\" class=\"dataframe\">\n",
       "  <thead>\n",
       "    <tr style=\"text-align: right;\">\n",
       "      <th></th>\n",
       "      <th>text</th>\n",
       "      <th>label</th>\n",
       "    </tr>\n",
       "  </thead>\n",
       "  <tbody>\n",
       "    <tr>\n",
       "      <th>40186</th>\n",
       "      <td>According to the article \"Making Mona Lisa Smi...</td>\n",
       "      <td>0</td>\n",
       "    </tr>\n",
       "    <tr>\n",
       "      <th>14775</th>\n",
       "      <td>Self-esteem is a crucial aspect of a person's ...</td>\n",
       "      <td>1</td>\n",
       "    </tr>\n",
       "    <tr>\n",
       "      <th>5567</th>\n",
       "      <td>The electoral college has been a part of the u...</td>\n",
       "      <td>0</td>\n",
       "    </tr>\n",
       "    <tr>\n",
       "      <th>13355</th>\n",
       "      <td>As a teen growing up in the digital age, I use...</td>\n",
       "      <td>0</td>\n",
       "    </tr>\n",
       "    <tr>\n",
       "      <th>30988</th>\n",
       "      <td>I believe that dress codes are beneficial for ...</td>\n",
       "      <td>1</td>\n",
       "    </tr>\n",
       "  </tbody>\n",
       "</table>\n",
       "</div>"
      ],
      "text/plain": [
       "                                                    text  label\n",
       "40186  According to the article \"Making Mona Lisa Smi...      0\n",
       "14775  Self-esteem is a crucial aspect of a person's ...      1\n",
       "5567   The electoral college has been a part of the u...      0\n",
       "13355  As a teen growing up in the digital age, I use...      0\n",
       "30988  I believe that dress codes are beneficial for ...      1"
      ]
     },
     "execution_count": 241,
     "metadata": {},
     "output_type": "execute_result"
    }
   ],
   "source": [
    "from sklearn.model_selection import LeaveOneOut\n",
    "\n",
    "# Shuffle the DataFrame\n",
    "shuffled = trainSet.sample(frac=1, random_state=42)\n",
    "y = shuffled['label']\n",
    "X = shuffled['text']\n",
    "idx = shuffled.index\n",
    "\n",
    "model = LogisticRegression(max_iter=1000,class_weight={0: 3})\n",
    "loo = LeaveOneOut()\n",
    "\n",
    "shuffled.head()"
   ]
  },
  {
   "cell_type": "code",
   "execution_count": null,
   "metadata": {},
   "outputs": [],
   "source": [
    "# DO NOT RE-RUN !!!!!!!!!!!!!!!!!!!!!!!!!!!!!!!!!!!!!!!!!!!!!!!!!!!!!!!!!\n",
    "# == Leave One Out ==\n",
    "# probas = []\n",
    "# for train_index, test_index in loo.split(X):\n",
    "#     X_train, X_test = X.iloc[train_index], X.iloc[test_index]\n",
    "#     y_train, y_test = y.iloc[train_index], y.iloc[test_index]\n",
    "\n",
    "#     X_train = vectorizer.fit_transform(X_train)\n",
    "#     model.fit(X_train, y_train)\n",
    "#     y_pred = model.predict_proba(vectorizer.transform(X_test))\n",
    "#     probas.append(y_pred)\n",
    "\n",
    "# print(probas)\n"
   ]
  },
  {
   "cell_type": "code",
   "execution_count": 236,
   "metadata": {},
   "outputs": [
    {
     "data": {
      "text/html": [
       "<div>\n",
       "<style scoped>\n",
       "    .dataframe tbody tr th:only-of-type {\n",
       "        vertical-align: middle;\n",
       "    }\n",
       "\n",
       "    .dataframe tbody tr th {\n",
       "        vertical-align: top;\n",
       "    }\n",
       "\n",
       "    .dataframe thead th {\n",
       "        text-align: right;\n",
       "    }\n",
       "</style>\n",
       "<table border=\"1\" class=\"dataframe\">\n",
       "  <thead>\n",
       "    <tr style=\"text-align: right;\">\n",
       "      <th></th>\n",
       "      <th>GenProba</th>\n",
       "    </tr>\n",
       "  </thead>\n",
       "  <tbody>\n",
       "    <tr>\n",
       "      <th>38162</th>\n",
       "      <td>0.26</td>\n",
       "    </tr>\n",
       "    <tr>\n",
       "      <th>15061</th>\n",
       "      <td>0.98</td>\n",
       "    </tr>\n",
       "    <tr>\n",
       "      <th>31436</th>\n",
       "      <td>0.07</td>\n",
       "    </tr>\n",
       "    <tr>\n",
       "      <th>12804</th>\n",
       "      <td>0.00</td>\n",
       "    </tr>\n",
       "    <tr>\n",
       "      <th>38823</th>\n",
       "      <td>0.00</td>\n",
       "    </tr>\n",
       "  </tbody>\n",
       "</table>\n",
       "</div>"
      ],
      "text/plain": [
       "       GenProba\n",
       "38162      0.26\n",
       "15061      0.98\n",
       "31436      0.07\n",
       "12804      0.00\n",
       "38823      0.00"
      ]
     },
     "execution_count": 236,
     "metadata": {},
     "output_type": "execute_result"
    }
   ],
   "source": [
    "matrix_result = np.vstack(probas)\n",
    "probasDF = pd.DataFrame({'GenProba': matrix_result[:,1]}, index=idx)\n",
    "probasDF =  probasDF.round(2)\n",
    "probasDF.to_csv('leaveOneOut1.csv')\n",
    "probasDF.head()"
   ]
  },
  {
   "cell_type": "code",
   "execution_count": 123,
   "metadata": {},
   "outputs": [],
   "source": [
    "probasDF = pd.read_csv('leaveOneOut.csv', index_col=0)"
   ]
  },
  {
   "cell_type": "code",
   "execution_count": 124,
   "metadata": {},
   "outputs": [
    {
     "data": {
      "text/html": [
       "<div>\n",
       "<style scoped>\n",
       "    .dataframe tbody tr th:only-of-type {\n",
       "        vertical-align: middle;\n",
       "    }\n",
       "\n",
       "    .dataframe tbody tr th {\n",
       "        vertical-align: top;\n",
       "    }\n",
       "\n",
       "    .dataframe thead th {\n",
       "        text-align: right;\n",
       "    }\n",
       "</style>\n",
       "<table border=\"1\" class=\"dataframe\">\n",
       "  <thead>\n",
       "    <tr style=\"text-align: right;\">\n",
       "      <th></th>\n",
       "      <th>GenProba</th>\n",
       "    </tr>\n",
       "  </thead>\n",
       "  <tbody>\n",
       "    <tr>\n",
       "      <th>38162</th>\n",
       "      <td>0.26</td>\n",
       "    </tr>\n",
       "    <tr>\n",
       "      <th>15061</th>\n",
       "      <td>0.98</td>\n",
       "    </tr>\n",
       "    <tr>\n",
       "      <th>31436</th>\n",
       "      <td>0.07</td>\n",
       "    </tr>\n",
       "    <tr>\n",
       "      <th>12804</th>\n",
       "      <td>0.00</td>\n",
       "    </tr>\n",
       "    <tr>\n",
       "      <th>38823</th>\n",
       "      <td>0.00</td>\n",
       "    </tr>\n",
       "  </tbody>\n",
       "</table>\n",
       "</div>"
      ],
      "text/plain": [
       "       GenProba\n",
       "38162      0.26\n",
       "15061      0.98\n",
       "31436      0.07\n",
       "12804      0.00\n",
       "38823      0.00"
      ]
     },
     "execution_count": 124,
     "metadata": {},
     "output_type": "execute_result"
    }
   ],
   "source": [
    "probasDF.head()"
   ]
  },
  {
   "cell_type": "code",
   "execution_count": 125,
   "metadata": {},
   "outputs": [
    {
     "data": {
      "text/html": [
       "<div>\n",
       "<style scoped>\n",
       "    .dataframe tbody tr th:only-of-type {\n",
       "        vertical-align: middle;\n",
       "    }\n",
       "\n",
       "    .dataframe tbody tr th {\n",
       "        vertical-align: top;\n",
       "    }\n",
       "\n",
       "    .dataframe thead th {\n",
       "        text-align: right;\n",
       "    }\n",
       "</style>\n",
       "<table border=\"1\" class=\"dataframe\">\n",
       "  <thead>\n",
       "    <tr style=\"text-align: right;\">\n",
       "      <th></th>\n",
       "      <th>text</th>\n",
       "      <th>label</th>\n",
       "      <th>author</th>\n",
       "    </tr>\n",
       "  </thead>\n",
       "  <tbody>\n",
       "    <tr>\n",
       "      <th>18554</th>\n",
       "      <td>Dont get me wrong cars are a good thing for bu...</td>\n",
       "      <td>0</td>\n",
       "      <td>Student</td>\n",
       "    </tr>\n",
       "    <tr>\n",
       "      <th>27175</th>\n",
       "      <td>Many people believe that the face on Mars was ...</td>\n",
       "      <td>0</td>\n",
       "      <td>Student</td>\n",
       "    </tr>\n",
       "    <tr>\n",
       "      <th>25127</th>\n",
       "      <td>Dear State Senator, Every four years, the time...</td>\n",
       "      <td>0</td>\n",
       "      <td>Student</td>\n",
       "    </tr>\n",
       "    <tr>\n",
       "      <th>28598</th>\n",
       "      <td>Gun control is a really important issue that a...</td>\n",
       "      <td>1</td>\n",
       "      <td>Machine</td>\n",
       "    </tr>\n",
       "    <tr>\n",
       "      <th>26522</th>\n",
       "      <td>Hey there!  So, I've been thinking a lot about...</td>\n",
       "      <td>1</td>\n",
       "      <td>Machine</td>\n",
       "    </tr>\n",
       "  </tbody>\n",
       "</table>\n",
       "</div>"
      ],
      "text/plain": [
       "                                                    text  label   author\n",
       "18554  Dont get me wrong cars are a good thing for bu...      0  Student\n",
       "27175  Many people believe that the face on Mars was ...      0  Student\n",
       "25127  Dear State Senator, Every four years, the time...      0  Student\n",
       "28598  Gun control is a really important issue that a...      1  Machine\n",
       "26522  Hey there!  So, I've been thinking a lot about...      1  Machine"
      ]
     },
     "execution_count": 125,
     "metadata": {},
     "output_type": "execute_result"
    }
   ],
   "source": [
    "trainSet.sample(5)"
   ]
  },
  {
   "cell_type": "code",
   "execution_count": null,
   "metadata": {},
   "outputs": [],
   "source": [
    "# trainSet['GenProba'] = probasDF.sort_index().iloc[:,1].values\n",
    "# trainSet.head(10)\n",
    "newTrainDF = pd.concat([ trainSet.sort_index(),\n",
    "                        probasDF.sort_index().GenProba\n",
    "                        ], axis=1, ignore_index=True)\n",
    "\n",
    "newTrainDF.rename( columns={ 0:'text', 1:'label', 2:'genProb'}, inplace=True)\n",
    "newTrainDF.head(10)\n",
    "# probasDF.sort_index().GenProba"
   ]
  },
  {
   "cell_type": "code",
   "execution_count": 252,
   "metadata": {},
   "outputs": [
    {
     "name": "stdout",
     "output_type": "stream",
     "text": [
      "Elements that are not unique: [ 2  4  7 28 38 40 43 44 63]\n"
     ]
    }
   ],
   "source": [
    "# Find unique elements and their counts\n",
    "unique_elements, counts = np.unique(idx, return_counts=True)\n",
    "# Find elements that are not unique (have counts greater than 1)\n",
    "not_unique_elements = unique_elements[counts > 1]\n",
    "print(\"Elements that are not unique:\", not_unique_elements)"
   ]
  },
  {
   "cell_type": "markdown",
   "metadata": {},
   "source": [
    "- Correlation berween Jaccard similarity and the probability that the text was generated"
   ]
  },
  {
   "cell_type": "code",
   "execution_count": 410,
   "metadata": {},
   "outputs": [
    {
     "data": {
      "text/html": [
       "<div>\n",
       "<style scoped>\n",
       "    .dataframe tbody tr th:only-of-type {\n",
       "        vertical-align: middle;\n",
       "    }\n",
       "\n",
       "    .dataframe tbody tr th {\n",
       "        vertical-align: top;\n",
       "    }\n",
       "\n",
       "    .dataframe thead th {\n",
       "        text-align: right;\n",
       "    }\n",
       "</style>\n",
       "<table border=\"1\" class=\"dataframe\">\n",
       "  <thead>\n",
       "    <tr style=\"text-align: right;\">\n",
       "      <th></th>\n",
       "      <th>text</th>\n",
       "      <th>label</th>\n",
       "      <th>mean</th>\n",
       "      <th>max</th>\n",
       "      <th>genProb</th>\n",
       "    </tr>\n",
       "  </thead>\n",
       "  <tbody>\n",
       "    <tr>\n",
       "      <th>30367</th>\n",
       "      <td>[Sure, ,, here, 's, my, attempt, at, writing, ...</td>\n",
       "      <td>1</td>\n",
       "      <td>0.14</td>\n",
       "      <td>0.23</td>\n",
       "      <td>0.94</td>\n",
       "    </tr>\n",
       "    <tr>\n",
       "      <th>3257</th>\n",
       "      <td>[Dear, Principal, ,, I, hope, this, letter, fi...</td>\n",
       "      <td>1</td>\n",
       "      <td>0.12</td>\n",
       "      <td>0.23</td>\n",
       "      <td>0.95</td>\n",
       "    </tr>\n",
       "    <tr>\n",
       "      <th>4</th>\n",
       "      <td>[I, strongly, believe, that, meditation, and, ...</td>\n",
       "      <td>1</td>\n",
       "      <td>0.09</td>\n",
       "      <td>0.16</td>\n",
       "      <td>0.98</td>\n",
       "    </tr>\n",
       "    <tr>\n",
       "      <th>15362</th>\n",
       "      <td>[I, agree, with, the, principal, 's, decision,...</td>\n",
       "      <td>1</td>\n",
       "      <td>0.13</td>\n",
       "      <td>0.25</td>\n",
       "      <td>0.73</td>\n",
       "    </tr>\n",
       "    <tr>\n",
       "      <th>22201</th>\n",
       "      <td>[Group, work, environments, offer, a, variety,...</td>\n",
       "      <td>1</td>\n",
       "      <td>0.10</td>\n",
       "      <td>0.16</td>\n",
       "      <td>0.99</td>\n",
       "    </tr>\n",
       "  </tbody>\n",
       "</table>\n",
       "</div>"
      ],
      "text/plain": [
       "                                                    text  label  mean   max  \\\n",
       "30367  [Sure, ,, here, 's, my, attempt, at, writing, ...      1  0.14  0.23   \n",
       "3257   [Dear, Principal, ,, I, hope, this, letter, fi...      1  0.12  0.23   \n",
       "4      [I, strongly, believe, that, meditation, and, ...      1  0.09  0.16   \n",
       "15362  [I, agree, with, the, principal, 's, decision,...      1  0.13  0.25   \n",
       "22201  [Group, work, environments, offer, a, variety,...      1  0.10  0.16   \n",
       "\n",
       "       genProb  \n",
       "30367     0.94  \n",
       "3257      0.95  \n",
       "4         0.98  \n",
       "15362     0.73  \n",
       "22201     0.99  "
      ]
     },
     "execution_count": 410,
     "metadata": {},
     "output_type": "execute_result"
    }
   ],
   "source": [
    "corDF0 = pd.merge(essaysGen,similaritiesDF, left_index=True, right_index=True).sort_index()\n",
    "corDF0['genProb'] = newTrainDF[newTrainDF.label==1].genProb\n",
    "corDF = corDF0.sample(50)\n",
    "# corDF = corDF.sort_values(by='genProb')\n",
    "corDF.head(5)"
   ]
  },
  {
   "cell_type": "code",
   "execution_count": null,
   "metadata": {},
   "outputs": [],
   "source": [
    "plt.style.use('default')\n",
    "\n",
    "fig, ax = plt.subplots(figsize=(20, 6))  # Adjust the width as needed\n",
    "plt.plot([], [], color ='tab:blue', \n",
    "         label ='Generated prob.')\n",
    "plt.plot([], [], color ='tab:orange',\n",
    "         label ='Jaccard Similarity')\n",
    "plt.stackplot(range(1,corDF.shape[0]+1), corDF['genProb'], corDF['max'])\n",
    "# Add a horizontal line at y=1\n",
    "ax.axhline(y=1, color='red', linestyle='--', label='Ideal scenario')\n",
    "\n",
    "# Customize the plot\n",
    "# Remove spines\n",
    "ax.spines['top'].set_visible(False)\n",
    "ax.spines['right'].set_visible(False)\n",
    "ax.spines['bottom'].set_visible(False)\n",
    "ax.spines['left'].set_visible(False)\n",
    "ax.set_title(' Correlation between the similarity scores and the prediction probability', fontsize= 14)\n",
    "ax.set_xlabel('Sample of texts')\n",
    "ax.set_xlim(1,50)\n",
    "ax.set_ylabel('Probability')\n",
    "ax.legend(loc='lower right')\n",
    "caption = \"Thesis: The more similar pairs of student-LLM texts are, the harder it should be for the classifier to distinguish the True class. \\nFollowing that logic, the correlation between the probability that a text is generated, should be inversely proportional to the maximum similarity of that text to all the rest. \\n In the plot above, the ideal scenario is captured at points x=5, x=9, where the probabilities sum to one.\"\n",
    "plt.text(0.5, -0.25, caption, fontsize=12, ha='center', transform=ax.transAxes, color='tab:grey')\n",
    "\n",
    "# Save the plot as a PNG file\n",
    "plt.savefig('cor Sim VS Prob.png', bbox_inches='tight')\n",
    "\n",
    "plt.show()"
   ]
  },
  {
   "cell_type": "code",
   "execution_count": 127,
   "metadata": {},
   "outputs": [
    {
     "data": {
      "image/png": "[encoded data removed]",
      "text/plain": [
       "<IPython.core.display.Image object>"
      ]
     },
     "metadata": {},
     "output_type": "display_data"
    }
   ],
   "source": [
    "from IPython.display import display, Image\n",
    "image_path = \"img/cor Sim VS Prob.png\"  \n",
    "display(Image(filename=image_path))"
   ]
  },
  {
   "cell_type": "markdown",
   "metadata": {},
   "source": [
    "### A5]\n",
    "Based on your study so far, decide which generated texts should be discarded in order to improve\n",
    "the benchmark and yield a more robust classifier."
   ]
  },
  {
   "cell_type": "code",
   "execution_count": 403,
   "metadata": {},
   "outputs": [
    {
     "data": {
      "image/png": "[encoded data removed]",
      "text/plain": [
       "<Figure size 700x400 with 2 Axes>"
      ]
     },
     "metadata": {},
     "output_type": "display_data"
    }
   ],
   "source": [
    "# Use seaborn style\n",
    "sns.set(style=\"darkgrid\")\n",
    "\n",
    "# Create a figure with two subplots (one for each column)\n",
    "fig, axs = plt.subplots(1, 2, figsize=(7,4), sharey=True)\n",
    "\n",
    "# Box plot for genProb\n",
    "sns.boxplot(data=corDF, y='genProb', ax=axs[0], color='lightblue')\n",
    "axs[0].set_title('Distribution of probability \"Generated\"')\n",
    "# axs[0].set_yticklabels((axs[0].get_yticks() * 100).round(0))  # Multiply y-axis values by 100\n",
    "axs[0].set_ylabel('Probability')\n",
    "axs[0].axhline(y=(1-corDF['mean'].min()), color='red', linestyle='--', label='Vertical Line at y=0.95')  # Add vertical line\n",
    "\n",
    "# Box plot for max\n",
    "sns.boxplot(data=corDF, y=(1-corDF['mean']), ax=axs[1], color='peachpuff')\n",
    "axs[1].set_title('Distribution of mean dissimilarity')\n",
    "axs[1].set_ylabel('')\n",
    "\n",
    "# Remove spines\n",
    "for ax in axs:\n",
    "    sns.despine(ax=ax, top=True, right=True, left=True, bottom=True)\n",
    "\n",
    "# Adjust layout to prevent clipping of titles\n",
    "plt.tight_layout()\n",
    "caption = \"Thesis: The more dissimilar a generated text is from an original, the easier it is should be to detect. \\nBy removing the texts with probability greater than \\nthe max average dissimilarity, we force the model to focus on the nuances of each text. \"\n",
    "plt.text(0, -0.15, caption, fontsize=10, ha='center', transform=ax.transAxes, color='tab:grey')\n",
    "\n",
    "# Save the plot as a PNG file\n",
    "plt.savefig('a5.box1.png', bbox_inches='tight')\n",
    "\n",
    "# Show the plot\n",
    "plt.show()"
   ]
  },
  {
   "cell_type": "code",
   "execution_count": 513,
   "metadata": {},
   "outputs": [
    {
     "data": {
      "text/html": [
       "<div>\n",
       "<style scoped>\n",
       "    .dataframe tbody tr th:only-of-type {\n",
       "        vertical-align: middle;\n",
       "    }\n",
       "\n",
       "    .dataframe tbody tr th {\n",
       "        vertical-align: top;\n",
       "    }\n",
       "\n",
       "    .dataframe thead th {\n",
       "        text-align: right;\n",
       "    }\n",
       "</style>\n",
       "<table border=\"1\" class=\"dataframe\">\n",
       "  <thead>\n",
       "    <tr style=\"text-align: right;\">\n",
       "      <th></th>\n",
       "      <th>text</th>\n",
       "      <th>label</th>\n",
       "      <th>mean</th>\n",
       "      <th>max</th>\n",
       "      <th>genProb</th>\n",
       "    </tr>\n",
       "  </thead>\n",
       "  <tbody>\n",
       "    <tr>\n",
       "      <th>43830</th>\n",
       "      <td>[The, use, of, Facial, Action, Coding, System,...</td>\n",
       "      <td>1</td>\n",
       "      <td>0.10</td>\n",
       "      <td>0.18</td>\n",
       "      <td>0.92</td>\n",
       "    </tr>\n",
       "    <tr>\n",
       "      <th>6669</th>\n",
       "      <td>[While, distance, learning, offers, flexibilit...</td>\n",
       "      <td>1</td>\n",
       "      <td>0.12</td>\n",
       "      <td>0.24</td>\n",
       "      <td>0.93</td>\n",
       "    </tr>\n",
       "    <tr>\n",
       "      <th>33628</th>\n",
       "      <td>[Hey, there, !, So, ,, like, ,, individuality,...</td>\n",
       "      <td>1</td>\n",
       "      <td>0.14</td>\n",
       "      <td>0.24</td>\n",
       "      <td>0.92</td>\n",
       "    </tr>\n",
       "    <tr>\n",
       "      <th>27554</th>\n",
       "      <td>[Ralph, Waldo, Emerson, 's, quote, ``, To, be,...</td>\n",
       "      <td>1</td>\n",
       "      <td>0.12</td>\n",
       "      <td>0.19</td>\n",
       "      <td>0.89</td>\n",
       "    </tr>\n",
       "    <tr>\n",
       "      <th>23776</th>\n",
       "      <td>[Okay, ,, here, is, my, attempt, at, writing, ...</td>\n",
       "      <td>1</td>\n",
       "      <td>0.16</td>\n",
       "      <td>0.27</td>\n",
       "      <td>0.74</td>\n",
       "    </tr>\n",
       "    <tr>\n",
       "      <th>25871</th>\n",
       "      <td>[Limiting, car, usage, can, provide, significa...</td>\n",
       "      <td>1</td>\n",
       "      <td>0.11</td>\n",
       "      <td>0.28</td>\n",
       "      <td>0.92</td>\n",
       "    </tr>\n",
       "    <tr>\n",
       "      <th>23254</th>\n",
       "      <td>[As, an, 8th, grade, student, ,, I, have, been...</td>\n",
       "      <td>1</td>\n",
       "      <td>0.12</td>\n",
       "      <td>0.21</td>\n",
       "      <td>0.91</td>\n",
       "    </tr>\n",
       "    <tr>\n",
       "      <th>40205</th>\n",
       "      <td>[I, beleive, that, schools, should, implement,...</td>\n",
       "      <td>1</td>\n",
       "      <td>0.13</td>\n",
       "      <td>0.23</td>\n",
       "      <td>0.72</td>\n",
       "    </tr>\n",
       "    <tr>\n",
       "      <th>24729</th>\n",
       "      <td>[Planning, and, organization, are, crucial, wh...</td>\n",
       "      <td>1</td>\n",
       "      <td>0.13</td>\n",
       "      <td>0.22</td>\n",
       "      <td>0.57</td>\n",
       "    </tr>\n",
       "    <tr>\n",
       "      <th>31257</th>\n",
       "      <td>[Year-round, schools, have, been, a, topic, of...</td>\n",
       "      <td>1</td>\n",
       "      <td>0.14</td>\n",
       "      <td>0.26</td>\n",
       "      <td>0.87</td>\n",
       "    </tr>\n",
       "  </tbody>\n",
       "</table>\n",
       "</div>"
      ],
      "text/plain": [
       "                                                    text  label  mean   max  \\\n",
       "43830  [The, use, of, Facial, Action, Coding, System,...      1  0.10  0.18   \n",
       "6669   [While, distance, learning, offers, flexibilit...      1  0.12  0.24   \n",
       "33628  [Hey, there, !, So, ,, like, ,, individuality,...      1  0.14  0.24   \n",
       "27554  [Ralph, Waldo, Emerson, 's, quote, ``, To, be,...      1  0.12  0.19   \n",
       "23776  [Okay, ,, here, is, my, attempt, at, writing, ...      1  0.16  0.27   \n",
       "25871  [Limiting, car, usage, can, provide, significa...      1  0.11  0.28   \n",
       "23254  [As, an, 8th, grade, student, ,, I, have, been...      1  0.12  0.21   \n",
       "40205  [I, beleive, that, schools, should, implement,...      1  0.13  0.23   \n",
       "24729  [Planning, and, organization, are, crucial, wh...      1  0.13  0.22   \n",
       "31257  [Year-round, schools, have, been, a, topic, of...      1  0.14  0.26   \n",
       "\n",
       "       genProb  \n",
       "43830     0.92  \n",
       "6669      0.93  \n",
       "33628     0.92  \n",
       "27554     0.89  \n",
       "23776     0.74  \n",
       "25871     0.92  \n",
       "23254     0.91  \n",
       "40205     0.72  \n",
       "24729     0.57  \n",
       "31257     0.87  "
      ]
     },
     "execution_count": 513,
     "metadata": {},
     "output_type": "execute_result"
    }
   ],
   "source": [
    "cutoff = 1-corDF0['mean'].min() # max dissimilarity\n",
    "cutoff1 = corDF0['genProb'].quantile(0.75)\n",
    "corDF = corDF0[corDF0.genProb < cutoff]\n",
    "corDF.sample(10)"
   ]
  },
  {
   "cell_type": "code",
   "execution_count": 514,
   "metadata": {},
   "outputs": [
    {
     "data": {
      "text/plain": [
       "0.97"
      ]
     },
     "execution_count": 514,
     "metadata": {},
     "output_type": "execute_result"
    }
   ],
   "source": [
    "cutoff1 = corDF0['genProb'].quantile(0.75)\n",
    "cutoff1"
   ]
  },
  {
   "cell_type": "code",
   "execution_count": 515,
   "metadata": {},
   "outputs": [
    {
     "data": {
      "text/html": [
       "<div>\n",
       "<style scoped>\n",
       "    .dataframe tbody tr th:only-of-type {\n",
       "        vertical-align: middle;\n",
       "    }\n",
       "\n",
       "    .dataframe tbody tr th {\n",
       "        vertical-align: top;\n",
       "    }\n",
       "\n",
       "    .dataframe thead th {\n",
       "        text-align: right;\n",
       "    }\n",
       "</style>\n",
       "<table border=\"1\" class=\"dataframe\">\n",
       "  <thead>\n",
       "    <tr style=\"text-align: right;\">\n",
       "      <th></th>\n",
       "      <th>text</th>\n",
       "      <th>label</th>\n",
       "    </tr>\n",
       "  </thead>\n",
       "  <tbody>\n",
       "    <tr>\n",
       "      <th>11430</th>\n",
       "      <td>[Introduction, :, The, development, of, driver...</td>\n",
       "      <td>1</td>\n",
       "    </tr>\n",
       "    <tr>\n",
       "      <th>43318</th>\n",
       "      <td>[Spending, time, outdoors, is, an, important, ...</td>\n",
       "      <td>1</td>\n",
       "    </tr>\n",
       "    <tr>\n",
       "      <th>43312</th>\n",
       "      <td>[Reflection, on, Failure, :, I, have, faced, f...</td>\n",
       "      <td>1</td>\n",
       "    </tr>\n",
       "    <tr>\n",
       "      <th>13848</th>\n",
       "      <td>[Are, you, considering, home, schooling, for, ...</td>\n",
       "      <td>1</td>\n",
       "    </tr>\n",
       "    <tr>\n",
       "      <th>21098</th>\n",
       "      <td>[One, of, the, benefits, of, online, classes, ...</td>\n",
       "      <td>1</td>\n",
       "    </tr>\n",
       "  </tbody>\n",
       "</table>\n",
       "</div>"
      ],
      "text/plain": [
       "                                                    text  label\n",
       "11430  [Introduction, :, The, development, of, driver...      1\n",
       "43318  [Spending, time, outdoors, is, an, important, ...      1\n",
       "43312  [Reflection, on, Failure, :, I, have, faced, f...      1\n",
       "13848  [Are, you, considering, home, schooling, for, ...      1\n",
       "21098  [One, of, the, benefits, of, online, classes, ...      1"
      ]
     },
     "execution_count": 515,
     "metadata": {},
     "output_type": "execute_result"
    }
   ],
   "source": [
    "corDF = corDF.drop(['mean','max','genProb'], axis=1)\n",
    "corDF.sample(5)"
   ]
  },
  {
   "cell_type": "code",
   "execution_count": 561,
   "metadata": {},
   "outputs": [
    {
     "data": {
      "text/html": [
       "<div>\n",
       "<style scoped>\n",
       "    .dataframe tbody tr th:only-of-type {\n",
       "        vertical-align: middle;\n",
       "    }\n",
       "\n",
       "    .dataframe tbody tr th {\n",
       "        vertical-align: top;\n",
       "    }\n",
       "\n",
       "    .dataframe thead th {\n",
       "        text-align: right;\n",
       "    }\n",
       "</style>\n",
       "<table border=\"1\" class=\"dataframe\">\n",
       "  <thead>\n",
       "    <tr style=\"text-align: right;\">\n",
       "      <th></th>\n",
       "      <th>text</th>\n",
       "      <th>label</th>\n",
       "    </tr>\n",
       "  </thead>\n",
       "  <tbody>\n",
       "    <tr>\n",
       "      <th>17484</th>\n",
       "      <td>Throughout history , there have been many indi...</td>\n",
       "      <td>1</td>\n",
       "    </tr>\n",
       "    <tr>\n",
       "      <th>22732</th>\n",
       "      <td>Dear State Senator , It has recently come to m...</td>\n",
       "      <td>0</td>\n",
       "    </tr>\n",
       "    <tr>\n",
       "      <th>24317</th>\n",
       "      <td>Imagine being stuck in traffic again for the f...</td>\n",
       "      <td>0</td>\n",
       "    </tr>\n",
       "    <tr>\n",
       "      <th>44131</th>\n",
       "      <td>Looking for some fun activities to do at the p...</td>\n",
       "      <td>1</td>\n",
       "    </tr>\n",
       "    <tr>\n",
       "      <th>27969</th>\n",
       "      <td>This will be about my opinions and what I thin...</td>\n",
       "      <td>0</td>\n",
       "    </tr>\n",
       "  </tbody>\n",
       "</table>\n",
       "</div>"
      ],
      "text/plain": [
       "                                                    text  label\n",
       "17484  Throughout history , there have been many indi...      1\n",
       "22732  Dear State Senator , It has recently come to m...      0\n",
       "24317  Imagine being stuck in traffic again for the f...      0\n",
       "44131  Looking for some fun activities to do at the p...      1\n",
       "27969  This will be about my opinions and what I thin...      0"
      ]
     },
     "execution_count": 561,
     "metadata": {},
     "output_type": "execute_result"
    }
   ],
   "source": [
    "X = pd.concat([corDF, essaysSdn])\n",
    "X['text'] = X['text'].apply(\" \".join)\n",
    "X.sample(5)"
   ]
  },
  {
   "cell_type": "code",
   "execution_count": 517,
   "metadata": {},
   "outputs": [
    {
     "name": "stdout",
     "output_type": "stream",
     "text": [
      "              precision    recall  f1-score   support\n",
      "\n",
      "           0       0.99      1.00      0.99      5000\n",
      "           1       1.00      0.99      0.99      5000\n",
      "\n",
      "    accuracy                           0.99     10000\n",
      "   macro avg       0.99      0.99      0.99     10000\n",
      "weighted avg       0.99      0.99      0.99     10000\n",
      "\n"
     ]
    },
    {
     "data": {
      "image/png": "[encoded data removed]",
      "text/plain": [
       "<Figure size 400x400 with 1 Axes>"
      ]
     },
     "metadata": {},
     "output_type": "display_data"
    }
   ],
   "source": [
    "vectorizer = TfidfVectorizer()\n",
    "X, y = vectorizer.fit_transform(X.text), X.label\n",
    "logistic = LogisticRegression(max_iter=1000,class_weight={0: 3}).fit(X,y)\n",
    "y_pred = logistic.predict(vectorizer.transform(validationSet.text))\n",
    "print( classification_report(validationSet.label,\n",
    "                             y_pred,\n",
    "                             zero_division=0))\n",
    "\n",
    "                             \n",
    "plt.style.use('default')\n",
    "fig, ax = plt.subplots(figsize=(4,4))\n",
    "ConfusionMatrixDisplay.from_predictions(validationSet.label,\n",
    "                                             y_pred,\n",
    "                                             colorbar=False,\n",
    "                                             ax=ax)\n",
    "ax.xaxis.set_ticklabels(['Student','Machine'])\n",
    "ax.yaxis.set_ticklabels(['Student','Machine'])\n",
    "_ = ax.set_title(\n",
    "    f\"Confusion Matrix for Logistic Regression\\non the validation documents\"\n",
    ")"
   ]
  },
  {
   "cell_type": "markdown",
   "metadata": {},
   "source": [
    "## Part B"
   ]
  },
  {
   "cell_type": "markdown",
   "metadata": {},
   "source": [
    "### 1. Keep a test set apart and split the train data into portions (10%, …, 90%, 100%)."
   ]
  },
  {
   "cell_type": "code",
   "execution_count": 128,
   "metadata": {},
   "outputs": [
    {
     "data": {
      "text/html": [
       "<div>\n",
       "<style scoped>\n",
       "    .dataframe tbody tr th:only-of-type {\n",
       "        vertical-align: middle;\n",
       "    }\n",
       "\n",
       "    .dataframe tbody tr th {\n",
       "        vertical-align: top;\n",
       "    }\n",
       "\n",
       "    .dataframe thead th {\n",
       "        text-align: right;\n",
       "    }\n",
       "</style>\n",
       "<table border=\"1\" class=\"dataframe\">\n",
       "  <thead>\n",
       "    <tr style=\"text-align: right;\">\n",
       "      <th></th>\n",
       "      <th>model</th>\n",
       "      <th>prompt</th>\n",
       "      <th>text</th>\n",
       "      <th>generated</th>\n",
       "    </tr>\n",
       "  </thead>\n",
       "  <tbody>\n",
       "    <tr>\n",
       "      <th>0</th>\n",
       "      <td>0</td>\n",
       "      <td>0</td>\n",
       "      <td>In recent years, our society has been grapplin...</td>\n",
       "      <td>1</td>\n",
       "    </tr>\n",
       "    <tr>\n",
       "      <th>1</th>\n",
       "      <td>0</td>\n",
       "      <td>0</td>\n",
       "      <td>For most people, hopping in a car is the norm ...</td>\n",
       "      <td>1</td>\n",
       "    </tr>\n",
       "    <tr>\n",
       "      <th>2</th>\n",
       "      <td>0</td>\n",
       "      <td>0</td>\n",
       "      <td>In recent years, the issue of limiting car usa...</td>\n",
       "      <td>1</td>\n",
       "    </tr>\n",
       "    <tr>\n",
       "      <th>3</th>\n",
       "      <td>0</td>\n",
       "      <td>0</td>\n",
       "      <td>As high school students navigating our way thr...</td>\n",
       "      <td>1</td>\n",
       "    </tr>\n",
       "    <tr>\n",
       "      <th>4</th>\n",
       "      <td>0</td>\n",
       "      <td>0</td>\n",
       "      <td>Hey, fellow students! Let's dive into a topic ...</td>\n",
       "      <td>1</td>\n",
       "    </tr>\n",
       "  </tbody>\n",
       "</table>\n",
       "</div>"
      ],
      "text/plain": [
       "   model  prompt                                               text  generated\n",
       "0      0       0  In recent years, our society has been grapplin...          1\n",
       "1      0       0  For most people, hopping in a car is the norm ...          1\n",
       "2      0       0  In recent years, the issue of limiting car usa...          1\n",
       "3      0       0  As high school students navigating our way thr...          1\n",
       "4      0       0  Hey, fellow students! Let's dive into a topic ...          1"
      ]
     },
     "execution_count": 128,
     "metadata": {},
     "output_type": "execute_result"
    }
   ],
   "source": [
    "# Load my AI text\n",
    "myLLM = pd.read_csv('augmentation.csv')\n",
    "myLLM['generated'] = 1\n",
    "myLLM.head()"
   ]
  },
  {
   "cell_type": "code",
   "execution_count": 712,
   "metadata": {},
   "outputs": [
    {
     "data": {
      "text/html": [
       "<div>\n",
       "<style scoped>\n",
       "    .dataframe tbody tr th:only-of-type {\n",
       "        vertical-align: middle;\n",
       "    }\n",
       "\n",
       "    .dataframe tbody tr th {\n",
       "        vertical-align: top;\n",
       "    }\n",
       "\n",
       "    .dataframe thead th {\n",
       "        text-align: right;\n",
       "    }\n",
       "</style>\n",
       "<table border=\"1\" class=\"dataframe\">\n",
       "  <thead>\n",
       "    <tr style=\"text-align: right;\">\n",
       "      <th></th>\n",
       "      <th>text</th>\n",
       "      <th>generated</th>\n",
       "    </tr>\n",
       "  </thead>\n",
       "  <tbody>\n",
       "    <tr>\n",
       "      <th>0</th>\n",
       "      <td>Dear Mr.Mrs. Senator, The Electoral College is...</td>\n",
       "      <td>0</td>\n",
       "    </tr>\n",
       "    <tr>\n",
       "      <th>1</th>\n",
       "      <td>Hey everyone, let's stop relying on cars so m...</td>\n",
       "      <td>1</td>\n",
       "    </tr>\n",
       "    <tr>\n",
       "      <th>2</th>\n",
       "      <td>In the world today you will see cars just abou...</td>\n",
       "      <td>0</td>\n",
       "    </tr>\n",
       "    <tr>\n",
       "      <th>3</th>\n",
       "      <td>Dear State Senator, After experiencing the dis...</td>\n",
       "      <td>0</td>\n",
       "    </tr>\n",
       "    <tr>\n",
       "      <th>4</th>\n",
       "      <td>I think that we should change to popular vote ...</td>\n",
       "      <td>0</td>\n",
       "    </tr>\n",
       "  </tbody>\n",
       "</table>\n",
       "</div>"
      ],
      "text/plain": [
       "                                                text  generated\n",
       "0  Dear Mr.Mrs. Senator, The Electoral College is...          0\n",
       "1   Hey everyone, let's stop relying on cars so m...          1\n",
       "2  In the world today you will see cars just abou...          0\n",
       "3  Dear State Senator, After experiencing the dis...          0\n",
       "4  I think that we should change to popular vote ...          0"
      ]
     },
     "execution_count": 712,
     "metadata": {},
     "output_type": "execute_result"
    }
   ],
   "source": [
    "newTrainDF = pd.concat([trainDF[['text','generated']].sample(80, random_state=42),\n",
    "                        myLLM[['text', 'generated']]\n",
    "])\n",
    "\n",
    "# shuffled = trainSet.sample(frac=1, random_state=42)\n",
    "newTrainDF = newTrainDF.sample(frac=1, random_state=42)\n",
    "newTrainDF = newTrainDF.reset_index(drop=True)\n",
    "newTrainDF.head()"
   ]
  },
  {
   "cell_type": "code",
   "execution_count": 713,
   "metadata": {},
   "outputs": [
    {
     "data": {
      "image/png": "[encoded data removed]",
      "text/plain": [
       "<Figure size 600x300 with 1 Axes>"
      ]
     },
     "metadata": {},
     "output_type": "display_data"
    }
   ],
   "source": [
    "plt.style.use('ggplot')\n",
    "ax = newTrainDF.generated.value_counts().plot.bar(rot=0, color=['royalblue','tomato'], figsize=(6,3))\n",
    "ax.set_xticklabels(['Student','Machine'])\n",
    "ax.set_title('Training set')\n",
    "ax.set_xlabel('Author')\n",
    "ax.set_ylabel('Number of essays');"
   ]
  },
  {
   "cell_type": "code",
   "execution_count": 714,
   "metadata": {},
   "outputs": [],
   "source": [
    "# Split the data into test-train with stratification\n",
    "train, test = train_test_split(newTrainDF, test_size=0.20, random_state=42, stratify=newTrainDF.generated)"
   ]
  },
  {
   "cell_type": "markdown",
   "metadata": {},
   "source": [
    "### 2. Train your best performing algorithm on each portion."
   ]
  },
  {
   "cell_type": "code",
   "execution_count": 719,
   "metadata": {},
   "outputs": [],
   "source": [
    "vectorizer = TfidfVectorizer()\n",
    "\n",
    "def benchmark(df, portion, testDF=None):\n",
    "    if portion:\n",
    "        # split the train set in train and test\n",
    "        train, _ = train_test_split(df, test_size=portion, random_state=42, stratify=df.generated)\n",
    "    else:\n",
    "        train = df\n",
    "    # Vectorize x_train, keep y seperate\n",
    "    X, y = vectorizer.fit_transform(train.text), train.generated\n",
    "    # FIT model\n",
    "    logistic = LogisticRegression(max_iter=1000).fit(X,y)\n",
    "    # Assess on all training data\n",
    "    y_pred_train = logistic.predict(vectorizer.transform(train.text))\n",
    "    # Asses on the test data\n",
    "    y_pred_test = logistic.predict(vectorizer.transform(testDF.text))\n",
    "    trainF1 = f1_score(train.generated, y_pred_train, zero_division=0, average='macro')\n",
    "    testF1  = f1_score(testDF.generated, y_pred_test, zero_division=0, average='macro')\n",
    "\n",
    "    return trainF1, testF1, len(train)"
   ]
  },
  {
   "cell_type": "markdown",
   "metadata": {},
   "source": [
    "3. Assess each trained instance on the test (the same across portions) and on the training data."
   ]
  },
  {
   "cell_type": "code",
   "execution_count": 720,
   "metadata": {},
   "outputs": [
    {
     "data": {
      "application/vnd.jupyter.widget-view+json": {
       "model_id": "87bb5365a304456aa47aa9d2fc331568",
       "version_major": 2,
       "version_minor": 0
      },
      "text/plain": [
       "Computing learning curves:   0%|          | 0/10 [00:00<?, ?it/s]"
      ]
     },
     "metadata": {},
     "output_type": "display_data"
    }
   ],
   "source": [
    "trainF1, testF1, data = [],[], []\n",
    "for portion in tqdm(np.arange(0.9,-0.1,-0.1), desc='Computing learning curves'):\n",
    "    x, y, z = benchmark(train, portion.round(2), test)\n",
    "    trainF1.append(x)\n",
    "    testF1.append(y)\n",
    "    data.append(z)\n"
   ]
  },
  {
   "cell_type": "markdown",
   "metadata": {},
   "source": [
    "4. Visualize the two curves (train, test), based on an appropriate evaluation measure, diagnosing weak\n",
    "and strong points of your classifier (a.k.a. the learning curves).\n",
    "5. Add a regressor to the plot, to estimate how many more texts should you generate to reach the \"best\"\n",
    "performance."
   ]
  },
  {
   "cell_type": "code",
   "execution_count": 748,
   "metadata": {},
   "outputs": [
    {
     "data": {
      "image/png": "[encoded data removed]",
      "text/plain": [
       "<Figure size 640x480 with 1 Axes>"
      ]
     },
     "metadata": {},
     "output_type": "display_data"
    }
   ],
   "source": [
    "x = data\n",
    "y = testF1\n",
    "# Create a color palette\n",
    "palette = sns.color_palette(\"husl\", 2)\n",
    "\n",
    "portion = np.arange(10,110,10)\n",
    "# Plot the lines with labels\n",
    "fig, ax = plt.subplots()\n",
    "sns.lineplot(x=x, y=trainF1, label='Training F1', marker='o', color=palette[0])\n",
    "sns.lineplot(x=x, y=y, label='Test F1', marker='o', color=palette[1])\n",
    "\n",
    "b, a = np.polyfit(x, y, deg=1)\n",
    "xseq = np.linspace(0, 200, num=100)\n",
    "# Plot regression line\n",
    "ax.plot(xseq, a + b * xseq, color=\"tab:red\", lw=2.5);\n",
    "\n",
    "# Set labels and title\n",
    "plt.xlabel('Size of training set')\n",
    "plt.ylabel('F1 Score')\n",
    "plt.title('Learning curves')\n",
    "\n",
    "ax.set_xlim(10,150)\n",
    "# Add legend\n",
    "plt.legend()\n",
    "\n",
    "# Add grid for better readability\n",
    "plt.grid(True, linestyle='--', alpha=0.6)\n",
    "\n",
    "# Show the plot\n",
    "plt.show()"
   ]
  },
  {
   "cell_type": "markdown",
   "metadata": {},
   "source": [
    "## Part C"
   ]
  },
  {
   "cell_type": "markdown",
   "metadata": {},
   "source": [
    "### 1. Use K-Means, based on an appropriate text representation and the (estimated) optimum K, to cluster the generated essays, and then the student essays."
   ]
  },
  {
   "cell_type": "code",
   "execution_count": 4,
   "metadata": {},
   "outputs": [
    {
     "data": {
      "text/html": [
       "<div>\n",
       "<style scoped>\n",
       "    .dataframe tbody tr th:only-of-type {\n",
       "        vertical-align: middle;\n",
       "    }\n",
       "\n",
       "    .dataframe tbody tr th {\n",
       "        vertical-align: top;\n",
       "    }\n",
       "\n",
       "    .dataframe thead th {\n",
       "        text-align: right;\n",
       "    }\n",
       "</style>\n",
       "<table border=\"1\" class=\"dataframe\">\n",
       "  <thead>\n",
       "    <tr style=\"text-align: right;\">\n",
       "      <th></th>\n",
       "      <th>id</th>\n",
       "      <th>prompt_id</th>\n",
       "      <th>text</th>\n",
       "      <th>generated</th>\n",
       "    </tr>\n",
       "  </thead>\n",
       "  <tbody>\n",
       "    <tr>\n",
       "      <th>0</th>\n",
       "      <td>0059830c</td>\n",
       "      <td>0</td>\n",
       "      <td>Cars. Cars have been around since they became ...</td>\n",
       "      <td>0</td>\n",
       "    </tr>\n",
       "    <tr>\n",
       "      <th>1</th>\n",
       "      <td>005db917</td>\n",
       "      <td>0</td>\n",
       "      <td>Transportation is a large necessity in most co...</td>\n",
       "      <td>0</td>\n",
       "    </tr>\n",
       "    <tr>\n",
       "      <th>2</th>\n",
       "      <td>008f63e3</td>\n",
       "      <td>0</td>\n",
       "      <td>\"America's love affair with it's vehicles seem...</td>\n",
       "      <td>0</td>\n",
       "    </tr>\n",
       "    <tr>\n",
       "      <th>3</th>\n",
       "      <td>00940276</td>\n",
       "      <td>0</td>\n",
       "      <td>How often do you ride in a car? Do you drive a...</td>\n",
       "      <td>0</td>\n",
       "    </tr>\n",
       "    <tr>\n",
       "      <th>4</th>\n",
       "      <td>00c39458</td>\n",
       "      <td>0</td>\n",
       "      <td>Cars are a wonderful thing. They are perhaps o...</td>\n",
       "      <td>0</td>\n",
       "    </tr>\n",
       "  </tbody>\n",
       "</table>\n",
       "</div>"
      ],
      "text/plain": [
       "         id  prompt_id                                               text  \\\n",
       "0  0059830c          0  Cars. Cars have been around since they became ...   \n",
       "1  005db917          0  Transportation is a large necessity in most co...   \n",
       "2  008f63e3          0  \"America's love affair with it's vehicles seem...   \n",
       "3  00940276          0  How often do you ride in a car? Do you drive a...   \n",
       "4  00c39458          0  Cars are a wonderful thing. They are perhaps o...   \n",
       "\n",
       "   generated  \n",
       "0          0  \n",
       "1          0  \n",
       "2          0  \n",
       "3          0  \n",
       "4          0  "
      ]
     },
     "execution_count": 4,
     "metadata": {},
     "output_type": "execute_result"
    }
   ],
   "source": [
    "trainDF = pd.read_csv('data/data_raw/train_essays.csv')\n",
    "trainDF.head()"
   ]
  },
  {
   "cell_type": "code",
   "execution_count": 5,
   "metadata": {},
   "outputs": [
    {
     "data": {
      "text/html": [
       "<div>\n",
       "<style scoped>\n",
       "    .dataframe tbody tr th:only-of-type {\n",
       "        vertical-align: middle;\n",
       "    }\n",
       "\n",
       "    .dataframe tbody tr th {\n",
       "        vertical-align: top;\n",
       "    }\n",
       "\n",
       "    .dataframe thead th {\n",
       "        text-align: right;\n",
       "    }\n",
       "</style>\n",
       "<table border=\"1\" class=\"dataframe\">\n",
       "  <thead>\n",
       "    <tr style=\"text-align: right;\">\n",
       "      <th></th>\n",
       "      <th>model</th>\n",
       "      <th>prompt_id</th>\n",
       "      <th>text</th>\n",
       "      <th>generated</th>\n",
       "    </tr>\n",
       "  </thead>\n",
       "  <tbody>\n",
       "    <tr>\n",
       "      <th>0</th>\n",
       "      <td>0</td>\n",
       "      <td>0</td>\n",
       "      <td>In recent years, our society has been grapplin...</td>\n",
       "      <td>1</td>\n",
       "    </tr>\n",
       "    <tr>\n",
       "      <th>1</th>\n",
       "      <td>0</td>\n",
       "      <td>0</td>\n",
       "      <td>For most people, hopping in a car is the norm ...</td>\n",
       "      <td>1</td>\n",
       "    </tr>\n",
       "    <tr>\n",
       "      <th>2</th>\n",
       "      <td>0</td>\n",
       "      <td>0</td>\n",
       "      <td>In recent years, the issue of limiting car usa...</td>\n",
       "      <td>1</td>\n",
       "    </tr>\n",
       "    <tr>\n",
       "      <th>3</th>\n",
       "      <td>0</td>\n",
       "      <td>0</td>\n",
       "      <td>As high school students navigating our way thr...</td>\n",
       "      <td>1</td>\n",
       "    </tr>\n",
       "    <tr>\n",
       "      <th>4</th>\n",
       "      <td>0</td>\n",
       "      <td>0</td>\n",
       "      <td>Hey, fellow students! Let's dive into a topic ...</td>\n",
       "      <td>1</td>\n",
       "    </tr>\n",
       "  </tbody>\n",
       "</table>\n",
       "</div>"
      ],
      "text/plain": [
       "   model  prompt_id                                               text  \\\n",
       "0      0          0  In recent years, our society has been grapplin...   \n",
       "1      0          0  For most people, hopping in a car is the norm ...   \n",
       "2      0          0  In recent years, the issue of limiting car usa...   \n",
       "3      0          0  As high school students navigating our way thr...   \n",
       "4      0          0  Hey, fellow students! Let's dive into a topic ...   \n",
       "\n",
       "   generated  \n",
       "0          1  \n",
       "1          1  \n",
       "2          1  \n",
       "3          1  \n",
       "4          1  "
      ]
     },
     "execution_count": 5,
     "metadata": {},
     "output_type": "execute_result"
    }
   ],
   "source": [
    "# Load my AI text\n",
    "myLLM = pd.read_csv('augmentation.csv')\n",
    "myLLM.rename(columns={'prompt':'prompt_id'}, inplace=True)\n",
    "myLLM['generated'] = 1\n",
    "myLLM.head()"
   ]
  },
  {
   "cell_type": "code",
   "execution_count": 6,
   "metadata": {},
   "outputs": [
    {
     "data": {
      "text/html": [
       "<div>\n",
       "<style scoped>\n",
       "    .dataframe tbody tr th:only-of-type {\n",
       "        vertical-align: middle;\n",
       "    }\n",
       "\n",
       "    .dataframe tbody tr th {\n",
       "        vertical-align: top;\n",
       "    }\n",
       "\n",
       "    .dataframe thead th {\n",
       "        text-align: right;\n",
       "    }\n",
       "</style>\n",
       "<table border=\"1\" class=\"dataframe\">\n",
       "  <thead>\n",
       "    <tr style=\"text-align: right;\">\n",
       "      <th></th>\n",
       "      <th>text</th>\n",
       "      <th>generated</th>\n",
       "      <th>prompt_id</th>\n",
       "    </tr>\n",
       "  </thead>\n",
       "  <tbody>\n",
       "    <tr>\n",
       "      <th>0</th>\n",
       "      <td>Voting. Voting is a pretty big deal that only ...</td>\n",
       "      <td>0</td>\n",
       "      <td>1</td>\n",
       "    </tr>\n",
       "    <tr>\n",
       "      <th>1</th>\n",
       "      <td>Hey everyone, let's stop relying on cars so m...</td>\n",
       "      <td>1</td>\n",
       "      <td>0</td>\n",
       "    </tr>\n",
       "    <tr>\n",
       "      <th>2</th>\n",
       "      <td>Nowadays, there is one sure thing we depend on...</td>\n",
       "      <td>0</td>\n",
       "      <td>0</td>\n",
       "    </tr>\n",
       "    <tr>\n",
       "      <th>3</th>\n",
       "      <td>Everyone nowadays is so used to driving a car ...</td>\n",
       "      <td>0</td>\n",
       "      <td>0</td>\n",
       "    </tr>\n",
       "    <tr>\n",
       "      <th>4</th>\n",
       "      <td>AnnoyinglyRepetitive commercials, constant new...</td>\n",
       "      <td>0</td>\n",
       "      <td>1</td>\n",
       "    </tr>\n",
       "  </tbody>\n",
       "</table>\n",
       "</div>"
      ],
      "text/plain": [
       "                                                text  generated  prompt_id\n",
       "0  Voting. Voting is a pretty big deal that only ...          0          1\n",
       "1   Hey everyone, let's stop relying on cars so m...          1          0\n",
       "2  Nowadays, there is one sure thing we depend on...          0          0\n",
       "3  Everyone nowadays is so used to driving a car ...          0          0\n",
       "4  AnnoyinglyRepetitive commercials, constant new...          0          1"
      ]
     },
     "execution_count": 6,
     "metadata": {},
     "output_type": "execute_result"
    }
   ],
   "source": [
    "df = pd.concat([trainDF[['text','generated','prompt_id']].sample(80, random_state=42),\n",
    "                        myLLM[['text', 'generated','prompt_id']]\n",
    "])\n",
    "\n",
    "# shuffled = trainSet.sample(frac=1, random_state=42)\n",
    "df = df.sample(frac=1, random_state=42)\n",
    "df = df.reset_index(drop=True)\n",
    "df.head()"
   ]
  },
  {
   "cell_type": "code",
   "execution_count": 65,
   "metadata": {},
   "outputs": [],
   "source": [
    "import nltk\n",
    "from nltk import FreqDist\n",
    "from nltk.corpus import stopwords\n",
    "from nltk.tokenize import word_tokenize\n",
    "plt.style.use('ggplot')\n",
    "\n",
    "# nltk.download('punkt')\n",
    "# nltk.download('stopwords')"
   ]
  },
  {
   "cell_type": "code",
   "execution_count": 66,
   "metadata": {},
   "outputs": [
    {
     "data": {
      "text/html": [
       "<div>\n",
       "<style scoped>\n",
       "    .dataframe tbody tr th:only-of-type {\n",
       "        vertical-align: middle;\n",
       "    }\n",
       "\n",
       "    .dataframe tbody tr th {\n",
       "        vertical-align: top;\n",
       "    }\n",
       "\n",
       "    .dataframe thead th {\n",
       "        text-align: right;\n",
       "    }\n",
       "</style>\n",
       "<table border=\"1\" class=\"dataframe\">\n",
       "  <thead>\n",
       "    <tr style=\"text-align: right;\">\n",
       "      <th></th>\n",
       "      <th>text</th>\n",
       "      <th>generated</th>\n",
       "      <th>prompt_id</th>\n",
       "      <th>words</th>\n",
       "      <th>filtered_words</th>\n",
       "    </tr>\n",
       "  </thead>\n",
       "  <tbody>\n",
       "    <tr>\n",
       "      <th>0</th>\n",
       "      <td>Voting. Voting is a pretty big deal that only ...</td>\n",
       "      <td>0</td>\n",
       "      <td>1</td>\n",
       "      <td>[Voting, ., Voting, is, a, pretty, big, deal, ...</td>\n",
       "      <td>[voting, voting, pretty, big, deal, comes, aro...</td>\n",
       "    </tr>\n",
       "    <tr>\n",
       "      <th>1</th>\n",
       "      <td>Hey everyone, let's stop relying on cars so m...</td>\n",
       "      <td>1</td>\n",
       "      <td>0</td>\n",
       "      <td>[Hey, everyone, ,, let, 's, stop, relying, on,...</td>\n",
       "      <td>[hey, everyone, let, stop, relying, cars, much...</td>\n",
       "    </tr>\n",
       "    <tr>\n",
       "      <th>2</th>\n",
       "      <td>Nowadays, there is one sure thing we depend on...</td>\n",
       "      <td>0</td>\n",
       "      <td>0</td>\n",
       "      <td>[Nowadays, ,, there, is, one, sure, thing, we,...</td>\n",
       "      <td>[nowadays, one, sure, thing, depend, go, point...</td>\n",
       "    </tr>\n",
       "    <tr>\n",
       "      <th>3</th>\n",
       "      <td>Everyone nowadays is so used to driving a car ...</td>\n",
       "      <td>0</td>\n",
       "      <td>0</td>\n",
       "      <td>[Everyone, nowadays, is, so, used, to, driving...</td>\n",
       "      <td>[everyone, nowadays, used, driving, car, even,...</td>\n",
       "    </tr>\n",
       "    <tr>\n",
       "      <th>4</th>\n",
       "      <td>AnnoyinglyRepetitive commercials, constant new...</td>\n",
       "      <td>0</td>\n",
       "      <td>1</td>\n",
       "      <td>[AnnoyinglyRepetitive, commercials, ,, constan...</td>\n",
       "      <td>[annoyinglyrepetitive, commercials, constant, ...</td>\n",
       "    </tr>\n",
       "  </tbody>\n",
       "</table>\n",
       "</div>"
      ],
      "text/plain": [
       "                                                text  generated  prompt_id  \\\n",
       "0  Voting. Voting is a pretty big deal that only ...          0          1   \n",
       "1   Hey everyone, let's stop relying on cars so m...          1          0   \n",
       "2  Nowadays, there is one sure thing we depend on...          0          0   \n",
       "3  Everyone nowadays is so used to driving a car ...          0          0   \n",
       "4  AnnoyinglyRepetitive commercials, constant new...          0          1   \n",
       "\n",
       "                                               words  \\\n",
       "0  [Voting, ., Voting, is, a, pretty, big, deal, ...   \n",
       "1  [Hey, everyone, ,, let, 's, stop, relying, on,...   \n",
       "2  [Nowadays, ,, there, is, one, sure, thing, we,...   \n",
       "3  [Everyone, nowadays, is, so, used, to, driving...   \n",
       "4  [AnnoyinglyRepetitive, commercials, ,, constan...   \n",
       "\n",
       "                                      filtered_words  \n",
       "0  [voting, voting, pretty, big, deal, comes, aro...  \n",
       "1  [hey, everyone, let, stop, relying, cars, much...  \n",
       "2  [nowadays, one, sure, thing, depend, go, point...  \n",
       "3  [everyone, nowadays, used, driving, car, even,...  \n",
       "4  [annoyinglyrepetitive, commercials, constant, ...  "
      ]
     },
     "execution_count": 66,
     "metadata": {},
     "output_type": "execute_result"
    }
   ],
   "source": [
    "# Tokenize the text into words\n",
    "df['words'] = df.text.apply(word_tokenize)\n",
    "df.head()"
   ]
  },
  {
   "cell_type": "code",
   "execution_count": 67,
   "metadata": {},
   "outputs": [
    {
     "data": {
      "text/html": [
       "<div>\n",
       "<style scoped>\n",
       "    .dataframe tbody tr th:only-of-type {\n",
       "        vertical-align: middle;\n",
       "    }\n",
       "\n",
       "    .dataframe tbody tr th {\n",
       "        vertical-align: top;\n",
       "    }\n",
       "\n",
       "    .dataframe thead th {\n",
       "        text-align: right;\n",
       "    }\n",
       "</style>\n",
       "<table border=\"1\" class=\"dataframe\">\n",
       "  <thead>\n",
       "    <tr style=\"text-align: right;\">\n",
       "      <th></th>\n",
       "      <th>text</th>\n",
       "      <th>generated</th>\n",
       "      <th>prompt_id</th>\n",
       "      <th>words</th>\n",
       "      <th>filtered_words</th>\n",
       "    </tr>\n",
       "  </thead>\n",
       "  <tbody>\n",
       "    <tr>\n",
       "      <th>0</th>\n",
       "      <td>Voting. Voting is a pretty big deal that only ...</td>\n",
       "      <td>0</td>\n",
       "      <td>1</td>\n",
       "      <td>[Voting, ., Voting, is, a, pretty, big, deal, ...</td>\n",
       "      <td>[voting, voting, pretty, big, deal, comes, aro...</td>\n",
       "    </tr>\n",
       "    <tr>\n",
       "      <th>1</th>\n",
       "      <td>Hey everyone, let's stop relying on cars so m...</td>\n",
       "      <td>1</td>\n",
       "      <td>0</td>\n",
       "      <td>[Hey, everyone, ,, let, 's, stop, relying, on,...</td>\n",
       "      <td>[hey, everyone, let, stop, relying, cars, much...</td>\n",
       "    </tr>\n",
       "    <tr>\n",
       "      <th>2</th>\n",
       "      <td>Nowadays, there is one sure thing we depend on...</td>\n",
       "      <td>0</td>\n",
       "      <td>0</td>\n",
       "      <td>[Nowadays, ,, there, is, one, sure, thing, we,...</td>\n",
       "      <td>[nowadays, one, sure, thing, depend, go, point...</td>\n",
       "    </tr>\n",
       "    <tr>\n",
       "      <th>3</th>\n",
       "      <td>Everyone nowadays is so used to driving a car ...</td>\n",
       "      <td>0</td>\n",
       "      <td>0</td>\n",
       "      <td>[Everyone, nowadays, is, so, used, to, driving...</td>\n",
       "      <td>[everyone, nowadays, used, driving, car, even,...</td>\n",
       "    </tr>\n",
       "    <tr>\n",
       "      <th>4</th>\n",
       "      <td>AnnoyinglyRepetitive commercials, constant new...</td>\n",
       "      <td>0</td>\n",
       "      <td>1</td>\n",
       "      <td>[AnnoyinglyRepetitive, commercials, ,, constan...</td>\n",
       "      <td>[annoyinglyrepetitive, commercials, constant, ...</td>\n",
       "    </tr>\n",
       "  </tbody>\n",
       "</table>\n",
       "</div>"
      ],
      "text/plain": [
       "                                                text  generated  prompt_id  \\\n",
       "0  Voting. Voting is a pretty big deal that only ...          0          1   \n",
       "1   Hey everyone, let's stop relying on cars so m...          1          0   \n",
       "2  Nowadays, there is one sure thing we depend on...          0          0   \n",
       "3  Everyone nowadays is so used to driving a car ...          0          0   \n",
       "4  AnnoyinglyRepetitive commercials, constant new...          0          1   \n",
       "\n",
       "                                               words  \\\n",
       "0  [Voting, ., Voting, is, a, pretty, big, deal, ...   \n",
       "1  [Hey, everyone, ,, let, 's, stop, relying, on,...   \n",
       "2  [Nowadays, ,, there, is, one, sure, thing, we,...   \n",
       "3  [Everyone, nowadays, is, so, used, to, driving...   \n",
       "4  [AnnoyinglyRepetitive, commercials, ,, constan...   \n",
       "\n",
       "                                      filtered_words  \n",
       "0  [voting, voting, pretty, big, deal, comes, aro...  \n",
       "1  [hey, everyone, let, stop, relying, cars, much...  \n",
       "2  [nowadays, one, sure, thing, depend, go, point...  \n",
       "3  [everyone, nowadays, used, driving, car, even,...  \n",
       "4  [annoyinglyrepetitive, commercials, constant, ...  "
      ]
     },
     "execution_count": 67,
     "metadata": {},
     "output_type": "execute_result"
    }
   ],
   "source": [
    "# Remove stop words (common words like 'the', 'and', 'is' that don't carry much meaning)\n",
    "stop_words = set(stopwords.words('english'))\n",
    "df['filtered_words'] = df['words'].apply(lambda words: [word.lower() for word in words if word.isalpha() and word.lower() not in stop_words])\n",
    "df.head()"
   ]
  },
  {
   "cell_type": "code",
   "execution_count": 68,
   "metadata": {},
   "outputs": [
    {
     "name": "stdout",
     "output_type": "stream",
     "text": [
      "                                      filtered_words  prompt_id\n",
      "0  [voting, voting, pretty, big, deal, comes, aro...          1\n",
      "2  [nowadays, one, sure, thing, depend, go, point...          0\n",
      "3  [everyone, nowadays, used, driving, car, even,...          0\n",
      "4  [annoyinglyrepetitive, commercials, constant, ...          1\n",
      "9  [travel, exploration, new, destinations, thing...          0\n",
      "                                      filtered_words  prompt_id\n",
      "1  [hey, everyone, let, stop, relying, cars, much...          0\n",
      "5  [dear, senator, feel, compelled, express, thou...          1\n",
      "6  [writing, today, concerned, high, school, stud...          1\n",
      "7  [dear, senator, name, united, states, renowned...          1\n",
      "8  [hey, fellow, students, let, dive, topic, buzz...          0\n"
     ]
    }
   ],
   "source": [
    "student = df[df.generated==0][['filtered_words', 'prompt_id']]\n",
    "machine = df[df.generated==1][['filtered_words', 'prompt_id']]\n",
    "print( student.head() )\n",
    "print( machine.head() )"
   ]
  },
  {
   "cell_type": "code",
   "execution_count": 69,
   "metadata": {},
   "outputs": [],
   "source": [
    "# Train ft_model on student essays\n",
    "texts_tok = student.filtered_words.values # keep the words for model training\n",
    "ft_model = FastText(texts_tok, vector_size=300, window=3, min_count=2, workers=10) # train model"
   ]
  },
  {
   "cell_type": "code",
   "execution_count": 70,
   "metadata": {},
   "outputs": [],
   "source": [
    "def embed(words, model=ft_model):\n",
    "    # words = word_tokenize(text)\n",
    "    embeddings = [model.wv[w] for w in words]\n",
    "    centroid = np.mean(embeddings, axis=0)\n",
    "    return centroid\n",
    "\n",
    "# embed(\"this is an example\", model=ft_model)[:50]"
   ]
  },
  {
   "cell_type": "code",
   "execution_count": 99,
   "metadata": {},
   "outputs": [
    {
     "data": {
      "application/vnd.jupyter.widget-view+json": {
       "model_id": "e6c66feafcdc4a9693b4c0b7f26729c3",
       "version_major": 2,
       "version_minor": 0
      },
      "text/plain": [
       "  0%|          | 0/9 [00:00<?, ?it/s]"
      ]
     },
     "metadata": {},
     "output_type": "display_data"
    },
    {
     "data": {
      "image/png": "[encoded data removed]",
      "text/plain": [
       "<Figure size 640x480 with 1 Axes>"
      ]
     },
     "metadata": {},
     "output_type": "display_data"
    }
   ],
   "source": [
    "from sklearn.cluster import KMeans\n",
    "from sklearn import metrics\n",
    "from tqdm.notebook import tqdm\n",
    "import os\n",
    "# Suppress the specific warning\n",
    "warnings.filterwarnings(\"ignore\", category=UserWarning, module=\"sklearn.cluster._kmeans\")\n",
    "# os.environ[\"OMP_NUM_THREADS\"] = \"1\"\n",
    "\n",
    "# Create the embedings for student\n",
    "X_student = student.filtered_words.apply(lambda x: embed(x, ft_model)).to_list() \n",
    "\n",
    "kappas = list(range(2,11))\n",
    "clustering_models = []\n",
    "for k in tqdm(kappas):\n",
    "    km = KMeans(n_clusters=k, \n",
    "                   n_init=10, # reboot centre assignment\n",
    "                   random_state=2023).fit(X_student)\n",
    "    clustering_models.append(km)\n",
    "\n",
    "sscores = [metrics.silhouette_score(X_student, km.labels_, sample_size=1000) for km in clustering_models]\n",
    "best_k_student = kappas[np.argmax(sscores)]\n",
    "plt.plot(kappas, sscores)\n",
    "plt.vlines(best_k_student, plt.ylim()[0], plt.ylim()[1], \n",
    "           linestyles='dashed', \n",
    "           label='Best at k = %d' % best_k_student)\n",
    "plt.xlabel('k'); \n",
    "plt.title('K for students')\n",
    "plt.ylabel('Silhouette')\n",
    "plt.legend();\n",
    "# Save the plot as a PNG file\n",
    "plt.savefig('best_k_for_students', bbox_inches='tight')"
   ]
  },
  {
   "cell_type": "code",
   "execution_count": 72,
   "metadata": {},
   "outputs": [],
   "source": [
    "# Train ft_model on machine essays\n",
    "texts_tok = machine.filtered_words.values # keep the words for model training\n",
    "ft_model = FastText(texts_tok, vector_size=300, window=3, min_count=2, workers=10) # train model"
   ]
  },
  {
   "cell_type": "code",
   "execution_count": 73,
   "metadata": {},
   "outputs": [
    {
     "data": {
      "application/vnd.jupyter.widget-view+json": {
       "model_id": "70be309d98124d5cbbcb87e6fe0688db",
       "version_major": 2,
       "version_minor": 0
      },
      "text/plain": [
       "  0%|          | 0/9 [00:00<?, ?it/s]"
      ]
     },
     "metadata": {},
     "output_type": "display_data"
    },
    {
     "data": {
      "image/png": "[encoded data removed]",
      "text/plain": [
       "<Figure size 640x480 with 1 Axes>"
      ]
     },
     "metadata": {},
     "output_type": "display_data"
    }
   ],
   "source": [
    "# Create the embedings for machine\n",
    "X_machine = machine.filtered_words.apply(lambda x: embed(x, ft_model)).to_list() \n",
    "\n",
    "kappas = list(range(2,11))\n",
    "clustering_models = []\n",
    "for k in tqdm(kappas):\n",
    "    km = KMeans(n_clusters=k, \n",
    "                   n_init=10, # reboot centre assignment\n",
    "                   random_state=2023).fit(X_machine)\n",
    "    clustering_models.append(km)\n",
    "\n",
    "sscores = [metrics.silhouette_score(X_machine, km.labels_, sample_size=1000) for km in clustering_models]\n",
    "best_k_machine = kappas[np.argmax(sscores)]\n",
    "plt.plot(kappas, sscores)\n",
    "plt.vlines(best_k_machine, plt.ylim()[0], plt.ylim()[1], \n",
    "           linestyles='dashed', \n",
    "           label='Best at k = %d' % best_k_machine)\n",
    "plt.xlabel('k'); \n",
    "plt.title('K for machines')\n",
    "plt.ylabel('Silhouette')\n",
    "plt.legend();\n",
    "# Save the plot as a PNG file\n",
    "plt.savefig('best_k_for_machine.png', bbox_inches='tight')"
   ]
  },
  {
   "cell_type": "markdown",
   "metadata": {},
   "source": [
    "The nuber of best K will be different below. Every time fast-text runs it creates different representations. The below numers have been maintained although they are different from the truth for the inshights they have provided."
   ]
  },
  {
   "cell_type": "code",
   "execution_count": 74,
   "metadata": {},
   "outputs": [],
   "source": [
    "modelStudent = KMeans(n_clusters=best_k_student, n_init=10, random_state=42).fit(X_student)\n",
    "modelMachine = KMeans(n_clusters=best_k_machine, n_init=10, random_state=42).fit(X_machine)"
   ]
  },
  {
   "cell_type": "code",
   "execution_count": 75,
   "metadata": {},
   "outputs": [],
   "source": [
    "student['cluster'] = modelStudent.labels_\n",
    "machine['cluster'] = modelMachine.labels_"
   ]
  },
  {
   "cell_type": "code",
   "execution_count": 206,
   "metadata": {},
   "outputs": [
    {
     "data": {
      "text/plain": [
       "array([[17., 33.],\n",
       "       [18., 27.],\n",
       "       [43.,  5.],\n",
       "       [ 2.,  0.]])"
      ]
     },
     "execution_count": 206,
     "metadata": {},
     "output_type": "execute_result"
    }
   ],
   "source": [
    "x = student.groupby(['cluster'])['filtered_words'].count().values\n",
    "y = machine.groupby(['cluster'])['filtered_words'].count().values\n",
    "matrix = np.zeros((max(len(x),len(y)),2))\n",
    "matrix[:len(x),0]=x\n",
    "matrix[:len(y),1]=y\n",
    "matrix"
   ]
  },
  {
   "cell_type": "code",
   "execution_count": 208,
   "metadata": {},
   "outputs": [
    {
     "data": {
      "image/png": "[encoded data removed]",
      "text/plain": [
       "<Figure size 640x480 with 1 Axes>"
      ]
     },
     "metadata": {},
     "output_type": "display_data"
    }
   ],
   "source": [
    "plt.style.use('ggplot')\n",
    "cc = pd.DataFrame(data= {'Student': matrix[:,0], 'Machine': matrix[:,1]}).reset_index()\n",
    "ax = cc.plot(x='index', kind='bar', title='Cluster balance between clusterings', rot=0)\n",
    "# Customize the plot\n",
    "ax.set_xlabel('Cluster')\n",
    "ax.set_ylabel('Number of essays')\n",
    "ax.legend(title='Legend Title')\n",
    "# Save the plot as a PNG file\n",
    "plt.savefig('cluster_balance.svg', bbox_inches='tight')\n",
    "# Show\n",
    "plt.show()"
   ]
  },
  {
   "cell_type": "code",
   "execution_count": 78,
   "metadata": {},
   "outputs": [
    {
     "data": {
      "text/html": [
       "<div>\n",
       "<style scoped>\n",
       "    .dataframe tbody tr th:only-of-type {\n",
       "        vertical-align: middle;\n",
       "    }\n",
       "\n",
       "    .dataframe tbody tr th {\n",
       "        vertical-align: top;\n",
       "    }\n",
       "\n",
       "    .dataframe thead th {\n",
       "        text-align: right;\n",
       "    }\n",
       "</style>\n",
       "<table border=\"1\" class=\"dataframe\">\n",
       "  <thead>\n",
       "    <tr style=\"text-align: right;\">\n",
       "      <th></th>\n",
       "      <th>index</th>\n",
       "      <th>Student</th>\n",
       "      <th>Machine</th>\n",
       "    </tr>\n",
       "  </thead>\n",
       "  <tbody>\n",
       "    <tr>\n",
       "      <th>0</th>\n",
       "      <td>0</td>\n",
       "      <td>17.0</td>\n",
       "      <td>33.0</td>\n",
       "    </tr>\n",
       "    <tr>\n",
       "      <th>1</th>\n",
       "      <td>1</td>\n",
       "      <td>18.0</td>\n",
       "      <td>27.0</td>\n",
       "    </tr>\n",
       "    <tr>\n",
       "      <th>2</th>\n",
       "      <td>2</td>\n",
       "      <td>43.0</td>\n",
       "      <td>5.0</td>\n",
       "    </tr>\n",
       "    <tr>\n",
       "      <th>3</th>\n",
       "      <td>3</td>\n",
       "      <td>2.0</td>\n",
       "      <td>0.0</td>\n",
       "    </tr>\n",
       "  </tbody>\n",
       "</table>\n",
       "</div>"
      ],
      "text/plain": [
       "   index  Student  Machine\n",
       "0      0     17.0     33.0\n",
       "1      1     18.0     27.0\n",
       "2      2     43.0      5.0\n",
       "3      3      2.0      0.0"
      ]
     },
     "execution_count": 78,
     "metadata": {},
     "output_type": "execute_result"
    }
   ],
   "source": [
    "cc"
   ]
  },
  {
   "cell_type": "code",
   "execution_count": 95,
   "metadata": {},
   "outputs": [
    {
     "data": {
      "text/plain": [
       "array([list(['travel', 'exploration', 'new', 'destinations', 'things', 'lead', 'mankind', 'creating', 'new', 'ways', 'get', 'wanted', 'made', 'fantastic', 'technologies', 'desire', 'move', 'quickly', 'extensively', 'many', 'could', 'dreamt', 'day', 'mankind', 'could', 'ship', 'large', 'cargo', 'mexico', 'greece', 'fly', 'large', 'planes', 'full', 'people', 'across', 'atlantic', 'even', 'seems', 'common', 'today', 'drive', 'comfort', 'state', 'state', 'short', 'amounts', 'time', 'enjoy', 'ability', 'drive', 'easily', 'place', 'place', 'almost', 'every', 'single', 'american', 'family', 'owns', 'least', 'one', 'car', 'lies', 'problem', 'since', 'big', 'boom', 'industrial', 'car', 'manufacturing', 'early', 'twentieth', 'century', 'america', 'use', 'vehicle', 'spread', 'transportation', 'high', 'class', 'tool', 'public', 'transportation', 'construction', 'delivery', 'overall', 'everyday', 'use', 'relationship', 'man', 'machine', 'part', 'society', 'long', 'practically', 'part', 'lives', 'relationship', 'taken', 'toll', 'world', 'brought', 'form', 'pollution', 'basic', 'way', 'automobile', 'functions', 'putting', 'fuel', 'system', 'run', 'engine', 'emmiting', 'fuel', 'gas', 'byproduct', 'wide', 'spread', 'use', 'machines', 'amount', 'gas', 'byproduct', 'really', 'built', 'harmful', 'chemicals', 'gas', 'emissions', 'automobiles', 'provided', 'second', 'largest', 'source', 'emissions', 'power', 'plants', 'contributing', 'pollution', 'environment', 'however', 'easy', 'ways', 'could', 'help', 'fix', 'problem', 'parts', 'world', 'effect', 'felt', 'beijing', 'china', 'facing', 'huge', 'problem', 'pollution', 'smog', 'certian', 'places', 'decided', 'make', 'change', 'limiting', 'car', 'use', 'limitation', 'car', 'use', 'done', 'many', 'different', 'ways', 'helped', 'curb', 'smog', 'problem', 'arose', 'paris', 'places', 'done', 'means', 'carfree', 'neighborhoods', 'germany', 'carfree', 'day', 'columbia', 'reaction', 'positive', 'ideas', 'change', 'clean', 'future', 'helping', 'communities', 'different', 'parts', 'world', 'whose', 'say', 'ca', 'contribute', 'healing', 'environment', 'late', 'choise', 'oppurtunity', 'change', 'one', 'let', 'slip', 'could', 'refreshing', 'enjoyable', 'change', 'lets', 'sit', 'watch', 'environment', 'becomes', 'smogridden', 'disaster', 'lets', 'get', 'walk', 'around', 'help', 'heal', 'world']),\n",
       "       list(['beeon', 'major', 'awareoness', 'effects', 'cars', 'oon', 'us', 'meaons', 'traonsportatioon', 'people', 'questioon', 'whether', 'onot', 'abaondooniong', 'cars', 'primary', 'use', 'traonsportatioon', 'worth', 'health', 'eonviroonmeont', 'simple', 'aonswer', 'obvious', 'would', 'ono', 'awareoness', 'ono', 'statistics', 'ono', 'movemeonts', 'preveont', 'use', 'cars', 'wereo', 'aony', 'issue', 'elimionationg', 'cars', 'primary', 'source', 'traonsportatioon', 'almost', 'impossible', 'meaoniong', 'solutioon', 'fossil', 'fuel', 'emissioon', 'problem', 'must', 'aon', 'alteronative', 'source', 'eonergy', 'techonology', 'advaonced', 'miondset', 'majority', 'moderon', 'society', 'populatioon', 'towards', 'issues', 'cars', 'miondset', 'populatioon', 'surpassed', 'advaoncemeont', 'techonology', 'beeon', 'igonoriong', 'fact', 'fossil', 'fuels', 'emissioons', 'beeon', 'detrimeontal', 'eonviroonmeont', 'oone', 'major', 'thiong', 'caught', 'everyoone', 'atteontioon', 'health', 'eonviroonmeont', 'beiong', 'onegatively', 'impacted', 'use', 'cars', 'everyday', 'problem', 'catch', 'everyoone', 'atteontioon', 'people', 'false', 'onotioon', 'woont', 'see', 'aony', 'eonviroonmeontal', 'chaonges', 'ion', 'lifetime', 'meaons', 'doont', 'worry', 'onow', 'problems', 'predicted', 'would', 'occur', 'beeon', 'occurriong', 'past', 'years', 'prime', 'example', 'would', 'ion', 'paris', 'paris', 'beeon', 'experieonciong', 'weather', 'problems', 'aon', 'abuondaonce', 'smog', 'filliong', 'air', 'aond', 'diesel', 'fuel', 'blamed', 'paris', 'eonforced', 'partial', 'driviong', 'baon', 'solutioon', 'smog', 'problem', 'elimionationg', 'cars', 'use', 'traonsportatioon', 'questioons', 'may', 'occur', 'exteronal', 'delivery', 'compaonies', 'able', 'deliver', 'onot', 'beiong', 'able', 'deliver', 'compaonies', 'lose', 'reveonue', 'due', 'fact', 'paris', 'partial', 'baon', 'oon', 'driviong', 'sionce', 'likely', 'temporary', 'aond', 'partial', 'baon', 'problem', 'may', 'elimionated', 'coons', 'list', 'implemeontiong', 'regulatioon', 'correlatioon', 'occurred', 'partial', 'baon', 'driviong', 'smog', 'disappeared', 'shows', 'elimionationg', 'cars', 'use', 'traonsportatioon', 'would', 'sigonificaont', 'effect', 'oon', 'harmed', 'eonviroonmeont', 'aonother', 'fallacy', 'majority', 'populatioon', 'oonly', 'problem', 'faciong', 'use', 'cars', 'moderon', 'society', 'primary', 'source', 'traonsportatioon', 'cars', 'harm', 'eonviroonmeont', 'eveon', 'though', 'problem', 'oneed', 'face', 'onow', 'tedious', 'thiongs', 'come', 'adoptioon', 'cars', 'bogota', 'columbia', 'extreme', 'coongestioon', 'created', 'movemeont', 'beeon', 'successful', 'spread', 'couontries', 'movemeont', 'ionvolves', 'populatioon', 'abaondooniong', 'cars', 'oone', 'day', 'aond', 'usiong', 'aony', 'possible', 'meaons', 'traonsportatioon', 'movemeont', 'eoncourages', 'elimionatioon', 'cars', 'physical', 'fitoness', 'aond', 'elimionatioon', 'traffic', 'jams', 'populatioon', 'bogota', 'dedicated', 'movemeont', 'participated', 'movemeont', 'bad', 'weather', 'coonditioons', 'movemeont', 'treats', 'like', 'fuondameontal', 'holiday', 'every', 'year', 'good', 'oppurtuonity', 'take', 'away', 'stress', 'aond', 'lower', 'air', 'pollutioon', 'carlos', 'arturo', 'plaza', 'participaont', 'movemeont', 'caon', 'see', 'process', 'elimionationg', 'cars', 'primary', 'source', 'traonsportatioon', 'difficult', 'thiong', 'accomplish', 'bogota', 'columbia', 'movemeont', 'abaondoon', 'cars', 'oone', 'day', 'closest', 'moderon', 'society', 'gotteon', 'reasoon', 'aon', 'alteronate', 'source', 'eonergy', 'cars', 'ruon', 'eonviroonmeontal', 'issues', 'faciong', 'use', 'cars', 'beeon', 'maony', 'problems', 'sprouted', 'awareoness', 'moderon', 'society', 'citizeon', 'onow', 'support', 'cars', 'primary', 'source', 'moderon', 'populatioon', 'traonsportatioon', 'beeon', 'aon', 'abuondaonce', 'users', 'cars', 'sionce', 'aon', 'overproductioons', 'cars', 'seeiong', 'primary', 'source', 'traonspotatioon', 'statistics', 'occurred', 'showiong', 'true', 'daongers', 'effects', 'overuse', 'cars', 'oon', 'eonviroonmeont', 'implemetiong', 'aon', 'alteronate', 'source', 'eonergy', 'onot', 'harmful', 'eonviroonmeont', 'would', 'fix', 'majority', 'problems', 'ionstead', 'beeon', 'focusiong', 'oon', 'selfdriviong', 'cars', 'ionstead', 'cars', 'able', 'sustsaion', 'eonviroonmeont', 'late', 'poteontial', 'solutioon', 'eonergy', 'efficieoncy', 'onumber', 'oone', 'solutioon', 'awareoness', 'eoncouragiong', 'awareoness', 'oone', 'thiong', 'caon', 'produce', 'poteontial', 'solutioons'])],\n",
       "      dtype=object)"
      ]
     },
     "execution_count": 95,
     "metadata": {},
     "output_type": "execute_result"
    }
   ],
   "source": [
    "cc = student[student.cluster==3]\n",
    "cc.filtered_words.values"
   ]
  },
  {
   "cell_type": "markdown",
   "metadata": {},
   "source": [
    "### Cluster Names"
   ]
  },
  {
   "cell_type": "code",
   "execution_count": 92,
   "metadata": {},
   "outputs": [],
   "source": [
    "import itertools\n",
    "def get_freq_words(df):\n",
    "    # Flatten the list of lists in the 'filtered_words' column\n",
    "    all_words = list(itertools.chain.from_iterable(df['filtered_words']))\n",
    "    # Calculate word frequencies\n",
    "    freq_dist = FreqDist(all_words)\n",
    "    # Extract the most frequent words\n",
    "    most_common_words = freq_dist.most_common(10)  # Change 10 to the desired number of frequent words\n",
    "    # Print the results\n",
    "    return [word for word,_ in most_common_words]"
   ]
  },
  {
   "cell_type": "code",
   "execution_count": 93,
   "metadata": {},
   "outputs": [],
   "source": [
    "# Get frequent words for each cluster of the student group\n",
    "clusterWords = []\n",
    "for i in range(best_k_student):\n",
    "    cc = student[student.cluster==i]\n",
    "    clusterWords.append(get_freq_words(cc))\n"
   ]
  },
  {
   "cell_type": "markdown",
   "metadata": {},
   "source": [
    "- 10 most common words for the 2 clusters of student essays"
   ]
  },
  {
   "cell_type": "code",
   "execution_count": 210,
   "metadata": {},
   "outputs": [
    {
     "data": {
      "text/html": [
       "<div>\n",
       "<style scoped>\n",
       "    .dataframe tbody tr th:only-of-type {\n",
       "        vertical-align: middle;\n",
       "    }\n",
       "\n",
       "    .dataframe tbody tr th {\n",
       "        vertical-align: top;\n",
       "    }\n",
       "\n",
       "    .dataframe thead th {\n",
       "        text-align: right;\n",
       "    }\n",
       "</style>\n",
       "<table border=\"1\" class=\"dataframe\">\n",
       "  <thead>\n",
       "    <tr style=\"text-align: right;\">\n",
       "      <th></th>\n",
       "      <th>Cluster 1</th>\n",
       "      <th>Cluster 2</th>\n",
       "      <th>Cluster 3</th>\n",
       "      <th>Cluster 4</th>\n",
       "    </tr>\n",
       "  </thead>\n",
       "  <tbody>\n",
       "    <tr>\n",
       "      <th>0</th>\n",
       "      <td>electoral</td>\n",
       "      <td>cars</td>\n",
       "      <td>electoral</td>\n",
       "      <td>cars</td>\n",
       "    </tr>\n",
       "    <tr>\n",
       "      <th>1</th>\n",
       "      <td>college</td>\n",
       "      <td>car</td>\n",
       "      <td>college</td>\n",
       "      <td>use</td>\n",
       "    </tr>\n",
       "    <tr>\n",
       "      <th>2</th>\n",
       "      <td>vote</td>\n",
       "      <td>people</td>\n",
       "      <td>people</td>\n",
       "      <td>problem</td>\n",
       "    </tr>\n",
       "    <tr>\n",
       "      <th>3</th>\n",
       "      <td>people</td>\n",
       "      <td>pollution</td>\n",
       "      <td>vote</td>\n",
       "      <td>source</td>\n",
       "    </tr>\n",
       "    <tr>\n",
       "      <th>4</th>\n",
       "      <td>president</td>\n",
       "      <td>would</td>\n",
       "      <td>cars</td>\n",
       "      <td>beeon</td>\n",
       "    </tr>\n",
       "    <tr>\n",
       "      <th>5</th>\n",
       "      <td>votes</td>\n",
       "      <td>usage</td>\n",
       "      <td>car</td>\n",
       "      <td>traonsportatioon</td>\n",
       "    </tr>\n",
       "    <tr>\n",
       "      <th>6</th>\n",
       "      <td>states</td>\n",
       "      <td>driving</td>\n",
       "      <td>president</td>\n",
       "      <td>eonviroonmeont</td>\n",
       "    </tr>\n",
       "    <tr>\n",
       "      <th>7</th>\n",
       "      <td>popular</td>\n",
       "      <td>limiting</td>\n",
       "      <td>states</td>\n",
       "      <td>movemeont</td>\n",
       "    </tr>\n",
       "    <tr>\n",
       "      <th>8</th>\n",
       "      <td>election</td>\n",
       "      <td>use</td>\n",
       "      <td>would</td>\n",
       "      <td>primary</td>\n",
       "    </tr>\n",
       "    <tr>\n",
       "      <th>9</th>\n",
       "      <td>voting</td>\n",
       "      <td>smog</td>\n",
       "      <td>electors</td>\n",
       "      <td>aon</td>\n",
       "    </tr>\n",
       "  </tbody>\n",
       "</table>\n",
       "</div>"
      ],
      "text/plain": [
       "   Cluster 1  Cluster 2  Cluster 3         Cluster 4\n",
       "0  electoral       cars  electoral              cars\n",
       "1    college        car    college               use\n",
       "2       vote     people     people           problem\n",
       "3     people  pollution       vote            source\n",
       "4  president      would       cars             beeon\n",
       "5      votes      usage        car  traonsportatioon\n",
       "6     states    driving  president    eonviroonmeont\n",
       "7    popular   limiting     states         movemeont\n",
       "8   election        use      would           primary\n",
       "9     voting       smog   electors               aon"
      ]
     },
     "execution_count": 210,
     "metadata": {},
     "output_type": "execute_result"
    }
   ],
   "source": [
    "cdf = pd.DataFrame( clusterWords ).T\n",
    "cdf.rename(columns={0:'Cluster 1', 1:'Cluster 2', 2:'Cluster 3', 3:'Cluster 4'}, inplace=True)\n",
    "cdf"
   ]
  },
  {
   "cell_type": "markdown",
   "metadata": {},
   "source": [
    "#### Cluster names for students\n",
    "\n",
    "Cluster|Title\n",
    "---|---\n",
    "1|Electoral College\n",
    "2|Cars pollute\n",
    "3|Mixed essays\n",
    "4|Spelling mistakes"
   ]
  },
  {
   "cell_type": "code",
   "execution_count": 211,
   "metadata": {},
   "outputs": [],
   "source": [
    "# Get frequent words for each cluster of the student group\n",
    "clusterWords = []\n",
    "for i in range(best_k_machine):\n",
    "    cc = machine[machine.cluster==i]\n",
    "    clusterWords.append(get_freq_words(cc))\n"
   ]
  },
  {
   "cell_type": "code",
   "execution_count": 212,
   "metadata": {},
   "outputs": [
    {
     "data": {
      "text/html": [
       "<div>\n",
       "<style scoped>\n",
       "    .dataframe tbody tr th:only-of-type {\n",
       "        vertical-align: middle;\n",
       "    }\n",
       "\n",
       "    .dataframe tbody tr th {\n",
       "        vertical-align: top;\n",
       "    }\n",
       "\n",
       "    .dataframe thead th {\n",
       "        text-align: right;\n",
       "    }\n",
       "</style>\n",
       "<table border=\"1\" class=\"dataframe\">\n",
       "  <thead>\n",
       "    <tr style=\"text-align: right;\">\n",
       "      <th></th>\n",
       "      <th>Cluster 1</th>\n",
       "      <th>Cluster 2</th>\n",
       "      <th>Cluster 3</th>\n",
       "    </tr>\n",
       "  </thead>\n",
       "  <tbody>\n",
       "    <tr>\n",
       "      <th>0</th>\n",
       "      <td>car</td>\n",
       "      <td>electoral</td>\n",
       "      <td>like</td>\n",
       "    </tr>\n",
       "    <tr>\n",
       "      <th>1</th>\n",
       "      <td>transportation</td>\n",
       "      <td>college</td>\n",
       "      <td>car</td>\n",
       "    </tr>\n",
       "    <tr>\n",
       "      <th>2</th>\n",
       "      <td>cars</td>\n",
       "      <td>vote</td>\n",
       "      <td>people</td>\n",
       "    </tr>\n",
       "    <tr>\n",
       "      <th>3</th>\n",
       "      <td>usage</td>\n",
       "      <td>system</td>\n",
       "      <td>everyone</td>\n",
       "    </tr>\n",
       "    <tr>\n",
       "      <th>4</th>\n",
       "      <td>electoral</td>\n",
       "      <td>popular</td>\n",
       "      <td>vote</td>\n",
       "    </tr>\n",
       "    <tr>\n",
       "      <th>5</th>\n",
       "      <td>college</td>\n",
       "      <td>states</td>\n",
       "      <td>get</td>\n",
       "    </tr>\n",
       "    <tr>\n",
       "      <th>6</th>\n",
       "      <td>vote</td>\n",
       "      <td>would</td>\n",
       "      <td>better</td>\n",
       "    </tr>\n",
       "    <tr>\n",
       "      <th>7</th>\n",
       "      <td>alternative</td>\n",
       "      <td>president</td>\n",
       "      <td>know</td>\n",
       "    </tr>\n",
       "    <tr>\n",
       "      <th>8</th>\n",
       "      <td>system</td>\n",
       "      <td>election</td>\n",
       "      <td>let</td>\n",
       "    </tr>\n",
       "    <tr>\n",
       "      <th>9</th>\n",
       "      <td>people</td>\n",
       "      <td>people</td>\n",
       "      <td>cars</td>\n",
       "    </tr>\n",
       "  </tbody>\n",
       "</table>\n",
       "</div>"
      ],
      "text/plain": [
       "        Cluster 1  Cluster 2 Cluster 3\n",
       "0             car  electoral      like\n",
       "1  transportation    college       car\n",
       "2            cars       vote    people\n",
       "3           usage     system  everyone\n",
       "4       electoral    popular      vote\n",
       "5         college     states       get\n",
       "6            vote      would    better\n",
       "7     alternative  president      know\n",
       "8          system   election       let\n",
       "9          people     people      cars"
      ]
     },
     "execution_count": 212,
     "metadata": {},
     "output_type": "execute_result"
    }
   ],
   "source": [
    "cdf = pd.DataFrame( clusterWords ).T\n",
    "cdf.rename(columns={0:'Cluster 1', 1:'Cluster 2', 2:'Cluster 3'}, inplace=True)\n",
    "cdf"
   ]
  },
  {
   "cell_type": "markdown",
   "metadata": {},
   "source": [
    "#### Cluster titles for machine\n",
    "\n",
    "Cluster|Title\n",
    "---|---\n",
    "1|Cars\n",
    "2|Electoral college\n",
    "3|Casual writing format"
   ]
  },
  {
   "cell_type": "code",
   "execution_count": 217,
   "metadata": {},
   "outputs": [],
   "source": [
    "from sklearn.manifold import TSNE\n",
    "Y = TSNE(n_components=2, init='random').fit_transform(np.array(X_student))"
   ]
  },
  {
   "cell_type": "code",
   "execution_count": 218,
   "metadata": {},
   "outputs": [
    {
     "data": {
      "image/png": "[encoded data removed]",
      "text/plain": [
       "<Figure size 640x480 with 1 Axes>"
      ]
     },
     "metadata": {},
     "output_type": "display_data"
    }
   ],
   "source": [
    "data = pd.DataFrame({'D1':Y[:, 0], # the two dimensions\n",
    "                     'D2':Y[:, 1],\n",
    "                     'cluster': student.cluster})\n",
    "g = sns.scatterplot(data, x='D1', y='D2', hue='cluster', style='cluster', palette='muted');\n",
    "# Hide x-axis and y-axis labels\n",
    "g.set(xticklabels=[], yticklabels=[])\n",
    "# Customize the legend names\n",
    "plt.legend(title='Cluster', labels=['','College', 'Car', 'Mixed', 'Spellings']);\n",
    "plt.title('Students: Between Group Subject Similarity');\n",
    "# Remove spines (axis lines)\n",
    "sns.despine()\n",
    "plt.xlabel('Dimension 1')\n",
    "plt.ylabel('Dimension 2')\n",
    "# Save\n",
    "plt.savefig('student_similarities.svg', bbox_inches='tight')\n",
    "# Show the plot\n",
    "plt.show()"
   ]
  },
  {
   "cell_type": "code",
   "execution_count": 222,
   "metadata": {},
   "outputs": [],
   "source": [
    "Y = TSNE(n_components=2, init='random').fit_transform(np.array(X_machine))"
   ]
  },
  {
   "cell_type": "code",
   "execution_count": 223,
   "metadata": {},
   "outputs": [
    {
     "data": {
      "image/png": "[encoded data removed]",
      "text/plain": [
       "<Figure size 640x480 with 1 Axes>"
      ]
     },
     "metadata": {},
     "output_type": "display_data"
    }
   ],
   "source": [
    "data = pd.DataFrame({'D1':Y[:, 0], # the two dimensions\n",
    "                     'D2':Y[:, 1],\n",
    "                     'cluster': machine.cluster})\n",
    "g = sns.scatterplot(data, x='D1', y='D2', hue='cluster', style='cluster', palette='muted');\n",
    "# Hide x-axis and y-axis labels\n",
    "g.set(xticklabels=[], yticklabels=[])\n",
    "# Customize the legend names\n",
    "plt.legend(title='Cluster', labels=['','Car', 'College', 'Casual (about cars)']);\n",
    "plt.title('Machine: Between Group Subject Similarity');\n",
    "# Remove spines (axis lines)\n",
    "sns.despine()\n",
    "plt.xlabel('Dimension 1')\n",
    "plt.ylabel('Dimension 2')\n",
    "# Save\n",
    "plt.savefig('machine_similarities.svg', bbox_inches='tight')\n",
    "# Show the plot\n",
    "plt.show()"
   ]
  },
  {
   "cell_type": "markdown",
   "metadata": {},
   "source": [
    "### 4. Study the similarities between the two clusterings, by finding clusters comprising similar texts."
   ]
  },
  {
   "cell_type": "code",
   "execution_count": 196,
   "metadata": {},
   "outputs": [],
   "source": [
    "studentClusterWords = []\n",
    "for i in range(4):\n",
    "    studentClusterWords.append(list(itertools.chain.from_iterable(student[student.cluster==i].filtered_words)))\n",
    "\n",
    "machineClusterWords = []\n",
    "for i in range(3):\n",
    "    machineClusterWords.append(list(itertools.chain.from_iterable(machine[machine.cluster==i].filtered_words)))"
   ]
  },
  {
   "cell_type": "code",
   "execution_count": 197,
   "metadata": {},
   "outputs": [],
   "source": [
    "jaccard = lambda x,y: len(x.intersection(y))/len(x.union(y))\n",
    "matrix = []\n",
    "for i, generated in enumerate( machineClusterWords ): \n",
    "    similarity = []\n",
    "    for original in studentClusterWords:\n",
    "        similarity.append(jaccard(set( generated ),set( original )) )\n",
    "    matrix.append(similarity)\n",
    "\n",
    "    # similarities[i,1] = np.mean(similarity)\n",
    "    # similarities[i,2] = np.max(similarity)"
   ]
  },
  {
   "cell_type": "code",
   "execution_count": 198,
   "metadata": {},
   "outputs": [
    {
     "data": {
      "text/plain": [
       "array([[0.22535211, 0.22175732, 0.17991632],\n",
       "       [0.27525884, 0.16681299, 0.14609287],\n",
       "       [0.28558504, 0.1905439 , 0.12515541],\n",
       "       [0.08027842, 0.0761035 , 0.11747851]])"
      ]
     },
     "execution_count": 198,
     "metadata": {},
     "output_type": "execute_result"
    }
   ],
   "source": [
    "np.array(matrix).T"
   ]
  },
  {
   "cell_type": "code",
   "execution_count": 204,
   "metadata": {},
   "outputs": [
    {
     "data": {
      "application/vnd.plotly.v1+json": {
       "config": {
        "plotlyServerURL": "https://plot.ly"
       },
       "data": [
        {
         "fill": "toself",
         "name": "Car",
         "r": [
          0.22535211267605634,
          0.2752588361299536,
          0.2855850422195416,
          0.0802784222737819,
          0.22535211267605634
         ],
         "theta": [
          "College",
          "Car",
          "Mixed",
          "Spellings",
          "College"
         ],
         "type": "scatterpolar"
        },
        {
         "fill": "toself",
         "name": "College",
         "r": [
          0.2217573221757322,
          0.16681299385425813,
          0.19054390330607893,
          0.076103500761035,
          0.2217573221757322
         ],
         "theta": [
          "College",
          "Car",
          "Mixed",
          "Spellings",
          "College"
         ],
         "type": "scatterpolar"
        },
        {
         "fill": "toself",
         "name": "Casual",
         "r": [
          0.1799163179916318,
          0.14609286523216308,
          0.12515540820555326,
          0.1174785100286533,
          0.1799163179916318
         ],
         "theta": [
          "College",
          "Car",
          "Mixed",
          "Spellings",
          "College"
         ],
         "type": "scatterpolar"
        }
       ],
       "layout": {
        "polar": {
         "radialaxis": {
          "range": [
           0,
           0.2855850422195416
          ],
          "visible": true
         }
        },
        "showlegend": true,
        "template": {
         "data": {
          "bar": [
           {
            "error_x": {
             "color": "#2a3f5f"
            },
            "error_y": {
             "color": "#2a3f5f"
            },
            "marker": {
             "line": {
              "color": "#E5ECF6",
              "width": 0.5
             },
             "pattern": {
              "fillmode": "overlay",
              "size": 10,
              "solidity": 0.2
             }
            },
            "type": "bar"
           }
          ],
          "barpolar": [
           {
            "marker": {
             "line": {
              "color": "#E5ECF6",
              "width": 0.5
             },
             "pattern": {
              "fillmode": "overlay",
              "size": 10,
              "solidity": 0.2
             }
            },
            "type": "barpolar"
           }
          ],
          "carpet": [
           {
            "aaxis": {
             "endlinecolor": "#2a3f5f",
             "gridcolor": "white",
             "linecolor": "white",
             "minorgridcolor": "white",
             "startlinecolor": "#2a3f5f"
            },
            "baxis": {
             "endlinecolor": "#2a3f5f",
             "gridcolor": "white",
             "linecolor": "white",
             "minorgridcolor": "white",
             "startlinecolor": "#2a3f5f"
            },
            "type": "carpet"
           }
          ],
          "choropleth": [
           {
            "colorbar": {
             "outlinewidth": 0,
             "ticks": ""
            },
            "type": "choropleth"
           }
          ],
          "contour": [
           {
            "colorbar": {
             "outlinewidth": 0,
             "ticks": ""
            },
            "colorscale": [
             [
              0,
              "#0d0887"
             ],
             [
              0.1111111111111111,
              "#46039f"
             ],
             [
              0.2222222222222222,
              "#7201a8"
             ],
             [
              0.3333333333333333,
              "#9c179e"
             ],
             [
              0.4444444444444444,
              "#bd3786"
             ],
             [
              0.5555555555555556,
              "#d8576b"
             ],
             [
              0.6666666666666666,
              "#ed7953"
             ],
             [
              0.7777777777777778,
              "#fb9f3a"
             ],
             [
              0.8888888888888888,
              "#fdca26"
             ],
             [
              1,
              "#f0f921"
             ]
            ],
            "type": "contour"
           }
          ],
          "contourcarpet": [
           {
            "colorbar": {
             "outlinewidth": 0,
             "ticks": ""
            },
            "type": "contourcarpet"
           }
          ],
          "heatmap": [
           {
            "colorbar": {
             "outlinewidth": 0,
             "ticks": ""
            },
            "colorscale": [
             [
              0,
              "#0d0887"
             ],
             [
              0.1111111111111111,
              "#46039f"
             ],
             [
              0.2222222222222222,
              "#7201a8"
             ],
             [
              0.3333333333333333,
              "#9c179e"
             ],
             [
              0.4444444444444444,
              "#bd3786"
             ],
             [
              0.5555555555555556,
              "#d8576b"
             ],
             [
              0.6666666666666666,
              "#ed7953"
             ],
             [
              0.7777777777777778,
              "#fb9f3a"
             ],
             [
              0.8888888888888888,
              "#fdca26"
             ],
             [
              1,
              "#f0f921"
             ]
            ],
            "type": "heatmap"
           }
          ],
          "heatmapgl": [
           {
            "colorbar": {
             "outlinewidth": 0,
             "ticks": ""
            },
            "colorscale": [
             [
              0,
              "#0d0887"
             ],
             [
              0.1111111111111111,
              "#46039f"
             ],
             [
              0.2222222222222222,
              "#7201a8"
             ],
             [
              0.3333333333333333,
              "#9c179e"
             ],
             [
              0.4444444444444444,
              "#bd3786"
             ],
             [
              0.5555555555555556,
              "#d8576b"
             ],
             [
              0.6666666666666666,
              "#ed7953"
             ],
             [
              0.7777777777777778,
              "#fb9f3a"
             ],
             [
              0.8888888888888888,
              "#fdca26"
             ],
             [
              1,
              "#f0f921"
             ]
            ],
            "type": "heatmapgl"
           }
          ],
          "histogram": [
           {
            "marker": {
             "pattern": {
              "fillmode": "overlay",
              "size": 10,
              "solidity": 0.2
             }
            },
            "type": "histogram"
           }
          ],
          "histogram2d": [
           {
            "colorbar": {
             "outlinewidth": 0,
             "ticks": ""
            },
            "colorscale": [
             [
              0,
              "#0d0887"
             ],
             [
              0.1111111111111111,
              "#46039f"
             ],
             [
              0.2222222222222222,
              "#7201a8"
             ],
             [
              0.3333333333333333,
              "#9c179e"
             ],
             [
              0.4444444444444444,
              "#bd3786"
             ],
             [
              0.5555555555555556,
              "#d8576b"
             ],
             [
              0.6666666666666666,
              "#ed7953"
             ],
             [
              0.7777777777777778,
              "#fb9f3a"
             ],
             [
              0.8888888888888888,
              "#fdca26"
             ],
             [
              1,
              "#f0f921"
             ]
            ],
            "type": "histogram2d"
           }
          ],
          "histogram2dcontour": [
           {
            "colorbar": {
             "outlinewidth": 0,
             "ticks": ""
            },
            "colorscale": [
             [
              0,
              "#0d0887"
             ],
             [
              0.1111111111111111,
              "#46039f"
             ],
             [
              0.2222222222222222,
              "#7201a8"
             ],
             [
              0.3333333333333333,
              "#9c179e"
             ],
             [
              0.4444444444444444,
              "#bd3786"
             ],
             [
              0.5555555555555556,
              "#d8576b"
             ],
             [
              0.6666666666666666,
              "#ed7953"
             ],
             [
              0.7777777777777778,
              "#fb9f3a"
             ],
             [
              0.8888888888888888,
              "#fdca26"
             ],
             [
              1,
              "#f0f921"
             ]
            ],
            "type": "histogram2dcontour"
           }
          ],
          "mesh3d": [
           {
            "colorbar": {
             "outlinewidth": 0,
             "ticks": ""
            },
            "type": "mesh3d"
           }
          ],
          "parcoords": [
           {
            "line": {
             "colorbar": {
              "outlinewidth": 0,
              "ticks": ""
             }
            },
            "type": "parcoords"
           }
          ],
          "pie": [
           {
            "automargin": true,
            "type": "pie"
           }
          ],
          "scatter": [
           {
            "fillpattern": {
             "fillmode": "overlay",
             "size": 10,
             "solidity": 0.2
            },
            "type": "scatter"
           }
          ],
          "scatter3d": [
           {
            "line": {
             "colorbar": {
              "outlinewidth": 0,
              "ticks": ""
             }
            },
            "marker": {
             "colorbar": {
              "outlinewidth": 0,
              "ticks": ""
             }
            },
            "type": "scatter3d"
           }
          ],
          "scattercarpet": [
           {
            "marker": {
             "colorbar": {
              "outlinewidth": 0,
              "ticks": ""
             }
            },
            "type": "scattercarpet"
           }
          ],
          "scattergeo": [
           {
            "marker": {
             "colorbar": {
              "outlinewidth": 0,
              "ticks": ""
             }
            },
            "type": "scattergeo"
           }
          ],
          "scattergl": [
           {
            "marker": {
             "colorbar": {
              "outlinewidth": 0,
              "ticks": ""
             }
            },
            "type": "scattergl"
           }
          ],
          "scattermapbox": [
           {
            "marker": {
             "colorbar": {
              "outlinewidth": 0,
              "ticks": ""
             }
            },
            "type": "scattermapbox"
           }
          ],
          "scatterpolar": [
           {
            "marker": {
             "colorbar": {
              "outlinewidth": 0,
              "ticks": ""
             }
            },
            "type": "scatterpolar"
           }
          ],
          "scatterpolargl": [
           {
            "marker": {
             "colorbar": {
              "outlinewidth": 0,
              "ticks": ""
             }
            },
            "type": "scatterpolargl"
           }
          ],
          "scatterternary": [
           {
            "marker": {
             "colorbar": {
              "outlinewidth": 0,
              "ticks": ""
             }
            },
            "type": "scatterternary"
           }
          ],
          "surface": [
           {
            "colorbar": {
             "outlinewidth": 0,
             "ticks": ""
            },
            "colorscale": [
             [
              0,
              "#0d0887"
             ],
             [
              0.1111111111111111,
              "#46039f"
             ],
             [
              0.2222222222222222,
              "#7201a8"
             ],
             [
              0.3333333333333333,
              "#9c179e"
             ],
             [
              0.4444444444444444,
              "#bd3786"
             ],
             [
              0.5555555555555556,
              "#d8576b"
             ],
             [
              0.6666666666666666,
              "#ed7953"
             ],
             [
              0.7777777777777778,
              "#fb9f3a"
             ],
             [
              0.8888888888888888,
              "#fdca26"
             ],
             [
              1,
              "#f0f921"
             ]
            ],
            "type": "surface"
           }
          ],
          "table": [
           {
            "cells": {
             "fill": {
              "color": "#EBF0F8"
             },
             "line": {
              "color": "white"
             }
            },
            "header": {
             "fill": {
              "color": "#C8D4E3"
             },
             "line": {
              "color": "white"
             }
            },
            "type": "table"
           }
          ]
         },
         "layout": {
          "annotationdefaults": {
           "arrowcolor": "#2a3f5f",
           "arrowhead": 0,
           "arrowwidth": 1
          },
          "autotypenumbers": "strict",
          "coloraxis": {
           "colorbar": {
            "outlinewidth": 0,
            "ticks": ""
           }
          },
          "colorscale": {
           "diverging": [
            [
             0,
             "#8e0152"
            ],
            [
             0.1,
             "#c51b7d"
            ],
            [
             0.2,
             "#de77ae"
            ],
            [
             0.3,
             "#f1b6da"
            ],
            [
             0.4,
             "#fde0ef"
            ],
            [
             0.5,
             "#f7f7f7"
            ],
            [
             0.6,
             "#e6f5d0"
            ],
            [
             0.7,
             "#b8e186"
            ],
            [
             0.8,
             "#7fbc41"
            ],
            [
             0.9,
             "#4d9221"
            ],
            [
             1,
             "#276419"
            ]
           ],
           "sequential": [
            [
             0,
             "#0d0887"
            ],
            [
             0.1111111111111111,
             "#46039f"
            ],
            [
             0.2222222222222222,
             "#7201a8"
            ],
            [
             0.3333333333333333,
             "#9c179e"
            ],
            [
             0.4444444444444444,
             "#bd3786"
            ],
            [
             0.5555555555555556,
             "#d8576b"
            ],
            [
             0.6666666666666666,
             "#ed7953"
            ],
            [
             0.7777777777777778,
             "#fb9f3a"
            ],
            [
             0.8888888888888888,
             "#fdca26"
            ],
            [
             1,
             "#f0f921"
            ]
           ],
           "sequentialminus": [
            [
             0,
             "#0d0887"
            ],
            [
             0.1111111111111111,
             "#46039f"
            ],
            [
             0.2222222222222222,
             "#7201a8"
            ],
            [
             0.3333333333333333,
             "#9c179e"
            ],
            [
             0.4444444444444444,
             "#bd3786"
            ],
            [
             0.5555555555555556,
             "#d8576b"
            ],
            [
             0.6666666666666666,
             "#ed7953"
            ],
            [
             0.7777777777777778,
             "#fb9f3a"
            ],
            [
             0.8888888888888888,
             "#fdca26"
            ],
            [
             1,
             "#f0f921"
            ]
           ]
          },
          "colorway": [
           "#636efa",
           "#EF553B",
           "#00cc96",
           "#ab63fa",
           "#FFA15A",
           "#19d3f3",
           "#FF6692",
           "#B6E880",
           "#FF97FF",
           "#FECB52"
          ],
          "font": {
           "color": "#2a3f5f"
          },
          "geo": {
           "bgcolor": "white",
           "lakecolor": "white",
           "landcolor": "#E5ECF6",
           "showlakes": true,
           "showland": true,
           "subunitcolor": "white"
          },
          "hoverlabel": {
           "align": "left"
          },
          "hovermode": "closest",
          "mapbox": {
           "style": "light"
          },
          "paper_bgcolor": "white",
          "plot_bgcolor": "#E5ECF6",
          "polar": {
           "angularaxis": {
            "gridcolor": "white",
            "linecolor": "white",
            "ticks": ""
           },
           "bgcolor": "#E5ECF6",
           "radialaxis": {
            "gridcolor": "white",
            "linecolor": "white",
            "ticks": ""
           }
          },
          "scene": {
           "xaxis": {
            "backgroundcolor": "#E5ECF6",
            "gridcolor": "white",
            "gridwidth": 2,
            "linecolor": "white",
            "showbackground": true,
            "ticks": "",
            "zerolinecolor": "white"
           },
           "yaxis": {
            "backgroundcolor": "#E5ECF6",
            "gridcolor": "white",
            "gridwidth": 2,
            "linecolor": "white",
            "showbackground": true,
            "ticks": "",
            "zerolinecolor": "white"
           },
           "zaxis": {
            "backgroundcolor": "#E5ECF6",
            "gridcolor": "white",
            "gridwidth": 2,
            "linecolor": "white",
            "showbackground": true,
            "ticks": "",
            "zerolinecolor": "white"
           }
          },
          "shapedefaults": {
           "line": {
            "color": "#2a3f5f"
           }
          },
          "ternary": {
           "aaxis": {
            "gridcolor": "white",
            "linecolor": "white",
            "ticks": ""
           },
           "baxis": {
            "gridcolor": "white",
            "linecolor": "white",
            "ticks": ""
           },
           "bgcolor": "#E5ECF6",
           "caxis": {
            "gridcolor": "white",
            "linecolor": "white",
            "ticks": ""
           }
          },
          "title": {
           "x": 0.05
          },
          "xaxis": {
           "automargin": true,
           "gridcolor": "white",
           "linecolor": "white",
           "ticks": "",
           "title": {
            "standoff": 15
           },
           "zerolinecolor": "white",
           "zerolinewidth": 2
          },
          "yaxis": {
           "automargin": true,
           "gridcolor": "white",
           "linecolor": "white",
           "ticks": "",
           "title": {
            "standoff": 15
           },
           "zerolinecolor": "white",
           "zerolinewidth": 2
          }
         }
        },
        "title": {
         "text": "Similarities Between Clusterings"
        }
       }
      }
     },
     "metadata": {},
     "output_type": "display_data"
    }
   ],
   "source": [
    "import numpy as np\n",
    "import plotly.graph_objects as go\n",
    "\n",
    "# Given array\n",
    "data_array = np.array(matrix)\n",
    "\n",
    "# Categories for the radar chart\n",
    "categories = ['College', 'Car', 'Mixed', 'Spellings']\n",
    "machineC = ['Car', 'College', 'Casual']\n",
    "\n",
    "# Create a radar chart for each row in the array\n",
    "fig = go.Figure()\n",
    "\n",
    "for i, row in enumerate( data_array ):\n",
    "    fig.add_trace(go.Scatterpolar(\n",
    "        r=np.append(row, row[0]),  # Close the radar chart\n",
    "        theta=categories + [categories[0]],\n",
    "        fill='toself',\n",
    "        # name='data'\n",
    "        name=machineC[i]\n",
    "    ))\n",
    "\n",
    "# Layout customization\n",
    "fig.update_layout(\n",
    "    polar=dict(\n",
    "        radialaxis=dict(\n",
    "            visible=True,\n",
    "            range=[0, np.max(data_array)]\n",
    "        )\n",
    "    ),\n",
    "    showlegend=True,\n",
    "    title='Similarities Between Clusterings'\n",
    ")\n",
    "fig.write_html('radar.html')\n",
    "# Show the plot\n",
    "fig.show()\n"
   ]
  },
  {
   "cell_type": "markdown",
   "metadata": {},
   "source": [
    "The culmination of the analysis would entail:\n",
    "1. The removal of the texts that have been removed in step A5.\n",
    "2. The removal of the texts clustered in 'Spelling' and cluster 'Casual'\n",
    "3. Re-fit the best classifier and assess. "
   ]
  }
 ],
 "metadata": {
  "kernelspec": {
   "display_name": "base",
   "language": "python",
   "name": "python3"
  },
  "language_info": {
   "codemirror_mode": {
    "name": "ipython",
    "version": 3
   },
   "file_extension": ".py",
   "mimetype": "text/x-python",
   "name": "python",
   "nbconvert_exporter": "python",
   "pygments_lexer": "ipython3",
   "version": "3.11.5"
  }
 },
 "nbformat": 4,
 "nbformat_minor": 2
}
