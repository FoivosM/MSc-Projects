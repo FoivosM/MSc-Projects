{
 "cells": [
  {
   "cell_type": "markdown",
   "metadata": {},
   "source": [
    "# Deep Learning\n",
    "## Deep Domain Adaptation - SVHN to MNIST\n",
    "\n",
    "**Name:** Margonis Phevos          \n",
    "**ID:** f3352317                \n",
    "**Date:** June, 2024\n",
    "\n",
    "---\n",
    "\n",
    "## Table of Contents\n",
    "1. [Introduction](#introduction)\n",
    "1. [No Adaptation (Baseline)](#baseline-1---no-adaptation-na)\n",
    "2. [Train on Target (Baseline)](#baseline-2---train-on-target-tot)\n",
    "3. [Domain-Adversarial Neural Network (DANN)](#domain-adversarial-neural-network-dann)\n",
    "5. [Results](#results)\n",
    "\n",
    "---"
   ]
  },
  {
   "cell_type": "markdown",
   "metadata": {},
   "source": [
    "## Introduction\n",
    "\n",
    "Deep domain adaptation from SVHN to MNIST involves transferring learned representations from the Street View House Numbers (SVHN) dataset to the Modified National Institute of Standards and Technology (MNIST) dataset. This task is challenging due to the significant differences in image characteristics between the two datasets. Two common baselines for evaluating domain adaptation performance are \"No Adaptation,\" where a model trained on SVHN is directly tested on MNIST without any adaptation, and \"Train on Test,\" where a model is trained and tested on the same target domain (MNIST). These baselines provide benchmarks to assess the effectiveness of domain adaptation techniques.\n",
    "\n",
    "The Domain-Adversarial Neural Network (DANN) algorithm uses adversarial training to learn domain-invariant features, enhancing cross-domain performance. Applied to SVHN to MNIST adaptation, DANN aligns feature distributions using a gradient reversal layer, significantly improving digit classification accuracy. This method surpasses the NA baseline by effectively bridging the visual domain gap.\n",
    "### SVHN\n",
    "\n",
    "<img src=\".img/svhn.jpg\" alt=\"description\" width=\"300\" height=\"200\">\n",
    "\n",
    "\n",
    "The Street View House Numbers (SVHN) dataset is a widely used benchmark for digit classification. It includes 600,000 RGB images, each sized 32×32 pixels, featuring printed digits ranging from 0 to 9. These digits are extracted from photos of house number plates and are centered in the images, although adjacent digits and other elements remain visible. The dataset is divided into three parts: a training set, a testing set, and an extra set of 530,000 images. The extra set contains less challenging images that can aid in the training process. Only the training and the testing set has been used in this experiment.\n",
    "\n",
    "Source: [https://paperswithcode.com/dataset/svhn](https://paperswithcode.com/dataset/svhn)\n",
    "\n",
    "### MNIST\n",
    "\n",
    "<img src=\".img/mnist.jpg\" alt=\"description\" width=\"300\" height=\"200\">\n",
    "\n",
    "The MNIST database is a well-known collection of handwritten digit images used for training and testing machine learning models. It consists of 60,000 training examples and 10,000 test examples. Derived from the larger NIST Special Databases 1 and 3, MNIST features size-normalized and centered monochrome images. Originally black and white, these images were normalized to fit within a 20x20 pixel box while maintaining aspect ratio, then centered in a 28x28 pixel field. Grey levels were introduced through anti-aliasing during the normalization process.\n",
    "\n",
    "Source: [https://paperswithcode.com/dataset/mnist](https://paperswithcode.com/dataset/mnist)\n",
    "\n",
    "---"
   ]
  },
  {
   "cell_type": "markdown",
   "metadata": {},
   "source": [
    "## Baseline 1 - No Adaptation (NA)"
   ]
  },
  {
   "cell_type": "code",
   "execution_count": null,
   "metadata": {},
   "outputs": [],
   "source": [
    "import random\n",
    "\n",
    "import matplotlib.pyplot as plt\n",
    "import numpy as np\n",
    "import torch\n",
    "import torch.nn as nn\n",
    "import torch.nn.functional as F\n",
    "import torch.optim as optim\n",
    "from torch.autograd import Function\n",
    "from torch.utils.data import DataLoader, Dataset, Subset, random_split\n",
    "from torchvision import datasets, transforms"
   ]
  },
  {
   "cell_type": "code",
   "execution_count": null,
   "metadata": {},
   "outputs": [],
   "source": [
    "# Set seed for reproducibility\n",
    "seed = 42\n",
    "random.seed(seed)\n",
    "np.random.seed(seed)\n",
    "torch.manual_seed(seed)\n",
    "torch.cuda.manual_seed(seed)"
   ]
  },
  {
   "cell_type": "markdown",
   "metadata": {},
   "source": [
    "### Define the dataloaders"
   ]
  },
  {
   "cell_type": "code",
   "execution_count": null,
   "metadata": {},
   "outputs": [
    {
     "name": "stdout",
     "output_type": "stream",
     "text": [
      "Using downloaded and verified file: data\\train_32x32.mat\n",
      "Using downloaded and verified file: data\\test_32x32.mat\n",
      "Number of samples in source train loader: 73257\n",
      "Number of samples in source test loader: 26032\n",
      "Number of samples in target train loader: 60000\n",
      "Number of samples in target test loader: 10000\n"
     ]
    }
   ],
   "source": [
    "# Transforms for SVHN (source) and MNIST (target)\n",
    "source_transform = transforms.Compose([\n",
    "    transforms.Resize(28),\n",
    "    transforms.Grayscale(num_output_channels=1),\n",
    "    transforms.ToTensor(),\n",
    "    transforms.Normalize((0.5,), (0.5,))\n",
    "])\n",
    "\n",
    "target_transform = transforms.Compose([\n",
    "    transforms.ToTensor(),\n",
    "    transforms.Normalize((0.5,), (0.5,))\n",
    "])\n",
    "\n",
    "# Load SVHN and MNIST datasets\n",
    "source_train_dataset = datasets.SVHN(root='data', split='train', download=True, transform=source_transform)\n",
    "source_test_dataset = datasets.SVHN(root='data', split='test', download=True, transform=source_transform)\n",
    "target_train_dataset = datasets.MNIST(root='data', train=True, download=True, transform=target_transform)\n",
    "target_test_dataset = datasets.MNIST(root='data', train=False, download=True, transform=target_transform)\n",
    "\n",
    "# Verify the number of samples in each loader\n",
    "print(f'Number of samples in source train loader: {len(source_train_dataset)}')\n",
    "print(f'Number of samples in source test loader: {len(source_test_dataset)}')\n",
    "print(f'Number of samples in target train loader: {len(target_train_dataset)}')\n",
    "print(f'Number of samples in target test loader: {len(target_test_dataset)}')"
   ]
  },
  {
   "cell_type": "code",
   "execution_count": null,
   "metadata": {},
   "outputs": [
    {
     "name": "stdout",
     "output_type": "stream",
     "text": [
      "Number of samples in source train loader: 73257\n",
      "Number of samples in source test loader: 26032\n",
      "Number of samples in target train loader: 60000\n",
      "Number of samples in target test loader: 10000\n"
     ]
    }
   ],
   "source": [
    "# Data loaders\n",
    "source_train_loader = DataLoader(source_train_dataset, batch_size=64, shuffle=True, num_workers=2)\n",
    "source_test_loader = DataLoader(source_test_dataset, batch_size=64, shuffle=False, num_workers=2)\n",
    "target_train_loader = DataLoader(target_train_dataset, batch_size=64, shuffle=True, num_workers=2)\n",
    "target_test_loader = DataLoader(target_test_dataset, batch_size=64, shuffle=False, num_workers=2)\n",
    "\n",
    "# Verify the number of samples in each loader\n",
    "print(f'Number of samples in source train loader: {len(source_train_loader.dataset)}')\n",
    "print(f'Number of samples in source test loader: {len(source_test_loader.dataset)}')\n",
    "print(f'Number of samples in target train loader: {len(target_train_loader.dataset)}')\n",
    "print(f'Number of samples in target test loader: {len(target_test_loader.dataset)}')"
   ]
  },
  {
   "cell_type": "markdown",
   "metadata": {},
   "source": [
    "### Define my simple LeNet Model"
   ]
  },
  {
   "cell_type": "code",
   "execution_count": null,
   "metadata": {},
   "outputs": [],
   "source": [
    "class LeNet(nn.Module):\n",
    "    def __init__(self):\n",
    "        super(LeNet, self).__init__()\n",
    "        self.conv1 = nn.Conv2d(1, 64, kernel_size=5)\n",
    "        self.bn1 = nn.BatchNorm2d(64)\n",
    "        self.conv2 = nn.Conv2d(64, 128, kernel_size=5)\n",
    "        self.bn2 = nn.BatchNorm2d(128)\n",
    "        self.fc1 = nn.Linear(128*4*4, 1024)\n",
    "        self.fc2 = nn.Linear(1024, 100)\n",
    "        self.fc3 = nn.Linear(100, 10)\n",
    "        self.dropout = nn.Dropout(0.2)\n",
    "        \n",
    "    def forward(self, x):\n",
    "        x = F.relu(self.bn1(self.conv1(x)))\n",
    "        x = F.max_pool2d(x, 2)\n",
    "        x = F.relu(self.bn2(self.conv2(x)))\n",
    "        x = F.max_pool2d(x, 2)\n",
    "        x = x.view(-1, 128*4*4)\n",
    "        x = F.relu(self.fc1(x))\n",
    "        x = self.dropout(x)\n",
    "        x = F.relu(self.fc2(x))\n",
    "        x = self.fc3(x)\n",
    "        return x"
   ]
  },
  {
   "cell_type": "markdown",
   "metadata": {},
   "source": [
    "### Train the model"
   ]
  },
  {
   "cell_type": "code",
   "execution_count": null,
   "metadata": {},
   "outputs": [
    {
     "name": "stdout",
     "output_type": "stream",
     "text": [
      "====> Epoch: 1 Average train loss: 0.6259\n",
      "====> Epoch: 1 Validation loss: 0.4473\n",
      "====> Epoch: 2 Average train loss: 0.3581\n",
      "====> Epoch: 2 Validation loss: 0.3403\n",
      "====> Epoch: 3 Average train loss: 0.3001\n",
      "====> Epoch: 3 Validation loss: 0.3136\n",
      "====> Epoch: 4 Average train loss: 0.2648\n",
      "====> Epoch: 4 Validation loss: 0.2968\n",
      "====> Epoch: 5 Average train loss: 0.2358\n",
      "====> Epoch: 5 Validation loss: 0.3280\n",
      "====> Epoch: 6 Average train loss: 0.2106\n",
      "====> Epoch: 6 Validation loss: 0.2900\n",
      "====> Epoch: 7 Average train loss: 0.1882\n",
      "====> Epoch: 7 Validation loss: 0.2963\n",
      "====> Epoch: 8 Average train loss: 0.1703\n",
      "====> Epoch: 8 Validation loss: 0.2804\n",
      "====> Epoch: 9 Average train loss: 0.1529\n",
      "====> Epoch: 9 Validation loss: 0.2955\n",
      "====> Epoch: 10 Average train loss: 0.1314\n",
      "====> Epoch: 10 Validation loss: 0.3044\n",
      "====> Epoch: 11 Average train loss: 0.1225\n",
      "====> Epoch: 11 Validation loss: 0.3209\n",
      "====> Epoch: 12 Average train loss: 0.1069\n",
      "====> Epoch: 12 Validation loss: 0.3445\n",
      "====> Epoch: 13 Average train loss: 0.0981\n",
      "====> Epoch: 13 Validation loss: 0.3654\n",
      "====> Epoch: 14 Average train loss: 0.0896\n",
      "====> Epoch: 14 Validation loss: 0.3406\n",
      "====> Epoch: 15 Average train loss: 0.0814\n",
      "====> Epoch: 15 Validation loss: 0.3311\n",
      "====> Epoch: 16 Average train loss: 0.0736\n",
      "====> Epoch: 16 Validation loss: 0.3666\n",
      "====> Epoch: 17 Average train loss: 0.0679\n",
      "====> Epoch: 17 Validation loss: 0.3694\n",
      "====> Epoch: 18 Average train loss: 0.0647\n",
      "====> Epoch: 18 Validation loss: 0.4025\n",
      "Early stopping at epoch 18\n"
     ]
    }
   ],
   "source": [
    "device = torch.device(\"cuda\" if torch.cuda.is_available() else \"cpu\")\n",
    "model = LeNet().to(device)\n",
    "\n",
    "criterion = nn.CrossEntropyLoss()\n",
    "optimizer = optim.Adam(model.parameters(), lr=0.001)\n",
    "\n",
    "train_losses = []\n",
    "val_losses = []\n",
    "\n",
    "def train(model, train_loader, optimizer, criterion, epoch):\n",
    "    model.train()\n",
    "    epoch_loss = 0.0\n",
    "\n",
    "    for batch_idx, (data, target) in enumerate(train_loader):\n",
    "        data, target = data.to(device), target.to(device)\n",
    "\n",
    "        optimizer.zero_grad()\n",
    "        output = model(data)\n",
    "        loss = criterion(output, target)\n",
    "        loss.backward()\n",
    "        optimizer.step()\n",
    "\n",
    "        epoch_loss += loss.item()\n",
    "\n",
    "    average_loss = epoch_loss / len(train_loader)\n",
    "    train_losses.append(average_loss)\n",
    "    print(f'====> Epoch: {epoch} Average train loss: {average_loss:.4f}')\n",
    "\n",
    "def validate(model, val_loader, criterion):\n",
    "    model.eval()\n",
    "    val_loss = 0.0\n",
    "    with torch.no_grad():\n",
    "        for data, target in val_loader:\n",
    "            data, target = data.to(device), target.to(device)\n",
    "            output = model(data)\n",
    "            loss = criterion(output, target)\n",
    "            val_loss += loss.item()\n",
    "    \n",
    "    average_val_loss = val_loss / len(val_loader)\n",
    "    return average_val_loss\n",
    "\n",
    "best_val_loss = float('inf')\n",
    "best_epoch = -1\n",
    "patience = 10\n",
    "counter = 0\n",
    "\n",
    "for epoch in range(1, 101):\n",
    "    train(model, source_train_loader, optimizer, criterion, epoch)\n",
    "    val_loss = validate(model, source_test_loader, criterion)\n",
    "    val_losses.append(val_loss)\n",
    "    print(f'====> Epoch: {epoch} Validation loss: {val_loss:.4f}')\n",
    "    \n",
    "    # Save the best model\n",
    "    if val_loss < best_val_loss:\n",
    "        best_val_loss = val_loss\n",
    "        best_epoch = epoch\n",
    "        torch.save(model.state_dict(), 'models/best_model_base.pth')\n",
    "        counter = 0  # Reset counter if validation loss improves\n",
    "    else:\n",
    "        counter += 1\n",
    "    \n",
    "    # Early stopping\n",
    "    if counter >= patience:\n",
    "        print(f'Early stopping at epoch {epoch}')\n",
    "        break"
   ]
  },
  {
   "cell_type": "code",
   "execution_count": null,
   "metadata": {},
   "outputs": [
    {
     "data": {
      "image/png": "[encoded data removed]",
      "text/plain": [
       "<Figure size 640x480 with 1 Axes>"
      ]
     },
     "metadata": {},
     "output_type": "display_data"
    },
    {
     "name": "stdout",
     "output_type": "stream",
     "text": [
      "The best epoch is 8 with a validation loss of 0.2804\n"
     ]
    }
   ],
   "source": [
    "\n",
    "# Plot the training and validation loss curves\n",
    "plt.figure()\n",
    "plt.plot(range(1, len(train_losses) + 1), train_losses, marker='o', label='Training Loss')\n",
    "plt.plot(range(1, len(val_losses) + 1), val_losses, marker='o', label='Validation Loss')\n",
    "plt.xlabel('Epoch')\n",
    "plt.ylabel('Loss')\n",
    "plt.title('Training and Validation Loss Curve')\n",
    "plt.legend()\n",
    "plt.show()\n",
    "\n",
    "print(f'The best epoch is {best_epoch} with a validation loss of {best_val_loss:.4f}')\n"
   ]
  },
  {
   "cell_type": "markdown",
   "metadata": {},
   "source": [
    "### Test DA"
   ]
  },
  {
   "cell_type": "code",
   "execution_count": null,
   "metadata": {},
   "outputs": [],
   "source": [
    "def test(model, test_loader, criterion):\n",
    "    model.eval()\n",
    "    test_loss = 0\n",
    "    correct = 0\n",
    "    with torch.no_grad():\n",
    "        for data, target in test_loader:\n",
    "            data, target = data.to(device), target.to(device)\n",
    "            output = model(data)\n",
    "            test_loss += criterion(output, target).item()  # sum up batch loss\n",
    "            pred = output.argmax(dim=1, keepdim=True)  # get the index of the max log-probability\n",
    "            correct += pred.eq(target.view_as(pred)).sum().item()\n",
    "\n",
    "    test_loss /= len(test_loader.dataset)\n",
    "    print(f'\\nTest set: Average loss: {test_loss:.4f}, Accuracy: {correct}/{len(test_loader.dataset)} '\n",
    "          f'({100. * correct / len(test_loader.dataset):.0f}%)\\n')"
   ]
  },
  {
   "cell_type": "code",
   "execution_count": null,
   "metadata": {},
   "outputs": [
    {
     "name": "stdout",
     "output_type": "stream",
     "text": [
      " Evaluate model on source_test: \n",
      "\n",
      "Test set: Average loss: 0.0044, Accuracy: 24064/26032 (92%)\n",
      "\n",
      "No-Adaptation results: \n",
      "\n",
      "Test set: Average loss: 0.0464, Accuracy: 7047/10000 (70%)\n",
      "\n"
     ]
    }
   ],
   "source": [
    "# Load the best model weights\n",
    "model.load_state_dict(torch.load('models/best_model_base.pth'))\n",
    "\n",
    "# Evaluate\n",
    "print(\" Evaluate model on source_test: \")\n",
    "test(model, source_test_loader, criterion)\n",
    "\n",
    "print(\"No-Adaptation results: \")\n",
    "test(model, target_test_loader, criterion)"
   ]
  },
  {
   "cell_type": "markdown",
   "metadata": {},
   "source": [
    "---"
   ]
  },
  {
   "cell_type": "markdown",
   "metadata": {},
   "source": [
    "## Baseline 2 - Train On Target (ToT)"
   ]
  },
  {
   "cell_type": "markdown",
   "metadata": {},
   "source": [
    "### Train the model"
   ]
  },
  {
   "cell_type": "code",
   "execution_count": null,
   "metadata": {},
   "outputs": [
    {
     "name": "stdout",
     "output_type": "stream",
     "text": [
      "====> Epoch: 1 Average train loss: 0.1137\n",
      "====> Epoch: 1 Validation loss: 0.0401\n",
      "====> Epoch: 2 Average train loss: 0.0452\n",
      "====> Epoch: 2 Validation loss: 0.0303\n",
      "====> Epoch: 3 Average train loss: 0.0352\n",
      "====> Epoch: 3 Validation loss: 0.0379\n",
      "====> Epoch: 4 Average train loss: 0.0295\n",
      "====> Epoch: 4 Validation loss: 0.0321\n",
      "====> Epoch: 5 Average train loss: 0.0252\n",
      "====> Epoch: 5 Validation loss: 0.0394\n",
      "====> Epoch: 6 Average train loss: 0.0221\n",
      "====> Epoch: 6 Validation loss: 0.0289\n",
      "====> Epoch: 7 Average train loss: 0.0170\n",
      "====> Epoch: 7 Validation loss: 0.0272\n",
      "====> Epoch: 8 Average train loss: 0.0161\n",
      "====> Epoch: 8 Validation loss: 0.0294\n",
      "====> Epoch: 9 Average train loss: 0.0148\n",
      "====> Epoch: 9 Validation loss: 0.0308\n",
      "====> Epoch: 10 Average train loss: 0.0135\n",
      "====> Epoch: 10 Validation loss: 0.0277\n",
      "====> Epoch: 11 Average train loss: 0.0139\n",
      "====> Epoch: 11 Validation loss: 0.0270\n",
      "====> Epoch: 12 Average train loss: 0.0100\n",
      "====> Epoch: 12 Validation loss: 0.0332\n",
      "====> Epoch: 13 Average train loss: 0.0114\n",
      "====> Epoch: 13 Validation loss: 0.0265\n",
      "====> Epoch: 14 Average train loss: 0.0088\n",
      "====> Epoch: 14 Validation loss: 0.0221\n",
      "====> Epoch: 15 Average train loss: 0.0087\n",
      "====> Epoch: 15 Validation loss: 0.0305\n",
      "====> Epoch: 16 Average train loss: 0.0078\n",
      "====> Epoch: 16 Validation loss: 0.0307\n",
      "====> Epoch: 17 Average train loss: 0.0067\n",
      "====> Epoch: 17 Validation loss: 0.0331\n",
      "====> Epoch: 18 Average train loss: 0.0073\n",
      "====> Epoch: 18 Validation loss: 0.0362\n",
      "====> Epoch: 19 Average train loss: 0.0050\n",
      "====> Epoch: 19 Validation loss: 0.0329\n",
      "====> Epoch: 20 Average train loss: 0.0051\n",
      "====> Epoch: 20 Validation loss: 0.0304\n",
      "====> Epoch: 21 Average train loss: 0.0067\n",
      "====> Epoch: 21 Validation loss: 0.0385\n",
      "====> Epoch: 22 Average train loss: 0.0057\n",
      "====> Epoch: 22 Validation loss: 0.0306\n",
      "====> Epoch: 23 Average train loss: 0.0062\n",
      "====> Epoch: 23 Validation loss: 0.0443\n",
      "====> Epoch: 24 Average train loss: 0.0044\n",
      "====> Epoch: 24 Validation loss: 0.0309\n",
      "Early stopping at epoch 24\n"
     ]
    }
   ],
   "source": [
    "device = torch.device(\"cuda\" if torch.cuda.is_available() else \"cpu\")\n",
    "model = LeNet().to(device)\n",
    "\n",
    "criterion = nn.CrossEntropyLoss()\n",
    "optimizer = optim.Adam(model.parameters(), lr=0.001)\n",
    "\n",
    "train_losses = []\n",
    "val_losses = []\n",
    "\n",
    "def train(model, train_loader, optimizer, criterion, epoch):\n",
    "    model.train()\n",
    "    epoch_loss = 0.0\n",
    "\n",
    "    for batch_idx, (data, target) in enumerate(train_loader):\n",
    "        data, target = data.to(device), target.to(device)\n",
    "\n",
    "        optimizer.zero_grad()\n",
    "        output = model(data)\n",
    "        loss = criterion(output, target)\n",
    "        loss.backward()\n",
    "        optimizer.step()\n",
    "\n",
    "        epoch_loss += loss.item()\n",
    "\n",
    "    average_loss = epoch_loss / len(train_loader)\n",
    "    train_losses.append(average_loss)\n",
    "    print(f'====> Epoch: {epoch} Average train loss: {average_loss:.4f}')\n",
    "\n",
    "def validate(model, val_loader, criterion):\n",
    "    model.eval()\n",
    "    val_loss = 0.0\n",
    "    with torch.no_grad():\n",
    "        for data, target in val_loader:\n",
    "            data, target = data.to(device), target.to(device)\n",
    "            output = model(data)\n",
    "            loss = criterion(output, target)\n",
    "            val_loss += loss.item()\n",
    "    \n",
    "    average_val_loss = val_loss / len(val_loader)\n",
    "    return average_val_loss\n",
    "\n",
    "best_val_loss = float('inf')\n",
    "best_epoch = -1\n",
    "patience = 10\n",
    "counter = 0\n",
    "\n",
    "# TRAINER\n",
    "for epoch in range(1, 101):\n",
    "    train(model, target_train_loader, optimizer, criterion, epoch)\n",
    "    val_loss = validate(model, target_test_loader, criterion)\n",
    "    val_losses.append(val_loss)\n",
    "    print(f'====> Epoch: {epoch} Validation loss: {val_loss:.4f}')\n",
    "    \n",
    "    # Save the best model\n",
    "    if val_loss < best_val_loss:\n",
    "        best_val_loss = val_loss\n",
    "        best_epoch = epoch\n",
    "        torch.save(model.state_dict(), 'models/best_model_tot.pth')\n",
    "        counter = 0  # Reset counter if validation loss improves\n",
    "    else:\n",
    "        counter += 1\n",
    "    \n",
    "    # Early stopping\n",
    "    if counter >= patience:\n",
    "        print(f'Early stopping at epoch {epoch}')\n",
    "        break"
   ]
  },
  {
   "cell_type": "code",
   "execution_count": null,
   "metadata": {},
   "outputs": [
    {
     "data": {
      "image/png": "[encoded data removed]",
      "text/plain": [
       "<Figure size 640x480 with 1 Axes>"
      ]
     },
     "metadata": {},
     "output_type": "display_data"
    },
    {
     "name": "stdout",
     "output_type": "stream",
     "text": [
      "The best epoch is 14 with a validation loss of 0.0221\n"
     ]
    }
   ],
   "source": [
    "\n",
    "# Plot the training and validation loss curves\n",
    "plt.figure()\n",
    "plt.plot(range(1, len(train_losses) + 1), train_losses, marker='o', label='Training Loss')\n",
    "plt.plot(range(1, len(val_losses) + 1), val_losses, marker='o', label='Validation Loss')\n",
    "plt.xlabel('Epoch')\n",
    "plt.ylabel('Loss')\n",
    "plt.title('Training and Validation Loss Curve')\n",
    "plt.legend()\n",
    "plt.show()\n",
    "\n",
    "print(f'The best epoch is {best_epoch} with a validation loss of {best_val_loss:.4f}')\n"
   ]
  },
  {
   "cell_type": "markdown",
   "metadata": {},
   "source": [
    "### Test DA"
   ]
  },
  {
   "cell_type": "code",
   "execution_count": null,
   "metadata": {},
   "outputs": [],
   "source": [
    "def test(model, test_loader, criterion):\n",
    "    model.eval()\n",
    "    test_loss = 0\n",
    "    correct = 0\n",
    "    with torch.no_grad():\n",
    "        for data, target in test_loader:\n",
    "            data, target = data.to(device), target.to(device)\n",
    "            output = model(data)\n",
    "            test_loss += criterion(output, target).item()  # sum up batch loss\n",
    "            pred = output.argmax(dim=1, keepdim=True)  # get the index of the max log-probability\n",
    "            correct += pred.eq(target.view_as(pred)).sum().item()\n",
    "\n",
    "    test_loss /= len(test_loader.dataset)\n",
    "    print(f'\\nTest set: Average loss: {test_loss:.4f}, Accuracy: {correct}/{len(test_loader.dataset)} '\n",
    "          f'({100. * correct / len(test_loader.dataset):.0f}%)\\n')"
   ]
  },
  {
   "cell_type": "markdown",
   "metadata": {},
   "source": [
    "### Test with *optimal* model"
   ]
  },
  {
   "cell_type": "code",
   "execution_count": null,
   "metadata": {},
   "outputs": [
    {
     "name": "stdout",
     "output_type": "stream",
     "text": [
      " Evaluate model on target_test: \n",
      "\n",
      "Test set: Average loss: 0.0003, Accuracy: 9942/10000 (99%)\n",
      "\n"
     ]
    }
   ],
   "source": [
    "# Load the best model weights\n",
    "model.load_state_dict(torch.load('models/best_model_tot.pth'))\n",
    "\n",
    "print(\" Evaluate model on target_test: \")\n",
    "test(model, target_test_loader, criterion)"
   ]
  },
  {
   "cell_type": "markdown",
   "metadata": {},
   "source": [
    "---"
   ]
  },
  {
   "cell_type": "markdown",
   "metadata": {},
   "source": [
    "## Domain-Adversarial Neural Network (DANN)"
   ]
  },
  {
   "cell_type": "markdown",
   "metadata": {},
   "source": [
    "### Define the DANN Model"
   ]
  },
  {
   "cell_type": "code",
   "execution_count": null,
   "metadata": {},
   "outputs": [],
   "source": [
    "class GradReverse(Function):\n",
    "    @staticmethod\n",
    "    def forward(ctx, x, alpha):\n",
    "        ctx.alpha = alpha\n",
    "        return x.view_as(x)\n",
    "\n",
    "    @staticmethod\n",
    "    def backward(ctx, grad_output):\n",
    "        output = grad_output.neg() * ctx.alpha\n",
    "        return output, None\n",
    "\n",
    "class FeatureExtractor(nn.Module):\n",
    "    def __init__(self):\n",
    "        super(FeatureExtractor, self).__init__()\n",
    "        self.conv1 = nn.Conv2d(1, 64, kernel_size=5)\n",
    "        self.bn1 = nn.BatchNorm2d(64)\n",
    "        self.pool = nn.MaxPool2d(2, 2)\n",
    "        self.conv2 = nn.Conv2d(64, 128, kernel_size=5)\n",
    "        self.bn2 = nn.BatchNorm2d(128)\n",
    "        self.fc1 = nn.Linear(128 * 4 * 4, 1024)\n",
    "        self.dropout = nn.Dropout(0.2)\n",
    "\n",
    "    def forward(self, x):\n",
    "        x = self.pool(F.relu(self.bn1(self.conv1(x))))\n",
    "        x = self.pool(F.relu(self.bn2(self.conv2(x))))\n",
    "        x = x.view(-1, 128 * 4 * 4)\n",
    "        x = F.relu(self.fc1(x))\n",
    "        x = self.dropout(x)\n",
    "        return x\n",
    "\n",
    "class LabelPredictor(nn.Module):\n",
    "    def __init__(self):\n",
    "        super(LabelPredictor, self).__init__()\n",
    "        self.fc1 = nn.Linear(1024, 100)\n",
    "        self.fc2 = nn.Linear(100, 10)\n",
    "        self.dropout = nn.Dropout(0.2)\n",
    "\n",
    "    def forward(self, x):\n",
    "        x = F.relu(self.fc1(x))\n",
    "        x = self.dropout(x)\n",
    "        x = self.fc2(x)\n",
    "        return x\n",
    "\n",
    "class DomainClassifier(nn.Module):\n",
    "    def __init__(self):\n",
    "        super(DomainClassifier, self).__init__()\n",
    "        self.fc1 = nn.Linear(1024, 100)\n",
    "        self.fc2 = nn.Linear(100, 2)\n",
    "        self.dropout = nn.Dropout(0.2)\n",
    "\n",
    "    def forward(self, x, alpha):\n",
    "        x = GradReverse.apply(x, alpha)\n",
    "        x = F.relu(self.fc1(x))\n",
    "        x = self.dropout(x)\n",
    "        x = self.fc2(x)\n",
    "        return x\n",
    "\n",
    "class DANN(nn.Module):\n",
    "    def __init__(self):\n",
    "        super(DANN, self).__init__()\n",
    "        self.feature_extractor = FeatureExtractor()\n",
    "        self.label_predictor = LabelPredictor()\n",
    "        self.domain_classifier = DomainClassifier()\n",
    "\n",
    "    def forward(self, x, alpha=1.0):\n",
    "        features = self.feature_extractor(x)\n",
    "        label_output = self.label_predictor(features)\n",
    "        domain_output = self.domain_classifier(features, alpha)\n",
    "        return label_output, domain_output\n"
   ]
  },
  {
   "cell_type": "markdown",
   "metadata": {},
   "source": [
    "### Train the model"
   ]
  },
  {
   "cell_type": "code",
   "execution_count": null,
   "metadata": {},
   "outputs": [
    {
     "name": "stdout",
     "output_type": "stream",
     "text": [
      "====> Epoch: 1 Average train loss: 3.5263\n",
      "====> Epoch: 1 Validation loss: 1.9291\n",
      "====> Epoch: 2 Average train loss: 3.0806\n",
      "====> Epoch: 2 Validation loss: 1.3849\n",
      "====> Epoch: 3 Average train loss: 2.2430\n",
      "====> Epoch: 3 Validation loss: 0.9143\n",
      "====> Epoch: 4 Average train loss: 1.8892\n",
      "====> Epoch: 4 Validation loss: 0.8736\n",
      "====> Epoch: 5 Average train loss: 1.8111\n",
      "====> Epoch: 5 Validation loss: 0.8782\n",
      "====> Epoch: 6 Average train loss: 1.7665\n",
      "====> Epoch: 6 Validation loss: 0.7201\n",
      "====> Epoch: 7 Average train loss: 1.7413\n",
      "====> Epoch: 7 Validation loss: 0.7998\n",
      "====> Epoch: 8 Average train loss: 1.7132\n",
      "====> Epoch: 8 Validation loss: 0.7096\n",
      "====> Epoch: 9 Average train loss: 1.6934\n",
      "====> Epoch: 9 Validation loss: 0.7423\n",
      "====> Epoch: 10 Average train loss: 1.6754\n",
      "====> Epoch: 10 Validation loss: 0.9886\n",
      "====> Epoch: 11 Average train loss: 1.6629\n",
      "====> Epoch: 11 Validation loss: 0.6353\n",
      "====> Epoch: 12 Average train loss: 1.6423\n",
      "====> Epoch: 12 Validation loss: 0.6411\n",
      "====> Epoch: 13 Average train loss: 1.6364\n",
      "====> Epoch: 13 Validation loss: 0.8179\n",
      "====> Epoch: 14 Average train loss: 1.6203\n",
      "====> Epoch: 14 Validation loss: 0.7542\n",
      "====> Epoch: 15 Average train loss: 1.6154\n",
      "====> Epoch: 15 Validation loss: 0.6630\n",
      "====> Epoch: 16 Average train loss: 1.6264\n",
      "====> Epoch: 16 Validation loss: 0.7533\n",
      "====> Epoch: 17 Average train loss: 1.5992\n",
      "====> Epoch: 17 Validation loss: 0.5942\n",
      "====> Epoch: 18 Average train loss: 1.5867\n",
      "====> Epoch: 18 Validation loss: 0.5405\n",
      "====> Epoch: 19 Average train loss: 1.5836\n",
      "====> Epoch: 19 Validation loss: 0.6023\n",
      "====> Epoch: 20 Average train loss: 1.5674\n",
      "====> Epoch: 20 Validation loss: 0.6758\n",
      "====> Epoch: 21 Average train loss: 1.5605\n",
      "====> Epoch: 21 Validation loss: 0.5702\n",
      "====> Epoch: 22 Average train loss: 1.5556\n",
      "====> Epoch: 22 Validation loss: 0.9040\n",
      "====> Epoch: 23 Average train loss: 1.5427\n",
      "====> Epoch: 23 Validation loss: 0.6989\n",
      "====> Epoch: 24 Average train loss: 1.5382\n",
      "====> Epoch: 24 Validation loss: 0.7750\n",
      "====> Epoch: 25 Average train loss: 1.5320\n",
      "====> Epoch: 25 Validation loss: 0.7075\n",
      "====> Epoch: 26 Average train loss: 1.5257\n",
      "====> Epoch: 26 Validation loss: 0.8003\n",
      "====> Epoch: 27 Average train loss: 1.5257\n",
      "====> Epoch: 27 Validation loss: 0.6040\n",
      "====> Epoch: 28 Average train loss: 1.5170\n",
      "====> Epoch: 28 Validation loss: 0.7153\n",
      "Early stopping at epoch 28\n"
     ]
    }
   ],
   "source": [
    "device = torch.device(\"cuda\" if torch.cuda.is_available() else \"cpu\")\n",
    "model = DANN().to(device)\n",
    "criterion = nn.CrossEntropyLoss()\n",
    "optimizer = optim.Adam(model.parameters(), lr=0.001)\n",
    "\n",
    "train_losses = []\n",
    "val_losses = []\n",
    "\n",
    "def train(model, source_loader, target_loader, optimizer, criterion, epoch):\n",
    "    model.train()\n",
    "    len_dataloader = min(len(source_loader), len(target_loader))\n",
    "    data_zip = enumerate(zip(source_loader, target_loader))\n",
    "    epoch_loss = 0.0\n",
    "    \n",
    "    for batch_idx, ((data_s, label_s), (data_t, _)) in data_zip:\n",
    "        data_s, label_s = data_s.to(device), label_s.to(device)\n",
    "        data_t = data_t.to(device)\n",
    "\n",
    "        optimizer.zero_grad()\n",
    "\n",
    "        # Training the label predictor\n",
    "        p = float(batch_idx + epoch * len_dataloader) / (10 * len_dataloader)\n",
    "        alpha = 2. / (1. + np.exp(-10 * p)) - 1\n",
    "\n",
    "        label_output, domain_output_s = model(data_s, alpha=alpha)\n",
    "        _, domain_output_t = model(data_t, alpha=alpha)\n",
    "\n",
    "        loss_label = criterion(label_output, label_s)\n",
    "        loss_domain_s = criterion(domain_output_s, torch.zeros(len(data_s), dtype=torch.long).to(device))\n",
    "        loss_domain_t = criterion(domain_output_t, torch.ones(len(data_t), dtype=torch.long).to(device))\n",
    "\n",
    "        loss = loss_label + loss_domain_s + loss_domain_t\n",
    "        loss.backward()\n",
    "        optimizer.step()\n",
    "\n",
    "        epoch_loss += loss.item()\n",
    "\n",
    "    average_loss = epoch_loss / len_dataloader\n",
    "    train_losses.append(average_loss)\n",
    "    print(f'====> Epoch: {epoch} Average train loss: {average_loss:.4f}')\n",
    "\n",
    "def validate(model, val_loader, criterion):\n",
    "    model.eval()\n",
    "    val_loss = 0.0\n",
    "    with torch.no_grad():\n",
    "        for data, label in val_loader:\n",
    "            data, label = data.to(device), label.to(device)\n",
    "            label_output, _ = model(data, alpha=0)  # alpha is not used during validation\n",
    "            loss = criterion(label_output, label)\n",
    "            val_loss += loss.item()\n",
    "    \n",
    "    average_val_loss = val_loss / len(val_loader)\n",
    "    return average_val_loss\n",
    "\n",
    "best_val_loss = float('inf')\n",
    "best_epoch = -1\n",
    "patience = 10\n",
    "counter = 0\n",
    "\n",
    "for epoch in range(1, 101):\n",
    "    train(model, source_train_loader, target_train_loader, optimizer, criterion, epoch)\n",
    "    val_loss = validate(model, source_test_loader, criterion)\n",
    "    val_losses.append(val_loss)\n",
    "    print(f'====> Epoch: {epoch} Validation loss: {val_loss:.4f}')\n",
    "    \n",
    "    # Save the best model\n",
    "    if val_loss < best_val_loss:\n",
    "        best_val_loss = val_loss\n",
    "        best_epoch = epoch\n",
    "        torch.save(model.state_dict(), 'models/best_model.pth')\n",
    "        counter = 0  # Reset counter if validation loss improves\n",
    "    else:\n",
    "        counter += 1\n",
    "    \n",
    "    # Early stopping\n",
    "    if counter >= patience:\n",
    "        print(f'Early stopping at epoch {epoch}')\n",
    "        break\n"
   ]
  },
  {
   "cell_type": "code",
   "execution_count": null,
   "metadata": {},
   "outputs": [
    {
     "data": {
      "image/png": "[encoded data removed]",
      "text/plain": [
       "<Figure size 640x480 with 1 Axes>"
      ]
     },
     "metadata": {},
     "output_type": "display_data"
    },
    {
     "name": "stdout",
     "output_type": "stream",
     "text": [
      "The best epoch is 18 with a validation loss of 0.5405\n"
     ]
    }
   ],
   "source": [
    "\n",
    "# Plot the training and validation loss curves\n",
    "plt.figure()\n",
    "plt.plot(range(1, len(train_losses) + 1), train_losses, marker='o', label='Training Loss')\n",
    "plt.plot(range(1, len(val_losses) + 1), val_losses, marker='o', label='Validation Loss')\n",
    "plt.xlabel('Epoch')\n",
    "plt.ylabel('Loss')\n",
    "plt.title('Training and Validation Loss Curve')\n",
    "plt.legend()\n",
    "plt.show()\n",
    "\n",
    "print(f'The best epoch is {best_epoch} with a validation loss of {best_val_loss:.4f}')\n"
   ]
  },
  {
   "cell_type": "code",
   "execution_count": null,
   "metadata": {},
   "outputs": [
    {
     "name": "stdout",
     "output_type": "stream",
     "text": [
      "\n",
      "Test set: Average loss: 0.0352, Accuracy: 7798/10000 (78%)\n",
      "\n"
     ]
    }
   ],
   "source": [
    "def test(model, target_loader, criterion):\n",
    "    model.eval()\n",
    "    test_loss = 0\n",
    "    correct = 0\n",
    "    with torch.no_grad():\n",
    "        for data, target in target_loader:\n",
    "            data, target = data.to(device), target.to(device)\n",
    "            output, _ = model(data)\n",
    "            test_loss += criterion(output, target).item()  # sum up batch loss\n",
    "            pred = output.argmax(dim=1, keepdim=True)  # get the index of the max log-probability\n",
    "            correct += pred.eq(target.view_as(pred)).sum().item()\n",
    "\n",
    "    test_loss /= len(target_loader.dataset)\n",
    "    print(f'\\nTest set: Average loss: {test_loss:.4f}, Accuracy: {correct}/{len(target_loader.dataset)} '\n",
    "          f'({100. * correct / len(target_loader.dataset):.0f}%)\\n')\n",
    "\n",
    "test(model, target_test_loader, criterion)"
   ]
  },
  {
   "cell_type": "markdown",
   "metadata": {},
   "source": [
    "---"
   ]
  },
  {
   "cell_type": "markdown",
   "metadata": {},
   "source": [
    "## Results\n",
    "\n",
    "Method|Accuracy on Target Domain\n",
    "---|---\n",
    "No Adaptation|70%\n",
    "**DANN**|**78%**\n",
    "Train on Target|99%"
   ]
  }
 ],
 "metadata": {
  "language_info": {
   "name": "python"
  }
 },
 "nbformat": 4,
 "nbformat_minor": 2
}
