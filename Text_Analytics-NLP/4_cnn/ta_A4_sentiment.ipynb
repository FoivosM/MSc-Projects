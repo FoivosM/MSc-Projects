{
 "cells": [
  {
   "cell_type": "markdown",
   "id": "ba6eeff7",
   "metadata": {},
   "source": [
    "# Text Analytics - Assignment 4\n",
    "\n",
    "Grammatikopoulou Maria - f3352310\n",
    "\n",
    "Phevos A. Margonis - f3352317\n",
    "\n",
    "Moniaki Melina - f3352321"
   ]
  },
  {
   "cell_type": "markdown",
   "id": "0160917d",
   "metadata": {},
   "source": [
    "#### Exercise 2"
   ]
  },
  {
   "cell_type": "code",
   "execution_count": 46,
   "id": "b6115b03",
   "metadata": {},
   "outputs": [],
   "source": [
    "#!pip install fasttext-wheel\n",
    "#!pip install --upgrade tensorflow"
   ]
  },
  {
   "cell_type": "code",
   "execution_count": 47,
   "id": "255ffa0d",
   "metadata": {},
   "outputs": [],
   "source": [
    "#!wget https://dl.fbaipublicfiles.com/fasttext/vectors-crawl/cc.en.300.bin.gz\n",
    "#!gzip -d cc.en.300.bin.gz"
   ]
  },
  {
   "cell_type": "code",
   "execution_count": 48,
   "id": "e140cecf",
   "metadata": {},
   "outputs": [],
   "source": [
    "# Basic libraries\n",
    "import numpy as np\n",
    "import pandas as pd\n",
    "import matplotlib.pyplot as plt\n",
    "import seaborn as sns\n",
    "import os\n",
    "import datetime\n",
    "import time\n",
    "import re\n",
    "import fasttext\n",
    "\n",
    "# ML libraries\n",
    "from sklearn.metrics import (auc, classification_report,\n",
    "                             f1_score, precision_recall_curve,\n",
    "                             precision_score, recall_score)\n",
    "from sklearn.model_selection import train_test_split\n",
    "from sklearn.decomposition import TruncatedSVD\n",
    "from sklearn.feature_extraction.text import TfidfVectorizer\n",
    "from sklearn.linear_model import LogisticRegression\n",
    "from sklearn.dummy import DummyClassifier\n",
    "\n",
    "# TensorFlow and Keras\n",
    "import tensorflow as tf\n",
    "from tensorflow.keras import Input\n",
    "from tensorflow.keras.models import Sequential\n",
    "from tensorflow.keras.layers import Dense, Dropout, Activation, Embedding, Bidirectional, GRU, Lambda, BatchNormalization, LayerNormalization\n",
    "from tensorflow.keras.optimizers import Adam\n",
    "from tensorflow.keras.callbacks import EarlyStopping, ModelCheckpoint, TensorBoard\n",
    "from keras.layers import Add\n"
   ]
  },
  {
   "cell_type": "code",
   "execution_count": 49,
   "id": "72b92cdc",
   "metadata": {},
   "outputs": [
    {
     "name": "stderr",
     "output_type": "stream",
     "text": [
      "[nltk_data] Downloading package wordnet to /home/foivos/nltk_data...\n",
      "[nltk_data]   Package wordnet is already up-to-date!\n",
      "[nltk_data] Downloading package stopwords to /home/foivos/nltk_data...\n",
      "[nltk_data]   Package stopwords is already up-to-date!\n"
     ]
    }
   ],
   "source": [
    "# NLTK\n",
    "import nltk\n",
    "nltk.download('wordnet')\n",
    "nltk.download('stopwords')\n",
    "from nltk.tokenize import word_tokenize\n",
    "from nltk.stem import PorterStemmer\n",
    "from nltk.corpus import stopwords\n",
    "\n",
    "# Progress bar\n",
    "from tqdm import tqdm\n",
    "\n",
    "# NLP libraries\n",
    "# Install spacy\n",
    "#!pip install spacy\n",
    "# Download the English language model\n",
    "#!python -m spacy download en\n",
    "import spacy\n",
    "from spacy.lang.en.stop_words import STOP_WORDS"
   ]
  },
  {
   "cell_type": "code",
   "execution_count": 50,
   "id": "ef595f34",
   "metadata": {},
   "outputs": [],
   "source": [
    "TARGET_NAMES = ['negative', 'positive']"
   ]
  },
  {
   "cell_type": "code",
   "execution_count": 51,
   "id": "7d0ca764",
   "metadata": {},
   "outputs": [
    {
     "name": "stdout",
     "output_type": "stream",
     "text": [
      "                                              review sentiment\n",
      "0  One of the other reviewers has mentioned that ...  positive\n",
      "1  A wonderful little production. <br /><br />The...  positive\n",
      "2  I thought this was a wonderful way to spend ti...  positive\n",
      "3  Basically there's a family where a little boy ...  negative\n",
      "4  Petter Mattei's \"Love in the Time of Money\" is...  positive\n"
     ]
    },
    {
     "data": {
      "text/plain": [
       "(50000, 2)"
      ]
     },
     "execution_count": 51,
     "metadata": {},
     "output_type": "execute_result"
    }
   ],
   "source": [
    "csv_file_path = \"IMDB Dataset.csv\"\n",
    "# Read the CSV file into a DataFrame\n",
    "df = pd.read_csv(csv_file_path)\n",
    "\n",
    "# Display the DataFrame\n",
    "print(df.head())\n",
    "df.shape\n",
    "#df['review'][3]\n",
    "#sns.countplot(x=\"sentiment\", data=df)"
   ]
  },
  {
   "cell_type": "code",
   "execution_count": 52,
   "id": "0fa5f995",
   "metadata": {},
   "outputs": [],
   "source": [
    "# oldDF = df\n",
    "# df = df.iloc[:5000,:]"
   ]
  },
  {
   "cell_type": "code",
   "execution_count": 53,
   "id": "fac4735d",
   "metadata": {},
   "outputs": [
    {
     "name": "stderr",
     "output_type": "stream",
     "text": [
      "Preprocessing:   0%|          | 144/50000 [00:00<00:34, 1439.68it/s]"
     ]
    },
    {
     "name": "stderr",
     "output_type": "stream",
     "text": [
      "Preprocessing: 100%|██████████| 50000/50000 [00:24<00:00, 2005.37it/s]"
     ]
    },
    {
     "name": "stdout",
     "output_type": "stream",
     "text": [
      "one reviewers mentioned watching oz episode hooked right exactly happened first thing struck oz brutality unflinching scenes violence set right word go trust show faint hearted timid show pulls punches regards drugs sex violence hardcore classic use word called oz nickname given oswald maximum security state penitentary focuses mainly emerald city experimental section prison cells glass fronts face inwards privacy high agenda em city home many aryans muslims gangstas latinos christians italians irish scuffles death stares dodgy dealings shady agreements never far away would say main appeal show due fact goes shows dare forget pretty pictures painted mainstream audiences forget charm forget romance oz mess around first episode ever saw struck nasty surreal say ready watched developed taste oz got accustomed high levels graphic violence violence injustice crooked guards sold nickel inmates kill order get away well mannered middle class inmates turned prison bitches due lack street skills prison experience watching oz may become comfortable uncomfortable viewing thats get touch darker side \n"
     ]
    },
    {
     "name": "stderr",
     "output_type": "stream",
     "text": [
      "\n"
     ]
    }
   ],
   "source": [
    "\n",
    "TAG_RE = re.compile(r'<[^>]+>')\n",
    "def remove_tags(text):\n",
    "    '''Removes HTML tags: replaces anything between opening and closing <> with empty space'''\n",
    "\n",
    "    return TAG_RE.sub('', text)\n",
    "\n",
    "\n",
    "def preprocess_text(sen):\n",
    "    '''Cleans text data up, leaving only 2 or more char long non-stepwords composed of A-Z & a-z only\n",
    "    in lowercase'''\n",
    "\n",
    "    sentence = sen.lower()\n",
    "    # Remove html tags\n",
    "    sentence = remove_tags(sentence)\n",
    "    # Remove punctuations and numbers\n",
    "    sentence = re.sub('[^a-zA-Z]', ' ', sentence)\n",
    "    # Single character removal\n",
    "    sentence = re.sub(r\"\\s+[a-zA-Z]\\s+\", ' ', sentence)  # When we remove apostrophe from the word \"Mark's\", the apostrophe is replaced by an empty space. Hence, we are left with single character \"s\" that we are removing here.\n",
    "    # Remove multiple spaces\n",
    "    sentence = re.sub(r'\\s+', ' ', sentence)  # Next, we remove all the single characters and replace it by a space which creates multiple spaces in our text. Finally, we remove the multiple spaces from our text as well.\n",
    "    # Remove Stopwords\n",
    "    pattern = re.compile(r'\\b(' + r'|'.join(stopwords.words('english')) + r')\\b\\s*')\n",
    "    sentence = pattern.sub('', sentence)\n",
    "\n",
    "    return sentence\n",
    "\n",
    "\n",
    "# Calling preprocessing_text function on df\n",
    "X = []\n",
    "sentences = list(df['review'])\n",
    "for sen in tqdm(sentences, desc='Preprocessing: '):\n",
    "    X.append(preprocess_text(sen))\n",
    "    \n",
    "print(X[0])"
   ]
  },
  {
   "cell_type": "code",
   "execution_count": 54,
   "id": "9761a8a3",
   "metadata": {},
   "outputs": [],
   "source": [
    "# Converting sentiment labels to 0 & 1\n",
    "y = df['sentiment']\n",
    "y = np.array(list(map(lambda x: 1 if x == \"positive\" else 0, y)))"
   ]
  },
  {
   "cell_type": "code",
   "execution_count": 55,
   "id": "bbba30d7",
   "metadata": {},
   "outputs": [
    {
     "name": "stdout",
     "output_type": "stream",
     "text": [
      "Train samples: 35000\n",
      "Val samples: 7500\n",
      "Test samples: 7500\n"
     ]
    }
   ],
   "source": [
    "# Split the data into training (70%) and temporary data (30%)\n",
    "X_train, X_temp, y_train, y_temp = train_test_split(X, y, test_size=0.3, random_state=42)\n",
    "# Split the temporary data into testing (50%) and validation (50%)\n",
    "X_test, X_val, y_test, y_val = train_test_split(X_temp, y_temp, test_size=0.5, random_state=42)\n",
    "\n",
    "print('Train samples: {}'.format(len(X_train)))\n",
    "print('Val samples: {}'.format(len(X_val)))\n",
    "print('Test samples: {}'.format(len(X_test)))"
   ]
  },
  {
   "cell_type": "code",
   "execution_count": 56,
   "id": "af7f9f4c",
   "metadata": {},
   "outputs": [
    {
     "name": "stderr",
     "output_type": "stream",
     "text": [
      "Tokenize:   0%|          | 0/35000 [00:00<?, ?it/s]/home/foivos/anaconda3/lib/python3.11/site-packages/spacy/pipeline/lemmatizer.py:211: UserWarning: [W108] The rule-based lemmatizer did not find POS annotation for one or more tokens. Check that your pipeline includes components that assign token.pos, typically 'tagger'+'attribute_ruler' or 'morphologizer'.\n",
      "  warnings.warn(Warnings.W108)\n",
      "Tokenize: 100%|██████████| 35000/35000 [06:32<00:00, 89.14it/s] \n",
      "Tokenize: 100%|██████████| 7500/7500 [01:22<00:00, 90.83it/s] \n",
      "Tokenize: 100%|██████████| 7500/7500 [01:21<00:00, 92.33it/s] \n"
     ]
    }
   ],
   "source": [
    "nlp = spacy.load('en_core_web_sm', disable=[\"tagger\", \"parser\", \"ner\"])\n",
    "nlp.add_pipe('sentencizer')\n",
    "\n",
    "def tokenize_samples(samples):\n",
    "\n",
    "    tokenized_samples = []\n",
    "    for i in tqdm(range(len(samples)), desc='Tokenize: '):\n",
    "        doc = nlp(samples[i])  # Tokenize the sample into sentences\n",
    "        tokens = []\n",
    "        for sent in doc.sents:\n",
    "            for tok in sent:  # Iterate through the words of the sentence\n",
    "                if '\\n' in tok.text or \"\\t\" in tok.text or \"--\" in tok.text or \"*\" in tok.text or tok.text.lower() in STOP_WORDS:\n",
    "                    continue\n",
    "                if tok.text.strip():\n",
    "                    tokens.append(tok.text.replace('\"', \"'\").strip())\n",
    "        tokenized_samples.append(tokens)\n",
    "\n",
    "    return tokenized_samples\n",
    "\n",
    "\n",
    "X_train_tokenized = tokenize_samples(X_train)\n",
    "X_val_tokenized = tokenize_samples(X_val)\n",
    "X_test_tokenized = tokenize_samples(X_test)"
   ]
  },
  {
   "cell_type": "code",
   "execution_count": 57,
   "id": "27aa0d6b",
   "metadata": {},
   "outputs": [
    {
     "name": "stdout",
     "output_type": "stream",
     "text": [
      "102.10954285714286\n",
      "78.60863093519252\n"
     ]
    }
   ],
   "source": [
    "print(np.mean([len(x) for x in X_train_tokenized]))\n",
    "print(np.std([len(x) for x in X_train_tokenized]))"
   ]
  },
  {
   "cell_type": "code",
   "execution_count": 58,
   "id": "ebe480b7",
   "metadata": {},
   "outputs": [],
   "source": [
    "vectorizer = TfidfVectorizer(ngram_range=(1, 2),\n",
    "                             max_features=5000,\n",
    "                             sublinear_tf=True)\n",
    "\n",
    "X_train_tfidf = vectorizer.fit_transform([\" \".join(x) for x in X_train_tokenized])\n",
    "X_val_tfidf = vectorizer.transform([\" \".join(x) for x in X_val_tokenized])\n",
    "X_test_tfidf = vectorizer.transform([\" \".join(x) for x in X_test_tokenized])"
   ]
  },
  {
   "cell_type": "code",
   "execution_count": 59,
   "id": "8ef8e4e7",
   "metadata": {},
   "outputs": [],
   "source": [
    "# Reduce dimensionality using svd 5000 --> 500\n",
    "svd = TruncatedSVD(n_components=500, random_state=4321)\n",
    "X_train_svd = svd.fit_transform(X_train_tfidf)\n",
    "X_val_svd = svd.transform(X_val_tfidf)\n",
    "X_test_svd = svd.transform(X_test_tfidf)"
   ]
  },
  {
   "cell_type": "code",
   "execution_count": 60,
   "id": "e964a92a",
   "metadata": {},
   "outputs": [
    {
     "name": "stdout",
     "output_type": "stream",
     "text": [
      "Training took: 0.006074190139770508 seconds \n",
      "\n",
      "              precision    recall  f1-score   support\n",
      "\n",
      "    negative       0.50      1.00      0.67     17589\n",
      "    positive       0.00      0.00      0.00     17411\n",
      "\n",
      "    accuracy                           0.50     35000\n",
      "   macro avg       0.25      0.50      0.33     35000\n",
      "weighted avg       0.25      0.50      0.34     35000\n",
      "\n",
      "              precision    recall  f1-score   support\n",
      "\n",
      "    negative       0.50      1.00      0.66      3722\n",
      "    positive       0.00      0.00      0.00      3778\n",
      "\n",
      "    accuracy                           0.50      7500\n",
      "   macro avg       0.25      0.50      0.33      7500\n",
      "weighted avg       0.25      0.50      0.33      7500\n",
      "\n",
      "              precision    recall  f1-score   support\n",
      "\n",
      "    negative       0.49      1.00      0.66      3689\n",
      "    positive       0.00      0.00      0.00      3811\n",
      "\n",
      "    accuracy                           0.49      7500\n",
      "   macro avg       0.25      0.50      0.33      7500\n",
      "weighted avg       0.24      0.49      0.32      7500\n",
      "\n",
      "=== PR-AUC for Train ===\n",
      "PR-AUC for class 0: 75.13%\n",
      "PR-AUC for class 1: 74.87%\n",
      "\n",
      "=== PR-AUC for Validation ===\n",
      "PR-AUC for class 0: 74.81%\n",
      "PR-AUC for class 1: 75.19%\n",
      "\n",
      "=== PR-AUC for Test ===\n",
      "PR-AUC for class 0: 74.59%\n",
      "PR-AUC for class 1: 75.41%\n",
      "\n"
     ]
    }
   ],
   "source": [
    "\n",
    "def my_auc_report(y_true, y_pred, title='UNK') -> None:\n",
    "    \"\"\"\n",
    "    Inputs the y_true and y_pred,\n",
    "    Prints the PR-AUC for each class\n",
    "    \"\"\"\n",
    "    print(f\"=== PR-AUC for {title} ===\")\n",
    "    precision, recall, _ = precision_recall_curve(y_true, y_pred[:, 0], pos_label=0)\n",
    "    area = auc(recall, precision)\n",
    "    print(f\"PR-AUC for class 0: {area*100:.2f}%\")\n",
    "    precision, recall, _ = precision_recall_curve(y_true, y_pred[:, 1])\n",
    "    area = auc(recall, precision)\n",
    "    print(f\"PR-AUC for class 1: {area*100:.2f}%\\n\")\n",
    "\n",
    "##Dummy classifier\n",
    "# Train\n",
    "# The dummy classifier always predicts the 'most frequent' class\n",
    "baseline = DummyClassifier(strategy='most_frequent')\n",
    "start_time = time.time()\n",
    "baseline.fit(X_train_svd, y_train)\n",
    "majority_val_accuracy = baseline.score(X_val_svd, y_val)\n",
    "print(\"Training took: {} seconds \\n\".format(time.time() - start_time))\n",
    "\n",
    "# Evaluate\n",
    "model = baseline\n",
    "# Classification Reports\n",
    "predictions = model.predict(X_train_svd)\n",
    "print(classification_report(y_train, predictions, zero_division=0, target_names=TARGET_NAMES))\n",
    "predictions = model.predict(X_val_svd)\n",
    "print(classification_report(y_val, predictions, zero_division=0, target_names=TARGET_NAMES))\n",
    "predictions = model.predict(X_test_svd)\n",
    "print(classification_report(y_test, predictions, zero_division=0, target_names=TARGET_NAMES))\n",
    "\n",
    "# Prepare the predictions for PR-AUC\n",
    "predictions_train = model.predict_proba(X_train_svd)\n",
    "predictions_val = model.predict_proba(X_val_svd)\n",
    "predictions_test = model.predict_proba(X_test_svd)\n",
    "# PR-AUC report\n",
    "my_auc_report(y_train, y_pred=predictions_train, title='Train')\n",
    "my_auc_report(y_val, y_pred=predictions_val, title='Validation')\n",
    "my_auc_report(y_test, y_pred=predictions_test, title='Test')"
   ]
  },
  {
   "cell_type": "code",
   "execution_count": 61,
   "id": "7c12fbcd",
   "metadata": {},
   "outputs": [
    {
     "name": "stdout",
     "output_type": "stream",
     "text": [
      "              precision    recall  f1-score   support\n",
      "\n",
      "    negative       0.89      0.87      0.88     17589\n",
      "    positive       0.87      0.90      0.88     17411\n",
      "\n",
      "    accuracy                           0.88     35000\n",
      "   macro avg       0.88      0.88      0.88     35000\n",
      "weighted avg       0.88      0.88      0.88     35000\n",
      "\n",
      "              precision    recall  f1-score   support\n",
      "\n",
      "    negative       0.89      0.86      0.87      3722\n",
      "    positive       0.87      0.89      0.88      3778\n",
      "\n",
      "    accuracy                           0.88      7500\n",
      "   macro avg       0.88      0.88      0.88      7500\n",
      "weighted avg       0.88      0.88      0.88      7500\n",
      "\n",
      "              precision    recall  f1-score   support\n",
      "\n",
      "    negative       0.89      0.87      0.88      3689\n",
      "    positive       0.87      0.89      0.88      3811\n",
      "\n",
      "    accuracy                           0.88      7500\n",
      "   macro avg       0.88      0.88      0.88      7500\n",
      "weighted avg       0.88      0.88      0.88      7500\n",
      "\n",
      "=== PR-AUC for Train ===\n",
      "PR-AUC for class 0: 95.52%\n",
      "PR-AUC for class 1: 95.15%\n",
      "\n",
      "=== PR-AUC for Validation ===\n",
      "PR-AUC for class 0: 95.10%\n",
      "PR-AUC for class 1: 95.05%\n",
      "\n",
      "=== PR-AUC for Test ===\n",
      "PR-AUC for class 0: 95.05%\n",
      "PR-AUC for class 1: 94.73%\n",
      "\n"
     ]
    }
   ],
   "source": [
    "### Logistic Regression\n",
    "clf = LogisticRegression()\n",
    "clf.fit(X_train_svd, y_train)\n",
    "logit_val_accuracy = clf.score(X_val_svd, y_val)\n",
    "\n",
    "# Evaluate\n",
    "model = clf\n",
    "# Classification Reports\n",
    "predictions = model.predict(X_train_svd)\n",
    "print(classification_report(y_train, predictions, target_names=TARGET_NAMES))\n",
    "predictions = model.predict(X_val_svd)\n",
    "print(classification_report(y_val, predictions, target_names=TARGET_NAMES))\n",
    "predictions = model.predict(X_test_svd)\n",
    "print(classification_report(y_test, predictions, target_names=TARGET_NAMES))\n",
    "\n",
    "# Prepare the predictions for PR-AUC\n",
    "predictions_train = model.predict_proba(X_train_svd)\n",
    "predictions_val = model.predict_proba(X_val_svd)\n",
    "predictions_test = model.predict_proba(X_test_svd)\n",
    "# PR-AUC report\n",
    "my_auc_report(y_train, y_pred=predictions_train, title='Train')\n",
    "my_auc_report(y_val, y_pred=predictions_val, title='Validation')\n",
    "my_auc_report(y_test, y_pred=predictions_test, title='Test')"
   ]
  },
  {
   "cell_type": "code",
   "execution_count": 62,
   "id": "5e483c12",
   "metadata": {},
   "outputs": [],
   "source": [
    "MAX_WORDS = 100000\n",
    "MAX_SEQUENCE_LENGTH = 250 # To max megethos keimenou pou borei na dextei to diktio\n",
    "EMBEDDING_DIM = 300\n",
    "\n",
    "# output_mode -> exei kai alla opws \"TF-IDF\"\n",
    "# Orizoume an theloume kai ngrams\n",
    "# output_sequence_length to i sto h_{i}?\n",
    "\n",
    "vectorizer = tf.keras.layers.TextVectorization(max_tokens=MAX_WORDS, output_mode='int',\n",
    "                                               ngrams=1, output_sequence_length=MAX_SEQUENCE_LENGTH)\n",
    "\n",
    "vectorizer.adapt(X_train)"
   ]
  },
  {
   "cell_type": "code",
   "execution_count": 63,
   "id": "496b4939",
   "metadata": {},
   "outputs": [
    {
     "data": {
      "text/plain": [
       "<tf.Tensor: shape=(2, 250), dtype=int64, numpy=\n",
       "array([[3700,    1,    1,  527,    0,    0,    0,    0,    0,    0,    0,\n",
       "           0,    0,    0,    0,    0,    0,    0,    0,    0,    0,    0,\n",
       "           0,    0,    0,    0,    0,    0,    0,    0,    0,    0,    0,\n",
       "           0,    0,    0,    0,    0,    0,    0,    0,    0,    0,    0,\n",
       "           0,    0,    0,    0,    0,    0,    0,    0,    0,    0,    0,\n",
       "           0,    0,    0,    0,    0,    0,    0,    0,    0,    0,    0,\n",
       "           0,    0,    0,    0,    0,    0,    0,    0,    0,    0,    0,\n",
       "           0,    0,    0,    0,    0,    0,    0,    0,    0,    0,    0,\n",
       "           0,    0,    0,    0,    0,    0,    0,    0,    0,    0,    0,\n",
       "           0,    0,    0,    0,    0,    0,    0,    0,    0,    0,    0,\n",
       "           0,    0,    0,    0,    0,    0,    0,    0,    0,    0,    0,\n",
       "           0,    0,    0,    0,    0,    0,    0,    0,    0,    0,    0,\n",
       "           0,    0,    0,    0,    0,    0,    0,    0,    0,    0,    0,\n",
       "           0,    0,    0,    0,    0,    0,    0,    0,    0,    0,    0,\n",
       "           0,    0,    0,    0,    0,    0,    0,    0,    0,    0,    0,\n",
       "           0,    0,    0,    0,    0,    0,    0,    0,    0,    0,    0,\n",
       "           0,    0,    0,    0,    0,    0,    0,    0,    0,    0,    0,\n",
       "           0,    0,    0,    0,    0,    0,    0,    0,    0,    0,    0,\n",
       "           0,    0,    0,    0,    0,    0,    0,    0,    0,    0,    0,\n",
       "           0,    0,    0,    0,    0,    0,    0,    0,    0,    0,    0,\n",
       "           0,    0,    0,    0,    0,    0,    0,    0,    0,    0,    0,\n",
       "           0,    0,    0,    0,    0,    0,    0,    0,    0,    0,    0,\n",
       "           0,    0,    0,    0,    0,    0,    0,    0],\n",
       "       [  65, 3700,    1,    1,  527,    0,    0,    0,    0,    0,    0,\n",
       "           0,    0,    0,    0,    0,    0,    0,    0,    0,    0,    0,\n",
       "           0,    0,    0,    0,    0,    0,    0,    0,    0,    0,    0,\n",
       "           0,    0,    0,    0,    0,    0,    0,    0,    0,    0,    0,\n",
       "           0,    0,    0,    0,    0,    0,    0,    0,    0,    0,    0,\n",
       "           0,    0,    0,    0,    0,    0,    0,    0,    0,    0,    0,\n",
       "           0,    0,    0,    0,    0,    0,    0,    0,    0,    0,    0,\n",
       "           0,    0,    0,    0,    0,    0,    0,    0,    0,    0,    0,\n",
       "           0,    0,    0,    0,    0,    0,    0,    0,    0,    0,    0,\n",
       "           0,    0,    0,    0,    0,    0,    0,    0,    0,    0,    0,\n",
       "           0,    0,    0,    0,    0,    0,    0,    0,    0,    0,    0,\n",
       "           0,    0,    0,    0,    0,    0,    0,    0,    0,    0,    0,\n",
       "           0,    0,    0,    0,    0,    0,    0,    0,    0,    0,    0,\n",
       "           0,    0,    0,    0,    0,    0,    0,    0,    0,    0,    0,\n",
       "           0,    0,    0,    0,    0,    0,    0,    0,    0,    0,    0,\n",
       "           0,    0,    0,    0,    0,    0,    0,    0,    0,    0,    0,\n",
       "           0,    0,    0,    0,    0,    0,    0,    0,    0,    0,    0,\n",
       "           0,    0,    0,    0,    0,    0,    0,    0,    0,    0,    0,\n",
       "           0,    0,    0,    0,    0,    0,    0,    0,    0,    0,    0,\n",
       "           0,    0,    0,    0,    0,    0,    0,    0,    0,    0,    0,\n",
       "           0,    0,    0,    0,    0,    0,    0,    0,    0,    0,    0,\n",
       "           0,    0,    0,    0,    0,    0,    0,    0,    0,    0,    0,\n",
       "           0,    0,    0,    0,    0,    0,    0,    0]])>"
      ]
     },
     "execution_count": 63,
     "metadata": {},
     "output_type": "execute_result"
    }
   ],
   "source": [
    "input_array = [[\"sentence with some words\"], [\"another sentence with unfjfh words\"]]\n",
    "vectorizer.call(input_array)"
   ]
  },
  {
   "cell_type": "code",
   "execution_count": 64,
   "id": "dcb6b210",
   "metadata": {},
   "outputs": [
    {
     "name": "stdout",
     "output_type": "stream",
     "text": [
      "Embeddings matrix found.\n"
     ]
    }
   ],
   "source": [
    "if os.path.exists('embedding_matrix_imdb.npz'):\n",
    "    embedding_matrix = np.load('embedding_matrix_imdb.npz')['embeddings']\n",
    "    print('Embeddings matrix found.')\n",
    "else:\n",
    "    print('Loading Fasttext model...')\n",
    "    fasttext_model = fasttext.load_model('cc.en.300.bin')\n",
    "    print(\"Process completed!\")\n",
    "\n",
    "    embedding_matrix = np.zeros(shape=(MAX_WORDS, 300))\n",
    "\n",
    "    for w2idx, _word in tqdm(enumerate(vectorizer.get_vocabulary()), total=MAX_WORDS, desc='Embedding matrix creation'):\n",
    "        # Skip PAD and UNK tokens\n",
    "        if w2idx >= 2:\n",
    "            embedding_matrix[w2idx] = fasttext_model.get_word_vector(_word)\n",
    "\n",
    "    del fasttext_model\n",
    "\n",
    "    np.savez('embedding_matrix_imdb.npz', embeddings=embedding_matrix)\n",
    "    print('Embeddings matrix stored for future reference.')"
   ]
  },
  {
   "cell_type": "code",
   "execution_count": 65,
   "id": "1defabf5",
   "metadata": {},
   "outputs": [
    {
     "name": "stdout",
     "output_type": "stream",
     "text": [
      "Model: \"model_6\"\n",
      "__________________________________________________________________________________________________\n",
      " Layer (type)                Output Shape                 Param #   Connected to                  \n",
      "==================================================================================================\n",
      " input_11 (InputLayer)       [(None, 1)]                  0         []                            \n",
      "                                                                                                  \n",
      " text_vectorization_1 (Text  (None, 250)                  0         ['input_11[0][0]']            \n",
      " Vectorization)                                                                                   \n",
      "                                                                                                  \n",
      " embedding_10 (Embedding)    (None, 250, 300)             3000000   ['text_vectorization_1[0][0]']\n",
      "                                                          0                                       \n",
      "                                                                                                  \n",
      " dropout_56 (Dropout)        (None, 250, 300)             0         ['embedding_10[0][0]']        \n",
      "                                                                                                  \n",
      " 2-gram_Conv_layer_1 (Conv1  (None, 250, 128)             76928     ['dropout_56[0][0]']          \n",
      " D)                                                                                               \n",
      "                                                                                                  \n",
      " 3-gram_Conv_layer_1 (Conv1  (None, 250, 128)             115328    ['dropout_56[0][0]']          \n",
      " D)                                                                                               \n",
      "                                                                                                  \n",
      " 4-gram_Conv_layer_1 (Conv1  (None, 250, 128)             153728    ['dropout_56[0][0]']          \n",
      " D)                                                                                               \n",
      "                                                                                                  \n",
      " 2-gram_Conv_layer_2 (Conv1  (None, 250, 128)             32896     ['2-gram_Conv_layer_1[0][0]'] \n",
      " D)                                                                                               \n",
      "                                                                                                  \n",
      " 3-gram_Conv_layer_2 (Conv1  (None, 250, 128)             49280     ['3-gram_Conv_layer_1[0][0]'] \n",
      " D)                                                                                               \n",
      "                                                                                                  \n",
      " 4-gram_Conv_layer_2 (Conv1  (None, 250, 128)             65664     ['4-gram_Conv_layer_1[0][0]'] \n",
      " D)                                                                                               \n",
      "                                                                                                  \n",
      " dropout_57 (Dropout)        (None, 250, 128)             0         ['2-gram_Conv_layer_2[0][0]'] \n",
      "                                                                                                  \n",
      " dropout_58 (Dropout)        (None, 250, 128)             0         ['3-gram_Conv_layer_2[0][0]'] \n",
      "                                                                                                  \n",
      " dropout_59 (Dropout)        (None, 250, 128)             0         ['4-gram_Conv_layer_2[0][0]'] \n",
      "                                                                                                  \n",
      " 2-gram_Conv_layer_3 (Conv1  (None, 250, 128)             32896     ['dropout_57[0][0]']          \n",
      " D)                                                                                               \n",
      "                                                                                                  \n",
      " 3-gram_Conv_layer_3 (Conv1  (None, 250, 128)             49280     ['dropout_58[0][0]']          \n",
      " D)                                                                                               \n",
      "                                                                                                  \n",
      " 4-gram_Conv_layer_3 (Conv1  (None, 250, 128)             65664     ['dropout_59[0][0]']          \n",
      " D)                                                                                               \n",
      "                                                                                                  \n",
      " add_28 (Add)                (None, 250, 128)             0         ['2-gram_Conv_layer_3[0][0]', \n",
      "                                                                     '2-gram_Conv_layer_1[0][0]'] \n",
      "                                                                                                  \n",
      " add_29 (Add)                (None, 250, 128)             0         ['3-gram_Conv_layer_3[0][0]', \n",
      "                                                                     '3-gram_Conv_layer_1[0][0]'] \n",
      "                                                                                                  \n",
      " add_30 (Add)                (None, 250, 128)             0         ['4-gram_Conv_layer_3[0][0]', \n",
      "                                                                     '4-gram_Conv_layer_1[0][0]'] \n",
      "                                                                                                  \n",
      " 2-gram_GlobalMaxPooling (G  (None, 128)                  0         ['add_28[0][0]']              \n",
      " lobalMaxPooling1D)                                                                               \n",
      "                                                                                                  \n",
      " 3-gram_GlobalMaxPooling (G  (None, 128)                  0         ['add_29[0][0]']              \n",
      " lobalMaxPooling1D)                                                                               \n",
      "                                                                                                  \n",
      " 4-gram_GlobalMaxPooling (G  (None, 128)                  0         ['add_30[0][0]']              \n",
      " lobalMaxPooling1D)                                                                               \n",
      "                                                                                                  \n",
      " concatenate_6 (Concatenate  (None, 384)                  0         ['2-gram_GlobalMaxPooling[0][0\n",
      " )                                                                  ]',                           \n",
      "                                                                     '3-gram_GlobalMaxPooling[0][0\n",
      "                                                                    ]',                           \n",
      "                                                                     '4-gram_GlobalMaxPooling[0][0\n",
      "                                                                    ]']                           \n",
      "                                                                                                  \n",
      " dropout_60 (Dropout)        (None, 384)                  0         ['concatenate_6[0][0]']       \n",
      "                                                                                                  \n",
      " dense_19 (Dense)            (None, 16)                   6160      ['dropout_60[0][0]']          \n",
      "                                                                                                  \n",
      " dropout_62 (Dropout)        (None, 16)                   0         ['dense_19[0][0]']            \n",
      "                                                                                                  \n",
      " dense_20 (Dense)            (None, 1)                    17        ['dropout_62[0][0]']          \n",
      "                                                                                                  \n",
      "==================================================================================================\n",
      "Total params: 30647841 (116.91 MB)\n",
      "Trainable params: 647841 (2.47 MB)\n",
      "Non-trainable params: 30000000 (114.44 MB)\n",
      "__________________________________________________________________________________________________\n",
      "None\n",
      "Epoch 1/40\n",
      "137/137 [==============================] - 33s 203ms/step - loss: 0.6864 - accuracy: 0.5363 - val_loss: 0.6508 - val_accuracy: 0.6503\n",
      "Epoch 2/40\n",
      "137/137 [==============================] - 24s 176ms/step - loss: 0.6164 - accuracy: 0.6621 - val_loss: 0.5169 - val_accuracy: 0.7376\n",
      "Epoch 3/40\n",
      "137/137 [==============================] - 24s 176ms/step - loss: 0.5285 - accuracy: 0.7401 - val_loss: 0.4720 - val_accuracy: 0.7699\n",
      "Epoch 4/40\n",
      "137/137 [==============================] - 24s 175ms/step - loss: 0.4787 - accuracy: 0.7725 - val_loss: 0.4356 - val_accuracy: 0.7923\n",
      "Epoch 5/40\n",
      "137/137 [==============================] - 24s 176ms/step - loss: 0.4518 - accuracy: 0.7933 - val_loss: 0.4199 - val_accuracy: 0.8036\n",
      "Epoch 6/40\n",
      "137/137 [==============================] - 24s 175ms/step - loss: 0.4161 - accuracy: 0.8119 - val_loss: 0.4105 - val_accuracy: 0.8056\n",
      "Epoch 7/40\n",
      "137/137 [==============================] - 23s 170ms/step - loss: 0.3911 - accuracy: 0.8269 - val_loss: 0.4024 - val_accuracy: 0.8119\n",
      "Epoch 8/40\n",
      "137/137 [==============================] - 23s 169ms/step - loss: 0.3617 - accuracy: 0.8427 - val_loss: 0.3988 - val_accuracy: 0.8157\n",
      "Epoch 9/40\n",
      "137/137 [==============================] - 23s 167ms/step - loss: 0.3387 - accuracy: 0.8547 - val_loss: 0.4095 - val_accuracy: 0.8165\n",
      "Epoch 10/40\n",
      "137/137 [==============================] - 23s 166ms/step - loss: 0.3160 - accuracy: 0.8683 - val_loss: 0.4043 - val_accuracy: 0.8187\n",
      "Epoch 11/40\n",
      "137/137 [==============================] - 23s 166ms/step - loss: 0.2890 - accuracy: 0.8819 - val_loss: 0.4177 - val_accuracy: 0.8169\n",
      "Epoch 12/40\n",
      "137/137 [==============================] - 23s 167ms/step - loss: 0.2655 - accuracy: 0.8921 - val_loss: 0.4385 - val_accuracy: 0.8153\n",
      "Epoch 13/40\n",
      "137/137 [==============================] - 23s 167ms/step - loss: 0.2484 - accuracy: 0.9009 - val_loss: 0.4460 - val_accuracy: 0.8191\n",
      "Epoch 14/40\n",
      "137/137 [==============================] - 23s 168ms/step - loss: 0.2347 - accuracy: 0.9077 - val_loss: 0.4650 - val_accuracy: 0.8172\n",
      "Epoch 15/40\n",
      "137/137 [==============================] - 23s 167ms/step - loss: 0.2117 - accuracy: 0.9174 - val_loss: 0.4941 - val_accuracy: 0.8189\n",
      "Epoch 16/40\n",
      "137/137 [==============================] - 23s 167ms/step - loss: 0.2004 - accuracy: 0.9225 - val_loss: 0.5123 - val_accuracy: 0.8192\n",
      "Epoch 17/40\n",
      "137/137 [==============================] - 23s 167ms/step - loss: 0.1864 - accuracy: 0.9270 - val_loss: 0.5556 - val_accuracy: 0.8052\n",
      "Epoch 18/40\n",
      "137/137 [==============================] - 24s 173ms/step - loss: 0.1741 - accuracy: 0.9349 - val_loss: 0.5369 - val_accuracy: 0.8247\n",
      "\n",
      "Training time: 00:07:10 \n",
      "\n"
     ]
    }
   ],
   "source": [
    "FILTERS = 128  # the dimensionality of the output space (i.e. the number of output filters in the convolution)\n",
    "DENSE = 16\n",
    "\n",
    "inputs = tf.keras.Input(shape=(1,), dtype=tf.string)\n",
    "x = vectorizer(inputs)\n",
    "# Embeddings\n",
    "embeddings = tf.keras.layers.Embedding(input_dim=MAX_WORDS, output_dim=EMBEDDING_DIM,\n",
    "                                       weights=[embedding_matrix],\n",
    "                                       input_length=MAX_SEQUENCE_LENGTH,\n",
    "                                       mask_zero=True,\n",
    "                                       trainable=False)(x)\n",
    "# Dropout over Embeddings\n",
    "dropped_embeddings = tf.keras.layers.Dropout(rate=0.2)(embeddings)\n",
    "\n",
    "# Multi-filter CNNs with residuals and stacking\n",
    "pooled_conv = []\n",
    "filter_sizes = [2, 3, 4]\n",
    "stacks = 3  # Number of stacked CNN layers\n",
    "\n",
    "for n_gram in filter_sizes:\n",
    "    # n-gram convolutions with padding\n",
    "    convs = tf.keras.layers.Conv1D( filters=FILTERS, kernel_size=n_gram, strides=1, padding=\"same\", activation='relu', name=f\"{n_gram}-gram_Conv_layer_1\")(dropped_embeddings)\n",
    "\n",
    "    # Block 1\n",
    "    residual = convs\n",
    "    convs = tf.keras.layers.Conv1D( filters=FILTERS, kernel_size=n_gram, strides=1, padding=\"same\", activation='relu', name=f\"{n_gram}-gram_Conv_layer_2\")(convs)\n",
    "    convs = tf.keras.layers.Dropout(0.5)(convs)\n",
    "    convs = tf.keras.layers.Conv1D( filters=FILTERS, kernel_size=n_gram, strides=1, padding=\"same\", activation='relu', name=f\"{n_gram}-gram_Conv_layer_3\")(convs)\n",
    "    convs = tf.keras.layers.Add()([convs, residual])\n",
    "\n",
    "    # Max-Pooling over time\n",
    "    pooled_conv.append(tf.keras.layers.GlobalMaxPooling1D(name=f\"{n_gram}-gram_GlobalMaxPooling\")(convs))\n",
    "\n",
    "# Concatenation of residuals and filters from all window sizes\n",
    "concat = tf.keras.layers.concatenate(pooled_conv)\n",
    "concat = tf.keras.layers.Dropout(rate=0.5)(concat)\n",
    "\n",
    "outputs = tf.keras.layers.Dense(DENSE, activation='relu')(concat)\n",
    "outputs = tf.keras.layers.Dropout(rate=0.3)(outputs)\n",
    "outputs = tf.keras.layers.Dense(DENSE, activation='relu')(concat)\n",
    "outputs = tf.keras.layers.Dropout(rate=0.3)(outputs)\n",
    "outputs = tf.keras.layers.Dense(1, activation='sigmoid')(outputs)\n",
    "model = tf.keras.models.Model(inputs=inputs, outputs=outputs)\n",
    "\n",
    "print(model.summary())\n",
    "model.compile(loss='binary_crossentropy',\n",
    "              optimizer=tf.keras.optimizers.Adam(learning_rate=0.001),\n",
    "              metrics=[\"accuracy\"])\n",
    "\n",
    "\n",
    "if not os.path.exists('./checkpoints'):\n",
    "    os.makedirs('./checkpoints')\n",
    "# Callback to save the Keras model or model weights at some frequency.\n",
    "checkpoint = ModelCheckpoint(\n",
    "    'checkpoints/model_ex1',\n",
    "    monitor='val_loss',  # Save the model that scores the best @ validation accuracy\n",
    "    mode='min',  # Since accuracy -> maximization\n",
    "    verbose=2,\n",
    "    save_best_only=True,\n",
    "    save_weights_only=True,\n",
    "    save_format='tf'  # Use TensorFlow format for saving (due to TextVectorization layer not supporting HDF5)\n",
    ")\n",
    "\n",
    "early_stopping = EarlyStopping(monitor='val_loss',\n",
    "                               patience=10,\n",
    "                               restore_best_weights=True)\n",
    "\n",
    "start_training_time = time.time()\n",
    "\n",
    "history = model.fit(\n",
    "    np.array(X_train),\n",
    "    y_train,\n",
    "    validation_data=(np.array(X_val), y_val),\n",
    "    batch_size=256,\n",
    "    epochs=40,\n",
    "    shuffle=True,\n",
    "    callbacks=[early_stopping])\n",
    "\n",
    "end_training_time = time.time()\n",
    "\n",
    "print(f'\\nTraining time: {time.strftime(\"%H:%M:%S\", time.gmtime(end_training_time - start_training_time))} \\n')"
   ]
  },
  {
   "cell_type": "code",
   "execution_count": 69,
   "id": "0e8dcee3",
   "metadata": {},
   "outputs": [
    {
     "name": "stdout",
     "output_type": "stream",
     "text": [
      "INFO:tensorflow:Assets written to: checkpoints/model_ex1_masked/assets\n"
     ]
    },
    {
     "name": "stderr",
     "output_type": "stream",
     "text": [
      "INFO:tensorflow:Assets written to: checkpoints/model_ex1_masked/assets\n"
     ]
    }
   ],
   "source": [
    "# Same the complete model once\n",
    "model.save('checkpoints/model_ex1_masked')"
   ]
  },
  {
   "cell_type": "code",
   "execution_count": 66,
   "id": "39dc3079",
   "metadata": {},
   "outputs": [
    {
     "data": {
      "image/png": "[encoded data removed]",
      "text/plain": [
       "<Figure size 640x480 with 1 Axes>"
      ]
     },
     "metadata": {},
     "output_type": "display_data"
    },
    {
     "data": {
      "image/png": "[encoded data removed]",
      "text/plain": [
       "<Figure size 640x480 with 1 Axes>"
      ]
     },
     "metadata": {},
     "output_type": "display_data"
    }
   ],
   "source": [
    "%matplotlib inline\n",
    "import matplotlib.pyplot as plt\n",
    "\n",
    "# summarize history for accuracy\n",
    "plt.plot(history.history['accuracy'])\n",
    "plt.plot(history.history['val_accuracy'])\n",
    "plt.title('model accuracy')\n",
    "plt.ylabel('accuracy')\n",
    "plt.xlabel('epoch')\n",
    "plt.axhline(y=logit_val_accuracy, color='red', linestyle='--', label='Logistic')\n",
    "plt.axhline(y=majority_val_accuracy, color='blue', linestyle='--', label='Majority')\n",
    "plt.legend(['train', 'dev', 'Logistic', 'Majority'], loc='lower right')\n",
    "plt.show()\n",
    "\n",
    "# summarize history for loss\n",
    "plt.plot(history.history['loss'])\n",
    "plt.plot(history.history['val_loss'])\n",
    "plt.title('model loss')\n",
    "plt.ylabel('loss')\n",
    "plt.xlabel('epoch')\n",
    "plt.legend(['train', 'dev'], loc='upper right')\n",
    "plt.show()"
   ]
  },
  {
   "cell_type": "code",
   "execution_count": 67,
   "id": "244a7d59",
   "metadata": {},
   "outputs": [
    {
     "name": "stdout",
     "output_type": "stream",
     "text": [
      "1094/1094 [==============================] - 16s 15ms/step\n",
      "              precision    recall  f1-score   support\n",
      "\n",
      "    negative       0.88      0.92      0.90     17589\n",
      "    positive       0.91      0.87      0.89     17411\n",
      "\n",
      "    accuracy                           0.89     35000\n",
      "   macro avg       0.90      0.89      0.89     35000\n",
      "weighted avg       0.90      0.89      0.89     35000\n",
      "\n",
      "235/235 [==============================] - 3s 14ms/step\n",
      "              precision    recall  f1-score   support\n",
      "\n",
      "    negative       0.80      0.84      0.82      3722\n",
      "    positive       0.84      0.79      0.81      3778\n",
      "\n",
      "    accuracy                           0.82      7500\n",
      "   macro avg       0.82      0.82      0.82      7500\n",
      "weighted avg       0.82      0.82      0.82      7500\n",
      "\n",
      "235/235 [==============================] - 4s 18ms/step\n",
      "              precision    recall  f1-score   support\n",
      "\n",
      "    negative       0.79      0.84      0.81      3689\n",
      "    positive       0.83      0.78      0.81      3811\n",
      "\n",
      "    accuracy                           0.81      7500\n",
      "   macro avg       0.81      0.81      0.81      7500\n",
      "weighted avg       0.81      0.81      0.81      7500\n",
      "\n"
     ]
    }
   ],
   "source": [
    "predictions = (model.predict(X_train) > 0.5)\n",
    "print(classification_report(y_train, predictions, target_names=TARGET_NAMES))\n",
    "predictions = (model.predict(X_val) > 0.5)\n",
    "print(classification_report(y_val, predictions, target_names=TARGET_NAMES))\n",
    "predictions = (model.predict(X_test) > 0.5)\n",
    "print(classification_report(y_test, predictions, target_names=TARGET_NAMES))"
   ]
  },
  {
   "cell_type": "code",
   "execution_count": 68,
   "id": "f114f8d0",
   "metadata": {},
   "outputs": [
    {
     "name": "stdout",
     "output_type": "stream",
     "text": [
      "1094/1094 [==============================] - 17s 15ms/step\n",
      "235/235 [==============================] - 3s 14ms/step\n",
      "235/235 [==============================] - 3s 13ms/step\n",
      "=== PR-AUC for Train ===\n",
      "PR-AUC for class 0: 96.41%\n",
      "PR-AUC for class 1: 96.34%\n",
      "\n",
      "=== PR-AUC for Validation ===\n",
      "PR-AUC for class 0: 90.48%\n",
      "PR-AUC for class 1: 90.01%\n",
      "\n",
      "=== PR-AUC for Test ===\n",
      "PR-AUC for class 0: 90.01%\n",
      "PR-AUC for class 1: 89.43%\n",
      "\n"
     ]
    }
   ],
   "source": [
    "def custom_pred_proba(X) -> np.ndarray[tuple[float, float]]:\n",
    "    ''' Calculates the classic .predict_proba() for the X input feature matix,\n",
    "        because it is needed for the precision_recall_curve.\n",
    "        Returns an array: [P(x=0), P(x=1)] '''\n",
    "    pred = model.predict(X)\n",
    "    return np.hstack((1-pred, pred))\n",
    "\n",
    "\n",
    "# Prepare predictions for PR-AUC\n",
    "predictions_train = custom_pred_proba(X_train)\n",
    "predictions_val = custom_pred_proba(X_val)\n",
    "predictions_test = custom_pred_proba(X_test)\n",
    "# PR-AUC report\n",
    "my_auc_report(y_train, y_pred=predictions_train, title='Train')\n",
    "my_auc_report(y_val, y_pred=predictions_val, title='Validation')\n",
    "my_auc_report(y_test, y_pred=predictions_test, title='Test')"
   ]
  }
 ],
 "metadata": {
  "kernelspec": {
   "display_name": "Python 3 (ipykernel)",
   "language": "python",
   "name": "python3"
  },
  "language_info": {
   "codemirror_mode": {
    "name": "ipython",
    "version": 3
   },
   "file_extension": ".py",
   "mimetype": "text/x-python",
   "name": "python",
   "nbconvert_exporter": "python",
   "pygments_lexer": "ipython3",
   "version": "3.11.7"
  }
 },
 "nbformat": 4,
 "nbformat_minor": 5
}
