{
 "cells": [
  {
   "cell_type": "markdown",
   "id": "61991b6c",
   "metadata": {},
   "source": [
    "# Text Analytics - Assignment 5\n",
    "\n",
    "Grammatikopoulou Maria - f3352310\n",
    "\n",
    "Phevos A. Margonis - f3352317\n",
    "\n",
    "Moniaki Melina - f3352321"
   ]
  },
  {
   "cell_type": "code",
   "execution_count": 1,
   "id": "52df7795",
   "metadata": {},
   "outputs": [
    {
     "name": "stderr",
     "output_type": "stream",
     "text": [
      "2024-03-08 15:48:37.473839: E external/local_xla/xla/stream_executor/cuda/cuda_dnn.cc:9261] Unable to register cuDNN factory: Attempting to register factory for plugin cuDNN when one has already been registered\n",
      "2024-03-08 15:48:37.473919: E external/local_xla/xla/stream_executor/cuda/cuda_fft.cc:607] Unable to register cuFFT factory: Attempting to register factory for plugin cuFFT when one has already been registered\n",
      "2024-03-08 15:48:37.540533: E external/local_xla/xla/stream_executor/cuda/cuda_blas.cc:1515] Unable to register cuBLAS factory: Attempting to register factory for plugin cuBLAS when one has already been registered\n",
      "2024-03-08 15:48:39.219384: W tensorflow/compiler/tf2tensorrt/utils/py_utils.cc:38] TF-TRT Warning: Could not find TensorRT\n"
     ]
    }
   ],
   "source": [
    "# !pip install --upgrade tensorflow \n",
    "# !wget https://dl.fbaipublicfiles.com/fasttext/vectors-crawl/cc.en.300.bin.gz\n",
    "# !gzip -d cc.en.300.bin.gz\n",
    "# !pip install transformers\n",
    "# !pip install datasets\n",
    "# !pip install accelerate\n",
    "# Basic libraries\n",
    "import numpy as np\n",
    "import pandas as pd\n",
    "import matplotlib.pyplot as plt\n",
    "import seaborn as sns\n",
    "import os\n",
    "import datetime\n",
    "import time\n",
    "import re\n",
    "# import fasttext\n",
    "\n",
    "# ML libraries\n",
    "from sklearn.metrics import (auc, classification_report,\n",
    "                             f1_score, precision_recall_curve,\n",
    "                             precision_score, recall_score)\n",
    "from sklearn.model_selection import train_test_split\n",
    "from sklearn.decomposition import TruncatedSVD\n",
    "from sklearn.feature_extraction.text import TfidfVectorizer\n",
    "from sklearn.linear_model import LogisticRegression\n",
    "from sklearn.dummy import DummyClassifier\n",
    "\n",
    "# TensorFlow and Keras\n",
    "import tensorflow as tf\n",
    "from tensorflow.keras import Input\n",
    "from tensorflow.keras.models import Sequential\n",
    "from tensorflow.keras.layers import Dense, Dropout, Activation, Embedding, Bidirectional, GRU, Lambda, BatchNormalization, LayerNormalization\n",
    "from tensorflow.keras.optimizers import Adam\n",
    "from tensorflow.keras.callbacks import EarlyStopping, ModelCheckpoint, TensorBoard\n",
    "from keras.layers import Add\n",
    "# NLTK\n",
    "import nltk\n",
    "# nltk.download('wordnet')\n",
    "# nltk.download('stopwords')\n",
    "from nltk.tokenize import word_tokenize\n",
    "from nltk.stem import PorterStemmer\n",
    "from nltk.corpus import stopwords\n",
    "\n",
    "# Progress bar\n",
    "from tqdm import tqdm\n",
    "\n",
    "# NLP libraries\n",
    "# Install spacy\n",
    "# !pip install spacy\n",
    "# Download the English language model\n",
    "# !python -m spacy download en\n",
    "import spacy\n",
    "from spacy.lang.en.stop_words import STOP_WORDS"
   ]
  },
  {
   "cell_type": "code",
   "execution_count": 2,
   "id": "7b69c60c",
   "metadata": {
    "title": "data"
   },
   "outputs": [
    {
     "name": "stdout",
     "output_type": "stream",
     "text": [
      "                                              review sentiment\n",
      "0  One of the other reviewers has mentioned that ...  positive\n",
      "1  A wonderful little production. <br /><br />The...  positive\n",
      "2  I thought this was a wonderful way to spend ti...  positive\n",
      "3  Basically there's a family where a little boy ...  negative\n",
      "4  Petter Mattei's \"Love in the Time of Money\" is...  positive\n"
     ]
    },
    {
     "data": {
      "text/plain": [
       "(50000, 2)"
      ]
     },
     "execution_count": 2,
     "metadata": {},
     "output_type": "execute_result"
    }
   ],
   "source": [
    "TARGET_NAMES = ['negative', 'positive']\n",
    "\n",
    "csv_file_path = \"IMDB Dataset.csv\"\n",
    "# Read the CSV file into a DataFrame\n",
    "df = pd.read_csv(csv_file_path)\n",
    "\n",
    "# Display the DataFrame\n",
    "print(df.head())\n",
    "df.shape\n",
    "#df['review'][3]\n",
    "#sns.countplot(x=\"sentiment\", data=df)"
   ]
  },
  {
   "cell_type": "code",
   "execution_count": null,
   "id": "6279e1a0",
   "metadata": {
    "title": "truncate"
   },
   "outputs": [],
   "source": [
    "# oldDF = df\n",
    "# df = df.iloc[:5000,:]"
   ]
  },
  {
   "cell_type": "code",
   "execution_count": 3,
   "id": "efe687d3",
   "metadata": {
    "title": "nltk"
   },
   "outputs": [
    {
     "name": "stderr",
     "output_type": "stream",
     "text": [
      "Preprocessing: 100%|██████████| 50000/50000 [00:07<00:00, 6400.35it/s]"
     ]
    },
    {
     "name": "stdout",
     "output_type": "stream",
     "text": [
      "one of the other reviewers has mentioned that after watching just oz episode you ll be hooked they are right as this is exactly what happened with me the first thing that struck me about oz was its brutality and unflinching scenes of violence which set in right from the word go trust me this is not show for the faint hearted or timid this show pulls no punches with regards to drugs sex or violence its is hardcore in the classic use of the word it is called oz as that is the nickname given to the oswald maximum security state penitentary it focuses mainly on emerald city an experimental section of the prison where all the cells have glass fronts and face inwards so privacy is not high on the agenda em city is home to many aryans muslims gangstas latinos christians italians irish and more so scuffles death stares dodgy dealings and shady agreements are never far away would say the main appeal of the show is due to the fact that it goes where other shows wouldn dare forget pretty pictures painted for mainstream audiences forget charm forget romance oz doesn mess around the first episode ever saw struck me as so nasty it was surreal couldn say was ready for it but as watched more developed taste for oz and got accustomed to the high levels of graphic violence not just violence but injustice crooked guards who ll be sold out for nickel inmates who ll kill on order and get away with it well mannered middle class inmates being turned into prison bitches due to their lack of street skills or prison experience watching oz you may become comfortable with what is uncomfortable viewing thats if you can get in touch with your darker side \n"
     ]
    },
    {
     "name": "stderr",
     "output_type": "stream",
     "text": [
      "\n"
     ]
    }
   ],
   "source": [
    "TAG_RE = re.compile(r'<[^>]+>')\n",
    "def remove_tags(text):\n",
    "    '''Removes HTML tags: replaces anything between opening and closing <> with empty space'''\n",
    "\n",
    "    return TAG_RE.sub('', text)\n",
    "\n",
    "\n",
    "def preprocess_text(sen):\n",
    "    '''Cleans text data up, leaving only 2 or more char long non-stepwords composed of A-Z & a-z only\n",
    "    in lowercase'''\n",
    "\n",
    "    sentence = sen.lower()\n",
    "    # Remove html tags\n",
    "    sentence = remove_tags(sentence)\n",
    "    # Remove punctuations and numbers\n",
    "    sentence = re.sub('[^a-zA-Z]', ' ', sentence)\n",
    "    # Single character removal\n",
    "    sentence = re.sub(r\"\\s+[a-zA-Z]\\s+\", ' ', sentence)  # When we remove apostrophe from the word \"Mark's\", the apostrophe is replaced by an empty space. Hence, we are left with single character \"s\" that we are removing here.\n",
    "    # Remove multiple spaces\n",
    "    sentence = re.sub(r'\\s+', ' ', sentence)  # Next, we remove all the single characters and replace it by a space which creates multiple spaces in our text. Finally, we remove the multiple spaces from our text as well.\n",
    "    # # Remove Stopwords\n",
    "    # pattern = re.compile(r'\\b(' + r'|'.join(stopwords.words('english')) + r')\\b\\s*')\n",
    "    # sentence = pattern.sub('', sentence)\n",
    "\n",
    "    return sentence\n",
    "\n",
    "\n",
    "# Calling preprocessing_text function on df\n",
    "X = []\n",
    "sentences = list(df['review'])\n",
    "for sen in tqdm(sentences, desc='Preprocessing: '):\n",
    "    X.append(preprocess_text(sen))\n",
    "    \n",
    "print(X[0])"
   ]
  },
  {
   "cell_type": "code",
   "execution_count": 4,
   "id": "83823824",
   "metadata": {
    "title": "Labels"
   },
   "outputs": [],
   "source": [
    "# Converting sentiment labels to 0 & 1\n",
    "y = df['sentiment']\n",
    "y = np.array(list(map(lambda x: 1 if x == \"positive\" else 0, y)))"
   ]
  },
  {
   "cell_type": "code",
   "execution_count": 5,
   "id": "d6443765",
   "metadata": {
    "title": "data split"
   },
   "outputs": [
    {
     "name": "stdout",
     "output_type": "stream",
     "text": [
      "Train samples: 35000\n",
      "Val samples: 7500\n",
      "Test samples: 7500\n"
     ]
    }
   ],
   "source": [
    "# Split the data into training (70%) and temporary data (30%)\n",
    "X_train, X_temp, y_train, y_temp = train_test_split(X, y, test_size=0.3, random_state=42)\n",
    "# Split the temporary data into testing (50%) and validation (50%)\n",
    "X_test, X_val, y_test, y_val = train_test_split(X_temp, y_temp, test_size=0.5, random_state=42)\n",
    "\n",
    "print('Train samples: {}'.format(len(X_train)))\n",
    "print('Val samples: {}'.format(len(X_val)))\n",
    "print('Test samples: {}'.format(len(X_test)))"
   ]
  },
  {
   "cell_type": "code",
   "execution_count": 8,
   "id": "7b4fa488",
   "metadata": {
    "title": "TfIDF Vectorization"
   },
   "outputs": [],
   "source": [
    "vectorizer = TfidfVectorizer(ngram_range=(1, 2),\n",
    "                             max_features=5000,\n",
    "                             sublinear_tf=True)\n",
    "\n",
    "X_train_tfidf = vectorizer.fit_transform(X_train)\n",
    "X_val_tfidf = vectorizer.transform(X_val)\n",
    "X_test_tfidf = vectorizer.transform(X_test)"
   ]
  },
  {
   "cell_type": "code",
   "execution_count": 9,
   "id": "e2379565",
   "metadata": {
    "lines_to_next_cell": 1,
    "title": "SVD"
   },
   "outputs": [],
   "source": [
    "# Reduce dimensionality using svd 5000 --> 500\n",
    "svd = TruncatedSVD(n_components=500, random_state=4321)\n",
    "X_train_svd = svd.fit_transform(X_train_tfidf)\n",
    "X_val_svd = svd.transform(X_val_tfidf)\n",
    "X_test_svd = svd.transform(X_test_tfidf)"
   ]
  },
  {
   "cell_type": "code",
   "execution_count": 10,
   "id": "502e6c87",
   "metadata": {
    "title": "Dummy Classifier"
   },
   "outputs": [
    {
     "name": "stdout",
     "output_type": "stream",
     "text": [
      "Training took: 0.002635955810546875 seconds \n",
      "\n",
      "              precision    recall  f1-score   support\n",
      "\n",
      "    negative       0.50      1.00      0.67     17589\n",
      "    positive       0.00      0.00      0.00     17411\n",
      "\n",
      "    accuracy                           0.50     35000\n",
      "   macro avg       0.25      0.50      0.33     35000\n",
      "weighted avg       0.25      0.50      0.34     35000\n",
      "\n",
      "              precision    recall  f1-score   support\n",
      "\n",
      "    negative       0.50      1.00      0.66      3722\n",
      "    positive       0.00      0.00      0.00      3778\n",
      "\n",
      "    accuracy                           0.50      7500\n",
      "   macro avg       0.25      0.50      0.33      7500\n",
      "weighted avg       0.25      0.50      0.33      7500\n",
      "\n",
      "              precision    recall  f1-score   support\n",
      "\n",
      "    negative       0.49      1.00      0.66      3689\n",
      "    positive       0.00      0.00      0.00      3811\n",
      "\n",
      "    accuracy                           0.49      7500\n",
      "   macro avg       0.25      0.50      0.33      7500\n",
      "weighted avg       0.24      0.49      0.32      7500\n",
      "\n",
      "=== PR-AUC for Train ===\n",
      "PR-AUC for class 0: 75.13%\n",
      "PR-AUC for class 1: 74.87%\n",
      "\n",
      "=== PR-AUC for Validation ===\n",
      "PR-AUC for class 0: 74.81%\n",
      "PR-AUC for class 1: 75.19%\n",
      "\n",
      "=== PR-AUC for Test ===\n",
      "PR-AUC for class 0: 74.59%\n",
      "PR-AUC for class 1: 75.41%\n",
      "\n"
     ]
    }
   ],
   "source": [
    "\n",
    "def my_auc_report(y_true, y_pred, title='UNK') -> None:\n",
    "    \"\"\"\n",
    "    Inputs the y_true and y_pred,\n",
    "    Prints the PR-AUC for each class\n",
    "    \"\"\"\n",
    "    print(f\"=== PR-AUC for {title} ===\")\n",
    "    precision, recall, _ = precision_recall_curve(y_true, y_pred[:, 0], pos_label=0)\n",
    "    area = auc(recall, precision)\n",
    "    print(f\"PR-AUC for class 0: {area*100:.2f}%\")\n",
    "    precision, recall, _ = precision_recall_curve(y_true, y_pred[:, 1])\n",
    "    area = auc(recall, precision)\n",
    "    print(f\"PR-AUC for class 1: {area*100:.2f}%\\n\")\n",
    "\n",
    "##Dummy classifier\n",
    "# Train\n",
    "# The dummy classifier always predicts the 'most frequent' class\n",
    "baseline = DummyClassifier(strategy='most_frequent')\n",
    "start_time = time.time()\n",
    "baseline.fit(X_train_svd, y_train)\n",
    "majority_val_accuracy = baseline.score(X_val_svd, y_val)\n",
    "print(\"Training took: {} seconds \\n\".format(time.time() - start_time))\n",
    "\n",
    "# Evaluate\n",
    "model = baseline\n",
    "# Classification Reports\n",
    "predictions = model.predict(X_train_svd)\n",
    "print(classification_report(y_train, predictions, zero_division=0, target_names=TARGET_NAMES))\n",
    "predictions = model.predict(X_val_svd)\n",
    "print(classification_report(y_val, predictions, zero_division=0, target_names=TARGET_NAMES))\n",
    "predictions = model.predict(X_test_svd)\n",
    "print(classification_report(y_test, predictions, zero_division=0, target_names=TARGET_NAMES))\n",
    "\n",
    "# Prepare the predictions for PR-AUC\n",
    "predictions_train = model.predict_proba(X_train_svd)\n",
    "predictions_val = model.predict_proba(X_val_svd)\n",
    "predictions_test = model.predict_proba(X_test_svd)\n",
    "# PR-AUC report\n",
    "my_auc_report(y_train, y_pred=predictions_train, title='Train')\n",
    "my_auc_report(y_val, y_pred=predictions_val, title='Validation')\n",
    "my_auc_report(y_test, y_pred=predictions_test, title='Test')"
   ]
  },
  {
   "cell_type": "code",
   "execution_count": 11,
   "id": "9af5bbfb",
   "metadata": {
    "title": "Logistic Regression"
   },
   "outputs": [
    {
     "name": "stdout",
     "output_type": "stream",
     "text": [
      "              precision    recall  f1-score   support\n",
      "\n",
      "    negative       0.89      0.88      0.89     17589\n",
      "    positive       0.88      0.90      0.89     17411\n",
      "\n",
      "    accuracy                           0.89     35000\n",
      "   macro avg       0.89      0.89      0.89     35000\n",
      "weighted avg       0.89      0.89      0.89     35000\n",
      "\n",
      "              precision    recall  f1-score   support\n",
      "\n",
      "    negative       0.89      0.87      0.88      3722\n",
      "    positive       0.88      0.90      0.89      3778\n",
      "\n",
      "    accuracy                           0.89      7500\n",
      "   macro avg       0.89      0.89      0.89      7500\n",
      "weighted avg       0.89      0.89      0.89      7500\n",
      "\n",
      "              precision    recall  f1-score   support\n",
      "\n",
      "    negative       0.89      0.87      0.88      3689\n",
      "    positive       0.88      0.89      0.89      3811\n",
      "\n",
      "    accuracy                           0.88      7500\n",
      "   macro avg       0.88      0.88      0.88      7500\n",
      "weighted avg       0.88      0.88      0.88      7500\n",
      "\n",
      "=== PR-AUC for Train ===\n",
      "PR-AUC for class 0: 95.67%\n",
      "PR-AUC for class 1: 95.40%\n",
      "\n",
      "=== PR-AUC for Validation ===\n",
      "PR-AUC for class 0: 95.69%\n",
      "PR-AUC for class 1: 95.57%\n",
      "\n",
      "=== PR-AUC for Test ===\n",
      "PR-AUC for class 0: 95.49%\n",
      "PR-AUC for class 1: 95.30%\n",
      "\n"
     ]
    }
   ],
   "source": [
    "clf = LogisticRegression()\n",
    "clf.fit(X_train_svd, y_train)\n",
    "logit_val_accuracy = clf.score(X_val_svd, y_val)\n",
    "\n",
    "# Evaluate\n",
    "model = clf\n",
    "# Classification Reports\n",
    "predictions = model.predict(X_train_svd)\n",
    "print(classification_report(y_train, predictions, target_names=TARGET_NAMES))\n",
    "predictions = model.predict(X_val_svd)\n",
    "print(classification_report(y_val, predictions, target_names=TARGET_NAMES))\n",
    "predictions = model.predict(X_test_svd)\n",
    "print(classification_report(y_test, predictions, target_names=TARGET_NAMES))\n",
    "\n",
    "# Prepare the predictions for PR-AUC\n",
    "predictions_train = model.predict_proba(X_train_svd)\n",
    "predictions_val = model.predict_proba(X_val_svd)\n",
    "predictions_test = model.predict_proba(X_test_svd)\n",
    "# PR-AUC report\n",
    "my_auc_report(y_train, y_pred=predictions_train, title='Train')\n",
    "my_auc_report(y_val, y_pred=predictions_val, title='Validation')\n",
    "my_auc_report(y_test, y_pred=predictions_test, title='Test')\n",
    "\n"
   ]
  },
  {
   "cell_type": "markdown",
   "id": "21a725c1",
   "metadata": {},
   "source": [
    "## Transformers"
   ]
  },
  {
   "cell_type": "code",
   "execution_count": 12,
   "id": "47a3743f",
   "metadata": {
    "lines_to_next_cell": 1,
    "title": "Prepare Data for Transformers"
   },
   "outputs": [
    {
     "name": "stderr",
     "output_type": "stream",
     "text": [
      "/home/foivos/anaconda3/lib/python3.11/site-packages/transformers/utils/generic.py:260: UserWarning: torch.utils._pytree._register_pytree_node is deprecated. Please use torch.utils._pytree.register_pytree_node instead.\n",
      "  torch.utils._pytree._register_pytree_node(\n",
      "2024-03-08 15:50:35.875871: I external/local_xla/xla/stream_executor/cuda/cuda_executor.cc:901] successful NUMA node read from SysFS had negative value (-1), but there must be at least one NUMA node, so returning NUMA node zero. See more at https://github.com/torvalds/linux/blob/v6.0/Documentation/ABI/testing/sysfs-bus-pci#L344-L355\n",
      "2024-03-08 15:50:35.881948: I external/local_xla/xla/stream_executor/cuda/cuda_executor.cc:901] successful NUMA node read from SysFS had negative value (-1), but there must be at least one NUMA node, so returning NUMA node zero. See more at https://github.com/torvalds/linux/blob/v6.0/Documentation/ABI/testing/sysfs-bus-pci#L344-L355\n",
      "2024-03-08 15:50:35.882155: I external/local_xla/xla/stream_executor/cuda/cuda_executor.cc:901] successful NUMA node read from SysFS had negative value (-1), but there must be at least one NUMA node, so returning NUMA node zero. See more at https://github.com/torvalds/linux/blob/v6.0/Documentation/ABI/testing/sysfs-bus-pci#L344-L355\n",
      "2024-03-08 15:50:35.882920: I external/local_xla/xla/stream_executor/cuda/cuda_executor.cc:901] successful NUMA node read from SysFS had negative value (-1), but there must be at least one NUMA node, so returning NUMA node zero. See more at https://github.com/torvalds/linux/blob/v6.0/Documentation/ABI/testing/sysfs-bus-pci#L344-L355\n",
      "2024-03-08 15:50:35.883108: I external/local_xla/xla/stream_executor/cuda/cuda_executor.cc:901] successful NUMA node read from SysFS had negative value (-1), but there must be at least one NUMA node, so returning NUMA node zero. See more at https://github.com/torvalds/linux/blob/v6.0/Documentation/ABI/testing/sysfs-bus-pci#L344-L355\n",
      "2024-03-08 15:50:35.883280: I external/local_xla/xla/stream_executor/cuda/cuda_executor.cc:901] successful NUMA node read from SysFS had negative value (-1), but there must be at least one NUMA node, so returning NUMA node zero. See more at https://github.com/torvalds/linux/blob/v6.0/Documentation/ABI/testing/sysfs-bus-pci#L344-L355\n",
      "2024-03-08 15:50:35.982859: I external/local_xla/xla/stream_executor/cuda/cuda_executor.cc:901] successful NUMA node read from SysFS had negative value (-1), but there must be at least one NUMA node, so returning NUMA node zero. See more at https://github.com/torvalds/linux/blob/v6.0/Documentation/ABI/testing/sysfs-bus-pci#L344-L355\n",
      "2024-03-08 15:50:35.983116: I external/local_xla/xla/stream_executor/cuda/cuda_executor.cc:901] successful NUMA node read from SysFS had negative value (-1), but there must be at least one NUMA node, so returning NUMA node zero. See more at https://github.com/torvalds/linux/blob/v6.0/Documentation/ABI/testing/sysfs-bus-pci#L344-L355\n",
      "2024-03-08 15:50:35.983325: I external/local_xla/xla/stream_executor/cuda/cuda_executor.cc:901] successful NUMA node read from SysFS had negative value (-1), but there must be at least one NUMA node, so returning NUMA node zero. See more at https://github.com/torvalds/linux/blob/v6.0/Documentation/ABI/testing/sysfs-bus-pci#L344-L355\n",
      "2024-03-08 15:50:35.983442: I tensorflow/core/common_runtime/gpu/gpu_device.cc:1929] Created device /job:localhost/replica:0/task:0/device:GPU:0 with 5182 MB memory:  -> device: 0, name: NVIDIA GeForce GTX 1060 6GB, pci bus id: 0000:01:00.0, compute capability: 6.1\n",
      "2024-03-08 15:50:36.662691: I external/local_tsl/tsl/platform/default/subprocess.cc:304] Start cannot spawn child process: No such file or directory\n",
      "Some weights of the PyTorch model were not used when initializing the TF 2.0 model TFDistilBertForSequenceClassification: ['vocab_transform.weight', 'vocab_layer_norm.weight', 'vocab_transform.bias', 'vocab_projector.bias', 'vocab_layer_norm.bias']\n",
      "- This IS expected if you are initializing TFDistilBertForSequenceClassification from a PyTorch model trained on another task or with another architecture (e.g. initializing a TFBertForSequenceClassification model from a BertForPreTraining model).\n",
      "- This IS NOT expected if you are initializing TFDistilBertForSequenceClassification from a PyTorch model that you expect to be exactly identical (e.g. initializing a TFBertForSequenceClassification model from a BertForSequenceClassification model).\n",
      "Some weights or buffers of the TF 2.0 model TFDistilBertForSequenceClassification were not initialized from the PyTorch model and are newly initialized: ['pre_classifier.weight', 'pre_classifier.bias', 'classifier.weight', 'classifier.bias']\n",
      "You should probably TRAIN this model on a down-stream task to be able to use it for predictions and inference.\n"
     ]
    },
    {
     "name": "stdout",
     "output_type": "stream",
     "text": [
      "Model: \"tf_distil_bert_for_sequence_classification\"\n",
      "_________________________________________________________________\n",
      " Layer (type)                Output Shape              Param #   \n",
      "=================================================================\n",
      " distilbert (TFDistilBertMa  multiple                  66362880  \n",
      " inLayer)                                                        \n",
      "                                                                 \n",
      " pre_classifier (Dense)      multiple                  590592    \n",
      "                                                                 \n",
      " classifier (Dense)          multiple                  769       \n",
      "                                                                 \n",
      " dropout_19 (Dropout)        multiple                  0         \n",
      "                                                                 \n",
      "=================================================================\n",
      "Total params: 66954241 (255.41 MB)\n",
      "Trainable params: 66954241 (255.41 MB)\n",
      "Non-trainable params: 0 (0.00 Byte)\n",
      "_________________________________________________________________\n"
     ]
    }
   ],
   "source": [
    "from transformers import TFAutoModelForSequenceClassification, AutoTokenizer\n",
    "\n",
    "bert_tokenizer = AutoTokenizer.from_pretrained('distilbert/distilbert-base-uncased')\n",
    "bert_clf = TFAutoModelForSequenceClassification.from_pretrained('distilbert/distilbert-base-uncased', \n",
    "                                                                num_labels=1)\n",
    "bert_clf.summary()"
   ]
  },
  {
   "cell_type": "code",
   "execution_count": 13,
   "id": "1aa5632b",
   "metadata": {
    "title": "Tokenize"
   },
   "outputs": [],
   "source": [
    "def tokenize_text(data, tokenizer, max_length=250):\n",
    "  return tokenizer(data, add_special_tokens=True, padding='max_length',\n",
    "                   max_length=max_length, truncation=True, return_tensors='tf')\n",
    "\n",
    "bert_train = tokenize_text(X_train, bert_tokenizer)\n",
    "bert_val = tokenize_text(X_val, bert_tokenizer)\n",
    "bert_test = tokenize_text(X_test, bert_tokenizer)"
   ]
  },
  {
   "cell_type": "code",
   "execution_count": 14,
   "id": "aaa262a1",
   "metadata": {
    "title": "Check"
   },
   "outputs": [
    {
     "data": {
      "text/plain": [
       "{'input_ids': <tf.Tensor: shape=(35000, 250), dtype=int32, numpy=\n",
       "array([[ 101, 2004, 2172, ...,    0,    0,    0],\n",
       "       [ 101, 2023, 2001, ...,    0,    0,    0],\n",
       "       [ 101, 2025, 4531, ...,    0,    0,    0],\n",
       "       ...,\n",
       "       [ 101, 4468, 2023, ...,    0,    0,    0],\n",
       "       [ 101, 2023, 2537, ...,    0,    0,    0],\n",
       "       [ 101, 2023, 2003, ...,    0,    0,    0]], dtype=int32)>, 'attention_mask': <tf.Tensor: shape=(35000, 250), dtype=int32, numpy=\n",
       "array([[1, 1, 1, ..., 0, 0, 0],\n",
       "       [1, 1, 1, ..., 0, 0, 0],\n",
       "       [1, 1, 1, ..., 0, 0, 0],\n",
       "       ...,\n",
       "       [1, 1, 1, ..., 0, 0, 0],\n",
       "       [1, 1, 1, ..., 0, 0, 0],\n",
       "       [1, 1, 1, ..., 0, 0, 0]], dtype=int32)>}"
      ]
     },
     "execution_count": 14,
     "metadata": {},
     "output_type": "execute_result"
    }
   ],
   "source": [
    "bert_train"
   ]
  },
  {
   "cell_type": "code",
   "execution_count": 16,
   "id": "515b585a",
   "metadata": {
    "lines_to_next_cell": 0
   },
   "outputs": [
    {
     "name": "stdout",
     "output_type": "stream",
     "text": [
      "Epoch 1/10\n",
      "4375/4375 [==============================] - 1409s 318ms/step - loss: 0.2221 - binary_accuracy: 0.9100 - val_loss: 0.2372 - val_binary_accuracy: 0.9101\n",
      "Epoch 2/10\n",
      "4375/4375 [==============================] - 1388s 317ms/step - loss: 0.1888 - binary_accuracy: 0.9262 - val_loss: 0.3153 - val_binary_accuracy: 0.8916\n",
      "Epoch 3/10\n",
      "4375/4375 [==============================] - 1389s 318ms/step - loss: 0.1584 - binary_accuracy: 0.9404 - val_loss: 0.2342 - val_binary_accuracy: 0.9116\n",
      "Epoch 4/10\n",
      "4375/4375 [==============================] - 1391s 318ms/step - loss: 0.1324 - binary_accuracy: 0.9529 - val_loss: 0.2466 - val_binary_accuracy: 0.9105\n",
      "Epoch 5/10\n",
      "4375/4375 [==============================] - 1391s 318ms/step - loss: 0.1087 - binary_accuracy: 0.9623 - val_loss: 0.2588 - val_binary_accuracy: 0.9128\n",
      "Epoch 6/10\n",
      "4375/4375 [==============================] - 1392s 318ms/step - loss: 0.0899 - binary_accuracy: 0.9693 - val_loss: 0.2891 - val_binary_accuracy: 0.9119\n",
      "\n",
      "Training time: 02:19:20 \n",
      "\n",
      "WARNING:tensorflow:Skipping full serialization of Keras layer <keras.src.layers.regularization.dropout.Dropout object at 0x7049deb968d0>, because it is not built.\n"
     ]
    },
    {
     "name": "stderr",
     "output_type": "stream",
     "text": [
      "WARNING:tensorflow:Skipping full serialization of Keras layer <keras.src.layers.regularization.dropout.Dropout object at 0x7049deb968d0>, because it is not built.\n"
     ]
    },
    {
     "name": "stdout",
     "output_type": "stream",
     "text": [
      "WARNING:tensorflow:Skipping full serialization of Keras layer <keras.src.layers.regularization.dropout.Dropout object at 0x7049d5bf1890>, because it is not built.\n"
     ]
    },
    {
     "name": "stderr",
     "output_type": "stream",
     "text": [
      "WARNING:tensorflow:Skipping full serialization of Keras layer <keras.src.layers.regularization.dropout.Dropout object at 0x7049d5bf1890>, because it is not built.\n"
     ]
    },
    {
     "name": "stdout",
     "output_type": "stream",
     "text": [
      "WARNING:tensorflow:Skipping full serialization of Keras layer <keras.src.layers.regularization.dropout.Dropout object at 0x7049d4d95b10>, because it is not built.\n"
     ]
    },
    {
     "name": "stderr",
     "output_type": "stream",
     "text": [
      "WARNING:tensorflow:Skipping full serialization of Keras layer <keras.src.layers.regularization.dropout.Dropout object at 0x7049d4d95b10>, because it is not built.\n"
     ]
    },
    {
     "name": "stdout",
     "output_type": "stream",
     "text": [
      "WARNING:tensorflow:Skipping full serialization of Keras layer <keras.src.layers.regularization.dropout.Dropout object at 0x7049d51fc390>, because it is not built.\n"
     ]
    },
    {
     "name": "stderr",
     "output_type": "stream",
     "text": [
      "WARNING:tensorflow:Skipping full serialization of Keras layer <keras.src.layers.regularization.dropout.Dropout object at 0x7049d51fc390>, because it is not built.\n"
     ]
    },
    {
     "name": "stdout",
     "output_type": "stream",
     "text": [
      "WARNING:tensorflow:Skipping full serialization of Keras layer <keras.src.layers.regularization.dropout.Dropout object at 0x7049deb945d0>, because it is not built.\n"
     ]
    },
    {
     "name": "stderr",
     "output_type": "stream",
     "text": [
      "WARNING:tensorflow:Skipping full serialization of Keras layer <keras.src.layers.regularization.dropout.Dropout object at 0x7049deb945d0>, because it is not built.\n"
     ]
    },
    {
     "name": "stdout",
     "output_type": "stream",
     "text": [
      "WARNING:tensorflow:Skipping full serialization of Keras layer <keras.src.layers.regularization.dropout.Dropout object at 0x7049d4d95cd0>, because it is not built.\n"
     ]
    },
    {
     "name": "stderr",
     "output_type": "stream",
     "text": [
      "WARNING:tensorflow:Skipping full serialization of Keras layer <keras.src.layers.regularization.dropout.Dropout object at 0x7049d4d95cd0>, because it is not built.\n"
     ]
    },
    {
     "name": "stdout",
     "output_type": "stream",
     "text": [
      "INFO:tensorflow:Assets written to: checkpoints/distilbert_ex1/assets\n"
     ]
    },
    {
     "name": "stderr",
     "output_type": "stream",
     "text": [
      "INFO:tensorflow:Assets written to: checkpoints/distilbert_ex1/assets\n"
     ]
    }
   ],
   "source": [
    "bert_clf.compile(optimizer=tf.keras.optimizers.Adam(learning_rate=2e-6),\n",
    "              loss=tf.keras.losses.BinaryCrossentropy(from_logits=True),\n",
    "              metrics=[tf.keras.metrics.BinaryAccuracy()])\n",
    "\n",
    "\n",
    "early_stopping = EarlyStopping(monitor='val_loss',\n",
    "                               patience=3,\n",
    "                               restore_best_weights=True)\n",
    "# Train the model ==============================================\n",
    "start_training_time = time.time()\n",
    "history = bert_clf.fit(\n",
    "    x=[bert_train['input_ids'],\n",
    "       bert_train['attention_mask']],\n",
    "    y=y_train,\n",
    "    epochs=10,\n",
    "    batch_size=8,\n",
    "    validation_data=([bert_val['input_ids'],\n",
    "                      bert_val['attention_mask']],\n",
    "                     y_val),\n",
    "    callbacks=[early_stopping]\n",
    ")\n",
    "end_training_time = time.time()\n",
    "print(f'\\nTraining time: {time.strftime(\"%H:%M:%S\", time.gmtime(end_training_time - start_training_time))} \\n')\n",
    "\n",
    "# Same the complete model once ==================================\n",
    "bert_clf.save('checkpoints/distilbert_ex1')"
   ]
  },
  {
   "cell_type": "code",
   "execution_count": null,
   "id": "88615a04",
   "metadata": {},
   "outputs": [],
   "source": [
    "loss, accuracy = bert_clf.evaluate([bert_val[\"input_ids\"], bert_val[\"attention_mask\"]], y_val, verbose=1)\n",
    "print(f\"Loss: {loss:.4f}\\nAccuracy: {accuracy*100:.4f}%\")"
   ]
  },
  {
   "cell_type": "markdown",
   "id": "c1963dbb",
   "metadata": {},
   "source": [
    "## Loss & Accuracy Curves"
   ]
  },
  {
   "cell_type": "code",
   "execution_count": 17,
   "id": "8fce61f3",
   "metadata": {
    "lines_to_next_cell": 2,
    "title": "Curves"
   },
   "outputs": [
    {
     "data": {
      "image/png": "[encoded data removed]",
      "text/plain": [
       "<Figure size 640x480 with 1 Axes>"
      ]
     },
     "metadata": {},
     "output_type": "display_data"
    },
    {
     "data": {
      "image/png": "[encoded data removed]",
      "text/plain": [
       "<Figure size 640x480 with 1 Axes>"
      ]
     },
     "metadata": {},
     "output_type": "display_data"
    }
   ],
   "source": [
    "\n",
    "# summarize history for accuracy\n",
    "plt.plot(history.history['binary_accuracy'])\n",
    "plt.plot(history.history['val_binary_accuracy'])\n",
    "plt.title('model accuracy')\n",
    "plt.ylabel('accuracy')\n",
    "plt.xlabel('epoch')\n",
    "plt.axhline(y=logit_val_accuracy, color='red', linestyle='--', label='Logistic')\n",
    "plt.axhline(y=majority_val_accuracy, color='blue', linestyle='--', label='Majority')\n",
    "plt.legend(['train', 'dev', 'Logistic', 'Majority'], loc='lower right')\n",
    "plt.show()\n",
    "# summarize history for loss\n",
    "plt.plot(history.history['loss'])\n",
    "plt.plot(history.history['val_loss'])\n",
    "plt.title('model loss')\n",
    "plt.ylabel('loss')\n",
    "plt.xlabel('epoch')\n",
    "plt.legend(['train', 'dev'], loc='upper right')\n",
    "plt.show()"
   ]
  },
  {
   "cell_type": "code",
   "execution_count": null,
   "id": "8e702640",
   "metadata": {
    "title": "Load Model"
   },
   "outputs": [],
   "source": [
    "bert_clf = tf.keras.models.load_model('checkpoints/distilbert_ex1')"
   ]
  },
  {
   "cell_type": "markdown",
   "id": "e44c4c83",
   "metadata": {},
   "source": [
    "## Evaluate model"
   ]
  },
  {
   "cell_type": "code",
   "execution_count": 23,
   "id": "72d8ca6b",
   "metadata": {},
   "outputs": [
    {
     "name": "stdout",
     "output_type": "stream",
     "text": [
      "              precision    recall  f1-score   support\n",
      "\n",
      "    negative       0.97      0.96      0.97     17589\n",
      "    positive       0.96      0.97      0.97     17411\n",
      "\n",
      "    accuracy                           0.97     35000\n",
      "   macro avg       0.97      0.97      0.97     35000\n",
      "weighted avg       0.97      0.97      0.97     35000\n",
      "\n",
      "235/235 [==============================] - 84s 357ms/step\n",
      "              precision    recall  f1-score   support\n",
      "\n",
      "    negative       0.92      0.91      0.91      3722\n",
      "    positive       0.91      0.92      0.92      3778\n",
      "\n",
      "    accuracy                           0.91      7500\n",
      "   macro avg       0.91      0.91      0.91      7500\n",
      "weighted avg       0.91      0.91      0.91      7500\n",
      "\n",
      "235/235 [==============================] - 84s 356ms/step\n",
      "              precision    recall  f1-score   support\n",
      "\n",
      "    negative       0.92      0.91      0.91      3689\n",
      "    positive       0.91      0.92      0.92      3811\n",
      "\n",
      "    accuracy                           0.91      7500\n",
      "   macro avg       0.91      0.91      0.91      7500\n",
      "weighted avg       0.91      0.91      0.91      7500\n",
      "\n"
     ]
    }
   ],
   "source": [
    "predictions = bert_clf.predict({'input_ids': bert_train['input_ids'], 'attention_mask': bert_train['attention_mask']})\n",
    "predictions_activated = tf.nn.sigmoid(predictions.logits)  # Remove .logits in load_model\n",
    "predictions_classified = (predictions_activated > 0.5).numpy()\n",
    "print(classification_report(y_train, predictions_classified, target_names=TARGET_NAMES))\n",
    "\n",
    "predictions = bert_clf.predict({'input_ids': bert_val['input_ids'], 'attention_mask': bert_val['attention_mask']})\n",
    "predictions_activated = tf.nn.sigmoid(predictions.logits)  # Remove .logits in load_model\n",
    "predictions_classified = (predictions_activated > 0.5).numpy()\n",
    "print(classification_report(y_val, predictions_classified, target_names=TARGET_NAMES))\n",
    "\n",
    "predictions = bert_clf.predict({'input_ids': bert_test['input_ids'], 'attention_mask': bert_test['attention_mask']})\n",
    "predictions_activated = tf.nn.sigmoid(predictions.logits)  # Remove .logits in load_model\n",
    "predictions_classified = (predictions_activated > 0.5).numpy()\n",
    "print(classification_report(y_test, predictions_classified, target_names=TARGET_NAMES))"
   ]
  },
  {
   "cell_type": "code",
   "execution_count": 29,
   "id": "4fa8db5c",
   "metadata": {},
   "outputs": [
    {
     "name": "stdout",
     "output_type": "stream",
     "text": [
      "1094/1094 [==============================] - 392s 358ms/step\n",
      "235/235 [==============================] - 84s 358ms/step\n",
      "235/235 [==============================] - 84s 358ms/step\n",
      "=== PR-AUC for Train ===\n",
      "PR-AUC for class 0: 99.11%\n",
      "PR-AUC for class 1: 99.04%\n",
      "\n",
      "=== PR-AUC for Validation ===\n",
      "PR-AUC for class 0: 97.09%\n",
      "PR-AUC for class 1: 97.14%\n",
      "\n",
      "=== PR-AUC for Test ===\n",
      "PR-AUC for class 0: 97.29%\n",
      "PR-AUC for class 1: 97.22%\n",
      "\n"
     ]
    }
   ],
   "source": [
    "def custom_pred_proba(X) -> np.ndarray[tuple[float, float]]:\n",
    "    ''' Calculates the classic .predict_proba() for the X input feature matix,\n",
    "        because it is needed for the precision_recall_curve.\n",
    "        Returns an array: [P(x=0), P(x=1)] '''\n",
    "    pred = bert_clf.predict({'input_ids': X['input_ids'], 'attention_mask': X['attention_mask']})\n",
    "    pred = tf.nn.sigmoid(pred.logits)  # Remove .logits in load_model\n",
    "    return np.hstack((1-pred, pred))\n",
    "\n",
    "\n",
    "# Prepare predictions for PR-AUC\n",
    "predictions_train = custom_pred_proba(bert_train)\n",
    "predictions_val = custom_pred_proba(bert_val)\n",
    "predictions_test = custom_pred_proba(bert_test)\n",
    "# PR-AUC report\n",
    "my_auc_report(y_train, y_pred=predictions_train, title='Train')\n",
    "my_auc_report(y_val, y_pred=predictions_val, title='Validation')\n",
    "my_auc_report(y_test, y_pred=predictions_test, title='Test')"
   ]
  }
 ],
 "metadata": {
  "jupytext": {
   "cell_metadata_filter": "title,-all",
   "executable": "pip install fasttext-wheel",
   "main_language": "python",
   "notebook_metadata_filter": "-all"
  },
  "kernelspec": {
   "display_name": "base",
   "language": "python",
   "name": "python3"
  },
  "language_info": {
   "codemirror_mode": {
    "name": "ipython",
    "version": 3
   },
   "file_extension": ".py",
   "mimetype": "text/x-python",
   "name": "python",
   "nbconvert_exporter": "python",
   "pygments_lexer": "ipython3",
   "version": "3.11.5"
  }
 },
 "nbformat": 4,
 "nbformat_minor": 5
}
