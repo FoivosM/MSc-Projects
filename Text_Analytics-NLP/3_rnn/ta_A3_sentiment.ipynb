{
 "cells": [
  {
   "cell_type": "markdown",
   "id": "9de9d89f",
   "metadata": {},
   "source": [
    "# Text Analytics - Assignment 3\n",
    "\n",
    "Grammatikopoulou Maria - f3352310\n",
    "\n",
    "Phevos A. Margonis - f3352317\n",
    "\n",
    "Moniaki Melina - f3352321"
   ]
  },
  {
   "cell_type": "markdown",
   "id": "15091d4b",
   "metadata": {},
   "source": [
    "#### Exercise 1"
   ]
  },
  {
   "cell_type": "code",
   "execution_count": 393,
   "id": "9712bdfb",
   "metadata": {},
   "outputs": [],
   "source": [
    "#!pip install fasttext-wheel\n",
    "#!pip install --upgrade tensorflow"
   ]
  },
  {
   "cell_type": "code",
   "execution_count": 394,
   "id": "a01877be",
   "metadata": {},
   "outputs": [],
   "source": [
    "#!wget https://dl.fbaipublicfiles.com/fasttext/vectors-crawl/cc.en.300.bin.gz\n",
    "#!gzip -d cc.en.300.bin.gz"
   ]
  },
  {
   "cell_type": "code",
   "execution_count": 395,
   "id": "e6d5bd8b",
   "metadata": {},
   "outputs": [],
   "source": [
    "# Basic libraries\n",
    "import numpy as np\n",
    "import pandas as pd\n",
    "import matplotlib.pyplot as plt\n",
    "import seaborn as sns\n",
    "import os\n",
    "import datetime\n",
    "import time\n",
    "import re\n",
    "\n",
    "# ML libraries\n",
    "from sklearn.metrics import (auc, classification_report,\n",
    "                             f1_score, precision_recall_curve,\n",
    "                             precision_score, recall_score)\n",
    "from sklearn.model_selection import train_test_split\n",
    "from sklearn.decomposition import TruncatedSVD\n",
    "from sklearn.feature_extraction.text import TfidfVectorizer\n",
    "from sklearn.linear_model import LogisticRegression\n",
    "from sklearn.dummy import DummyClassifier\n",
    "\n",
    "# TensorFlow and Keras\n",
    "import tensorflow as tf\n",
    "from tensorflow.keras import Input\n",
    "from tensorflow.keras.models import Sequential\n",
    "from tensorflow.keras.layers import Dense, Dropout, Activation, Embedding, Bidirectional, GRU, Lambda, BatchNormalization, LayerNormalization\n",
    "from tensorflow.keras.optimizers import Adam\n",
    "from tensorflow.keras.callbacks import EarlyStopping, ModelCheckpoint, TensorBoard\n",
    "from keras.layers import Add\n"
   ]
  },
  {
   "cell_type": "code",
   "execution_count": 396,
   "id": "3861136c",
   "metadata": {},
   "outputs": [
    {
     "name": "stderr",
     "output_type": "stream",
     "text": [
      "[nltk_data] Downloading package wordnet to\n",
      "[nltk_data]     C:\\Users\\maria\\AppData\\Roaming\\nltk_data...\n",
      "[nltk_data]   Package wordnet is already up-to-date!\n",
      "[nltk_data] Downloading package stopwords to\n",
      "[nltk_data]     C:\\Users\\maria\\AppData\\Roaming\\nltk_data...\n",
      "[nltk_data]   Package stopwords is already up-to-date!\n"
     ]
    }
   ],
   "source": [
    "# NLTK\n",
    "import nltk\n",
    "nltk.download('wordnet')\n",
    "nltk.download('stopwords')\n",
    "from nltk.tokenize import word_tokenize\n",
    "from nltk.stem import PorterStemmer\n",
    "from nltk.corpus import stopwords\n",
    "\n",
    "# Progress bar\n",
    "from tqdm import tqdm\n",
    "\n",
    "# NLP libraries\n",
    "# Install spacy\n",
    "#!pip install spacy\n",
    "# Download the English language model\n",
    "#!python -m spacy download en\n",
    "import spacy\n",
    "from spacy.lang.en.stop_words import STOP_WORDS"
   ]
  },
  {
   "cell_type": "code",
   "execution_count": 397,
   "id": "96887351",
   "metadata": {},
   "outputs": [],
   "source": [
    "TARGET_NAMES = ['negative', 'positive']"
   ]
  },
  {
   "cell_type": "code",
   "execution_count": 398,
   "id": "6e273f93",
   "metadata": {},
   "outputs": [
    {
     "name": "stdout",
     "output_type": "stream",
     "text": [
      "                                              review sentiment\n",
      "0  One of the other reviewers has mentioned that ...  positive\n",
      "1  A wonderful little production. <br /><br />The...  positive\n",
      "2  I thought this was a wonderful way to spend ti...  positive\n",
      "3  Basically there's a family where a little boy ...  negative\n",
      "4  Petter Mattei's \"Love in the Time of Money\" is...  positive\n"
     ]
    },
    {
     "data": {
      "text/plain": [
       "(50000, 2)"
      ]
     },
     "execution_count": 398,
     "metadata": {},
     "output_type": "execute_result"
    }
   ],
   "source": [
    "csv_file_path = \"C:\\\\Users\\\\maria\\\\OneDrive\\\\Υπολογιστής\\\\Υλικο Μεταπτυχιακο\\\\Text Analytics\\\\MLP Exercise Text Analytics\\\\IMDB Dataset.csv\"\n",
    "# Read the CSV file into a DataFrame\n",
    "df = pd.read_csv(csv_file_path)\n",
    "\n",
    "# Display the DataFrame\n",
    "print(df.head())\n",
    "df.shape\n",
    "#df['review'][3]\n",
    "#sns.countplot(x=\"sentiment\", data=df)"
   ]
  },
  {
   "cell_type": "code",
   "execution_count": 399,
   "id": "049271ad",
   "metadata": {},
   "outputs": [],
   "source": [
    "oldDF = df\n",
    "df = df.iloc[:50000,:]"
   ]
  },
  {
   "cell_type": "code",
   "execution_count": 400,
   "id": "0745fd06",
   "metadata": {},
   "outputs": [
    {
     "name": "stderr",
     "output_type": "stream",
     "text": [
      "Preprocessing: 100%|██████████| 50000/50000 [00:28<00:00, 1769.64it/s]"
     ]
    },
    {
     "name": "stdout",
     "output_type": "stream",
     "text": [
      "one reviewers mentioned watching oz episode hooked right exactly happened first thing struck oz brutality unflinching scenes violence set right word go trust show faint hearted timid show pulls punches regards drugs sex violence hardcore classic use word called oz nickname given oswald maximum security state penitentary focuses mainly emerald city experimental section prison cells glass fronts face inwards privacy high agenda em city home many aryans muslims gangstas latinos christians italians irish scuffles death stares dodgy dealings shady agreements never far away would say main appeal show due fact goes shows dare forget pretty pictures painted mainstream audiences forget charm forget romance oz mess around first episode ever saw struck nasty surreal say ready watched developed taste oz got accustomed high levels graphic violence violence injustice crooked guards sold nickel inmates kill order get away well mannered middle class inmates turned prison bitches due lack street skills prison experience watching oz may become comfortable uncomfortable viewing thats get touch darker side \n"
     ]
    },
    {
     "name": "stderr",
     "output_type": "stream",
     "text": [
      "\n"
     ]
    }
   ],
   "source": [
    "\n",
    "TAG_RE = re.compile(r'<[^>]+>')\n",
    "def remove_tags(text):\n",
    "    '''Removes HTML tags: replaces anything between opening and closing <> with empty space'''\n",
    "\n",
    "    return TAG_RE.sub('', text)\n",
    "\n",
    "\n",
    "def preprocess_text(sen):\n",
    "    '''Cleans text data up, leaving only 2 or more char long non-stepwords composed of A-Z & a-z only\n",
    "    in lowercase'''\n",
    "\n",
    "    sentence = sen.lower()\n",
    "    # Remove html tags\n",
    "    sentence = remove_tags(sentence)\n",
    "    # Remove punctuations and numbers\n",
    "    sentence = re.sub('[^a-zA-Z]', ' ', sentence)\n",
    "    # Single character removal\n",
    "    sentence = re.sub(r\"\\s+[a-zA-Z]\\s+\", ' ', sentence)  # When we remove apostrophe from the word \"Mark's\", the apostrophe is replaced by an empty space. Hence, we are left with single character \"s\" that we are removing here.\n",
    "    # Remove multiple spaces\n",
    "    sentence = re.sub(r'\\s+', ' ', sentence)  # Next, we remove all the single characters and replace it by a space which creates multiple spaces in our text. Finally, we remove the multiple spaces from our text as well.\n",
    "    # Remove Stopwords\n",
    "    pattern = re.compile(r'\\b(' + r'|'.join(stopwords.words('english')) + r')\\b\\s*')\n",
    "    sentence = pattern.sub('', sentence)\n",
    "\n",
    "    return sentence\n",
    "\n",
    "\n",
    "# Calling preprocessing_text function on df\n",
    "X = []\n",
    "sentences = list(df['review'])\n",
    "for sen in tqdm(sentences, desc='Preprocessing: '):\n",
    "    X.append(preprocess_text(sen))\n",
    "    \n",
    "print(X[0])"
   ]
  },
  {
   "cell_type": "code",
   "execution_count": 401,
   "id": "eb13d2d4",
   "metadata": {},
   "outputs": [],
   "source": [
    "# Converting sentiment labels to 0 & 1\n",
    "y = df['sentiment']\n",
    "y = np.array(list(map(lambda x: 1 if x == \"positive\" else 0, y)))"
   ]
  },
  {
   "cell_type": "code",
   "execution_count": 402,
   "id": "50e30001",
   "metadata": {},
   "outputs": [
    {
     "name": "stdout",
     "output_type": "stream",
     "text": [
      "Train samples: 35000\n",
      "Val samples: 7500\n",
      "Test samples: 7500\n"
     ]
    }
   ],
   "source": [
    "# Split the data into training (70%) and temporary data (30%)\n",
    "X_train, X_temp, y_train, y_temp = train_test_split(X, y, test_size=0.3, random_state=42)\n",
    "# Split the temporary data into testing (50%) and validation (50%)\n",
    "X_test, X_val, y_test, y_val = train_test_split(X_temp, y_temp, test_size=0.5, random_state=42)\n",
    "\n",
    "print('Train samples: {}'.format(len(X_train)))\n",
    "print('Val samples: {}'.format(len(X_val)))\n",
    "print('Test samples: {}'.format(len(X_test)))"
   ]
  },
  {
   "cell_type": "code",
   "execution_count": 403,
   "id": "0507841f",
   "metadata": {},
   "outputs": [
    {
     "name": "stderr",
     "output_type": "stream",
     "text": [
      "Tokenize:   0%|          | 0/35000 [00:00<?, ?it/s]C:\\Users\\maria\\anaconda3\\anaconda_3\\Lib\\site-packages\\spacy\\pipeline\\lemmatizer.py:211: UserWarning: [W108] The rule-based lemmatizer did not find POS annotation for one or more tokens. Check that your pipeline includes components that assign token.pos, typically 'tagger'+'attribute_ruler' or 'morphologizer'.\n",
      "  warnings.warn(Warnings.W108)\n",
      "Tokenize: 100%|██████████| 35000/35000 [06:23<00:00, 91.17it/s] \n",
      "Tokenize: 100%|██████████| 7500/7500 [01:23<00:00, 89.98it/s] \n",
      "Tokenize: 100%|██████████| 7500/7500 [01:21<00:00, 92.44it/s] \n"
     ]
    }
   ],
   "source": [
    "nlp = spacy.load('en_core_web_sm', disable=[\"tagger\", \"parser\", \"ner\"])\n",
    "nlp.add_pipe('sentencizer')\n",
    "\n",
    "def tokenize_samples(samples):\n",
    "\n",
    "    tokenized_samples = []\n",
    "    for i in tqdm(range(len(samples)), desc='Tokenize: '):\n",
    "        doc = nlp(samples[i])  # Tokenize the sample into sentences\n",
    "        tokens = []\n",
    "        for sent in doc.sents:\n",
    "            for tok in sent:  # Iterate through the words of the sentence\n",
    "                if '\\n' in tok.text or \"\\t\" in tok.text or \"--\" in tok.text or \"*\" in tok.text or tok.text.lower() in STOP_WORDS:\n",
    "                    continue\n",
    "                if tok.text.strip():\n",
    "                    tokens.append(tok.text.replace('\"', \"'\").strip())\n",
    "        tokenized_samples.append(tokens)\n",
    "\n",
    "    return tokenized_samples\n",
    "\n",
    "\n",
    "X_train_tokenized = tokenize_samples(X_train)\n",
    "X_val_tokenized = tokenize_samples(X_val)\n",
    "X_test_tokenized = tokenize_samples(X_test)"
   ]
  },
  {
   "cell_type": "code",
   "execution_count": 404,
   "id": "a730367e",
   "metadata": {},
   "outputs": [
    {
     "name": "stdout",
     "output_type": "stream",
     "text": [
      "102.10954285714286\n",
      "78.60863093519252\n"
     ]
    }
   ],
   "source": [
    "print(np.mean([len(x) for x in X_train_tokenized]))\n",
    "print(np.std([len(x) for x in X_train_tokenized]))"
   ]
  },
  {
   "cell_type": "code",
   "execution_count": 405,
   "id": "db40f779",
   "metadata": {},
   "outputs": [],
   "source": [
    "vectorizer = TfidfVectorizer(ngram_range=(1, 2),\n",
    "                             max_features=5000,\n",
    "                             sublinear_tf=True)\n",
    "\n",
    "X_train_tfidf = vectorizer.fit_transform([\" \".join(x) for x in X_train_tokenized])\n",
    "X_val_tfidf = vectorizer.transform([\" \".join(x) for x in X_val_tokenized])\n",
    "X_test_tfidf = vectorizer.transform([\" \".join(x) for x in X_test_tokenized])"
   ]
  },
  {
   "cell_type": "code",
   "execution_count": 406,
   "id": "b2acae18",
   "metadata": {},
   "outputs": [],
   "source": [
    "# Reduce dimensionality using svd 5000 --> 500\n",
    "svd = TruncatedSVD(n_components=500, random_state=4321)\n",
    "X_train_svd = svd.fit_transform(X_train_tfidf)\n",
    "X_val_svd = svd.transform(X_val_tfidf)\n",
    "X_test_svd = svd.transform(X_test_tfidf)"
   ]
  },
  {
   "cell_type": "code",
   "execution_count": 407,
   "id": "6cd716c0",
   "metadata": {},
   "outputs": [
    {
     "name": "stdout",
     "output_type": "stream",
     "text": [
      "Training took: 0.015321016311645508 seconds \n",
      "\n",
      "              precision    recall  f1-score   support\n",
      "\n",
      "    negative       0.50      1.00      0.67     17589\n",
      "    positive       0.00      0.00      0.00     17411\n",
      "\n",
      "    accuracy                           0.50     35000\n",
      "   macro avg       0.25      0.50      0.33     35000\n",
      "weighted avg       0.25      0.50      0.34     35000\n",
      "\n",
      "              precision    recall  f1-score   support\n",
      "\n",
      "    negative       0.50      1.00      0.66      3722\n",
      "    positive       0.00      0.00      0.00      3778\n",
      "\n",
      "    accuracy                           0.50      7500\n",
      "   macro avg       0.25      0.50      0.33      7500\n",
      "weighted avg       0.25      0.50      0.33      7500\n",
      "\n",
      "              precision    recall  f1-score   support\n",
      "\n",
      "    negative       0.49      1.00      0.66      3689\n",
      "    positive       0.00      0.00      0.00      3811\n",
      "\n",
      "    accuracy                           0.49      7500\n",
      "   macro avg       0.25      0.50      0.33      7500\n",
      "weighted avg       0.24      0.49      0.32      7500\n",
      "\n",
      "=== PR-AUC for Train ===\n",
      "PR-AUC for class 0: 75.13%\n",
      "PR-AUC for class 1: 74.87%\n",
      "\n",
      "=== PR-AUC for Validation ===\n",
      "PR-AUC for class 0: 74.81%\n",
      "PR-AUC for class 1: 75.19%\n",
      "\n",
      "=== PR-AUC for Test ===\n",
      "PR-AUC for class 0: 74.59%\n",
      "PR-AUC for class 1: 75.41%\n",
      "\n"
     ]
    }
   ],
   "source": [
    "\n",
    "def my_auc_report(y_true, y_pred, title='UNK') -> None:\n",
    "    \"\"\"\n",
    "    Inputs the y_true and y_pred,\n",
    "    Prints the PR-AUC for each class\n",
    "    \"\"\"\n",
    "    print(f\"=== PR-AUC for {title} ===\")\n",
    "    precision, recall, _ = precision_recall_curve(y_true, y_pred[:, 0], pos_label=0)\n",
    "    area = auc(recall, precision)\n",
    "    print(f\"PR-AUC for class 0: {area*100:.2f}%\")\n",
    "    precision, recall, _ = precision_recall_curve(y_true, y_pred[:, 1])\n",
    "    area = auc(recall, precision)\n",
    "    print(f\"PR-AUC for class 1: {area*100:.2f}%\\n\")\n",
    "\n",
    "##Dummy classifier\n",
    "# Train\n",
    "# The dummy classifier always predicts the 'most frequent' class\n",
    "baseline = DummyClassifier(strategy='most_frequent')\n",
    "start_time = time.time()\n",
    "baseline.fit(X_train_svd, y_train)\n",
    "majority_val_accuracy = baseline.score(X_val_svd, y_val)\n",
    "print(\"Training took: {} seconds \\n\".format(time.time() - start_time))\n",
    "\n",
    "# Evaluate\n",
    "model = baseline\n",
    "# Classification Reports\n",
    "predictions = model.predict(X_train_svd)\n",
    "print(classification_report(y_train, predictions, zero_division=0, target_names=TARGET_NAMES))\n",
    "predictions = model.predict(X_val_svd)\n",
    "print(classification_report(y_val, predictions, zero_division=0, target_names=TARGET_NAMES))\n",
    "predictions = model.predict(X_test_svd)\n",
    "print(classification_report(y_test, predictions, zero_division=0, target_names=TARGET_NAMES))\n",
    "\n",
    "# Prepare the predictions for PR-AUC\n",
    "predictions_train = model.predict_proba(X_train_svd)\n",
    "predictions_val = model.predict_proba(X_val_svd)\n",
    "predictions_test = model.predict_proba(X_test_svd)\n",
    "# PR-AUC report\n",
    "my_auc_report(y_train, y_pred=predictions_train, title='Train')\n",
    "my_auc_report(y_val, y_pred=predictions_val, title='Validation')\n",
    "my_auc_report(y_test, y_pred=predictions_test, title='Test')"
   ]
  },
  {
   "cell_type": "code",
   "execution_count": 408,
   "id": "eb2c7209",
   "metadata": {},
   "outputs": [
    {
     "name": "stdout",
     "output_type": "stream",
     "text": [
      "              precision    recall  f1-score   support\n",
      "\n",
      "    negative       0.89      0.87      0.88     17589\n",
      "    positive       0.87      0.90      0.88     17411\n",
      "\n",
      "    accuracy                           0.88     35000\n",
      "   macro avg       0.88      0.88      0.88     35000\n",
      "weighted avg       0.88      0.88      0.88     35000\n",
      "\n",
      "              precision    recall  f1-score   support\n",
      "\n",
      "    negative       0.89      0.86      0.87      3722\n",
      "    positive       0.87      0.89      0.88      3778\n",
      "\n",
      "    accuracy                           0.88      7500\n",
      "   macro avg       0.88      0.88      0.88      7500\n",
      "weighted avg       0.88      0.88      0.88      7500\n",
      "\n",
      "              precision    recall  f1-score   support\n",
      "\n",
      "    negative       0.89      0.87      0.88      3689\n",
      "    positive       0.87      0.89      0.88      3811\n",
      "\n",
      "    accuracy                           0.88      7500\n",
      "   macro avg       0.88      0.88      0.88      7500\n",
      "weighted avg       0.88      0.88      0.88      7500\n",
      "\n",
      "=== PR-AUC for Train ===\n",
      "PR-AUC for class 0: 95.52%\n",
      "PR-AUC for class 1: 95.15%\n",
      "\n",
      "=== PR-AUC for Validation ===\n",
      "PR-AUC for class 0: 95.10%\n",
      "PR-AUC for class 1: 95.05%\n",
      "\n",
      "=== PR-AUC for Test ===\n",
      "PR-AUC for class 0: 95.05%\n",
      "PR-AUC for class 1: 94.73%\n",
      "\n"
     ]
    }
   ],
   "source": [
    "### Logistic Regression\n",
    "clf = LogisticRegression()\n",
    "clf.fit(X_train_svd, y_train)\n",
    "logit_val_accuracy = clf.score(X_val_svd, y_val)\n",
    "\n",
    "# Evaluate\n",
    "model = clf\n",
    "# Classification Reports\n",
    "predictions = model.predict(X_train_svd)\n",
    "print(classification_report(y_train, predictions, target_names=TARGET_NAMES))\n",
    "predictions = model.predict(X_val_svd)\n",
    "print(classification_report(y_val, predictions, target_names=TARGET_NAMES))\n",
    "predictions = model.predict(X_test_svd)\n",
    "print(classification_report(y_test, predictions, target_names=TARGET_NAMES))\n",
    "\n",
    "# Prepare the predictions for PR-AUC\n",
    "predictions_train = model.predict_proba(X_train_svd)\n",
    "predictions_val = model.predict_proba(X_val_svd)\n",
    "predictions_test = model.predict_proba(X_test_svd)\n",
    "# PR-AUC report\n",
    "my_auc_report(y_train, y_pred=predictions_train, title='Train')\n",
    "my_auc_report(y_val, y_pred=predictions_val, title='Validation')\n",
    "my_auc_report(y_test, y_pred=predictions_test, title='Test')"
   ]
  },
  {
   "cell_type": "code",
   "execution_count": 409,
   "id": "29a98879",
   "metadata": {},
   "outputs": [],
   "source": [
    "MAX_WORDS = 100000\n",
    "MAX_SEQUENCE_LENGTH = 128 # To max megethos keimenou pou borei na dextei to diktio\n",
    "EMBEDDING_DIM = 300\n",
    "\n",
    "# output_mode -> exei kai alla opws \"TF-IDF\"\n",
    "# Orizoume an theloume kai ngrams\n",
    "# output_sequence_length to i sto h_{i}?\n",
    "\n",
    "vectorizer = tf.keras.layers.TextVectorization(max_tokens=MAX_WORDS, output_mode='int',\n",
    "                                               ngrams=1, output_sequence_length=MAX_SEQUENCE_LENGTH)\n",
    "\n",
    "vectorizer.adapt(X_train)"
   ]
  },
  {
   "cell_type": "code",
   "execution_count": 410,
   "id": "582a109c",
   "metadata": {},
   "outputs": [
    {
     "data": {
      "text/plain": [
       "<tf.Tensor: shape=(2, 128), dtype=int64, numpy=\n",
       "array([[3700,    1,    1,  527,    0,    0,    0,    0,    0,    0,    0,\n",
       "           0,    0,    0,    0,    0,    0,    0,    0,    0,    0,    0,\n",
       "           0,    0,    0,    0,    0,    0,    0,    0,    0,    0,    0,\n",
       "           0,    0,    0,    0,    0,    0,    0,    0,    0,    0,    0,\n",
       "           0,    0,    0,    0,    0,    0,    0,    0,    0,    0,    0,\n",
       "           0,    0,    0,    0,    0,    0,    0,    0,    0,    0,    0,\n",
       "           0,    0,    0,    0,    0,    0,    0,    0,    0,    0,    0,\n",
       "           0,    0,    0,    0,    0,    0,    0,    0,    0,    0,    0,\n",
       "           0,    0,    0,    0,    0,    0,    0,    0,    0,    0,    0,\n",
       "           0,    0,    0,    0,    0,    0,    0,    0,    0,    0,    0,\n",
       "           0,    0,    0,    0,    0,    0,    0,    0,    0,    0,    0,\n",
       "           0,    0,    0,    0,    0,    0,    0],\n",
       "       [  65, 3700,    1,    1,  527,    0,    0,    0,    0,    0,    0,\n",
       "           0,    0,    0,    0,    0,    0,    0,    0,    0,    0,    0,\n",
       "           0,    0,    0,    0,    0,    0,    0,    0,    0,    0,    0,\n",
       "           0,    0,    0,    0,    0,    0,    0,    0,    0,    0,    0,\n",
       "           0,    0,    0,    0,    0,    0,    0,    0,    0,    0,    0,\n",
       "           0,    0,    0,    0,    0,    0,    0,    0,    0,    0,    0,\n",
       "           0,    0,    0,    0,    0,    0,    0,    0,    0,    0,    0,\n",
       "           0,    0,    0,    0,    0,    0,    0,    0,    0,    0,    0,\n",
       "           0,    0,    0,    0,    0,    0,    0,    0,    0,    0,    0,\n",
       "           0,    0,    0,    0,    0,    0,    0,    0,    0,    0,    0,\n",
       "           0,    0,    0,    0,    0,    0,    0,    0,    0,    0,    0,\n",
       "           0,    0,    0,    0,    0,    0,    0]], dtype=int64)>"
      ]
     },
     "execution_count": 410,
     "metadata": {},
     "output_type": "execute_result"
    }
   ],
   "source": [
    "input_array = [[\"sentence with some words\"], [\"another sentence with unfjfh words\"]]\n",
    "vectorizer.call(input_array)"
   ]
  },
  {
   "cell_type": "code",
   "execution_count": 411,
   "id": "60c15cc3",
   "metadata": {},
   "outputs": [],
   "source": [
    "import fasttext\n",
    "import numpy as np\n",
    "\n",
    "fasttext_model = fasttext.load_model('C:\\\\Users\\\\maria\\\\cc.en.300.bin\\\\cc.en.300.bin')\n",
    "embedding_matrix = np.zeros(shape=(MAX_WORDS, 300))\n",
    "\n",
    "for w2idx, _word in enumerate(vectorizer.get_vocabulary()):\n",
    "    # Skip PAD and UNK tokens\n",
    "    if w2idx >= 2:\n",
    "        embedding_matrix[w2idx] = fasttext_model.get_word_vector(_word)\n",
    "\n",
    "del fasttext_model"
   ]
  },
  {
   "cell_type": "code",
   "execution_count": 412,
   "id": "b0a5dbc0",
   "metadata": {},
   "outputs": [],
   "source": [
    "class Metrics(tf.keras.callbacks.Callback):\n",
    "    def __init__(self, valid_data):\n",
    "        super(Metrics, self).__init__()\n",
    "        self.validation_data = valid_data\n",
    "\n",
    "    def on_epoch_end(self, epoch, logs=None):\n",
    "        logs = logs or {}\n",
    "        val_predict = np.argmax(self.model.predict(self.validation_data[0]), -1)\n",
    "        val_targ = self.validation_data[1]\n",
    "        val_targ = tf.cast(val_targ,dtype=tf.float32)\n",
    "        if len(val_targ.shape) == 2 and val_targ.shape[1] != 1:\n",
    "          val_targ = np.argmax(val_targ, -1)\n",
    "\n",
    "\n",
    "        _val_f1 = f1_score(val_targ, val_predict,average=\"weighted\", zero_division=1)\n",
    "        _val_recall = recall_score(val_targ, val_predict,average=\"weighted\", zero_division=1)\n",
    "        _val_precision = precision_score(val_targ, val_predict,average=\"weighted\", zero_division=1)\n",
    "\n",
    "        logs['val_f1'] = _val_f1\n",
    "        logs['val_recall'] = _val_recall\n",
    "        logs['val_precision'] = _val_precision\n",
    "        print(\" — val_f1: %f — val_precision: %f — val_recall: %f\" % (_val_f1, _val_precision, _val_recall))\n",
    "        return"
   ]
  },
  {
   "cell_type": "code",
   "execution_count": 413,
   "id": "5d8eb161",
   "metadata": {},
   "outputs": [],
   "source": [
    "def self_attention(x):\n",
    "    rnn_states, scores = x # unpack x [( ta h tou Unrolled RNN), (ta scores apo to MLP)]\n",
    "    a = tf.nn.softmax(tf.squeeze(scores, axis=-1), axis=-1) # Efarmozw to activation function sto score pou mas edwse to MLP gia kathe lexi (gia na ginoun pithanotites) -> Twra exw ta 'α'!\n",
    "    z = tf.multiply(tf.expand_dims(a, axis=-1), rnn_states) # [α*h] # To embedding ths protasis\n",
    "    z = tf.math.reduce_sum(z, axis=1) # Σz\n",
    "    return z"
   ]
  },
  {
   "cell_type": "code",
   "execution_count": 414,
   "id": "46132fa7",
   "metadata": {},
   "outputs": [
    {
     "name": "stdout",
     "output_type": "stream",
     "text": [
      "Model: \"model_17\"\n",
      "__________________________________________________________________________________________________\n",
      " Layer (type)                Output Shape                 Param #   Connected to                  \n",
      "==================================================================================================\n",
      " input_text (InputLayer)     [(None, 1)]                  0         []                            \n",
      "                                                                                                  \n",
      " text_vectorization_16 (Tex  (None, 128)                  0         ['input_text[0][0]']          \n",
      " tVectorization)                                                                                  \n",
      "                                                                                                  \n",
      " embedding_21 (Embedding)    (None, 128, 300)             3000000   ['text_vectorization_16[0][0]'\n",
      "                                                          0         ]                             \n",
      "                                                                                                  \n",
      " dropout_88 (Dropout)        (None, 128, 300)             0         ['embedding_21[0][0]']        \n",
      "                                                                                                  \n",
      " bidirectional_40 (Bidirect  (None, 128, 600)             1083600   ['dropout_88[0][0]']          \n",
      " ional)                                                                                           \n",
      "                                                                                                  \n",
      " layer_normalization_20 (La  (None, 128, 600)             1200      ['bidirectional_40[0][0]']    \n",
      " yerNormalization)                                                                                \n",
      "                                                                                                  \n",
      " bidirectional_41 (Bidirect  (None, 128, 600)             1623600   ['layer_normalization_20[0][0]\n",
      " ional)                                                             ']                            \n",
      "                                                                                                  \n",
      " layer_normalization_21 (La  (None, 128, 600)             1200      ['bidirectional_41[0][0]']    \n",
      " yerNormalization)                                                                                \n",
      "                                                                                                  \n",
      " add_7 (Add)                 (None, 128, 600)             0         ['layer_normalization_20[0][0]\n",
      "                                                                    ',                            \n",
      "                                                                     'layer_normalization_21[0][0]\n",
      "                                                                    ']                            \n",
      "                                                                                                  \n",
      " dense_85 (Dense)            (None, 128, 16)              9616      ['add_7[0][0]']               \n",
      "                                                                                                  \n",
      " dropout_89 (Dropout)        (None, 128, 16)              0         ['dense_85[0][0]']            \n",
      "                                                                                                  \n",
      " dense_86 (Dense)            (None, 128, 16)              272       ['dropout_89[0][0]']          \n",
      "                                                                                                  \n",
      " dropout_90 (Dropout)        (None, 128, 16)              0         ['dense_86[0][0]']            \n",
      "                                                                                                  \n",
      " dense_87 (Dense)            (None, 128, 1)               17        ['dropout_90[0][0]']          \n",
      "                                                                                                  \n",
      " lambda_19 (Lambda)          (None, 600)                  0         ['add_7[0][0]',               \n",
      "                                                                     'dense_87[0][0]']            \n",
      "                                                                                                  \n",
      " dense_88 (Dense)            (None, 384)                  230784    ['lambda_19[0][0]']           \n",
      "                                                                                                  \n",
      " dropout_91 (Dropout)        (None, 384)                  0         ['dense_88[0][0]']            \n",
      "                                                                                                  \n",
      " output_sentiment (Dense)    (None, 1)                    385       ['dropout_91[0][0]']          \n",
      "                                                                                                  \n",
      "==================================================================================================\n",
      "Total params: 32950674 (125.70 MB)\n",
      "Trainable params: 2950674 (11.26 MB)\n",
      "Non-trainable params: 30000000 (114.44 MB)\n",
      "__________________________________________________________________________________________________\n",
      "None\n",
      "Epoch 1/50\n",
      "274/274 [==============================] - ETA: 0s - loss: 0.4499 - accuracy: 0.7932 \n",
      "Epoch 1: val_accuracy improved from -inf to 0.85013, saving model to checkpoints\\model_ex1\n",
      "274/274 [==============================] - 5524s 20s/step - loss: 0.4499 - accuracy: 0.7932 - val_loss: 0.3489 - val_accuracy: 0.8501\n",
      "Epoch 2/50\n",
      "274/274 [==============================] - ETA: 0s - loss: 0.3441 - accuracy: 0.8512 \n",
      "Epoch 2: val_accuracy improved from 0.85013 to 0.86000, saving model to checkpoints\\model_ex1\n",
      "274/274 [==============================] - 6289s 23s/step - loss: 0.3441 - accuracy: 0.8512 - val_loss: 0.3256 - val_accuracy: 0.8600\n",
      "Epoch 3/50\n",
      "274/274 [==============================] - ETA: 0s - loss: 0.3136 - accuracy: 0.8656 \n",
      "Epoch 3: val_accuracy improved from 0.86000 to 0.87800, saving model to checkpoints\\model_ex1\n",
      "274/274 [==============================] - 6229s 23s/step - loss: 0.3136 - accuracy: 0.8656 - val_loss: 0.2868 - val_accuracy: 0.8780\n",
      "Epoch 4/50\n",
      "274/274 [==============================] - ETA: 0s - loss: 0.2910 - accuracy: 0.8761 \n",
      "Epoch 4: val_accuracy did not improve from 0.87800\n",
      "274/274 [==============================] - 6212s 23s/step - loss: 0.2910 - accuracy: 0.8761 - val_loss: 0.2987 - val_accuracy: 0.8717\n",
      "Epoch 5/50\n",
      "274/274 [==============================] - ETA: 0s - loss: 0.2756 - accuracy: 0.8809 \n",
      "Epoch 5: val_accuracy did not improve from 0.87800\n",
      "274/274 [==============================] - 6160s 22s/step - loss: 0.2756 - accuracy: 0.8809 - val_loss: 0.3082 - val_accuracy: 0.8728\n",
      "Epoch 6/50\n",
      "274/274 [==============================] - ETA: 0s - loss: 0.2554 - accuracy: 0.8939 \n",
      "Epoch 6: val_accuracy did not improve from 0.87800\n",
      "274/274 [==============================] - 6188s 23s/step - loss: 0.2554 - accuracy: 0.8939 - val_loss: 0.2963 - val_accuracy: 0.8775\n",
      "Epoch 7/50\n",
      "274/274 [==============================] - ETA: 0s - loss: 0.2392 - accuracy: 0.8998 \n",
      "Epoch 7: val_accuracy did not improve from 0.87800\n",
      "274/274 [==============================] - 6154s 22s/step - loss: 0.2392 - accuracy: 0.8998 - val_loss: 0.3101 - val_accuracy: 0.8719\n",
      "Epoch 8/50\n",
      "274/274 [==============================] - ETA: 0s - loss: 0.2229 - accuracy: 0.9085 \n",
      "Epoch 8: val_accuracy improved from 0.87800 to 0.88987, saving model to checkpoints\\model_ex1\n",
      "274/274 [==============================] - 6166s 23s/step - loss: 0.2229 - accuracy: 0.9085 - val_loss: 0.2779 - val_accuracy: 0.8899\n",
      "Epoch 9/50\n",
      "274/274 [==============================] - ETA: 0s - loss: 0.2129 - accuracy: 0.9127 \n",
      "Epoch 9: val_accuracy did not improve from 0.88987\n",
      "274/274 [==============================] - 6358s 23s/step - loss: 0.2129 - accuracy: 0.9127 - val_loss: 0.2886 - val_accuracy: 0.8855\n",
      "Epoch 10/50\n",
      "274/274 [==============================] - ETA: 0s - loss: 0.1976 - accuracy: 0.9187 \n",
      "Epoch 10: val_accuracy did not improve from 0.88987\n",
      "274/274 [==============================] - 7940s 29s/step - loss: 0.1976 - accuracy: 0.9187 - val_loss: 0.3641 - val_accuracy: 0.8899\n",
      "Epoch 11/50\n",
      "274/274 [==============================] - ETA: 0s - loss: 0.1828 - accuracy: 0.9258 \n",
      "Epoch 11: val_accuracy did not improve from 0.88987\n",
      "274/274 [==============================] - 6676s 24s/step - loss: 0.1828 - accuracy: 0.9258 - val_loss: 0.3387 - val_accuracy: 0.8851\n",
      "Epoch 12/50\n",
      "274/274 [==============================] - ETA: 0s - loss: 0.1750 - accuracy: 0.9295 \n",
      "Epoch 12: val_accuracy did not improve from 0.88987\n",
      "274/274 [==============================] - 6318s 23s/step - loss: 0.1750 - accuracy: 0.9295 - val_loss: 0.3042 - val_accuracy: 0.8897\n",
      "Epoch 13/50\n",
      "274/274 [==============================] - ETA: 0s - loss: 0.1626 - accuracy: 0.9350 \n",
      "Epoch 13: val_accuracy did not improve from 0.88987\n",
      "274/274 [==============================] - 6293s 23s/step - loss: 0.1626 - accuracy: 0.9350 - val_loss: 0.3150 - val_accuracy: 0.8857\n",
      "Epoch 14/50\n",
      "274/274 [==============================] - ETA: 0s - loss: 0.1533 - accuracy: 0.9382 \n",
      "Epoch 14: val_accuracy did not improve from 0.88987\n",
      "274/274 [==============================] - 6312s 23s/step - loss: 0.1533 - accuracy: 0.9382 - val_loss: 0.3477 - val_accuracy: 0.8803\n",
      "Epoch 15/50\n",
      "274/274 [==============================] - ETA: 0s - loss: 0.1399 - accuracy: 0.9432 \n",
      "Epoch 15: val_accuracy did not improve from 0.88987\n",
      "274/274 [==============================] - 6304s 23s/step - loss: 0.1399 - accuracy: 0.9432 - val_loss: 0.3607 - val_accuracy: 0.8789\n",
      "Epoch 16/50\n",
      "274/274 [==============================] - ETA: 0s - loss: 0.1326 - accuracy: 0.9451 \n",
      "Epoch 16: val_accuracy did not improve from 0.88987\n",
      "274/274 [==============================] - 6311s 23s/step - loss: 0.1326 - accuracy: 0.9451 - val_loss: 0.4217 - val_accuracy: 0.8696\n",
      "Epoch 17/50\n",
      "274/274 [==============================] - ETA: 0s - loss: 0.1295 - accuracy: 0.9485 \n",
      "Epoch 17: val_accuracy did not improve from 0.88987\n",
      "274/274 [==============================] - 6311s 23s/step - loss: 0.1295 - accuracy: 0.9485 - val_loss: 0.3362 - val_accuracy: 0.8841\n",
      "Epoch 18/50\n",
      "274/274 [==============================] - ETA: 0s - loss: 0.1150 - accuracy: 0.9547 \n",
      "Epoch 18: val_accuracy did not improve from 0.88987\n",
      "274/274 [==============================] - 6323s 23s/step - loss: 0.1150 - accuracy: 0.9547 - val_loss: 0.3918 - val_accuracy: 0.8804\n",
      "\n",
      "Training time: 07:41:08 \n",
      "\n"
     ]
    }
   ],
   "source": [
    "\n",
    "os.environ['TF_CPP_MIN_LOG_LEVEL'] = '3'\n",
    "\n",
    "GRU_SIZE = 300 # h diastasi tou h\n",
    "DENSE = 1000\n",
    "\n",
    "# TENSORBOARD: Create a log directory with a timestamp to create a unique directory for each run\n",
    "log_dir = \"logs/fit/\" + datetime.datetime.now().strftime(\"%Y%m%d-%H%M%S\")\n",
    "tensorboard_callback = TensorBoard(log_dir=log_dir, histogram_freq=0)\n",
    "\n",
    "# Functional API\n",
    "text = Input(shape=(1,), dtype = tf.string, name = \"input_text\")\n",
    "vectorized = vectorizer(text)\n",
    "word_embeddings = Embedding(MAX_WORDS, EMBEDDING_DIM,\n",
    "              weights=[embedding_matrix],\n",
    "              input_length=MAX_SEQUENCE_LENGTH,\n",
    "              mask_zero=True,\n",
    "              trainable=False)(vectorized)   #create the word embeddings\n",
    "word_embeddings = Dropout(0.33)(word_embeddings)\n",
    "\n",
    "#RNN\n",
    "rnn_states_1 = Bidirectional(GRU(GRU_SIZE,\n",
    "                             return_sequences=True,\n",
    "                             recurrent_dropout=0.33))(word_embeddings)\n",
    "rnn_states_1 = LayerNormalization()(rnn_states_1)\n",
    "rnn_states_2 = Bidirectional(GRU(GRU_SIZE,return_sequences=True,recurrent_dropout=0.33))(rnn_states_1)  #stacked rnns (2)\n",
    "rnn_states_2 = LayerNormalization()(rnn_states_2)\n",
    "rnn_residuals = Add()([rnn_states_1,rnn_states_2])\n",
    "\n",
    "# self-attention\n",
    "mlp_scores = Dense(16, activation='relu')(rnn_residuals)\n",
    "#mlp_scores = BatchNormalization()(mlp_scores)\n",
    "mlp_scores = Dropout(0.33)(mlp_scores)\n",
    "mlp_scores = Dense(16, activation='relu')(mlp_scores)\n",
    "#mlp_scores = BatchNormalization()(mlp_scores)\n",
    "mlp_scores = Dropout(0.33)(mlp_scores)\n",
    "#mlp_scores = Dense(16, activation='relu')(mlp_scores)\n",
    "#mlp_scores = Dropout(0.33)(mlp_scores)\n",
    "mlp_scores = Dense(1)(mlp_scores) # To SELF-ATTENSION layer # Dense(1): 'Linear layer' -> Enan output nevrona gia na mou dwsei to 'o' (PROSOXI DEN EXEI ACTIVATION AKOMA)!\n",
    "centroids = Lambda(self_attention)([rnn_residuals, mlp_scores]) # To Lambda layer ipostirizei mono tou masking!\n",
    "\n",
    "# MLP\n",
    "rich_features = Dense(units=384, activation='relu')(centroids)\n",
    "rich_features = Dropout(0.33)(rich_features)\n",
    "#rich_features = Dense(units=16, activation='relu')(rich_features)\n",
    "#rich_features = Dropout(0.33)(rich_features)\n",
    "# rich_features = Dense(units=64, activation='relu')(rich_features)\n",
    "# rich_features = Dropout(0.33)(rich_features)\n",
    "\n",
    "sentiment = Dense(1, activation= 'sigmoid', name=\"output_sentiment\")(rich_features)\n",
    "\n",
    "model = tf.keras.Model(inputs=text, outputs=sentiment)\n",
    "\n",
    "\n",
    "print(model.summary())\n",
    "\n",
    "model.compile(loss='binary_crossentropy',\n",
    "              optimizer=tf.keras.optimizers.Adam(learning_rate=0.001),\n",
    "              metrics=[\"accuracy\"])\n",
    "\n",
    "# train_data = np.array([[\" \".join(x_train)] for x_train in X_train_tokenized])\n",
    "# val_data = np.array([[\" \".join(x_val)] for x_val in X_val_tokenized])\n",
    "\n",
    "if not os.path.exists('./checkpoints'):\n",
    "    os.makedirs('./checkpoints')\n",
    "# Callback to save the Keras model or model weights at some frequency.\n",
    "checkpoint = ModelCheckpoint(\n",
    "    'checkpoints/model_ex1',\n",
    "    monitor='val_loss',  # Save the model that scores the best @ validation accuracy\n",
    "    mode='min',  # Since accuracy -> maximization\n",
    "    verbose=2,\n",
    "    save_best_only=True,\n",
    "    save_weights_only=True,\n",
    "    save_format='tf'  # Use TensorFlow format for saving (due to TextVectorization layer not supporting HDF5)\n",
    ")\n",
    "\n",
    "early_stopping = EarlyStopping(monitor='val_loss',\n",
    "                               patience=10,\n",
    "                               restore_best_weights=True)\n",
    "\n",
    "start_training_time = time.time()\n",
    "\n",
    "history = model.fit(\n",
    "    np.array(X_train),\n",
    "    y_train,\n",
    "    validation_data=(np.array(X_val), y_val),\n",
    "    batch_size=128,\n",
    "    epochs=50,\n",
    "    shuffle=True,\n",
    "    callbacks=[checkpoint, early_stopping, tensorboard_callback])\n",
    "\n",
    "end_training_time = time.time()\n",
    "\n",
    "print(f'\\nTraining time: {time.strftime(\"%H:%M:%S\", time.gmtime(end_training_time - start_training_time))} \\n')"
   ]
  },
  {
   "cell_type": "code",
   "execution_count": 415,
   "id": "df8ca9db",
   "metadata": {},
   "outputs": [
    {
     "data": {
      "image/png": "[encoded data removed]",
      "text/plain": [
       "<Figure size 640x480 with 1 Axes>"
      ]
     },
     "metadata": {},
     "output_type": "display_data"
    },
    {
     "data": {
      "image/png": "[encoded data removed]",
      "text/plain": [
       "<Figure size 640x480 with 1 Axes>"
      ]
     },
     "metadata": {},
     "output_type": "display_data"
    }
   ],
   "source": [
    "# history: Returned by the fit. Keeps the metrics for each epoch\n",
    "# summarize history for accuracy\n",
    "plt.plot(history.history['accuracy'])\n",
    "plt.plot(history.history['val_accuracy'])\n",
    "plt.title('model accuracy')\n",
    "plt.ylabel('accuracy')\n",
    "plt.xlabel('epoch')\n",
    "plt.axhline(y=logit_val_accuracy, color='red', linestyle='--', label='Logistic')\n",
    "plt.axhline(y=majority_val_accuracy, color='blue', linestyle='--', label='Majority')\n",
    "plt.legend(['train', 'dev', 'Logistic', 'Majority'], loc='lower right')\n",
    "plt.show()\n",
    "\n",
    "# summarize history for loss\n",
    "plt.plot(history.history['loss'])\n",
    "plt.plot(history.history['val_loss'])\n",
    "plt.title('model loss')\n",
    "plt.ylabel('loss')\n",
    "plt.xlabel('epoch')\n",
    "plt.legend(['train', 'dev'], loc='upper right')\n",
    "plt.show()\n",
    "\n",
    "# # %% Load the best model saved from ModelCheckpoint\n",
    "# from tensorflow.keras.models import load_model\n",
    "\n",
    "# model = load_model('checkpoints/model_ex1')"
   ]
  },
  {
   "cell_type": "code",
   "execution_count": 416,
   "id": "d994e84a",
   "metadata": {},
   "outputs": [
    {
     "name": "stdout",
     "output_type": "stream",
     "text": [
      "1094/1094 [==============================] - 2293s 2s/step\n",
      "              precision    recall  f1-score   support\n",
      "\n",
      "    negative       0.95      0.94      0.95     17589\n",
      "    positive       0.94      0.95      0.95     17411\n",
      "\n",
      "    accuracy                           0.95     35000\n",
      "   macro avg       0.95      0.95      0.95     35000\n",
      "weighted avg       0.95      0.95      0.95     35000\n",
      "\n",
      "235/235 [==============================] - 466s 2s/step\n",
      "              precision    recall  f1-score   support\n",
      "\n",
      "    negative       0.89      0.89      0.89      3722\n",
      "    positive       0.89      0.89      0.89      3778\n",
      "\n",
      "    accuracy                           0.89      7500\n",
      "   macro avg       0.89      0.89      0.89      7500\n",
      "weighted avg       0.89      0.89      0.89      7500\n",
      "\n",
      "235/235 [==============================] - 465s 2s/step\n",
      "              precision    recall  f1-score   support\n",
      "\n",
      "    negative       0.89      0.89      0.89      3689\n",
      "    positive       0.89      0.89      0.89      3811\n",
      "\n",
      "    accuracy                           0.89      7500\n",
      "   macro avg       0.89      0.89      0.89      7500\n",
      "weighted avg       0.89      0.89      0.89      7500\n",
      "\n"
     ]
    }
   ],
   "source": [
    "predictions = (model.predict(X_train) > 0.5)\n",
    "print(classification_report(y_train, predictions, target_names=TARGET_NAMES))\n",
    "predictions = (model.predict(X_val) > 0.5)\n",
    "print(classification_report(y_val, predictions, target_names=TARGET_NAMES))\n",
    "predictions = (model.predict(X_test) > 0.5)\n",
    "print(classification_report(y_test, predictions, target_names=TARGET_NAMES))"
   ]
  },
  {
   "cell_type": "code",
   "execution_count": 417,
   "id": "132ff746",
   "metadata": {},
   "outputs": [
    {
     "name": "stdout",
     "output_type": "stream",
     "text": [
      "1094/1094 [==============================] - 2507s 2s/step\n",
      "235/235 [==============================] - 496s 2s/step\n",
      "235/235 [==============================] - 482s 2s/step\n",
      "=== PR-AUC for Train ===\n",
      "PR-AUC for class 0: 98.86%\n",
      "PR-AUC for class 1: 98.80%\n",
      "\n",
      "=== PR-AUC for Validation ===\n",
      "PR-AUC for class 0: 95.70%\n",
      "PR-AUC for class 1: 95.49%\n",
      "\n",
      "=== PR-AUC for Test ===\n",
      "PR-AUC for class 0: 96.09%\n",
      "PR-AUC for class 1: 95.74%\n",
      "\n"
     ]
    }
   ],
   "source": [
    "def custom_pred_proba(X) -> np.ndarray[tuple[float, float]]:\n",
    "    ''' Calculates the classic .predict_proba() for the X input feature matix,\n",
    "        because it is needed for the precision_recall_curve.\n",
    "        Returns an array: [P(x=0), P(x=1)] '''\n",
    "    pred = model.predict(X)\n",
    "    return np.hstack((1-pred, pred))\n",
    "\n",
    "\n",
    "# Prepare predictions for PR-AUC\n",
    "predictions_train = custom_pred_proba(X_train)\n",
    "predictions_val = custom_pred_proba(X_val)\n",
    "predictions_test = custom_pred_proba(X_test)\n",
    "# PR-AUC report\n",
    "my_auc_report(y_train, y_pred=predictions_train, title='Train')\n",
    "my_auc_report(y_val, y_pred=predictions_val, title='Validation')\n",
    "my_auc_report(y_test, y_pred=predictions_test, title='Test')"
   ]
  },
  {
   "cell_type": "code",
   "execution_count": null,
   "id": "2d1494bc",
   "metadata": {},
   "outputs": [],
   "source": []
  }
 ],
 "metadata": {
  "kernelspec": {
   "display_name": "Python 3 (ipykernel)",
   "language": "python",
   "name": "python3"
  },
  "language_info": {
   "codemirror_mode": {
    "name": "ipython",
    "version": 3
   },
   "file_extension": ".py",
   "mimetype": "text/x-python",
   "name": "python",
   "nbconvert_exporter": "python",
   "pygments_lexer": "ipython3",
   "version": "3.11.5"
  }
 },
 "nbformat": 4,
 "nbformat_minor": 5
}
