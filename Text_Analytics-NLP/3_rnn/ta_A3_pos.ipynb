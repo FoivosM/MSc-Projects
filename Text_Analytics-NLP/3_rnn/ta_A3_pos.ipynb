{
 "cells": [
  {
   "cell_type": "markdown",
   "id": "b971f274",
   "metadata": {},
   "source": [
    "# Text Analytics - Assignment 3\n",
    "\n",
    "Grammatikopoulou Maria - f3352310\n",
    "\n",
    "Phevos A. Margonis - f3352317\n",
    "\n",
    "Moniaki Melina - f3352321"
   ]
  },
  {
   "cell_type": "markdown",
   "id": "67ff9555",
   "metadata": {},
   "source": [
    "#### Exercise 2"
   ]
  },
  {
   "cell_type": "code",
   "execution_count": 1,
   "id": "77ef18d1",
   "metadata": {
    "lines_to_next_cell": 0
   },
   "outputs": [
    {
     "data": {
      "text/plain": [
       "'\\nTODO:\\n    o Na elenxw posa text einai >32 kai na ta splitarw se sub-sentences (Stin arxi tous na exoun kai ligo apo to prohgoumeno)\\n    x Fix evaluation metrics\\n    x Residuals, Layer-normalization\\n    x Baselines\\n\\n'"
      ]
     },
     "execution_count": 1,
     "metadata": {},
     "output_type": "execute_result"
    }
   ],
   "source": [
    "'''\n",
    "TODO:\n",
    "    o Na elenxw posa text einai >32 kai na ta splitarw se sub-sentences (Stin arxi tous na exoun kai ligo apo to prohgoumeno)\n",
    "    x Fix evaluation metrics\n",
    "    x Residuals, Layer-normalization\n",
    "    x Baselines\n",
    "\n",
    "'''"
   ]
  },
  {
   "cell_type": "code",
   "execution_count": 2,
   "id": "4ec7dc0a",
   "metadata": {
    "title": "Imports"
   },
   "outputs": [
    {
     "name": "stderr",
     "output_type": "stream",
     "text": [
      "2024-02-28 22:15:51.459303: E external/local_xla/xla/stream_executor/cuda/cuda_dnn.cc:9261] Unable to register cuDNN factory: Attempting to register factory for plugin cuDNN when one has already been registered\n",
      "2024-02-28 22:15:51.459348: E external/local_xla/xla/stream_executor/cuda/cuda_fft.cc:607] Unable to register cuFFT factory: Attempting to register factory for plugin cuFFT when one has already been registered\n",
      "2024-02-28 22:15:51.464437: E external/local_xla/xla/stream_executor/cuda/cuda_blas.cc:1515] Unable to register cuBLAS factory: Attempting to register factory for plugin cuBLAS when one has already been registered\n",
      "2024-02-28 22:15:52.789305: W tensorflow/compiler/tf2tensorrt/utils/py_utils.cc:38] TF-TRT Warning: Could not find TensorRT\n"
     ]
    }
   ],
   "source": [
    "# NLP Parsing and Processing - Uncomment if using these libraries\n",
    "# !pip install conllu\n",
    "# !pip install halo\n",
    "# !pip install pydot\n",
    "import datetime\n",
    "import os\n",
    "import re\n",
    "import time\n",
    "import warnings\n",
    "from collections import Counter\n",
    "\n",
    "# import gensim.downloader as api\n",
    "import fasttext\n",
    "import matplotlib.pyplot as plt\n",
    "import numpy as np\n",
    "import pandas as pd\n",
    "import tensorflow as tf\n",
    "from catalogue import create\n",
    "from conllu import parse_incr\n",
    "from halo import Halo\n",
    "from keras.utils import to_categorical\n",
    "from numpy.random import default_rng\n",
    "from sklearn.dummy import DummyClassifier\n",
    "from sklearn.linear_model import LogisticRegression\n",
    "from sklearn.metrics import (accuracy_score, auc, classification_report,\n",
    "                             f1_score, precision_recall_curve, precision_score,\n",
    "                             recall_score)\n",
    "from sklearn.preprocessing import LabelBinarizer, LabelEncoder\n",
    "from tensorflow.keras.callbacks import (EarlyStopping, ModelCheckpoint,\n",
    "                                        TensorBoard)\n",
    "from tensorflow.keras.layers import (LSTM, GRU, Add, Bidirectional, Dense, Dropout,\n",
    "                                     Embedding, Input, Lambda,\n",
    "                                     LayerNormalization, TextVectorization,\n",
    "                                     TimeDistributed)\n",
    "from tensorflow.keras.models import Sequential, load_model\n",
    "from tensorflow.keras.optimizers import Adam\n",
    "from tqdm import tqdm\n",
    "\n",
    "rng = default_rng(587)\n"
   ]
  },
  {
   "cell_type": "markdown",
   "id": "54eab931",
   "metadata": {},
   "source": [
    "## Parse the CONLLU files"
   ]
  },
  {
   "cell_type": "code",
   "execution_count": 3,
   "id": "a76213f3",
   "metadata": {},
   "outputs": [],
   "source": [
    "\n",
    "# from sklearn.metrics.classification import _DEFAULT_ZERO_DIVISION\n",
    "# # Set the default value for zero_division globally\n",
    "# _DEFAULT_ZERO_DIVISION = 0\n",
    "\n",
    "# # %% Parsing\n",
    "# # ======= UNCOMMENT TO READ RAW CONLLU FILES =========================================\n",
    "# # %% Parse conllu files\n",
    "# def read_conllu(data_file_path: str) -> list[list[str], list[str]]:\n",
    "#     \"\"\" Input path to file.\n",
    "#         Return for each text its [tokens, upos]\n",
    "\n",
    "#         Ta dataset exoun kapoia discrepancies vasi tou splitting convention pou akolouthoun.\n",
    "#         Den iparxeei POS Tag '_' ara afairoume oles tis grammes pou exoun tetoio 'target'\n",
    "#     \"\"\"\n",
    "\n",
    "#     docs = []\n",
    "#     # Open the file and parse it\n",
    "#     with open(data_file_path, 'r', encoding='utf-8') as file:\n",
    "#         for tokenlist in tqdm(parse_incr(file), desc=\"Parsing\", unit=\" tokenlists\"):\n",
    "#             text, pos = [], []\n",
    "#             for i in range(len(tokenlist)):\n",
    "#                 token = tokenlist[i]\n",
    "#                 if token['upos'] != '_':  # Important data cleaning trick\n",
    "#                     text.append(token['form'])\n",
    "#                     pos.append(token['upos'])\n",
    "\n",
    "#             docs.append([text, pos])\n",
    "#     return docs\n",
    "\n",
    "\n",
    "# # Read data files\n",
    "# train_data_raw = read_conllu('UD_English-GUM-master/en_gum-ud-train.conllu')\n",
    "# val_data_raw = read_conllu('UD_English-GUM-master/en_gum-ud-dev.conllu')\n",
    "# test_data_raw = read_conllu('UD_English-GUM-master/en_gum-ud-test.conllu')\n",
    "\n",
    "# # %% Post-process raw-data\n",
    "# def create_input_output_data(raw_data: list[list, list]) -> pd.DataFrame:\n",
    "#     '''\n",
    "#     Post process the raw data as X and y, to pass to Tensorflow.\n",
    "\n",
    "#     Parameters\n",
    "#     ----------\n",
    "#     raw_data : list[list, list]\n",
    "#         A list where each row has 2 lists.\n",
    "#         List[0] are the sentences.\n",
    "#         List[1] are the upos tags.\n",
    "\n",
    "#     Returns\n",
    "#     -------\n",
    "#     df : pd.Dataframe{string,string}\n",
    "#         Dataframe with columns X, y.\n",
    "\n",
    "#     '''\n",
    "#     X = [\" \".join(tokenlist[0]) for tokenlist in raw_data]\n",
    "#     y = [\" \".join(tokenlist[1]) for tokenlist in raw_data]\n",
    "#     df = pd.DataFrame({\n",
    "#         'text': X,\n",
    "#         'labels': y\n",
    "#     })\n",
    "#     return df\n",
    "\n",
    "\n",
    "# # Convertion\n",
    "# trainDF = create_input_output_data(train_data_raw)\n",
    "# valDF = create_input_output_data(val_data_raw)\n",
    "# testDF = create_input_output_data(test_data_raw)\n",
    "\n",
    "# # %% Store processed data\n",
    "# trainDF.to_csv('en_gum_train.csv', index=False)\n",
    "# valDF.to_csv('en_gum_val.csv', index=False)\n",
    "# testDF.to_csv('en_gum_test.csv', index=False)"
   ]
  },
  {
   "cell_type": "markdown",
   "id": "157371d8",
   "metadata": {},
   "source": [
    "## Data Exploration"
   ]
  },
  {
   "cell_type": "code",
   "execution_count": 4,
   "id": "af3df16c",
   "metadata": {
    "title": "Read data"
   },
   "outputs": [],
   "source": [
    "trainDF = pd.read_csv('en_gum_train.csv').drop_duplicates().reset_index(drop=True)\n",
    "valDF = pd.read_csv('en_gum_val.csv')\n",
    "testDF = pd.read_csv('en_gum_test.csv')"
   ]
  },
  {
   "cell_type": "code",
   "execution_count": 5,
   "id": "204d04ef",
   "metadata": {
    "lines_to_next_cell": 0,
    "title": "info"
   },
   "outputs": [
    {
     "name": "stdout",
     "output_type": "stream",
     "text": [
      "<class 'pandas.core.frame.DataFrame'>\n",
      "RangeIndex: 8165 entries, 0 to 8164\n",
      "Data columns (total 2 columns):\n",
      " #   Column  Non-Null Count  Dtype \n",
      "---  ------  --------------  ----- \n",
      " 0   text    8165 non-null   object\n",
      " 1   labels  8165 non-null   object\n",
      "dtypes: object(2)\n",
      "memory usage: 127.7+ KB\n"
     ]
    },
    {
     "data": {
      "text/html": [
       "<div>\n",
       "<style scoped>\n",
       "    .dataframe tbody tr th:only-of-type {\n",
       "        vertical-align: middle;\n",
       "    }\n",
       "\n",
       "    .dataframe tbody tr th {\n",
       "        vertical-align: top;\n",
       "    }\n",
       "\n",
       "    .dataframe thead th {\n",
       "        text-align: right;\n",
       "    }\n",
       "</style>\n",
       "<table border=\"1\" class=\"dataframe\">\n",
       "  <thead>\n",
       "    <tr style=\"text-align: right;\">\n",
       "      <th></th>\n",
       "      <th>text</th>\n",
       "      <th>labels</th>\n",
       "    </tr>\n",
       "  </thead>\n",
       "  <tbody>\n",
       "    <tr>\n",
       "      <th>count</th>\n",
       "      <td>8165</td>\n",
       "      <td>8165</td>\n",
       "    </tr>\n",
       "    <tr>\n",
       "      <th>unique</th>\n",
       "      <td>8160</td>\n",
       "      <td>7331</td>\n",
       "    </tr>\n",
       "    <tr>\n",
       "      <th>top</th>\n",
       "      <td>Sure .</td>\n",
       "      <td>INTJ PUNCT</td>\n",
       "    </tr>\n",
       "    <tr>\n",
       "      <th>freq</th>\n",
       "      <td>3</td>\n",
       "      <td>61</td>\n",
       "    </tr>\n",
       "  </tbody>\n",
       "</table>\n",
       "</div>"
      ],
      "text/plain": [
       "          text      labels\n",
       "count     8165        8165\n",
       "unique    8160        7331\n",
       "top     Sure .  INTJ PUNCT\n",
       "freq         3          61"
      ]
     },
     "execution_count": 5,
     "metadata": {},
     "output_type": "execute_result"
    }
   ],
   "source": [
    "trainDF.info()\n",
    "\n",
    "trainDF.describe()"
   ]
  },
  {
   "cell_type": "code",
   "execution_count": 6,
   "id": "413023d1",
   "metadata": {
    "lines_to_next_cell": 0,
    "title": "head"
   },
   "outputs": [
    {
     "data": {
      "text/html": [
       "<div>\n",
       "<style scoped>\n",
       "    .dataframe tbody tr th:only-of-type {\n",
       "        vertical-align: middle;\n",
       "    }\n",
       "\n",
       "    .dataframe tbody tr th {\n",
       "        vertical-align: top;\n",
       "    }\n",
       "\n",
       "    .dataframe thead th {\n",
       "        text-align: right;\n",
       "    }\n",
       "</style>\n",
       "<table border=\"1\" class=\"dataframe\">\n",
       "  <thead>\n",
       "    <tr style=\"text-align: right;\">\n",
       "      <th></th>\n",
       "      <th>text</th>\n",
       "      <th>labels</th>\n",
       "    </tr>\n",
       "  </thead>\n",
       "  <tbody>\n",
       "    <tr>\n",
       "      <th>0</th>\n",
       "      <td>Aesthetic Appreciation and Spanish Art :</td>\n",
       "      <td>ADJ NOUN CCONJ ADJ NOUN PUNCT</td>\n",
       "    </tr>\n",
       "    <tr>\n",
       "      <th>1</th>\n",
       "      <td>Insights from Eye - Tracking</td>\n",
       "      <td>NOUN ADP NOUN PUNCT NOUN</td>\n",
       "    </tr>\n",
       "    <tr>\n",
       "      <th>2</th>\n",
       "      <td>Claire Bailey - Ross claire.bailey-ross@port.a...</td>\n",
       "      <td>PROPN PROPN PUNCT PROPN PROPN PROPN ADP PROPN ...</td>\n",
       "    </tr>\n",
       "    <tr>\n",
       "      <th>3</th>\n",
       "      <td>Andrew Beresford a.m.beresford@durham.ac.uk Du...</td>\n",
       "      <td>PROPN PROPN PROPN PROPN PROPN PUNCT VERB PROPN</td>\n",
       "    </tr>\n",
       "    <tr>\n",
       "      <th>4</th>\n",
       "      <td>Daniel Smith daniel.smith2@durham.ac.uk Durham...</td>\n",
       "      <td>PROPN PROPN PROPN PROPN PROPN PUNCT VERB PROPN</td>\n",
       "    </tr>\n",
       "  </tbody>\n",
       "</table>\n",
       "</div>"
      ],
      "text/plain": [
       "                                                text  \\\n",
       "0           Aesthetic Appreciation and Spanish Art :   \n",
       "1                       Insights from Eye - Tracking   \n",
       "2  Claire Bailey - Ross claire.bailey-ross@port.a...   \n",
       "3  Andrew Beresford a.m.beresford@durham.ac.uk Du...   \n",
       "4  Daniel Smith daniel.smith2@durham.ac.uk Durham...   \n",
       "\n",
       "                                              labels  \n",
       "0                      ADJ NOUN CCONJ ADJ NOUN PUNCT  \n",
       "1                           NOUN ADP NOUN PUNCT NOUN  \n",
       "2  PROPN PROPN PUNCT PROPN PROPN PROPN ADP PROPN ...  \n",
       "3     PROPN PROPN PROPN PROPN PROPN PUNCT VERB PROPN  \n",
       "4     PROPN PROPN PROPN PROPN PROPN PUNCT VERB PROPN  "
      ]
     },
     "execution_count": 6,
     "metadata": {},
     "output_type": "execute_result"
    }
   ],
   "source": [
    "trainDF.head()"
   ]
  },
  {
   "cell_type": "code",
   "execution_count": 7,
   "id": "e879f93c",
   "metadata": {
    "title": "Sentence statistics"
   },
   "outputs": [
    {
     "name": "stdout",
     "output_type": "stream",
     "text": [
      "count    8165.000000\n",
      "mean       18.003552\n",
      "std        13.221574\n",
      "min         1.000000\n",
      "25%         8.000000\n",
      "50%        15.000000\n",
      "75%        25.000000\n",
      "max       110.000000\n",
      "dtype: float64\n",
      "90th Percentile length of train sentences: 35.0\n"
     ]
    }
   ],
   "source": [
    "print(pd.Series([len(text.split()) for text in trainDF.text]).describe())\n",
    "percentile = 90\n",
    "print(f\"{percentile}th Percentile length of train sentences: {np.percentile([len(text.split()) for text in trainDF.text],percentile)}\")"
   ]
  },
  {
   "cell_type": "code",
   "execution_count": 8,
   "id": "c2f017ec",
   "metadata": {},
   "outputs": [
    {
     "name": "stdout",
     "output_type": "stream",
     "text": [
      "Aesthetic Appreciation and Spanish Art :\n",
      "ADJ NOUN CCONJ ADJ NOUN PUNCT\n"
     ]
    }
   ],
   "source": [
    "print(trainDF.text[0])\n",
    "print(trainDF.labels[0])"
   ]
  },
  {
   "cell_type": "code",
   "execution_count": 9,
   "id": "a1d07e8d",
   "metadata": {
    "title": "CONSTANTS"
   },
   "outputs": [
    {
     "name": "stdout",
     "output_type": "stream",
     "text": [
      "Target Names: ['ADJ', 'ADP', 'ADV', 'AUX', 'CCONJ', 'DET', 'INTJ', 'NOUN', 'NUM', 'PART', 'PRON', 'PROPN', 'PUNCT', 'SCONJ', 'SYM', 'VERB', 'X']\n"
     ]
    }
   ],
   "source": [
    "TARGET_NAMES = sorted(list(set(' '.join(trainDF.labels).split())))\n",
    "NCLASSES = len(TARGET_NAMES)\n",
    "print('Target Names:',TARGET_NAMES)"
   ]
  },
  {
   "cell_type": "markdown",
   "id": "0d628f4b",
   "metadata": {},
   "source": [
    "## Majority Classifier"
   ]
  },
  {
   "cell_type": "code",
   "execution_count": 10,
   "id": "ba2d52e3",
   "metadata": {
    "title": "Majority classifier"
   },
   "outputs": [
    {
     "name": "stdout",
     "output_type": "stream",
     "text": [
      "              precision    recall  f1-score   support\n",
      "\n",
      "         ADJ       0.91      0.93      0.92      9761\n",
      "         ADP       0.90      0.89      0.90     14045\n",
      "         ADV       0.89      0.85      0.87      6969\n",
      "         AUX       0.87      0.95      0.91      7689\n",
      "       CCONJ       0.99      1.00      0.99      4846\n",
      "         DET       0.95      0.98      0.96     12066\n",
      "        INTJ       0.73      0.76      0.74      1144\n",
      "        NOUN       0.92      0.95      0.93     24618\n",
      "         NUM       0.95      1.00      0.98      2924\n",
      "        PART       0.69      0.90      0.78      3466\n",
      "        PRON       0.92      0.96      0.94     12059\n",
      "       PROPN       0.94      0.82      0.88      8934\n",
      "       PUNCT       0.99      1.00      1.00     20274\n",
      "       SCONJ       0.85      0.33      0.48      2324\n",
      "         SYM       0.95      0.68      0.79       231\n",
      "        VERB       0.93      0.89      0.91     15347\n",
      "           X       0.97      0.73      0.84       302\n",
      "\n",
      "    accuracy                           0.92    146999\n",
      "   macro avg       0.90      0.86      0.87    146999\n",
      "weighted avg       0.92      0.92      0.92    146999\n",
      "\n",
      "              precision    recall  f1-score   support\n",
      "\n",
      "         ADJ       0.90      0.81      0.85      1340\n",
      "         ADP       0.91      0.91      0.91      1889\n",
      "         ADV       0.87      0.80      0.84       926\n",
      "         AUX       0.88      0.96      0.92      1069\n",
      "       CCONJ       0.98      1.00      0.99       653\n",
      "         DET       0.95      0.98      0.97      1598\n",
      "        INTJ       0.75      0.74      0.74       204\n",
      "        NOUN       0.74      0.94      0.83      3381\n",
      "         NUM       0.95      0.86      0.91       329\n",
      "        PART       0.75      0.92      0.83       510\n",
      "        PRON       0.93      0.96      0.94      1807\n",
      "       PROPN       0.78      0.40      0.53       833\n",
      "       PUNCT       1.00      1.00      1.00      2606\n",
      "       SCONJ       0.87      0.36      0.51       332\n",
      "         SYM       1.00      0.36      0.53        14\n",
      "        VERB       0.92      0.77      0.84      2150\n",
      "           X       1.00      0.50      0.67        12\n",
      "\n",
      "    accuracy                           0.88     19653\n",
      "   macro avg       0.89      0.78      0.81     19653\n",
      "weighted avg       0.89      0.88      0.88     19653\n",
      "\n",
      "              precision    recall  f1-score   support\n",
      "\n",
      "         ADJ       0.88      0.80      0.84      1331\n",
      "         ADP       0.91      0.91      0.91      2053\n",
      "         ADV       0.89      0.77      0.82       916\n",
      "         AUX       0.87      0.94      0.91       949\n",
      "       CCONJ       0.98      1.00      0.99       700\n",
      "         DET       0.96      0.98      0.97      1720\n",
      "        INTJ       0.78      0.68      0.72       148\n",
      "        NOUN       0.68      0.93      0.78      3508\n",
      "         NUM       0.97      0.81      0.89       401\n",
      "        PART       0.69      0.90      0.78       420\n",
      "        PRON       0.92      0.97      0.94      1435\n",
      "       PROPN       0.79      0.35      0.49      1409\n",
      "       PUNCT       0.99      1.00      1.00      2540\n",
      "       SCONJ       0.88      0.38      0.54       252\n",
      "         SYM       0.82      0.53      0.64        34\n",
      "        VERB       0.90      0.76      0.83      2073\n",
      "           X       0.88      0.50      0.64        28\n",
      "\n",
      "    accuracy                           0.86     19917\n",
      "   macro avg       0.87      0.78      0.81     19917\n",
      "weighted avg       0.87      0.86      0.85     19917\n",
      "\n"
     ]
    }
   ],
   "source": [
    "\n",
    "def flatten_and_encode(df) -> pd.DataFrame:\n",
    "    '''Flatten each text sentence and each label. Then Encode the labels as category ints'''\n",
    "    df_flattened        = df['text'].str.lower().str.split(expand=True).stack().reset_index(drop=True).to_frame(name='word') # Flatten train data\n",
    "    df_flattened['tag'] = df['labels'].str.lower().str.split(expand=True).stack().reset_index(drop=True)\n",
    "    df_flattened['tag'] = df_flattened['tag'].astype('category').cat.codes # Encode 'tag'\n",
    "    return df_flattened\n",
    "\n",
    "# Majority Dummy classifier: Find the most common label for each unique word using the Train-set\n",
    "train_flattened  = flatten_and_encode(trainDF)\n",
    "trainMajorityTag = train_flattened.groupby('word')['tag'].agg(lambda x: x.mode()[0]).to_frame() # Find the most common tag for each word\n",
    "trainMajorityTag = trainMajorityTag.tag.to_dict() # dict{word: most_commont_tag}\n",
    "\n",
    "# Flatten evaluation datasets\n",
    "val_flattened  = flatten_and_encode(valDF)\n",
    "test_flattened = flatten_and_encode(testDF)\n",
    "\n",
    "# Get y_true for each dataset\n",
    "y_train_true = train_flattened.tag.tolist()\n",
    "y_val_true   = val_flattened.tag.tolist()\n",
    "y_test_true  = test_flattened.tag.tolist()\n",
    "\n",
    "# Find the overall most common tag inside train-set\n",
    "most_common_tag = train_flattened.tag.mode()[0]\n",
    "\n",
    "# Create the prediction using Majority dummy classifier\n",
    "y_train_pred = [trainMajorityTag.get(word,most_common_tag) for word in train_flattened.word]\n",
    "y_val_pred   = [trainMajorityTag.get(word,most_common_tag) for word in val_flattened.word]\n",
    "y_test_pred  = [trainMajorityTag.get(word,most_common_tag) for word in test_flattened.word]\n",
    "\n",
    "majority_val_acc = accuracy_score(y_val_true, y_val_pred).round(2)\n",
    "\n",
    "print(classification_report(y_train_true, y_train_pred, target_names=TARGET_NAMES))\n",
    "print(classification_report(y_val_true, y_val_pred, target_names=TARGET_NAMES))\n",
    "print(classification_report(y_test_true, y_test_pred, target_names=TARGET_NAMES))"
   ]
  },
  {
   "cell_type": "markdown",
   "id": "882ec4ae",
   "metadata": {},
   "source": [
    "## Prepare X, y"
   ]
  },
  {
   "cell_type": "code",
   "execution_count": 11,
   "id": "ecf508a0",
   "metadata": {
    "title": "Vectorize Y"
   },
   "outputs": [
    {
     "name": "stderr",
     "output_type": "stream",
     "text": [
      "2024-02-28 22:15:57.342580: I external/local_xla/xla/stream_executor/cuda/cuda_executor.cc:901] successful NUMA node read from SysFS had negative value (-1), but there must be at least one NUMA node, so returning NUMA node zero. See more at https://github.com/torvalds/linux/blob/v6.0/Documentation/ABI/testing/sysfs-bus-pci#L344-L355\n",
      "2024-02-28 22:15:57.537191: I external/local_xla/xla/stream_executor/cuda/cuda_executor.cc:901] successful NUMA node read from SysFS had negative value (-1), but there must be at least one NUMA node, so returning NUMA node zero. See more at https://github.com/torvalds/linux/blob/v6.0/Documentation/ABI/testing/sysfs-bus-pci#L344-L355\n",
      "2024-02-28 22:15:57.537415: I external/local_xla/xla/stream_executor/cuda/cuda_executor.cc:901] successful NUMA node read from SysFS had negative value (-1), but there must be at least one NUMA node, so returning NUMA node zero. See more at https://github.com/torvalds/linux/blob/v6.0/Documentation/ABI/testing/sysfs-bus-pci#L344-L355\n",
      "2024-02-28 22:15:57.538536: I external/local_xla/xla/stream_executor/cuda/cuda_executor.cc:901] successful NUMA node read from SysFS had negative value (-1), but there must be at least one NUMA node, so returning NUMA node zero. See more at https://github.com/torvalds/linux/blob/v6.0/Documentation/ABI/testing/sysfs-bus-pci#L344-L355\n",
      "2024-02-28 22:15:57.538728: I external/local_xla/xla/stream_executor/cuda/cuda_executor.cc:901] successful NUMA node read from SysFS had negative value (-1), but there must be at least one NUMA node, so returning NUMA node zero. See more at https://github.com/torvalds/linux/blob/v6.0/Documentation/ABI/testing/sysfs-bus-pci#L344-L355\n",
      "2024-02-28 22:15:57.538891: I external/local_xla/xla/stream_executor/cuda/cuda_executor.cc:901] successful NUMA node read from SysFS had negative value (-1), but there must be at least one NUMA node, so returning NUMA node zero. See more at https://github.com/torvalds/linux/blob/v6.0/Documentation/ABI/testing/sysfs-bus-pci#L344-L355\n",
      "2024-02-28 22:15:57.632515: I external/local_xla/xla/stream_executor/cuda/cuda_executor.cc:901] successful NUMA node read from SysFS had negative value (-1), but there must be at least one NUMA node, so returning NUMA node zero. See more at https://github.com/torvalds/linux/blob/v6.0/Documentation/ABI/testing/sysfs-bus-pci#L344-L355\n",
      "2024-02-28 22:15:57.632712: I external/local_xla/xla/stream_executor/cuda/cuda_executor.cc:901] successful NUMA node read from SysFS had negative value (-1), but there must be at least one NUMA node, so returning NUMA node zero. See more at https://github.com/torvalds/linux/blob/v6.0/Documentation/ABI/testing/sysfs-bus-pci#L344-L355\n",
      "2024-02-28 22:15:57.632886: I external/local_xla/xla/stream_executor/cuda/cuda_executor.cc:901] successful NUMA node read from SysFS had negative value (-1), but there must be at least one NUMA node, so returning NUMA node zero. See more at https://github.com/torvalds/linux/blob/v6.0/Documentation/ABI/testing/sysfs-bus-pci#L344-L355\n",
      "2024-02-28 22:15:57.633003: I tensorflow/core/common_runtime/gpu/gpu_device.cc:1929] Created device /job:localhost/replica:0/task:0/device:GPU:0 with 5025 MB memory:  -> device: 0, name: NVIDIA GeForce GTX 1060 6GB, pci bus id: 0000:01:00.0, compute capability: 6.1\n",
      "2024-02-28 22:15:57.995199: I external/local_tsl/tsl/platform/default/subprocess.cc:304] Start cannot spawn child process: No such file or directory\n"
     ]
    }
   ],
   "source": [
    "MAX_WORDS = 100000\n",
    "MAX_SEQUENCE_LENGTH = 32\n",
    "EMBEDDING_DIM = 300\n",
    "\n",
    "vectorize_Y = TextVectorization(max_tokens=MAX_WORDS,\n",
    "                                output_mode='int',\n",
    "                                standardize=None,\n",
    "                                ngrams=1,\n",
    "                                vocabulary=TARGET_NAMES,\n",
    "                                output_sequence_length=MAX_SEQUENCE_LENGTH)\n",
    "\n",
    "y_train_sequential = vectorize_Y(trainDF.labels.values).numpy()\n",
    "y_val_sequential = vectorize_Y(valDF.labels.values).numpy()\n",
    "y_test_sequential = vectorize_Y(testDF.labels.values).numpy()\n",
    "\n",
    "TARGET_NAMES = vectorize_Y.get_vocabulary()"
   ]
  },
  {
   "cell_type": "code",
   "execution_count": 12,
   "id": "a8e65b7f",
   "metadata": {
    "title": "test y_sequential"
   },
   "outputs": [
    {
     "name": "stdout",
     "output_type": "stream",
     "text": [
      "=============================== New Target Names ===============================\n",
      "['', '[UNK]', 'ADJ', 'ADP', 'ADV', 'AUX', 'CCONJ', 'DET', 'INTJ', 'NOUN', 'NUM', 'PART', 'PRON', 'PROPN', 'PUNCT', 'SCONJ', 'SYM', 'VERB', 'X'] \n",
      "\n",
      "-First sentence target names: ADJ NOUN CCONJ ADJ NOUN PUNCT\n",
      "-First sentence targets encoded: [ 2  9  6  2  9 14  0  0  0  0  0  0  0  0  0  0  0  0  0  0  0  0  0  0\n",
      "  0  0  0  0  0  0  0  0]\n",
      "=============================== An other sample ================================\n",
      "NOUN ADP NOUN PUNCT VERB ADJ NOUN PUNCT NOUN PUNCT AUX VERB ADJ NOUN ADP DET ADJ NOUN VERB DET NOUN CCONJ NOUN ADP NOUN NOUN PUNCT NUM PUNCT SYM PUNCT NUM PUNCT PUNCT\n",
      "[ 9  3  9 14 17  2  9 14  9 14  5 17  2  9  3  7  2  9 17  7  9  6  9  3\n",
      "  9  9 14 10 14 16 14 10]\n"
     ]
    }
   ],
   "source": [
    "print(f\"{' New Target Names ':=^80}\")\n",
    "print(vectorize_Y.get_vocabulary(), '\\n')\n",
    "print('-First sentence target names:',trainDF.labels[0])\n",
    "print('-First sentence targets encoded:',y_train_sequential[0])\n",
    "print(f\"{' An other sample ':=^80}\")\n",
    "print(valDF.labels[1])\n",
    "print(y_val_sequential[1])"
   ]
  },
  {
   "cell_type": "code",
   "execution_count": 13,
   "id": "e3fe4a41",
   "metadata": {
    "lines_to_next_cell": 0,
    "title": "Vectorize X"
   },
   "outputs": [
    {
     "name": "stdout",
     "output_type": "stream",
     "text": [
      "Vocabulary size: 14388 words.\n"
     ]
    }
   ],
   "source": [
    "vectorizer = TextVectorization(max_tokens=MAX_WORDS,\n",
    "                               output_mode='int',\n",
    "                               standardize=\"lower\",\n",
    "                               ngrams=1,\n",
    "                               output_sequence_length=MAX_SEQUENCE_LENGTH)\n",
    "\n",
    "vectorizer.adapt(trainDF.text)\n",
    "\n",
    "MAX_WORDS = vectorizer.vocabulary_size()\n",
    "print(f\"Vocabulary size: { MAX_WORDS } words.\")"
   ]
  },
  {
   "cell_type": "code",
   "execution_count": 14,
   "id": "ac587d94",
   "metadata": {
    "title": "Test vectorizer"
   },
   "outputs": [
    {
     "name": "stdout",
     "output_type": "stream",
     "text": [
      "================================== Sentences ===================================\n",
      "0    Aesthetic Appreciation and Spanish Art :\n",
      "1                Insights from Eye - Tracking\n",
      "Name: text, dtype: object\n",
      "========================== Vectorized Representations ==========================\n",
      "tf.Tensor(\n",
      "[[1343 2367    5  629  286   60    0    0    0    0    0    0    0    0\n",
      "     0    0    0    0    0    0    0    0    0    0    0    0    0    0\n",
      "     0    0    0    0]\n",
      " [3023   30  992   20 1502    0    0    0    0    0    0    0    0    0\n",
      "     0    0    0    0    0    0    0    0    0    0    0    0    0    0\n",
      "     0    0    0    0]], shape=(2, 32), dtype=int64)\n",
      "======================== Reconstructed from vectorizer =========================\n",
      "['aesthetic', 'appreciation', 'and', 'spanish', 'art', ':', '', '', '', '', '', '', '', '', '', '', '', '', '', '', '', '', '', '', '', '', '', '', '', '', '', '', 'insights', 'from', 'eye', '-', 'tracking', '', '', '', '', '', '', '', '', '', '', '', '', '', '', '', '', '', '', '', '', '', '', '', '', '', '', '']\n"
     ]
    }
   ],
   "source": [
    "# Gold\n",
    "print(f\"{' Sentences ':=^80}\")\n",
    "print(trainDF.text[0:2])\n",
    "# Vectorized\n",
    "print(f\"{' Vectorized Representations ':=^80}\")\n",
    "print(vectorizer.call(trainDF.text[0:2]))\n",
    "# Reconstruction\n",
    "sentences = vectorizer.call(trainDF.text[0:2])\n",
    "vocabulary = vectorizer.get_vocabulary()\n",
    "words = [vocabulary[idx] for sentence in sentences for idx in sentence]\n",
    "print(f\"{' Reconstructed from vectorizer ':=^80}\")\n",
    "print(words)"
   ]
  },
  {
   "cell_type": "markdown",
   "id": "542f188f",
   "metadata": {},
   "source": [
    "## Embedding Matrix"
   ]
  },
  {
   "cell_type": "code",
   "execution_count": 15,
   "id": "7eb7e871",
   "metadata": {
    "lines_to_next_cell": 1,
    "title": "Create embeddings matrix"
   },
   "outputs": [
    {
     "name": "stdout",
     "output_type": "stream",
     "text": [
      "Loading Fasttext model...\n"
     ]
    },
    {
     "name": "stderr",
     "output_type": "stream",
     "text": [
      "Warning : `load_model` does not return WordVectorModel or SupervisedModel any more, but a `FastText` object which is very similar.\n"
     ]
    },
    {
     "name": "stdout",
     "output_type": "stream",
     "text": [
      "Process completed!\n"
     ]
    },
    {
     "name": "stderr",
     "output_type": "stream",
     "text": [
      "Embedding matrix creation: 100%|██████████| 14388/14388 [00:00<00:00, 62998.83it/s]\n"
     ]
    }
   ],
   "source": [
    "print('Loading Fasttext model...')\n",
    "fasttext_model = fasttext.load_model('cc.en.300.bin')\n",
    "print(\"Process completed!\")\n",
    "\n",
    "embedding_matrix = np.zeros(shape=(MAX_WORDS, 300))\n",
    "\n",
    "for w2idx, _word in tqdm(enumerate(vectorizer.get_vocabulary()), total=MAX_WORDS, desc='Embedding matrix creation'):\n",
    "    # Skip PAD and UNK tokens\n",
    "    if w2idx >= 2:\n",
    "        embedding_matrix[w2idx] = fasttext_model.get_word_vector(_word)\n",
    "\n",
    "del fasttext_model"
   ]
  },
  {
   "cell_type": "markdown",
   "id": "bd1bf591",
   "metadata": {},
   "source": [
    "## Recurrent Neural Network"
   ]
  },
  {
   "cell_type": "code",
   "execution_count": 16,
   "id": "310ba607",
   "metadata": {
    "lines_to_next_cell": 1,
    "title": "Metrics"
   },
   "outputs": [],
   "source": [
    "class Metrics(tf.keras.callbacks.Callback):\n",
    "    def __init__(self, valid_data):\n",
    "        super(Metrics, self).__init__()\n",
    "        self.validation_data = valid_data\n",
    "\n",
    "    def on_epoch_end(self, epoch, logs=None):\n",
    "        logs = logs or {}\n",
    "        val_predict = np.argmax(self.model.predict(self.validation_data[0]), -1)\n",
    "        val_targ = self.validation_data[1]\n",
    "        val_targ = tf.cast(val_targ, dtype=tf.float32)\n",
    "        if len(val_targ.shape) == 2 and val_targ.shape[1] != 1:\n",
    "            val_targ = np.argmax(val_targ, -1)\n",
    "\n",
    "        _val_f1 = f1_score(val_targ, val_predict, average=\"weighted\", zero_division=1)\n",
    "        _val_recall = recall_score(val_targ, val_predict, average=\"weighted\", zero_division=1)\n",
    "        _val_precision = precision_score(val_targ, val_predict, average=\"weighted\", zero_division=1)\n",
    "\n",
    "        logs['val_f1'] = _val_f1\n",
    "        logs['val_recall'] = _val_recall\n",
    "        logs['val_precision'] = _val_precision\n",
    "        print(\" — val_f1: %f — val_precision: %f — val_recall: %f\" % (_val_f1, _val_precision, _val_recall))\n",
    "        return"
   ]
  },
  {
   "cell_type": "markdown",
   "id": "82bd4080",
   "metadata": {},
   "source": [
    "\n",
    "### CUDA GPU CELLS\n",
    "The criteria for a GRU (or LSTM) layer to use cuDNN kernels include:\n",
    "\n",
    "- Activation Function: The activation must be tanh for the recurrent activation.\n",
    "- Recurrent Dropout: When using recurrent dropout (recurrent_dropout > 0), the layer cannot use cuDNN kernels because cuDNN does not support recurrent dropout natively.\n",
    "- Unrolling the RNN: If the RNN layer is unrolled (unroll=True), it might not be compatible with cuDNN.\n",
    "- Using Masking: Sometimes, using sequence masking can also prevent the use of cuDNN, depending on how the masking is applied and the specific TensorFlow version.\n",
    "\n",
    "In our case, the use of recurrent_dropout is the reason TensorFlow cannot use cuDNN kernels. cuDNN does not support recurrent dropout directly, leading TensorFlow to fall back to a more generic, and usually slower, GPU kernel implementation."
   ]
  },
  {
   "cell_type": "markdown",
   "id": "f9873869",
   "metadata": {},
   "source": [
    "### Embedding Layer\n",
    "The Embedding layer receives a Tensor of shape (batch size, fixed sequence length) and is responsible for converting it into a 3D Tensor (batch size, fixed sequence length, embedding). At this point, the designer must make a crucial decision regarding the padded sequences. Typically, padded sequences should be masked with `mask_zero=True` so that the model can ignore them during training. During training and evaluation (`model.evaluate()`), the model can correctly identify the padded tokens and ignore them. However, the problem arises during inference (`model.predict()`), as the model cannot properly identify and thus mask these tokens. At this stage, the model attempts to infer the class of the padded tokens without prior knowledge of their existence, resulting in the model assigning a fixed class, in this case, class '4', to all 'pad' tokens. This issue complicates the final evaluation of the model (classification reports and AUC scores) because it prevents an objective comparison between the actual and predicted classes. A different problem formulation or architecture might overcome this problem while still retaining the mask.\n",
    "\n",
    "Alternatively, setting `mask_zero` to False forces the model to consider the padding during its training phase, represented by zeros, to extract their proper embeddings from the embedding matrix, treat the zeros as a viable class, and thus learn to predict them. This approach is problematic for two reasons. Firstly, it will include the overrepresented class zero in the model's metrics report, inflating the metrics and providing a non-objective view of the model's performance. Secondly, the model may misclassify other classes as class zero, deflating the precision-recall metrics for other classes.\n",
    "\n",
    "To address this discrepancy, manual masking must be implemented in both scenarios to remove the padded tokens from the evaluation process. The following approach creates the mask from the encoded target classes. In a production setting, this decision is biased because target labels are not available, necessitating derivation from the encoded text sequences (which would require a different architecture, possibly excluding the vectorization layer inside the model).\n",
    "\n",
    "Ultimately, `mask_zero=True` is chosen as it offers the most objective approach despite the need for manual masking."
   ]
  },
  {
   "cell_type": "code",
   "execution_count": 28,
   "id": "652b18bc",
   "metadata": {
    "title": "Bi-Directional GRU"
   },
   "outputs": [
    {
     "name": "stdout",
     "output_type": "stream",
     "text": [
      "Model: \"model_1\"\n",
      "__________________________________________________________________________________________________\n",
      " Layer (type)                Output Shape                 Param #   Connected to                  \n",
      "==================================================================================================\n",
      " input_text (InputLayer)     [(None, 1)]                  0         []                            \n",
      "                                                                                                  \n",
      " text_vectorization_1 (Text  (None, 32)                   0         ['input_text[0][0]']          \n",
      " Vectorization)                                                                                   \n",
      "                                                                                                  \n",
      " embedding_1 (Embedding)     (None, 32, 300)              4316400   ['text_vectorization_1[1][0]']\n",
      "                                                                                                  \n",
      " dropout_3 (Dropout)         (None, 32, 300)              0         ['embedding_1[0][0]']         \n",
      "                                                                                                  \n",
      " bidirectional_4 (Bidirecti  (None, 32, 600)              1442400   ['dropout_3[0][0]']           \n",
      " onal)                                                                                            \n",
      "                                                                                                  \n",
      " bidirectional_5 (Bidirecti  (None, 32, 600)              2162400   ['bidirectional_4[0][0]']     \n",
      " onal)                                                                                            \n",
      "                                                                                                  \n",
      " add_3 (Add)                 (None, 32, 600)              0         ['bidirectional_4[0][0]',     \n",
      "                                                                     'bidirectional_5[0][0]']     \n",
      "                                                                                                  \n",
      " layer_normalization_4 (Lay  (None, 32, 600)              1200      ['add_3[0][0]']               \n",
      " erNormalization)                                                                                 \n",
      "                                                                                                  \n",
      " bidirectional_6 (Bidirecti  (None, 32, 600)              2162400   ['layer_normalization_4[0][0]'\n",
      " onal)                                                              ]                             \n",
      "                                                                                                  \n",
      " add_4 (Add)                 (None, 32, 600)              0         ['layer_normalization_4[0][0]'\n",
      "                                                                    , 'bidirectional_6[0][0]']    \n",
      "                                                                                                  \n",
      " layer_normalization_5 (Lay  (None, 32, 600)              1200      ['add_4[0][0]']               \n",
      " erNormalization)                                                                                 \n",
      "                                                                                                  \n",
      " bidirectional_7 (Bidirecti  (None, 32, 600)              2162400   ['layer_normalization_5[0][0]'\n",
      " onal)                                                              ]                             \n",
      "                                                                                                  \n",
      " add_5 (Add)                 (None, 32, 600)              0         ['layer_normalization_5[0][0]'\n",
      "                                                                    , 'bidirectional_7[0][0]']    \n",
      "                                                                                                  \n",
      " layer_normalization_6 (Lay  (None, 32, 600)              1200      ['add_5[0][0]']               \n",
      " erNormalization)                                                                                 \n",
      "                                                                                                  \n",
      " time_distributed_3 (TimeDi  (None, 32, 128)              76928     ['layer_normalization_6[0][0]'\n",
      " stributed)                                                         ]                             \n",
      "                                                                                                  \n",
      " dropout_4 (Dropout)         (None, 32, 128)              0         ['time_distributed_3[0][0]']  \n",
      "                                                                                                  \n",
      " time_distributed_4 (TimeDi  (None, 32, 128)              16512     ['dropout_4[0][0]']           \n",
      " stributed)                                                                                       \n",
      "                                                                                                  \n",
      " dropout_5 (Dropout)         (None, 32, 128)              0         ['time_distributed_4[0][0]']  \n",
      "                                                                                                  \n",
      " time_distributed_5 (TimeDi  (None, 32, 19)               2451      ['dropout_5[0][0]']           \n",
      " stributed)                                                                                       \n",
      "                                                                                                  \n",
      "==================================================================================================\n",
      "Total params: 12345491 (47.09 MB)\n",
      "Trainable params: 8029091 (30.63 MB)\n",
      "Non-trainable params: 4316400 (16.47 MB)\n",
      "__________________________________________________________________________________________________\n",
      "None\n",
      "Epoch 1/50\n",
      "32/32 [==============================] - 49s 479ms/step - loss: 1.9086 - accuracy: 0.4142 - val_loss: 0.9070 - val_accuracy: 0.7054\n",
      "Epoch 2/50\n",
      "32/32 [==============================] - 5s 171ms/step - loss: 0.8312 - accuracy: 0.7394 - val_loss: 0.4722 - val_accuracy: 0.8426\n",
      "Epoch 3/50\n",
      "32/32 [==============================] - 5s 172ms/step - loss: 0.5312 - accuracy: 0.8329 - val_loss: 0.3386 - val_accuracy: 0.8913\n",
      "Epoch 4/50\n",
      "32/32 [==============================] - 5s 172ms/step - loss: 0.4107 - accuracy: 0.8710 - val_loss: 0.3025 - val_accuracy: 0.9036\n",
      "Epoch 5/50\n",
      "32/32 [==============================] - 5s 171ms/step - loss: 0.3516 - accuracy: 0.8902 - val_loss: 0.2702 - val_accuracy: 0.9126\n",
      "Epoch 6/50\n",
      "32/32 [==============================] - 5s 172ms/step - loss: 0.3148 - accuracy: 0.9024 - val_loss: 0.2587 - val_accuracy: 0.9169\n",
      "Epoch 7/50\n",
      "32/32 [==============================] - 5s 171ms/step - loss: 0.2829 - accuracy: 0.9112 - val_loss: 0.2477 - val_accuracy: 0.9197\n",
      "Epoch 8/50\n",
      "32/32 [==============================] - 5s 172ms/step - loss: 0.2564 - accuracy: 0.9186 - val_loss: 0.2386 - val_accuracy: 0.9221\n",
      "Epoch 9/50\n",
      "32/32 [==============================] - 5s 172ms/step - loss: 0.2360 - accuracy: 0.9250 - val_loss: 0.2307 - val_accuracy: 0.9254\n",
      "Epoch 10/50\n",
      "32/32 [==============================] - 5s 172ms/step - loss: 0.2205 - accuracy: 0.9289 - val_loss: 0.2221 - val_accuracy: 0.9297\n",
      "Epoch 11/50\n",
      "32/32 [==============================] - 5s 171ms/step - loss: 0.2005 - accuracy: 0.9352 - val_loss: 0.2302 - val_accuracy: 0.9290\n",
      "Epoch 12/50\n",
      "32/32 [==============================] - 6s 172ms/step - loss: 0.1877 - accuracy: 0.9391 - val_loss: 0.2176 - val_accuracy: 0.9326\n",
      "Epoch 13/50\n",
      "32/32 [==============================] - 5s 170ms/step - loss: 0.1750 - accuracy: 0.9431 - val_loss: 0.2235 - val_accuracy: 0.9302\n",
      "Epoch 14/50\n",
      "32/32 [==============================] - 5s 172ms/step - loss: 0.1608 - accuracy: 0.9478 - val_loss: 0.2145 - val_accuracy: 0.9328\n",
      "Epoch 15/50\n",
      "32/32 [==============================] - 5s 172ms/step - loss: 0.1505 - accuracy: 0.9513 - val_loss: 0.2099 - val_accuracy: 0.9351\n",
      "Epoch 16/50\n",
      "32/32 [==============================] - 5s 170ms/step - loss: 0.1404 - accuracy: 0.9542 - val_loss: 0.2225 - val_accuracy: 0.9302\n",
      "Epoch 17/50\n",
      "32/32 [==============================] - 6s 173ms/step - loss: 0.1326 - accuracy: 0.9569 - val_loss: 0.2063 - val_accuracy: 0.9369\n",
      "Epoch 18/50\n",
      "32/32 [==============================] - 5s 171ms/step - loss: 0.1203 - accuracy: 0.9603 - val_loss: 0.2244 - val_accuracy: 0.9342\n",
      "Epoch 19/50\n",
      "32/32 [==============================] - 5s 170ms/step - loss: 0.1122 - accuracy: 0.9634 - val_loss: 0.2196 - val_accuracy: 0.9374\n",
      "Epoch 20/50\n",
      "32/32 [==============================] - 5s 169ms/step - loss: 0.1083 - accuracy: 0.9645 - val_loss: 0.2198 - val_accuracy: 0.9365\n",
      "Epoch 21/50\n",
      "32/32 [==============================] - 5s 170ms/step - loss: 0.0978 - accuracy: 0.9680 - val_loss: 0.2405 - val_accuracy: 0.9329\n",
      "Epoch 22/50\n",
      "32/32 [==============================] - 5s 169ms/step - loss: 0.0909 - accuracy: 0.9700 - val_loss: 0.2234 - val_accuracy: 0.9376\n",
      "Epoch 23/50\n",
      "32/32 [==============================] - 5s 169ms/step - loss: 0.0843 - accuracy: 0.9721 - val_loss: 0.2336 - val_accuracy: 0.9363\n",
      "Epoch 24/50\n",
      "32/32 [==============================] - 5s 169ms/step - loss: 0.0785 - accuracy: 0.9740 - val_loss: 0.2424 - val_accuracy: 0.9347\n",
      "Epoch 25/50\n",
      "32/32 [==============================] - 5s 169ms/step - loss: 0.0776 - accuracy: 0.9742 - val_loss: 0.2430 - val_accuracy: 0.9324\n",
      "Epoch 26/50\n",
      "32/32 [==============================] - 5s 170ms/step - loss: 0.0717 - accuracy: 0.9760 - val_loss: 0.2458 - val_accuracy: 0.9337\n",
      "Epoch 27/50\n",
      "32/32 [==============================] - 5s 171ms/step - loss: 0.0626 - accuracy: 0.9793 - val_loss: 0.2471 - val_accuracy: 0.9340\n",
      "\n",
      "Training time: 00:03:10 \n",
      "\n",
      "INFO:tensorflow:Assets written to: checkpoints/model_ex2_masked/assets\n"
     ]
    },
    {
     "name": "stderr",
     "output_type": "stream",
     "text": [
      "INFO:tensorflow:Assets written to: checkpoints/model_ex2_masked/assets\n"
     ]
    }
   ],
   "source": [
    "os.environ['TF_CPP_MIN_LOG_LEVEL'] = '3'\n",
    "\n",
    "LSTM_SIZE = 300  # h diastasi tou h\n",
    "DENSE = 128\n",
    "\n",
    "# # TENSORBOARD: Create a log directory with a timestamp to create a unique directory for each run\n",
    "# log_dir = \"logs/fit/\" + datetime.datetime.now().strftime(\"%Y%m%d-%H%M%S\")\n",
    "# tensorboard_callback = TensorBoard(log_dir=log_dir, histogram_freq=0)\n",
    "\n",
    "# Functional API\n",
    "text = Input(shape=(1,), dtype=tf.string, name=\"input_text\")\n",
    "vectorized = vectorizer(text)\n",
    "word_embeddings = Embedding(MAX_WORDS, EMBEDDING_DIM,\n",
    "                            weights=[embedding_matrix],\n",
    "                            input_length=MAX_SEQUENCE_LENGTH,\n",
    "                            mask_zero=True, # Change to False for production. Because of TimeDistributed\n",
    "                            trainable=False)(vectorized)\n",
    "word_embeddings = Dropout(0.33)(word_embeddings)\n",
    "# RNN\n",
    "rnn_states_l1 = Bidirectional(LSTM(LSTM_SIZE, return_sequences=True, recurrent_dropout=0.0))(word_embeddings)\n",
    "rnn_states_l2 = Bidirectional(LSTM(LSTM_SIZE, return_sequences=True, recurrent_dropout=0.0))(rnn_states_l1)\n",
    "rnn_residuals_1 = LayerNormalization()(Add()([rnn_states_l1, rnn_states_l2]))\n",
    "rnn_states_l3 = Bidirectional(LSTM(LSTM_SIZE, return_sequences=True, recurrent_dropout=0.0))(rnn_residuals_1)\n",
    "rnn_residuals_2 = LayerNormalization()(Add()([rnn_residuals_1, rnn_states_l3]))\n",
    "rnn_states_l4 = Bidirectional(LSTM(LSTM_SIZE, return_sequences=True, recurrent_dropout=0.0))(rnn_residuals_2)\n",
    "rnn_residuals_3 = LayerNormalization()(Add()([rnn_residuals_2, rnn_states_l4]))\n",
    "\n",
    "# MLP\n",
    "# TimeDistributed is not needed, as it is implemented automaticaly on the backend-side of the Dense layer.\n",
    "rich_features = TimeDistributed(Dense(units=DENSE, activation='relu'))(rnn_residuals_3)\n",
    "rich_features = Dropout(0.4)(rich_features)\n",
    "rich_features = TimeDistributed(Dense(units=DENSE, activation='tanh'))(rich_features)\n",
    "rich_features = Dropout(0.1)(rich_features)\n",
    "# Classification\n",
    "pos_tags = TimeDistributed(Dense(NCLASSES+2, activation='softmax', name=\"output\"))(rich_features) # +2 due to vectorizer_Y\n",
    "# Instantiate\n",
    "model = tf.keras.Model(inputs=text, outputs=pos_tags)\n",
    "\n",
    "print(model.summary())\n",
    "\n",
    "model.compile(loss='sparse_categorical_crossentropy',\n",
    "              optimizer=tf.keras.optimizers.Adam(learning_rate=0.001),\n",
    "              metrics=[\"accuracy\"])\n",
    "\n",
    "if not os.path.exists('./checkpoints'):\n",
    "    os.makedirs('./checkpoints')\n",
    "# Callback to save the Keras model or model weights at some frequency.\n",
    "checkpoint = ModelCheckpoint(\n",
    "    'checkpoints/model_ex2_masked',\n",
    "    monitor='val_loss',  # Save the model that scores the best @ validation accuracy\n",
    "    mode='min',  # Since accuracy -> maximization\n",
    "    verbose=2,\n",
    "    save_best_only=True,\n",
    "    save_weights_only=False,\n",
    "    save_format='tf'  # Use TensorFlow format for saving (due to TextVectorization layer not supporting HDF5)\n",
    ")\n",
    "\n",
    "early_stopping = EarlyStopping(monitor='val_loss',\n",
    "                               patience=10,\n",
    "                               restore_best_weights=True)\n",
    "\n",
    "start_training_time = time.time()\n",
    "\n",
    "history = model.fit(\n",
    "    np.array(trainDF.text),\n",
    "    y_train_sequential,\n",
    "    validation_data=(np.array(valDF.text), y_val_sequential),\n",
    "    batch_size=256,\n",
    "    epochs=50,\n",
    "    shuffle=True,\n",
    "    callbacks=[early_stopping]) #, tensorboard_callback])\n",
    "\n",
    "end_training_time = time.time()\n",
    "\n",
    "print(f'\\nTraining time: {time.strftime(\"%H:%M:%S\", time.gmtime(end_training_time - start_training_time))} \\n')\n",
    "\n",
    "# Same the complete model once\n",
    "model.save('checkpoints/model_ex2_masked')"
   ]
  },
  {
   "cell_type": "code",
   "execution_count": 29,
   "id": "4c74c3da",
   "metadata": {},
   "outputs": [
    {
     "name": "stdout",
     "output_type": "stream",
     "text": [
      "256/256 [==============================] - 5s 19ms/step - loss: 0.0551 - accuracy: 0.9817\n",
      "Loss: 0.0551\n",
      "Accuracy: 98.1716%\n"
     ]
    }
   ],
   "source": [
    "loss, accuracy = model.evaluate(np.array(trainDF.text), y_train_sequential, verbose=1)\n",
    "print(f\"Loss: {loss:.4f}\\nAccuracy: {accuracy*100:.4f}%\")"
   ]
  },
  {
   "cell_type": "code",
   "execution_count": 30,
   "id": "53f77b2b",
   "metadata": {
    "title": "test evaluation"
   },
   "outputs": [
    {
     "name": "stdout",
     "output_type": "stream",
     "text": [
      "35/35 [==============================] - 1s 20ms/step - loss: 0.2038 - accuracy: 0.9369\n",
      "Loss: 0.2038\n",
      "Accuracy: 93.6906%\n"
     ]
    }
   ],
   "source": [
    "loss, accuracy = model.evaluate(np.array(valDF.text), y_val_sequential, verbose=1)\n",
    "print(f\"Loss: {loss:.4f}\\nAccuracy: {accuracy*100:.4f}%\") # GRU .9366"
   ]
  },
  {
   "cell_type": "code",
   "execution_count": 31,
   "id": "b4bf0e22",
   "metadata": {},
   "outputs": [
    {
     "name": "stdout",
     "output_type": "stream",
     "text": [
      "35/35 [==============================] - 1s 19ms/step - loss: 0.2565 - accuracy: 0.9209\n",
      "Loss: 0.2565\n",
      "Accuracy: 92.0876%\n"
     ]
    }
   ],
   "source": [
    "loss, accuracy = model.evaluate(np.array(testDF.text), y_test_sequential, verbose=1)\n",
    "print(f\"Loss: {loss:.4f}\\nAccuracy: {accuracy*100:.4f}%\")"
   ]
  },
  {
   "cell_type": "code",
   "execution_count": null,
   "id": "3f608ce0",
   "metadata": {
    "title": "Load model"
   },
   "outputs": [],
   "source": [
    "model = load_model('checkpoints/model_ex2_masked') # or model_ex2_masked_masked"
   ]
  },
  {
   "cell_type": "code",
   "execution_count": 18,
   "id": "634f5c2a",
   "metadata": {},
   "outputs": [
    {
     "data": {
      "image/png": "[encoded data removed]",
      "text/plain": [
       "<IPython.core.display.Image object>"
      ]
     },
     "execution_count": 18,
     "metadata": {},
     "output_type": "execute_result"
    }
   ],
   "source": [
    "tf.keras.utils.plot_model(model,\"POS_tagging_model.png\")"
   ]
  },
  {
   "cell_type": "code",
   "execution_count": null,
   "id": "c24650e1",
   "metadata": {
    "title": "Fire-up Tensorboard"
   },
   "outputs": [],
   "source": [
    "# !tensorboard --logdir=logs/fit\n",
    "# '''\n",
    "# http://localhost:6006/\n",
    "# '''"
   ]
  },
  {
   "cell_type": "code",
   "execution_count": 20,
   "id": "9bf6e151",
   "metadata": {
    "lines_to_next_cell": 1,
    "title": "Classification Report"
   },
   "outputs": [
    {
     "name": "stdout",
     "output_type": "stream",
     "text": [
      "256/256 [==============================] - 5s 18ms/step\n",
      "              precision    recall  f1-score   support\n",
      "\n",
      "         ADJ       0.95      0.97      0.96      8907\n",
      "         ADP       0.98      0.99      0.99     12922\n",
      "         ADV       0.98      0.94      0.96      6508\n",
      "         AUX       0.99      1.00      1.00      7266\n",
      "       CCONJ       1.00      1.00      1.00      4356\n",
      "         DET       1.00      1.00      1.00     11187\n",
      "        INTJ       0.96      0.94      0.95      1118\n",
      "        NOUN       0.97      0.97      0.97     22484\n",
      "         NUM       0.99      0.99      0.99      2567\n",
      "        PART       1.00      0.99      0.99      3253\n",
      "        PRON       1.00      1.00      1.00     11447\n",
      "       PROPN       0.93      0.94      0.94      8116\n",
      "       PUNCT       1.00      1.00      1.00     17766\n",
      "       SCONJ       0.96      0.93      0.95      2183\n",
      "         SYM       0.96      0.98      0.97       211\n",
      "        VERB       0.99      0.98      0.99     14428\n",
      "           X       0.97      0.75      0.84       265\n",
      "\n",
      "    accuracy                           0.98    134984\n",
      "   macro avg       0.98      0.96      0.97    134984\n",
      "weighted avg       0.98      0.98      0.98    134984\n",
      "\n",
      "35/35 [==============================] - 1s 18ms/step\n",
      "              precision    recall  f1-score   support\n",
      "\n",
      "         ADJ       0.87      0.88      0.88      1187\n",
      "         ADP       0.95      0.98      0.97      1711\n",
      "         ADV       0.89      0.85      0.87       848\n",
      "         AUX       0.96      0.99      0.98       991\n",
      "       CCONJ       0.99      0.99      0.99       558\n",
      "         DET       0.99      0.99      0.99      1450\n",
      "        INTJ       0.91      0.80      0.85       201\n",
      "        NOUN       0.88      0.94      0.91      3026\n",
      "         NUM       0.98      0.85      0.91       275\n",
      "        PART       0.96      0.96      0.96       468\n",
      "        PRON       0.99      0.99      0.99      1687\n",
      "       PROPN       0.80      0.65      0.72       746\n",
      "       PUNCT       1.00      1.00      1.00      2229\n",
      "       SCONJ       0.88      0.79      0.83       305\n",
      "         SYM       1.00      0.86      0.92         7\n",
      "        VERB       0.94      0.91      0.93      1972\n",
      "           X       0.67      0.36      0.47        11\n",
      "\n",
      "    accuracy                           0.94     17672\n",
      "   macro avg       0.92      0.87      0.89     17672\n",
      "weighted avg       0.94      0.94      0.94     17672\n",
      "\n",
      "35/35 [==============================] - 1s 18ms/step\n",
      "              precision    recall  f1-score   support\n",
      "\n",
      "         ADJ       0.86      0.88      0.87      1233\n",
      "         ADP       0.96      0.98      0.97      1917\n",
      "         ADV       0.90      0.85      0.87       861\n",
      "         AUX       0.95      0.99      0.97       900\n",
      "       CCONJ       0.99      0.99      0.99       627\n",
      "         DET       0.99      0.99      0.99      1633\n",
      "        INTJ       0.92      0.84      0.88       144\n",
      "        NOUN       0.83      0.93      0.88      3243\n",
      "         NUM       0.99      0.82      0.90       365\n",
      "        PART       0.88      0.95      0.91       393\n",
      "        PRON       0.98      0.99      0.98      1347\n",
      "       PROPN       0.82      0.61      0.70      1294\n",
      "       PUNCT       1.00      1.00      1.00      2236\n",
      "       SCONJ       0.86      0.82      0.84       241\n",
      "         SYM       0.87      0.84      0.86        32\n",
      "        VERB       0.94      0.90      0.92      1962\n",
      "           X       0.92      0.50      0.65        24\n",
      "\n",
      "    accuracy                           0.92     18452\n",
      "   macro avg       0.92      0.87      0.89     18452\n",
      "weighted avg       0.92      0.92      0.92     18452\n",
      "\n",
      "0.9369058397464917\n"
     ]
    }
   ],
   "source": [
    "mask_train = (y_train_sequential.flatten() != 0)\n",
    "predictions = np.argmax(model.predict(trainDF.text), -1)\n",
    "print(classification_report(y_train_sequential.flatten()[mask_train],  # (sentence, labels) -> (all_labels)\n",
    "                            predictions.flatten()[mask_train],\n",
    "                            labels=list(range(2,19)),\n",
    "                            target_names=TARGET_NAMES[2:]\n",
    "                            ))\n",
    "\n",
    "mask_val = (y_val_sequential.flatten() != 0)\n",
    "predictions = np.argmax(model.predict(valDF.text), -1)\n",
    "print(classification_report(y_val_sequential.flatten()[mask_val], \n",
    "                            predictions.flatten()[mask_val],\n",
    "                            labels=list(range(2,19)),\n",
    "                            target_names=TARGET_NAMES[2:]\n",
    "                            ))\n",
    "\n",
    "validation_accuracy = accuracy_score(\n",
    "    y_val_sequential.flatten()[y_val_sequential.flatten() != 0],\n",
    "    predictions.flatten()[y_val_sequential.flatten() != 0]\n",
    ")\n",
    "\n",
    "mask_test = (y_test_sequential.flatten() != 0)\n",
    "predictions = np.argmax(model.predict(testDF.text), -1)\n",
    "print(classification_report(y_test_sequential.flatten()[mask_test], \n",
    "                            predictions.flatten()[mask_test],\n",
    "                            labels=list(range(2,19)),\n",
    "                            target_names=TARGET_NAMES[2:]\n",
    "                            ))\n",
    "\n",
    "print(validation_accuracy)"
   ]
  },
  {
   "cell_type": "code",
   "execution_count": 21,
   "id": "cb429f24",
   "metadata": {
    "lines_to_next_cell": 0,
    "title": "PR-AUC"
   },
   "outputs": [],
   "source": [
    "# Predict class probabilities to be used for PR-AUC\n",
    "def my_padded_multiclass_auc_report( y_true, y_pred, title: str, TARGET_NAMES=TARGET_NAMES) -> None:\n",
    "    \"\"\"\n",
    "    Calculate the Precision-Recall AUC for each class, and then their Macro-averaged score.\n",
    "    The classes are padded with '', and [UNK] classes because they have beed created with \n",
    "    TextVectorizer() layer.\n",
    "\n",
    "    Parameters\n",
    "    ----------\n",
    "    y_true : np.array of int\n",
    "        The one-hot label vectors for each data-point.\n",
    "    y_pred : np.array of float\n",
    "        The MxN predicted probabilities for each data-point (M) and class (N).\n",
    "    title : str\n",
    "        The title of the data-set that is processed. E.g.: Train/Val/Test.\n",
    "\n",
    "    Returns\n",
    "    -------\n",
    "    None\n",
    "\n",
    "    \"\"\"\n",
    "    print(f\"=== PR-AUC for {title} ===\")\n",
    "    macro_auc = []\n",
    "    for i in range(2,len(TARGET_NAMES)):\n",
    "        precision, recall, _ = precision_recall_curve(y_true[:, i], y_pred[:, i])\n",
    "        area = auc(recall, precision)\n",
    "        print(f\"PR-AUC for class {TARGET_NAMES[i]}: {area*100:.2f}%\")\n",
    "        macro_auc.append(area)\n",
    "\n",
    "    print(f\"-> Macro-averaged PR-AUC: {np.mean(macro_auc)*100:.2f}%\\n\")"
   ]
  },
  {
   "cell_type": "code",
   "execution_count": 22,
   "id": "1f531710",
   "metadata": {
    "lines_to_next_cell": 2
   },
   "outputs": [
    {
     "name": "stdout",
     "output_type": "stream",
     "text": [
      "256/256 [==============================] - 5s 19ms/step\n",
      "35/35 [==============================] - 1s 18ms/step\n",
      "35/35 [==============================] - 1s 17ms/step\n",
      "=== PR-AUC for Train ===\n",
      "PR-AUC for class ADJ: 99.18%\n",
      "PR-AUC for class ADP: 99.88%\n",
      "PR-AUC for class ADV: 99.39%\n",
      "PR-AUC for class AUX: 99.98%\n",
      "PR-AUC for class CCONJ: 99.98%\n",
      "PR-AUC for class DET: 99.97%\n",
      "PR-AUC for class INTJ: 98.83%\n",
      "PR-AUC for class NOUN: 99.60%\n",
      "PR-AUC for class NUM: 99.88%\n",
      "PR-AUC for class PART: 99.93%\n",
      "PR-AUC for class PRON: 99.99%\n",
      "PR-AUC for class PROPN: 98.38%\n",
      "PR-AUC for class PUNCT: 100.00%\n",
      "PR-AUC for class SCONJ: 98.51%\n",
      "PR-AUC for class SYM: 99.34%\n",
      "PR-AUC for class VERB: 99.86%\n",
      "PR-AUC for class X: 91.17%\n",
      "-> Macro-averaged PR-AUC: 99.05%\n",
      "\n",
      "=== PR-AUC for Validation ===\n",
      "PR-AUC for class ADJ: 94.74%\n",
      "PR-AUC for class ADP: 99.25%\n",
      "PR-AUC for class ADV: 95.12%\n",
      "PR-AUC for class AUX: 99.84%\n",
      "PR-AUC for class CCONJ: 99.96%\n",
      "PR-AUC for class DET: 99.97%\n",
      "PR-AUC for class INTJ: 94.46%\n",
      "PR-AUC for class NOUN: 97.28%\n",
      "PR-AUC for class NUM: 92.67%\n",
      "PR-AUC for class PART: 99.14%\n",
      "PR-AUC for class PRON: 99.84%\n",
      "PR-AUC for class PROPN: 81.29%\n",
      "PR-AUC for class PUNCT: 100.00%\n",
      "PR-AUC for class SCONJ: 90.81%\n",
      "PR-AUC for class SYM: 100.00%\n",
      "PR-AUC for class VERB: 97.80%\n",
      "PR-AUC for class X: 46.10%\n",
      "-> Macro-averaged PR-AUC: 93.43%\n",
      "\n",
      "=== PR-AUC for Test ===\n",
      "PR-AUC for class ADJ: 93.70%\n",
      "PR-AUC for class ADP: 99.57%\n",
      "PR-AUC for class ADV: 95.00%\n",
      "PR-AUC for class AUX: 99.63%\n",
      "PR-AUC for class CCONJ: 99.96%\n",
      "PR-AUC for class DET: 99.90%\n",
      "PR-AUC for class INTJ: 94.73%\n",
      "PR-AUC for class NOUN: 95.48%\n",
      "PR-AUC for class NUM: 90.20%\n",
      "PR-AUC for class PART: 97.90%\n",
      "PR-AUC for class PRON: 99.85%\n",
      "PR-AUC for class PROPN: 81.72%\n",
      "PR-AUC for class PUNCT: 100.00%\n",
      "PR-AUC for class SCONJ: 90.48%\n",
      "PR-AUC for class SYM: 83.07%\n",
      "PR-AUC for class VERB: 97.64%\n",
      "PR-AUC for class X: 67.43%\n",
      "-> Macro-averaged PR-AUC: 93.31%\n",
      "\n"
     ]
    }
   ],
   "source": [
    "# Suppress specific warnings temporarily\n",
    "warnings.filterwarnings(\"ignore\", message=\"No positive class found in y_true\")\n",
    "\n",
    "# Predict probas.\n",
    "# Reshape 3D to 2D (samples, max_sequence, classes) -> (tokens,classes). Then apply mask.\n",
    "predictions_train = model.predict(trainDF.text)\n",
    "predictions_train = predictions_train.reshape(-1, predictions_train.shape[-1])[mask_train]\n",
    "predictions_val   = model.predict(valDF.text)\n",
    "predictions_val   = predictions_val.reshape(-1, predictions_val.shape[-1])[mask_val]\n",
    "predictions_test  = model.predict(testDF.text)\n",
    "predictions_test  = predictions_test.reshape(-1, predictions_test.shape[-1])[mask_test]\n",
    "\n",
    "# PR-AUC report\n",
    "my_padded_multiclass_auc_report(to_categorical(y_train_sequential.flatten()[mask_train]), predictions_train, 'Train')\n",
    "my_padded_multiclass_auc_report(to_categorical(y_val_sequential.flatten()[mask_val]), predictions_val, 'Validation')\n",
    "my_padded_multiclass_auc_report(to_categorical(y_test_sequential.flatten()[mask_test]), predictions_test, 'Test')"
   ]
  },
  {
   "cell_type": "code",
   "execution_count": 57,
   "id": "ac3e52e8",
   "metadata": {
    "title": "Curves"
   },
   "outputs": [
    {
     "data": {
      "image/png": "[encoded data removed]",
      "text/plain": [
       "<Figure size 640x480 with 1 Axes>"
      ]
     },
     "metadata": {},
     "output_type": "display_data"
    },
    {
     "data": {
      "image/png": "[encoded data removed]",
      "text/plain": [
       "<Figure size 640x480 with 1 Axes>"
      ]
     },
     "metadata": {},
     "output_type": "display_data"
    }
   ],
   "source": [
    "# history: Returned by the fit. Keeps the metrics for each epoch\n",
    "# summarize history for accuracy\n",
    "plt.plot(history.history['accuracy'])\n",
    "plt.plot(history.history['val_accuracy'])\n",
    "plt.title('model accuracy')\n",
    "plt.ylabel('accuracy')\n",
    "plt.xlabel('epoch')\n",
    "plt.axhline(y=0.9365, color='red', linestyle='--', label='Simple MLP')\n",
    "plt.axhline(y=majority_val_acc, color='blue', linestyle='--', label='Majority')\n",
    "plt.legend(['train', 'dev', 'Simple MLP', 'Majority'], loc='lower right')\n",
    "plt.show()\n",
    "\n",
    "# summarize history for loss\n",
    "plt.plot(history.history['loss'])\n",
    "plt.plot(history.history['val_loss'])\n",
    "plt.title('model loss')\n",
    "plt.ylabel('loss')\n",
    "plt.xlabel('epoch')\n",
    "plt.legend(['train', 'dev'], loc='upper right')\n",
    "plt.show()"
   ]
  }
 ],
 "metadata": {
  "jupytext": {
   "cell_metadata_filter": "title,-all",
   "main_language": "python",
   "notebook_metadata_filter": "-all"
  },
  "kernelspec": {
   "display_name": "base",
   "language": "python",
   "name": "python3"
  },
  "language_info": {
   "codemirror_mode": {
    "name": "ipython",
    "version": 3
   },
   "file_extension": ".py",
   "mimetype": "text/x-python",
   "name": "python",
   "nbconvert_exporter": "python",
   "pygments_lexer": "ipython3",
   "version": "3.11.5"
  }
 },
 "nbformat": 4,
 "nbformat_minor": 5
}
