{
 "cells": [
  {
   "cell_type": "code",
   "execution_count": 1,
   "id": "b8b9898d-bbb1-4115-9868-403baa99f171",
   "metadata": {
    "tags": []
   },
   "outputs": [
    {
     "name": "stdout",
     "output_type": "stream",
     "text": [
      "WARNING:tensorflow:From C:\\Users\\melin\\anaconda3\\Lib\\site-packages\\keras\\src\\losses.py:2976: The name tf.losses.sparse_softmax_cross_entropy is deprecated. Please use tf.compat.v1.losses.sparse_softmax_cross_entropy instead.\n",
      "\n"
     ]
    }
   ],
   "source": [
    "# Basic libraries\n",
    "import numpy as np\n",
    "import pandas as pd\n",
    "import matplotlib.pyplot as plt\n",
    "import seaborn as sns\n",
    "import os\n",
    "import time\n",
    "import re\n",
    "\n",
    "# ML libraries\n",
    "from sklearn.metrics import (auc, classification_report,\n",
    "                             f1_score, precision_recall_curve,\n",
    "                             precision_score, recall_score)\n",
    "from sklearn.model_selection import train_test_split\n",
    "from sklearn.decomposition import TruncatedSVD\n",
    "from sklearn.feature_extraction.text import TfidfVectorizer\n",
    "from sklearn.linear_model import LogisticRegression\n",
    "from sklearn.dummy import DummyClassifier\n",
    "\n",
    "# TensorFlow and Keras\n",
    "import tensorflow as tf\n",
    "from tensorflow.keras.models import Sequential\n",
    "from tensorflow.keras.layers import Dense, Dropout, BatchNormalization, Activation\n",
    "from tensorflow.keras.optimizers import Adam\n",
    "from tensorflow.keras.callbacks import EarlyStopping, ModelCheckpoint\n",
    "\n",
    "# NLP libraries\n",
    "# Install spacy\n",
    "# !pip install spacy\n",
    "# Download the English language model\n",
    "# !python -m spacy download en\n",
    "import spacy\n",
    "from spacy.lang.en.stop_words import STOP_WORDS\n",
    "\n",
    "# NLTK\n",
    "# import nltk\n",
    "# nltk.download('wordnet')\n",
    "# nltk.download('stopwords')\n",
    "# from nltk.tokenize import word_tokenize\n",
    "# from nltk.stem import PorterStemmer\n",
    "from nltk.corpus import stopwords\n",
    "\n",
    "# Progress bar\n",
    "from tqdm import tqdm\n",
    "\n",
    "#%% Constants\n",
    "TARGET_NAMES = ['negative','positive']\n",
    "\n",
    "# !pip install --upgrade tensorflow\n",
    "# !nvidia-smi"
   ]
  },
  {
   "cell_type": "markdown",
   "id": "4e2954e3-149d-4b01-8e07-a2d2e63d8e74",
   "metadata": {},
   "source": [
    "**Dataset**"
   ]
  },
  {
   "cell_type": "code",
   "execution_count": 2,
   "id": "beaee22b-1e8f-41f5-8246-ef6bb2bb514a",
   "metadata": {
    "tags": []
   },
   "outputs": [
    {
     "name": "stdout",
     "output_type": "stream",
     "text": [
      "                                              review sentiment\n",
      "0  One of the other reviewers has mentioned that ...  positive\n",
      "1  A wonderful little production. <br /><br />The...  positive\n",
      "2  I thought this was a wonderful way to spend ti...  positive\n",
      "3  Basically there's a family where a little boy ...  negative\n",
      "4  Petter Mattei's \"Love in the Time of Money\" is...  positive\n"
     ]
    }
   ],
   "source": [
    "csv_file_path = \"C:\\\\Users\\\\melin\\\\Downloads\\\\IMDB Dataset.csv\\\\IMDB Dataset.csv\"\n",
    "\n",
    "# Read the CSV file into a DataFrame\n",
    "df = pd.read_csv(csv_file_path)\n",
    "\n",
    "# Display the DataFrame\n",
    "print(df.head())"
   ]
  },
  {
   "cell_type": "code",
   "execution_count": 3,
   "id": "3a6a3b6d-e82e-412a-9b4e-0b53cde1a197",
   "metadata": {
    "tags": []
   },
   "outputs": [
    {
     "data": {
      "text/plain": [
       "(50000, 2)"
      ]
     },
     "execution_count": 3,
     "metadata": {},
     "output_type": "execute_result"
    }
   ],
   "source": [
    "df.shape"
   ]
  },
  {
   "cell_type": "code",
   "execution_count": 4,
   "id": "a9ecc5c0-6c34-47bd-838a-44672ddc6f14",
   "metadata": {
    "tags": []
   },
   "outputs": [
    {
     "data": {
      "text/plain": [
       "\"Basically there's a family where a little boy (Jake) thinks there's a zombie in his closet & his parents are fighting all the time.<br /><br />This movie is slower than a soap opera... and suddenly, Jake decides to become Rambo and kill the zombie.<br /><br />OK, first of all when you're going to make a film you must Decide if its a thriller or a drama! As a drama the movie is watchable. Parents are divorcing & arguing like in real life. And then we have Jake with his closet which totally ruins all the film! I expected to see a BOOGEYMAN similar movie, and instead i watched a drama with some meaningless thriller spots.<br /><br />3 out of 10 just for the well playing parents & descent dialogs. As for the shots with Jake: just ignore them.\""
      ]
     },
     "execution_count": 4,
     "metadata": {},
     "output_type": "execute_result"
    }
   ],
   "source": [
    "df['review'][3]"
   ]
  },
  {
   "cell_type": "code",
   "execution_count": 5,
   "id": "c9a55dca-ef2d-40ea-849f-8a0e0b68860b",
   "metadata": {
    "tags": []
   },
   "outputs": [
    {
     "data": {
      "text/plain": [
       "<Axes: xlabel='sentiment', ylabel='count'>"
      ]
     },
     "execution_count": 5,
     "metadata": {},
     "output_type": "execute_result"
    },
    {
     "data": {
      "image/png": "[encoded data removed]",
      "text/plain": [
       "<Figure size 640x480 with 1 Axes>"
      ]
     },
     "metadata": {},
     "output_type": "display_data"
    }
   ],
   "source": [
    "sns.countplot(x=\"sentiment\", data=df)"
   ]
  },
  {
   "cell_type": "code",
   "execution_count": 6,
   "id": "09d1a688-d40c-41e9-90b9-eba6fc9b8143",
   "metadata": {
    "tags": []
   },
   "outputs": [],
   "source": [
    "def no_of_words(text):\n",
    "    words=text.split()\n",
    "    word_count=len(words)\n",
    "    return word_count"
   ]
  },
  {
   "cell_type": "code",
   "execution_count": 7,
   "id": "a2e82421-7133-46b5-922a-fa156b403434",
   "metadata": {
    "tags": []
   },
   "outputs": [],
   "source": [
    "df['word count']=df['review'].apply(no_of_words)"
   ]
  },
  {
   "cell_type": "code",
   "execution_count": 8,
   "id": "20043bd7-779c-4a72-af73-625dbfe2c834",
   "metadata": {
    "tags": []
   },
   "outputs": [
    {
     "data": {
      "text/html": [
       "<div>\n",
       "<style scoped>\n",
       "    .dataframe tbody tr th:only-of-type {\n",
       "        vertical-align: middle;\n",
       "    }\n",
       "\n",
       "    .dataframe tbody tr th {\n",
       "        vertical-align: top;\n",
       "    }\n",
       "\n",
       "    .dataframe thead th {\n",
       "        text-align: right;\n",
       "    }\n",
       "</style>\n",
       "<table border=\"1\" class=\"dataframe\">\n",
       "  <thead>\n",
       "    <tr style=\"text-align: right;\">\n",
       "      <th></th>\n",
       "      <th>review</th>\n",
       "      <th>sentiment</th>\n",
       "      <th>word count</th>\n",
       "    </tr>\n",
       "  </thead>\n",
       "  <tbody>\n",
       "    <tr>\n",
       "      <th>0</th>\n",
       "      <td>One of the other reviewers has mentioned that ...</td>\n",
       "      <td>positive</td>\n",
       "      <td>307</td>\n",
       "    </tr>\n",
       "    <tr>\n",
       "      <th>1</th>\n",
       "      <td>A wonderful little production. &lt;br /&gt;&lt;br /&gt;The...</td>\n",
       "      <td>positive</td>\n",
       "      <td>162</td>\n",
       "    </tr>\n",
       "    <tr>\n",
       "      <th>2</th>\n",
       "      <td>I thought this was a wonderful way to spend ti...</td>\n",
       "      <td>positive</td>\n",
       "      <td>166</td>\n",
       "    </tr>\n",
       "    <tr>\n",
       "      <th>3</th>\n",
       "      <td>Basically there's a family where a little boy ...</td>\n",
       "      <td>negative</td>\n",
       "      <td>138</td>\n",
       "    </tr>\n",
       "    <tr>\n",
       "      <th>4</th>\n",
       "      <td>Petter Mattei's \"Love in the Time of Money\" is...</td>\n",
       "      <td>positive</td>\n",
       "      <td>230</td>\n",
       "    </tr>\n",
       "  </tbody>\n",
       "</table>\n",
       "</div>"
      ],
      "text/plain": [
       "                                              review sentiment  word count\n",
       "0  One of the other reviewers has mentioned that ...  positive         307\n",
       "1  A wonderful little production. <br /><br />The...  positive         162\n",
       "2  I thought this was a wonderful way to spend ti...  positive         166\n",
       "3  Basically there's a family where a little boy ...  negative         138\n",
       "4  Petter Mattei's \"Love in the Time of Money\" is...  positive         230"
      ]
     },
     "execution_count": 8,
     "metadata": {},
     "output_type": "execute_result"
    }
   ],
   "source": [
    "df.head()"
   ]
  },
  {
   "cell_type": "code",
   "execution_count": 9,
   "id": "f14cc7a6-d962-41c2-9590-09eef5ea13d7",
   "metadata": {
    "tags": []
   },
   "outputs": [
    {
     "data": {
      "image/png": "[encoded data removed]",
      "text/plain": [
       "<Figure size 1000x600 with 2 Axes>"
      ]
     },
     "metadata": {},
     "output_type": "display_data"
    }
   ],
   "source": [
    "fig, ax = plt.subplots(1, 2, figsize=(10, 6))\n",
    "\n",
    "ax[0].hist(df[df['sentiment'] == 'positive']['word count'], label='Positive', color='blue', rwidth=0.9)\n",
    "ax[0].legend(loc='upper right')\n",
    "\n",
    "ax[1].hist(df[df['sentiment'] == 'negative']['word count'], label='Negative', color='red', rwidth=0.9)\n",
    "ax[1].legend(loc='upper right')\n",
    "\n",
    "fig.suptitle(\"Number of Words in Review\")\n",
    "plt.show()"
   ]
  },
  {
   "cell_type": "markdown",
   "id": "25f307bb-6872-423c-a59d-7177b08492a1",
   "metadata": {},
   "source": [
    "**DataPreprocessing**"
   ]
  },
  {
   "cell_type": "code",
   "execution_count": 10,
   "id": "b006b97d-2f29-4c5f-a13e-6c95b01aed8e",
   "metadata": {
    "tags": []
   },
   "outputs": [],
   "source": [
    "TAG_RE = re.compile(r'<[^>]+>')\n",
    "\n",
    "def remove_tags(text):\n",
    "    '''Removes HTML tags: replaces anything between opening and closing <> with empty space'''\n",
    "\n",
    "    return TAG_RE.sub('', text)"
   ]
  },
  {
   "cell_type": "code",
   "execution_count": 11,
   "id": "c01b3a2f-e8d2-46f5-9394-2c0a3349197a",
   "metadata": {
    "tags": []
   },
   "outputs": [
    {
     "name": "stderr",
     "output_type": "stream",
     "text": [
      "[nltk_data] Downloading package stopwords to\n",
      "[nltk_data]     C:\\Users\\melin\\AppData\\Roaming\\nltk_data...\n",
      "[nltk_data]   Package stopwords is already up-to-date!\n"
     ]
    },
    {
     "data": {
      "text/plain": [
       "True"
      ]
     },
     "execution_count": 11,
     "metadata": {},
     "output_type": "execute_result"
    }
   ],
   "source": [
    "import nltk\n",
    "nltk.download('stopwords')"
   ]
  },
  {
   "cell_type": "code",
   "execution_count": 12,
   "id": "63df5ba2-0478-4097-adef-ed67d5ceea50",
   "metadata": {
    "tags": []
   },
   "outputs": [],
   "source": [
    "def preprocess_text(sen):\n",
    "    '''Cleans text data up, leaving only 2 or more char long non-stepwords composed of A-Z & a-z only\n",
    "    in lowercase'''\n",
    "    \n",
    "    sentence = sen.lower()\n",
    "\n",
    "    # Remove html tags\n",
    "    sentence = remove_tags(sentence)\n",
    "\n",
    "    # Remove punctuations and numbers\n",
    "    sentence = re.sub('[^a-zA-Z]', ' ', sentence)\n",
    "\n",
    "    # Single character removal\n",
    "    sentence = re.sub(r\"\\s+[a-zA-Z]\\s+\", ' ', sentence)  # When we remove apostrophe from the word \"Mark's\", the apostrophe is replaced by an empty space. Hence, we are left with single character \"s\" that we are removing here.\n",
    "\n",
    "    # Remove multiple spaces\n",
    "    sentence = re.sub(r'\\s+', ' ', sentence)  # Next, we remove all the single characters and replace it by a space which creates multiple spaces in our text. Finally, we remove the multiple spaces from our text as well.\n",
    "\n",
    "    # Remove Stopwords\n",
    "    pattern = re.compile(r'\\b(' + r'|'.join(stopwords.words('english')) + r')\\b\\s*')\n",
    "    sentence = pattern.sub('', sentence)\n",
    "\n",
    "    return sentence"
   ]
  },
  {
   "cell_type": "code",
   "execution_count": 13,
   "id": "df3becec-7727-49a6-a4ed-c50e832cef05",
   "metadata": {
    "tags": []
   },
   "outputs": [],
   "source": [
    "# Calling preprocessing_text function on df\n",
    "\n",
    "X = []\n",
    "sentences = list(df['review'])\n",
    "for sen in sentences:\n",
    "    X.append(preprocess_text(sen))"
   ]
  },
  {
   "cell_type": "code",
   "execution_count": 14,
   "id": "91064ccf-77f0-402e-98c3-08978492901a",
   "metadata": {
    "tags": []
   },
   "outputs": [],
   "source": [
    "# Converting sentiment labels to 0 & 1\n",
    "y = df['sentiment']\n",
    "y = np.array(list(map(lambda x: 1 if x==\"positive\" else 0, y)))"
   ]
  },
  {
   "cell_type": "code",
   "execution_count": 15,
   "id": "5e6c4690-50f1-4649-8b5b-9d7a9cbbd645",
   "metadata": {
    "tags": []
   },
   "outputs": [
    {
     "name": "stdout",
     "output_type": "stream",
     "text": [
      "Train samples: 35000\n",
      "Val samples: 7500\n",
      "Test samples: 7500\n"
     ]
    }
   ],
   "source": [
    "# Split the data into training (70%) and temporary data (30%)\n",
    "X_train, X_temp, y_train, y_temp = train_test_split(X, y, test_size=0.3, random_state=42)\n",
    "\n",
    "# Split the temporary data into testing (50%) and validation (50%)\n",
    "X_test, X_val, y_test, y_val = train_test_split(X_temp, y_temp, test_size=0.5, random_state=42)\n",
    "\n",
    "\n",
    "print('Train samples: {}'.format(len(X_train)))\n",
    "print('Val samples: {}'.format(len(X_val)))\n",
    "print('Test samples: {}'.format(len(X_test)))"
   ]
  },
  {
   "cell_type": "markdown",
   "id": "593fc2f4-a854-4cd6-9291-a7ce1bc4bdc2",
   "metadata": {},
   "source": [
    "**Use SpaCy for sentence splitting & tokenization**\n"
   ]
  },
  {
   "cell_type": "code",
   "execution_count": 16,
   "id": "b1002287-0989-400f-853b-4a6e16ef77b6",
   "metadata": {
    "tags": []
   },
   "outputs": [],
   "source": [
    "# # Install spacy\n",
    "# !pip install spacy\n",
    "\n",
    "# # Download the English language model\n",
    "# !python -m spacy download en\n"
   ]
  },
  {
   "cell_type": "code",
   "execution_count": 17,
   "id": "12b10fac-c1d0-4c17-9baa-9e4b3e770420",
   "metadata": {
    "tags": []
   },
   "outputs": [
    {
     "name": "stderr",
     "output_type": "stream",
     "text": [
      "  0%|          | 0/35000 [00:00<?, ?it/s]C:\\Users\\melin\\anaconda3\\Lib\\site-packages\\spacy\\pipeline\\lemmatizer.py:211: UserWarning: [W108] The rule-based lemmatizer did not find POS annotation for one or more tokens. Check that your pipeline includes components that assign token.pos, typically 'tagger'+'attribute_ruler' or 'morphologizer'.\n",
      "  warnings.warn(Warnings.W108)\n",
      "100%|██████████| 35000/35000 [07:06<00:00, 82.00it/s] \n",
      "100%|██████████| 7500/7500 [01:42<00:00, 73.11it/s] \n",
      "100%|██████████| 7500/7500 [01:38<00:00, 76.21it/s] \n"
     ]
    }
   ],
   "source": [
    "\n",
    "nlp = spacy.load('en_core_web_sm', disable=[\"tagger\", \"parser\",\"ner\"])\n",
    "nlp.add_pipe('sentencizer')\n",
    "\n",
    "def tokenize_samples(samples):\n",
    "\n",
    "    tokenized_samples = []\n",
    "    for i in tqdm(range(len(samples))):\n",
    "        doc = nlp(samples[i])  # Tokenize the sample into sentences\n",
    "        tokens = []\n",
    "        for sent in doc.sents:\n",
    "            for tok in sent:  # Iterate through the words of the sentence\n",
    "                if '\\n' in tok.text or \"\\t\" in tok.text or \"--\" in tok.text or \"*\" in tok.text or tok.text.lower() in STOP_WORDS:\n",
    "                    continue\n",
    "                if tok.text.strip():\n",
    "                    tokens.append(tok.text.replace('\"',\"'\").strip())\n",
    "        tokenized_samples.append(tokens)\n",
    "\n",
    "    return tokenized_samples\n",
    "\n",
    "C = tokenize_samples(X_train)\n",
    "X_val_tokenized = tokenize_samples(X_val)\n",
    "X_test_tokenized = tokenize_samples(X_test)"
   ]
  },
  {
   "cell_type": "code",
   "execution_count": 22,
   "id": "ec40a535-ef49-4d44-8f01-5faef28fb9af",
   "metadata": {
    "tags": []
   },
   "outputs": [
    {
     "name": "stdout",
     "output_type": "stream",
     "text": [
      "['love', 'trains', 'stomach', 'movie', 'premise', 'steal', 'locomotive', 'drive', 'arkansas', 'chicago', 'hitting', 'train', 'way', 'right', 'impossible', 'plot', 'lines', 'hit', 'board', 'imagine', 'disgruntled', 'nasa', 'employees', 'stealing', 'crawler', 'totes', 'shuttles', 'fro', 'driving', 'new', 'york', 'idea', 'said', 'nice', 'try', 'wilford', 'brimely', 'quaker', 'oats', 'best', 'levon', 'helm', 'turns', 'good', 'performance', 'dimwitted', 'meaning', 'sidekick', 'bob', 'balaban', 'suitably', 'wormy', 'corporate', 'guy', 'little', 'guy', 'takes', 'goliath', 'story', 'gets', 'airing'] \n",
      "\n",
      "['good', 'ppv', 'like', 'wrestlemania', 'xx', 'years', 'later', 'wwe', 'crammed', 'matches', 'matches', 'useless', 'going', 'match', 'card', 'forever', 'major', 'highlights', 'included', 'huge', 'pop', 'demolition', 'winning', 'tag', 'team', 'belts', 'haku', 'andre', 'giant', 'mixed', 'tag', 'match', 'featuring', 'randy', 'savage', 'sensational', 'queen', 'sherri', 'vs', 'dusty', 'rhodes', 'late', 'sapphire', 'clash', 'ultimate', 'warrior', 'hulk', 'hogan', 'matches', 'complete', 'waste', 'time', 'like', 'bolsheviks', 'vs', 'hart', 'foundation', 'seconds', 'long', 'koko', 'ware', 'vs', 'rick', 'martel', 'short', 'big', 'bossman', 'vs', 'akeem', 'short', 'mr', 'perfect', 'vs', 'brutus', 'beefcake', 'ted', 'dibiase', 'vs', 'jake', 'snake', 'roberts', 'good', 'overall', 'grade', 'b'] \n",
      "\n"
     ]
    }
   ],
   "source": [
    "X_train_tokenized=C\n",
    "\n",
    "#%% Tokenization example\n",
    "for item in X_train_tokenized[:2]:\n",
    "     print(item, '\\n')\n"
   ]
  },
  {
   "cell_type": "code",
   "execution_count": 20,
   "id": "3f5159c7-b230-490e-969a-07ed9036a121",
   "metadata": {
    "jupyter": {
     "source_hidden": true
    },
    "tags": []
   },
   "outputs": [
    {
     "name": "stdout",
     "output_type": "stream",
     "text": [
      "(35000, 5000) <class 'scipy.sparse._csr.csr_matrix'>\n"
     ]
    }
   ],
   "source": [
    "from sklearn.feature_extraction.text import TfidfVectorizer\n",
    "\n",
    "vectorizer = TfidfVectorizer(ngram_range=(1, 2),\n",
    "                              max_features = 5000, sublinear_tf=True)\n",
    "\n",
    "X_train_tfidf = vectorizer.fit_transform([\" \".join(x) for x in X_train_tokenized])\n",
    "X_val_tfidf = vectorizer.transform([\" \".join(x) for x in X_val_tokenized])\n",
    "X_test_tfidf = vectorizer.transform([\" \".join(x) for x in X_test_tokenized])\n",
    "\n",
    "print(X_train_tfidf.shape, type(X_train_tfidf))"
   ]
  },
  {
   "cell_type": "markdown",
   "id": "aca5e1fe-fffa-4ad9-aabd-6f3138cd74ec",
   "metadata": {},
   "source": [
    "**Create TFidf features**"
   ]
  },
  {
   "cell_type": "code",
   "execution_count": null,
   "id": "140a9860-13f4-4e32-ae48-1eb8dc93a877",
   "metadata": {},
   "outputs": [],
   "source": []
  },
  {
   "cell_type": "code",
   "execution_count": 21,
   "id": "aa8ec3b2-2016-435e-b826-bced4f232642",
   "metadata": {
    "tags": []
   },
   "outputs": [
    {
     "name": "stdout",
     "output_type": "stream",
     "text": [
      "(35000, 5000) <class 'scipy.sparse._csr.csr_matrix'>\n"
     ]
    }
   ],
   "source": [
    "# Use unigram & bi-gram tf*idf features\n",
    "# Apply sublinear tf scaling, i.e. replace tf with 1 + log(tf).\n",
    "vectorizer = TfidfVectorizer(ngram_range=(1, 2),\n",
    "                             max_features = 5000, sublinear_tf=True)\n",
    "\n",
    "X_train_tfidf = vectorizer.fit_transform([\" \".join(x) for x in X_train_tokenized])\n",
    "X_val_tfidf = vectorizer.transform([\" \".join(x) for x in X_val_tokenized])\n",
    "X_test_tfidf = vectorizer.transform([\" \".join(x) for x in X_test_tokenized])\n",
    "\n",
    "print(X_train_tfidf.shape, type(X_train_tfidf))"
   ]
  },
  {
   "cell_type": "markdown",
   "id": "6b2dda62-7d88-4aba-8c94-6d8e354af49d",
   "metadata": {},
   "source": [
    "**Dimentionality Reduction with SVD**"
   ]
  },
  {
   "cell_type": "code",
   "execution_count": 23,
   "id": "7fe2349f-340b-4d04-843f-3daac2df0585",
   "metadata": {
    "tags": []
   },
   "outputs": [
    {
     "name": "stdout",
     "output_type": "stream",
     "text": [
      "(35000, 500) <class 'numpy.ndarray'>\n"
     ]
    }
   ],
   "source": [
    "# Reduce dimensionality using svd 5000 --> 500\n",
    "svd = TruncatedSVD(n_components=500, random_state=4321)\n",
    "X_train_svd = svd.fit_transform(X_train_tfidf)\n",
    "X_val_svd = svd.transform(X_val_tfidf)\n",
    "X_test_svd = svd.transform(X_test_tfidf)\n",
    "\n",
    "print(X_train_svd.shape, type(X_train_svd))"
   ]
  },
  {
   "cell_type": "code",
   "execution_count": null,
   "id": "13366ee2-ff75-4945-9d39-87bd281e8d6e",
   "metadata": {},
   "outputs": [],
   "source": [
    "#%% Normalization -> bad\n",
    "# from sklearn.preprocessing import StandardScaler\n",
    "\n",
    "\n",
    "# scaler = StandardScaler()\n",
    "# X_train_svd = scaler.fit_transform(X_train_svd)\n",
    "# X_val_svd = scaler.transform(X_val_svd)\n",
    "# X_test_svd = scaler.transform(X_test_svd)"
   ]
  },
  {
   "cell_type": "markdown",
   "id": "7b8b39b4-3f76-4b4c-95f2-ef21e4ee0b77",
   "metadata": {},
   "source": [
    "### Majority Classifier"
   ]
  },
  {
   "cell_type": "code",
   "execution_count": 24,
   "id": "858bb9a9-f6a6-445b-862d-b0e1b31d2684",
   "metadata": {
    "tags": []
   },
   "outputs": [],
   "source": [
    "#%% Baseline: Majority\n",
    "#%% Dummy classifier\n",
    "\n",
    "def my_auc_report(y_true,y_pred, title = 'UNK')->None:\n",
    "    \"\"\"\n",
    "    Inputs the y_true and y_pred,\n",
    "    Prints the PR-AUC for each class\n",
    "    \"\"\"\n",
    "    print(f\"=== PR-AUC for {title} ===\")\n",
    "    precision, recall, thresholds = precision_recall_curve(y_true, y_pred[:,0],pos_label=0)\n",
    "    area = auc(recall, precision)\n",
    "    print(f\"PR-AUC for class 0: {area*100:.2f}%\")\n",
    "    precision, recall, thresholds = precision_recall_curve(y_true, y_pred[:,1])\n",
    "    area = auc(recall, precision)\n",
    "    print(f\"PR-AUC for class 1: {area*100:.2f}%\\n\")\n"
   ]
  },
  {
   "cell_type": "code",
   "execution_count": 25,
   "id": "ab8e74bc-6126-4b4f-918c-d21d092d5bcc",
   "metadata": {
    "tags": []
   },
   "outputs": [
    {
     "name": "stdout",
     "output_type": "stream",
     "text": [
      "Training took: 0.009581327438354492 seconds \n",
      "\n"
     ]
    }
   ],
   "source": [
    "# Train\n",
    "# The dummy classifier always predicts the 'most frequent' class\n",
    "baseline = DummyClassifier(strategy='most_frequent')\n",
    "start_time = time.time()\n",
    "baseline.fit(X_train_svd, y_train)\n",
    "print(\"Training took: {} seconds \\n\".format(time.time() - start_time))"
   ]
  },
  {
   "cell_type": "code",
   "execution_count": 26,
   "id": "3475a2fd-3e6a-469e-88de-cae0fe49d0b0",
   "metadata": {
    "tags": []
   },
   "outputs": [
    {
     "name": "stdout",
     "output_type": "stream",
     "text": [
      "              precision    recall  f1-score   support\n",
      "\n",
      "    negative       0.50      1.00      0.67     17589\n",
      "    positive       0.00      0.00      0.00     17411\n",
      "\n",
      "    accuracy                           0.50     35000\n",
      "   macro avg       0.25      0.50      0.33     35000\n",
      "weighted avg       0.25      0.50      0.34     35000\n",
      "\n",
      "              precision    recall  f1-score   support\n",
      "\n",
      "    negative       0.50      1.00      0.66      3722\n",
      "    positive       0.00      0.00      0.00      3778\n",
      "\n",
      "    accuracy                           0.50      7500\n",
      "   macro avg       0.25      0.50      0.33      7500\n",
      "weighted avg       0.25      0.50      0.33      7500\n",
      "\n",
      "              precision    recall  f1-score   support\n",
      "\n",
      "    negative       0.49      1.00      0.66      3689\n",
      "    positive       0.00      0.00      0.00      3811\n",
      "\n",
      "    accuracy                           0.49      7500\n",
      "   macro avg       0.25      0.50      0.33      7500\n",
      "weighted avg       0.24      0.49      0.32      7500\n",
      "\n",
      "=== PR-AUC for Train ===\n",
      "PR-AUC for class 0: 75.13%\n",
      "PR-AUC for class 1: 74.87%\n",
      "\n",
      "=== PR-AUC for Validation ===\n",
      "PR-AUC for class 0: 74.81%\n",
      "PR-AUC for class 1: 75.19%\n",
      "\n",
      "=== PR-AUC for Test ===\n",
      "PR-AUC for class 0: 74.59%\n",
      "PR-AUC for class 1: 75.41%\n",
      "\n"
     ]
    },
    {
     "name": "stderr",
     "output_type": "stream",
     "text": [
      "C:\\Users\\melin\\anaconda3\\Lib\\site-packages\\sklearn\\metrics\\_classification.py:1469: UndefinedMetricWarning: Precision and F-score are ill-defined and being set to 0.0 in labels with no predicted samples. Use `zero_division` parameter to control this behavior.\n",
      "  _warn_prf(average, modifier, msg_start, len(result))\n",
      "C:\\Users\\melin\\anaconda3\\Lib\\site-packages\\sklearn\\metrics\\_classification.py:1469: UndefinedMetricWarning: Precision and F-score are ill-defined and being set to 0.0 in labels with no predicted samples. Use `zero_division` parameter to control this behavior.\n",
      "  _warn_prf(average, modifier, msg_start, len(result))\n",
      "C:\\Users\\melin\\anaconda3\\Lib\\site-packages\\sklearn\\metrics\\_classification.py:1469: UndefinedMetricWarning: Precision and F-score are ill-defined and being set to 0.0 in labels with no predicted samples. Use `zero_division` parameter to control this behavior.\n",
      "  _warn_prf(average, modifier, msg_start, len(result))\n",
      "C:\\Users\\melin\\anaconda3\\Lib\\site-packages\\sklearn\\metrics\\_classification.py:1469: UndefinedMetricWarning: Precision and F-score are ill-defined and being set to 0.0 in labels with no predicted samples. Use `zero_division` parameter to control this behavior.\n",
      "  _warn_prf(average, modifier, msg_start, len(result))\n",
      "C:\\Users\\melin\\anaconda3\\Lib\\site-packages\\sklearn\\metrics\\_classification.py:1469: UndefinedMetricWarning: Precision and F-score are ill-defined and being set to 0.0 in labels with no predicted samples. Use `zero_division` parameter to control this behavior.\n",
      "  _warn_prf(average, modifier, msg_start, len(result))\n",
      "C:\\Users\\melin\\anaconda3\\Lib\\site-packages\\sklearn\\metrics\\_classification.py:1469: UndefinedMetricWarning: Precision and F-score are ill-defined and being set to 0.0 in labels with no predicted samples. Use `zero_division` parameter to control this behavior.\n",
      "  _warn_prf(average, modifier, msg_start, len(result))\n",
      "C:\\Users\\melin\\anaconda3\\Lib\\site-packages\\sklearn\\metrics\\_classification.py:1469: UndefinedMetricWarning: Precision and F-score are ill-defined and being set to 0.0 in labels with no predicted samples. Use `zero_division` parameter to control this behavior.\n",
      "  _warn_prf(average, modifier, msg_start, len(result))\n",
      "C:\\Users\\melin\\anaconda3\\Lib\\site-packages\\sklearn\\metrics\\_classification.py:1469: UndefinedMetricWarning: Precision and F-score are ill-defined and being set to 0.0 in labels with no predicted samples. Use `zero_division` parameter to control this behavior.\n",
      "  _warn_prf(average, modifier, msg_start, len(result))\n",
      "C:\\Users\\melin\\anaconda3\\Lib\\site-packages\\sklearn\\metrics\\_classification.py:1469: UndefinedMetricWarning: Precision and F-score are ill-defined and being set to 0.0 in labels with no predicted samples. Use `zero_division` parameter to control this behavior.\n",
      "  _warn_prf(average, modifier, msg_start, len(result))\n"
     ]
    }
   ],
   "source": [
    "# Evaluate\n",
    "model = baseline\n",
    "predictions = model.predict(X_train_svd)\n",
    "print(classification_report(y_train, predictions,\n",
    "                            target_names=['negative','positive']))\n",
    "predictions = model.predict(X_val_svd)\n",
    "print(classification_report(y_val, predictions,\n",
    "                            target_names=['negative','positive']))\n",
    "predictions = model.predict(X_test_svd)\n",
    "print(classification_report(y_test, predictions,\n",
    "                            target_names=['negative','positive']))\n",
    "\n",
    "predictions_train = model.predict_proba(X_train_svd)\n",
    "predictions_val = model.predict_proba(X_val_svd)\n",
    "predictions_test = model.predict_proba(X_test_svd)\n",
    "\n",
    "my_auc_report(y_train, y_pred=predictions_train, title='Train')\n",
    "my_auc_report(y_val, y_pred=predictions_val, title='Validation')\n",
    "my_auc_report(y_test, y_pred=predictions_test, title='Test')\n"
   ]
  },
  {
   "cell_type": "markdown",
   "id": "63ea91ba-4130-483c-bf64-a033f6ddf15d",
   "metadata": {},
   "source": [
    "### Logistic Regression Classifier"
   ]
  },
  {
   "cell_type": "code",
   "execution_count": 27,
   "id": "9fc56084-a776-4cb0-8f46-b39aec6b7d7b",
   "metadata": {
    "tags": []
   },
   "outputs": [
    {
     "name": "stdout",
     "output_type": "stream",
     "text": [
      "              precision    recall  f1-score   support\n",
      "\n",
      "    negative       0.89      0.87      0.88     17589\n",
      "    positive       0.87      0.90      0.88     17411\n",
      "\n",
      "    accuracy                           0.88     35000\n",
      "   macro avg       0.88      0.88      0.88     35000\n",
      "weighted avg       0.88      0.88      0.88     35000\n",
      "\n",
      "              precision    recall  f1-score   support\n",
      "\n",
      "    negative       0.89      0.86      0.87      3722\n",
      "    positive       0.87      0.89      0.88      3778\n",
      "\n",
      "    accuracy                           0.88      7500\n",
      "   macro avg       0.88      0.88      0.88      7500\n",
      "weighted avg       0.88      0.88      0.88      7500\n",
      "\n",
      "              precision    recall  f1-score   support\n",
      "\n",
      "    negative       0.89      0.87      0.88      3689\n",
      "    positive       0.87      0.89      0.88      3811\n",
      "\n",
      "    accuracy                           0.88      7500\n",
      "   macro avg       0.88      0.88      0.88      7500\n",
      "weighted avg       0.88      0.88      0.88      7500\n",
      "\n",
      "=== PR-AUC for Train ===\n",
      "PR-AUC for class 0: 95.52%\n",
      "PR-AUC for class 1: 95.15%\n",
      "\n",
      "=== PR-AUC for Validation ===\n",
      "PR-AUC for class 0: 95.10%\n",
      "PR-AUC for class 1: 95.05%\n",
      "\n",
      "=== PR-AUC for Test ===\n",
      "PR-AUC for class 0: 95.05%\n",
      "PR-AUC for class 1: 94.73%\n",
      "\n"
     ]
    }
   ],
   "source": [
    "#%% Baseline: Logistic\n",
    "clf = LogisticRegression()\n",
    "clf.fit(X_train_svd, y_train)\n",
    "logit_val_accuracy = clf.score(X_val_svd, y_val)\n",
    "\n",
    "# Evaluate\n",
    "model = clf\n",
    "# Classification Reports\n",
    "predictions = model.predict(X_train_svd)\n",
    "print(classification_report(y_train, predictions, target_names=TARGET_NAMES))\n",
    "predictions = model.predict(X_val_svd)\n",
    "print(classification_report(y_val, predictions, target_names=TARGET_NAMES))\n",
    "predictions = model.predict(X_test_svd)\n",
    "print(classification_report(y_test, predictions, target_names=TARGET_NAMES))\n",
    "\n",
    "# Prepare the predictions for PR-AUC\n",
    "predictions_train = model.predict_proba(X_train_svd)\n",
    "predictions_val = model.predict_proba(X_val_svd)\n",
    "predictions_test = model.predict_proba(X_test_svd)\n",
    "# PR-AUC report\n",
    "my_auc_report(y_train, y_pred=predictions_train, title='Train')\n",
    "my_auc_report(y_val, y_pred=predictions_val, title='Validation')\n",
    "my_auc_report(y_test, y_pred=predictions_test, title='Test')\n"
   ]
  },
  {
   "cell_type": "markdown",
   "id": "19cde175-0322-4df0-af46-654391afd6fa",
   "metadata": {},
   "source": [
    "**Custom Keras callback for calculating F1, precision, recall at the end of each epoch**"
   ]
  },
  {
   "cell_type": "code",
   "execution_count": 28,
   "id": "896f894c-daee-4267-9774-b01b950afa81",
   "metadata": {
    "tags": []
   },
   "outputs": [],
   "source": [
    "#%% Metrics\n",
    "class Metrics(tf.keras.callbacks.Callback):\n",
    "    def __init__(self, valid_data):\n",
    "        super(Metrics, self).__init__()\n",
    "        self.validation_data = valid_data\n",
    "\n",
    "    def on_epoch_end(self, epoch, logs=None):\n",
    "        logs = logs or {}\n",
    "        val_predict = (self.model.predict(self.validation_data[0]) > 0.5).astype(\"int32\")\n",
    "        val_targ = self.validation_data[1]\n",
    "\n",
    "        _val_f1 = f1_score(val_targ, val_predict, zero_division=1)\n",
    "        _val_recall = recall_score(val_targ, val_predict)\n",
    "        _val_precision = precision_score(val_targ, val_predict)\n",
    "\n",
    "        logs['val_f1'] = _val_f1\n",
    "        logs['val_recall'] = _val_recall\n",
    "        logs['val_precision'] = _val_precision\n",
    "        print(\" — val_f1: %f — val_precision: %f — val_recall: %f\" % (_val_f1, _val_precision, _val_recall))\n",
    "        return\n"
   ]
  },
  {
   "cell_type": "markdown",
   "id": "d4ce5f86-e6b7-408d-b2f2-41572ffcd9ce",
   "metadata": {},
   "source": [
    "### MLP classifier"
   ]
  },
  {
   "cell_type": "code",
   "execution_count": 29,
   "id": "2743e0e6-357a-4938-ab9a-aafd11c653e3",
   "metadata": {
    "tags": []
   },
   "outputs": [
    {
     "name": "stdout",
     "output_type": "stream",
     "text": [
      "WARNING:tensorflow:From C:\\Users\\melin\\anaconda3\\Lib\\site-packages\\keras\\src\\backend.py:873: The name tf.get_default_graph is deprecated. Please use tf.compat.v1.get_default_graph instead.\n",
      "\n",
      "Model: \"sequential\"\n",
      "_________________________________________________________________\n",
      " Layer (type)                Output Shape              Param #   \n",
      "=================================================================\n",
      " dense (Dense)               (None, 384)               192384    \n",
      "                                                                 \n",
      " activation (Activation)     (None, 384)               0         \n",
      "                                                                 \n",
      " dropout (Dropout)           (None, 384)               0         \n",
      "                                                                 \n",
      " dense_1 (Dense)             (None, 1)                 385       \n",
      "                                                                 \n",
      "=================================================================\n",
      "Total params: 192769 (753.00 KB)\n",
      "Trainable params: 192769 (753.00 KB)\n",
      "Non-trainable params: 0 (0.00 Byte)\n",
      "_________________________________________________________________\n",
      "None\n",
      "Epoch 1/100\n",
      "WARNING:tensorflow:From C:\\Users\\melin\\anaconda3\\Lib\\site-packages\\keras\\src\\utils\\tf_utils.py:492: The name tf.ragged.RaggedTensorValue is deprecated. Please use tf.compat.v1.ragged.RaggedTensorValue instead.\n",
      "\n",
      "WARNING:tensorflow:From C:\\Users\\melin\\anaconda3\\Lib\\site-packages\\keras\\src\\engine\\base_layer_utils.py:384: The name tf.executing_eagerly_outside_functions is deprecated. Please use tf.compat.v1.executing_eagerly_outside_functions instead.\n",
      "\n",
      "235/235 [==============================] - 1s 3ms/stepos\n",
      " — val_f1: 0.881076 — val_precision: 0.886626 — val_recall: 0.875596\n",
      "\n",
      "Epoch 1: val_loss improved from inf to 0.30400, saving model to checkpoints\\weights.hdf5\n",
      "274/274 [==============================] - 6s 14ms/step - loss: 0.4581 - accuracy: 0.8246 - val_loss: 0.3040 - val_accuracy: 0.8809 - val_f1: 0.8811 - val_recall: 0.8756 - val_precision: 0.8866\n",
      "Epoch 2/100\n",
      "235/235 [==============================] - 1s 2ms/steposs: 0.\n",
      " — val_f1: 0.879692 — val_precision: 0.881680 — val_recall: 0.877713\n",
      "\n",
      "Epoch 2: val_loss improved from 0.30400 to 0.28683, saving model to checkpoints\\weights.hdf5\n",
      "274/274 [==============================] - 3s 11ms/step - loss: 0.2945 - accuracy: 0.8759 - val_loss: 0.2868 - val_accuracy: 0.8791 - val_f1: 0.8797 - val_recall: 0.8777 - val_precision: 0.8817\n",
      "Epoch 3/100\n",
      "235/235 [==============================] - 1s 2ms/steposs: 0.\n",
      " — val_f1: 0.881110 — val_precision: 0.879483 — val_recall: 0.882742\n",
      "\n",
      "Epoch 3: val_loss did not improve from 0.28683\n",
      "274/274 [==============================] - 3s 10ms/step - loss: 0.2854 - accuracy: 0.8789 - val_loss: 0.2870 - val_accuracy: 0.8800 - val_f1: 0.8811 - val_recall: 0.8827 - val_precision: 0.8795\n",
      "Epoch 4/100\n",
      "235/235 [==============================] - 1s 2ms/steposs: 0.\n",
      " — val_f1: 0.880840 — val_precision: 0.873503 — val_recall: 0.888301\n",
      "\n",
      "Epoch 4: val_loss improved from 0.28683 to 0.28624, saving model to checkpoints\\weights.hdf5\n",
      "274/274 [==============================] - 3s 11ms/step - loss: 0.2802 - accuracy: 0.8820 - val_loss: 0.2862 - val_accuracy: 0.8789 - val_f1: 0.8808 - val_recall: 0.8883 - val_precision: 0.8735\n",
      "Epoch 5/100\n",
      "235/235 [==============================] - 1s 3ms/steposs: 0.\n",
      " — val_f1: 0.879871 — val_precision: 0.890485 — val_recall: 0.869508\n",
      "\n",
      "Epoch 5: val_loss improved from 0.28624 to 0.28566, saving model to checkpoints\\weights.hdf5\n",
      "274/274 [==============================] - 3s 11ms/step - loss: 0.2762 - accuracy: 0.8819 - val_loss: 0.2857 - val_accuracy: 0.8804 - val_f1: 0.8799 - val_recall: 0.8695 - val_precision: 0.8905\n",
      "Epoch 6/100\n",
      "235/235 [==============================] - 1s 3ms/steposs: \n",
      " — val_f1: 0.880465 — val_precision: 0.878724 — val_recall: 0.882213\n",
      "\n",
      "Epoch 6: val_loss improved from 0.28566 to 0.28283, saving model to checkpoints\\weights.hdf5\n",
      "274/274 [==============================] - 3s 12ms/step - loss: 0.2716 - accuracy: 0.8847 - val_loss: 0.2828 - val_accuracy: 0.8793 - val_f1: 0.8805 - val_recall: 0.8822 - val_precision: 0.8787\n",
      "Epoch 7/100\n",
      "235/235 [==============================] - 1s 3ms/steposs: \n",
      " — val_f1: 0.883397 — val_precision: 0.877514 — val_recall: 0.889359\n",
      "\n",
      "Epoch 7: val_loss did not improve from 0.28283\n",
      "274/274 [==============================] - 3s 12ms/step - loss: 0.2662 - accuracy: 0.8878 - val_loss: 0.2833 - val_accuracy: 0.8817 - val_f1: 0.8834 - val_recall: 0.8894 - val_precision: 0.8775\n",
      "Epoch 8/100\n",
      "235/235 [==============================] - 1s 3ms/steposs: \n",
      " — val_f1: 0.880536 — val_precision: 0.874445 — val_recall: 0.886713\n",
      "\n",
      "Epoch 8: val_loss did not improve from 0.28283\n",
      "274/274 [==============================] - 3s 11ms/step - loss: 0.2596 - accuracy: 0.8897 - val_loss: 0.2830 - val_accuracy: 0.8788 - val_f1: 0.8805 - val_recall: 0.8867 - val_precision: 0.8744\n",
      "Epoch 9/100\n",
      "235/235 [==============================] - 1s 2ms/steposs: 0.\n",
      " — val_f1: 0.883642 — val_precision: 0.875943 — val_recall: 0.891477\n",
      "\n",
      "Epoch 9: val_loss improved from 0.28283 to 0.28125, saving model to checkpoints\\weights.hdf5\n",
      "274/274 [==============================] - 3s 11ms/step - loss: 0.2527 - accuracy: 0.8936 - val_loss: 0.2812 - val_accuracy: 0.8817 - val_f1: 0.8836 - val_recall: 0.8915 - val_precision: 0.8759\n",
      "Epoch 10/100\n",
      "235/235 [==============================] - 1s 3ms/steposs: \n",
      " — val_f1: 0.882662 — val_precision: 0.877354 — val_recall: 0.888036\n",
      "\n",
      "Epoch 10: val_loss did not improve from 0.28125\n",
      "274/274 [==============================] - 3s 11ms/step - loss: 0.2444 - accuracy: 0.8980 - val_loss: 0.2819 - val_accuracy: 0.8811 - val_f1: 0.8827 - val_recall: 0.8880 - val_precision: 0.8774\n",
      "Epoch 11/100\n",
      "235/235 [==============================] - 1s 3ms/steposs: \n",
      " — val_f1: 0.884142 — val_precision: 0.875649 — val_recall: 0.892800\n",
      "\n",
      "Epoch 11: val_loss did not improve from 0.28125\n",
      "274/274 [==============================] - 3s 11ms/step - loss: 0.2349 - accuracy: 0.9033 - val_loss: 0.2816 - val_accuracy: 0.8821 - val_f1: 0.8841 - val_recall: 0.8928 - val_precision: 0.8756\n",
      "Epoch 12/100\n",
      "235/235 [==============================] - 1s 2ms/steposs: 0.22\n",
      " — val_f1: 0.884372 — val_precision: 0.882043 — val_recall: 0.886713\n",
      "\n",
      "Epoch 12: val_loss improved from 0.28125 to 0.28061, saving model to checkpoints\\weights.hdf5\n",
      "274/274 [==============================] - 3s 12ms/step - loss: 0.2251 - accuracy: 0.9078 - val_loss: 0.2806 - val_accuracy: 0.8832 - val_f1: 0.8844 - val_recall: 0.8867 - val_precision: 0.8820\n",
      "Epoch 13/100\n",
      "235/235 [==============================] - 1s 3ms/steposs: \n",
      " — val_f1: 0.883301 — val_precision: 0.874255 — val_recall: 0.892536\n",
      "\n",
      "Epoch 13: val_loss did not improve from 0.28061\n",
      "274/274 [==============================] - 3s 11ms/step - loss: 0.2143 - accuracy: 0.9146 - val_loss: 0.2827 - val_accuracy: 0.8812 - val_f1: 0.8833 - val_recall: 0.8925 - val_precision: 0.8743\n",
      "Epoch 14/100\n",
      "235/235 [==============================] - 1s 3ms/steposs: \n",
      " — val_f1: 0.882111 — val_precision: 0.883869 — val_recall: 0.880360\n",
      "\n",
      "Epoch 14: val_loss did not improve from 0.28061\n",
      "274/274 [==============================] - 3s 11ms/step - loss: 0.2023 - accuracy: 0.9206 - val_loss: 0.2830 - val_accuracy: 0.8815 - val_f1: 0.8821 - val_recall: 0.8804 - val_precision: 0.8839\n",
      "Epoch 15/100\n",
      "235/235 [==============================] - 1s 3ms/steposs: 0.\n",
      " — val_f1: 0.882530 — val_precision: 0.871484 — val_recall: 0.893859\n",
      "\n",
      "Epoch 15: val_loss did not improve from 0.28061\n",
      "274/274 [==============================] - 3s 11ms/step - loss: 0.1899 - accuracy: 0.9282 - val_loss: 0.2829 - val_accuracy: 0.8801 - val_f1: 0.8825 - val_recall: 0.8939 - val_precision: 0.8715\n",
      "Epoch 16/100\n",
      "235/235 [==============================] - 1s 3ms/steposs: \n",
      " — val_f1: 0.884343 — val_precision: 0.876299 — val_recall: 0.892536\n",
      "\n",
      "Epoch 16: val_loss did not improve from 0.28061\n",
      "274/274 [==============================] - 3s 11ms/step - loss: 0.1768 - accuracy: 0.9362 - val_loss: 0.2829 - val_accuracy: 0.8824 - val_f1: 0.8843 - val_recall: 0.8925 - val_precision: 0.8763\n",
      "Epoch 17/100\n",
      "235/235 [==============================] - 1s 3ms/steposs: \n",
      " — val_f1: 0.885115 — val_precision: 0.887234 — val_recall: 0.883007\n",
      "\n",
      "Epoch 17: val_loss did not improve from 0.28061\n",
      "274/274 [==============================] - 3s 12ms/step - loss: 0.1619 - accuracy: 0.9443 - val_loss: 0.2845 - val_accuracy: 0.8845 - val_f1: 0.8851 - val_recall: 0.8830 - val_precision: 0.8872\n",
      "Epoch 18/100\n",
      "235/235 [==============================] - 1s 3ms/steposs: 0.\n",
      " — val_f1: 0.885005 — val_precision: 0.878883 — val_recall: 0.891212\n",
      "\n",
      "Epoch 18: val_loss did not improve from 0.28061\n",
      "274/274 [==============================] - 3s 11ms/step - loss: 0.1481 - accuracy: 0.9509 - val_loss: 0.2870 - val_accuracy: 0.8833 - val_f1: 0.8850 - val_recall: 0.8912 - val_precision: 0.8789\n",
      "Epoch 19/100\n",
      "235/235 [==============================] - 1s 2ms/steposs: 0.13\n",
      " — val_f1: 0.884145 — val_precision: 0.869877 — val_recall: 0.898888\n",
      "\n",
      "Epoch 19: val_loss did not improve from 0.28061\n",
      "274/274 [==============================] - 3s 10ms/step - loss: 0.1346 - accuracy: 0.9587 - val_loss: 0.2904 - val_accuracy: 0.8813 - val_f1: 0.8841 - val_recall: 0.8989 - val_precision: 0.8699\n",
      "Epoch 20/100\n",
      "235/235 [==============================] - 1s 3ms/steposs: 0.\n",
      " — val_f1: 0.886248 — val_precision: 0.874710 — val_recall: 0.898094\n",
      "\n",
      "Epoch 20: val_loss did not improve from 0.28061\n",
      "274/274 [==============================] - 3s 10ms/step - loss: 0.1206 - accuracy: 0.9660 - val_loss: 0.2921 - val_accuracy: 0.8839 - val_f1: 0.8862 - val_recall: 0.8981 - val_precision: 0.8747\n",
      "Epoch 21/100\n",
      "235/235 [==============================] - 1s 3ms/steposs: \n",
      " — val_f1: 0.885237 — val_precision: 0.886412 — val_recall: 0.884066\n",
      "\n",
      "Epoch 21: val_loss did not improve from 0.28061\n",
      "274/274 [==============================] - 3s 11ms/step - loss: 0.1073 - accuracy: 0.9720 - val_loss: 0.2936 - val_accuracy: 0.8845 - val_f1: 0.8852 - val_recall: 0.8841 - val_precision: 0.8864\n",
      "Epoch 22/100\n",
      "235/235 [==============================] - 1s 3ms/steposs: 0.\n",
      " — val_f1: 0.883696 — val_precision: 0.881485 — val_recall: 0.885918\n",
      "\n",
      "Epoch 22: val_loss did not improve from 0.28061\n",
      "274/274 [==============================] - 3s 11ms/step - loss: 0.0948 - accuracy: 0.9785 - val_loss: 0.2966 - val_accuracy: 0.8825 - val_f1: 0.8837 - val_recall: 0.8859 - val_precision: 0.8815\n",
      "\n",
      "Training time: 00:01:09 \n",
      "\n"
     ]
    }
   ],
   "source": [
    "#%% MLP\n",
    "os.environ['TF_CPP_MIN_LOG_LEVEL'] = '3'\n",
    "\n",
    "# Sequential API --> After TUNER\n",
    "model = Sequential()\n",
    "model.add(Dense(384, input_dim=X_train_svd.shape[1]))\n",
    "# model.add(BatchNormalization())  # Add batch normalization -> Bad\n",
    "model.add(Activation('relu'))  # Moved activation to after batch normalization\n",
    "model.add(Dropout(0.2))\n",
    "model.add(Dense(1, activation='sigmoid'))\n",
    "\n",
    "print(model.summary()) # Tipwnei keimeno pou perigrafei pws settarisame to network\n",
    "\n",
    "# Configures the model for training.\n",
    "# Binary_crossentropy: Computes the crossentropy loss between the label and prediction.\n",
    "# Metrics -> .compile | Callbacks -> .fit\n",
    "model.compile(\n",
    "    loss='binary_crossentropy',\n",
    "    optimizer=Adam(learning_rate=0.001),\n",
    "    metrics=[\"accuracy\"]\n",
    "    )\n",
    "\n",
    "if not os.path.exists('./checkpoints'):\n",
    "  os.makedirs('./checkpoints')\n",
    "# Callback to save the Keras model or model weights at some frequency.\n",
    "checkpoint = ModelCheckpoint(\n",
    "    'checkpoints/weights.hdf5',\n",
    "    monitor='val_loss', # Save the model that scores the best @ validation accuracy\n",
    "    mode='min', # Since accuracy -> maximization\n",
    "    verbose=2,\n",
    "    save_best_only=True,\n",
    "    save_weights_only=True,\n",
    "    )\n",
    "\n",
    "early_stopping = EarlyStopping(monitor='val_loss',\n",
    "                               patience=10)\n",
    "\n",
    "start_training_time = time.time()\n",
    "\n",
    "history = model.fit(\n",
    "    X_train_svd,\n",
    "    y_train,\n",
    "    validation_data=(X_val_svd, y_val),\n",
    "    batch_size=128,\n",
    "    epochs=100,\n",
    "    shuffle=True, # Shuffle the train data on every epoch\n",
    "    callbacks=[Metrics(valid_data=(X_val_svd, y_val)), checkpoint, early_stopping]\n",
    "    )\n",
    "end_training_time = time.time()\n",
    "\n",
    "print(f'\\nTraining time: {time.strftime(\"%H:%M:%S\", time.gmtime(end_training_time - start_training_time))} \\n')\n"
   ]
  },
  {
   "cell_type": "code",
   "execution_count": 30,
   "id": "84ad23f8-7535-4e4a-9811-94cdbc8d0661",
   "metadata": {
    "tags": []
   },
   "outputs": [
    {
     "data": {
      "image/png": "[encoded data removed]",
      "text/plain": [
       "<Figure size 640x480 with 1 Axes>"
      ]
     },
     "metadata": {},
     "output_type": "display_data"
    },
    {
     "data": {
      "image/png": "[encoded data removed]",
      "text/plain": [
       "<Figure size 640x480 with 1 Axes>"
      ]
     },
     "metadata": {},
     "output_type": "display_data"
    }
   ],
   "source": [
    "#%% Curves\n",
    "\n",
    "#%% Curves\n",
    "# history: Returned by the fit. Keeps the metrics for each epoch\n",
    "# summarize history for accuracy\n",
    "plt.plot(history.history['accuracy'])\n",
    "plt.plot(history.history['val_accuracy'])\n",
    "plt.title('model accuracy')\n",
    "plt.ylabel('accuracy')\n",
    "plt.xlabel('epoch')\n",
    "plt.axhline(y=logit_val_accuracy, color='red', linestyle='--', label='Logistic')\n",
    "plt.legend(['train', 'dev', 'Logistic'], loc='upper left')\n",
    "plt.show()\n",
    "\n",
    "# summarize history for loss\n",
    "plt.plot(history.history['loss'])\n",
    "plt.plot(history.history['val_loss'])\n",
    "plt.title('model loss')\n",
    "plt.ylabel('loss')\n",
    "plt.xlabel('epoch')\n",
    "plt.legend(['train', 'dev'], loc='upper right')\n",
    "plt.show()\n"
   ]
  },
  {
   "cell_type": "code",
   "execution_count": 31,
   "id": "f161d951-2dcf-43ec-9dff-4ddc3574323c",
   "metadata": {
    "tags": []
   },
   "outputs": [
    {
     "name": "stdout",
     "output_type": "stream",
     "text": [
      "1094/1094 [==============================] - 3s 3ms/step\n",
      "              precision    recall  f1-score   support\n",
      "\n",
      "    negative       0.99      0.99      0.99     17589\n",
      "    positive       0.99      0.99      0.99     17411\n",
      "\n",
      "    accuracy                           0.99     35000\n",
      "   macro avg       0.99      0.99      0.99     35000\n",
      "weighted avg       0.99      0.99      0.99     35000\n",
      "\n",
      "235/235 [==============================] - 1s 3ms/step\n",
      "              precision    recall  f1-score   support\n",
      "\n",
      "    negative       0.88      0.88      0.88      3722\n",
      "    positive       0.88      0.89      0.88      3778\n",
      "\n",
      "    accuracy                           0.88      7500\n",
      "   macro avg       0.88      0.88      0.88      7500\n",
      "weighted avg       0.88      0.88      0.88      7500\n",
      "\n",
      "235/235 [==============================] - 1s 3ms/step\n",
      "              precision    recall  f1-score   support\n",
      "\n",
      "    negative       0.89      0.88      0.88      3689\n",
      "    positive       0.88      0.89      0.89      3811\n",
      "\n",
      "    accuracy                           0.88      7500\n",
      "   macro avg       0.88      0.88      0.88      7500\n",
      "weighted avg       0.88      0.88      0.88      7500\n",
      "\n",
      "1094/1094 [==============================] - 3s 3ms/step\n",
      "235/235 [==============================] - 1s 2ms/step\n",
      "235/235 [==============================] - 1s 2ms/step\n",
      "=== PR-AUC for Train ===\n",
      "PR-AUC for class 0: 99.87%\n",
      "PR-AUC for class 1: 99.86%\n",
      "\n",
      "=== PR-AUC for Validation ===\n",
      "PR-AUC for class 0: 95.26%\n",
      "PR-AUC for class 1: 95.26%\n",
      "\n",
      "=== PR-AUC for Test ===\n",
      "PR-AUC for class 0: 95.37%\n",
      "PR-AUC for class 1: 95.09%\n",
      "\n"
     ]
    }
   ],
   "source": [
    "#%% Evaluation\n",
    "predictions = (model.predict(X_train_svd) >0.5)\n",
    "print(classification_report(y_train, predictions, target_names=TARGET_NAMES))\n",
    "predictions = (model.predict(X_val_svd) >0.5)\n",
    "print(classification_report(y_val, predictions, target_names=TARGET_NAMES))\n",
    "predictions = (model.predict(X_test_svd) >0.5)\n",
    "print(classification_report(y_test, predictions, target_names=TARGET_NAMES))\n",
    "\n",
    "#%% PR-AUC\n",
    "def custom_pred_proba(X)->np.ndarray[tuple[float, float]]:\n",
    "    ''' Calculates the classic .predict_proba() for the X input feature matix,\n",
    "        because it is needed for the precision_recall_curve.\n",
    "        Returns an array: [P(x=0), P(x=1)] '''\n",
    "    pred = model.predict(X)\n",
    "    return np.hstack((1-pred, pred))\n",
    "\n",
    "\n",
    "# Prepare predictions for PR-AUC\n",
    "predictions_train = custom_pred_proba(X_train_svd)\n",
    "predictions_val = custom_pred_proba(X_val_svd)\n",
    "predictions_test = custom_pred_proba(X_test_svd)\n",
    "# PR-AUC report\n",
    "my_auc_report(y_train, y_pred=predictions_train, title='Train')\n",
    "my_auc_report(y_val, y_pred=predictions_val, title='Validation')\n",
    "my_auc_report(y_test, y_pred=predictions_test, title='Test')\n"
   ]
  },
  {
   "cell_type": "code",
   "execution_count": null,
   "id": "f8483605-32ac-40f5-b06b-e51e881a9725",
   "metadata": {
    "tags": []
   },
   "outputs": [],
   "source": [
    "# %% Tuner\n",
    "# # !pip install -U keras-tuner\n",
    "# import keras_tuner as kt\n",
    "# from tensorflow.keras.callbacks import EarlyStopping\n",
    "\n",
    "def build_model(hp):\n",
    "    model = Sequential()\n",
    "\n",
    "    layer_index = 0\n",
    "    for i in range(hp.Int(name='num_layers',min_value=1,max_value=3)):\n",
    "        if layer_index == 0:\n",
    "            model.add(Dense(hp.Int(name='hidden_units_'+str(i),min_value=128,max_value=512,step=64),\n",
    "                            activation=hp.Choice(name='activation_layer'+str(i),values=['relu','tanh']),\n",
    "                            input_dim=X_train_svd.shape[1]\n",
    "                           ))\n",
    "            model.add(Dropout(hp.Choice(name='dropout_layer_'+str(i),values=[0.1,0.2,0.3,0.4,0.5])))\n",
    "        else:\n",
    "            model.add(Dense(hp.Int(name='hidden_units_'+str(i),min_value=128,max_value=512,step=64),\n",
    "                            activation=hp.Choice(name='activation_layer'+str(i),values=['relu','tanh'])))\n",
    "            model.add(Dropout(hp.Choice(name='dropout_layer_'+str(i),values=[0.1,0.2,0.3,0.4,0.5])))\n",
    "\n",
    "        layer_index += 1\n",
    "\n",
    "    # Add last layer that produces the logits\n",
    "    model.add(Dense(1, activation='sigmoid'))\n",
    "\n",
    "    # Tune the learning rate for the optimizer\n",
    "    # Choose an optimal value from 0.01, 0.001, or 0.0001\n",
    "    hp_learning_rate = hp.Choice('learning_rate', values=[1e-3, 1e-4])\n",
    "    model.compile(loss='binary_crossentropy',\n",
    "                  optimizer=Adam(learning_rate=hp_learning_rate),\n",
    "                  metrics=['accuracy'])\n",
    "\n",
    "    return model\n",
    "\n",
    "tuner = kt.RandomSearch(build_model,\n",
    "                        objective='val_accuracy',\n",
    "                        max_trials=20,\n",
    "                        directory='KT_dir',\n",
    "                        project_name='KT_tuning')\n",
    "\n",
    "early_stopping = EarlyStopping(monitor='val_loss',\n",
    "                               patience=10)\n",
    "\n",
    "# tuner.search_space_summary()\n",
    "\n",
    "tuner.search(X_train_svd, y_train,\n",
    "             validation_data=(X_val_svd, y_val),\n",
    "             epochs=50,\n",
    "             batch_size = 128,\n",
    "             callbacks=[early_stopping, checkpoint])\n",
    "\n",
    "# Get best hyper-parameters setup\n",
    "tuner.get_best_hyperparameters()[0].values\n",
    "\n",
    "best_model = tuner.get_best_models(num_models=1)[0]\n",
    "best_model.summary()\n",
    "\n",
    "#%% Evaluate best\n",
    "predictions = (best_model.predict(X_val_svd) >0.5)\n",
    "print(classification_report(y_val, predictions, target_names=['negative','positive']))\n"
   ]
  }
 ],
 "metadata": {
  "kernelspec": {
   "display_name": "Python 3 (ipykernel)",
   "language": "python",
   "name": "python3"
  },
  "language_info": {
   "codemirror_mode": {
    "name": "ipython",
    "version": 3
   },
   "file_extension": ".py",
   "mimetype": "text/x-python",
   "name": "python",
   "nbconvert_exporter": "python",
   "pygments_lexer": "ipython3",
   "version": "3.11.4"
  }
 },
 "nbformat": 4,
 "nbformat_minor": 5
}
